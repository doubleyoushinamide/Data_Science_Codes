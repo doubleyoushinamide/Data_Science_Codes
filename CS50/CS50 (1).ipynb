{
 "cells": [
  {
   "cell_type": "code",
   "execution_count": 4,
   "id": "3cbbfc59",
   "metadata": {},
   "outputs": [
    {
     "name": "stdout",
     "output_type": "stream",
     "text": [
      "What is your name? Shina Salau\n",
      "Hello, Shina, we are excited to have you\n"
     ]
    }
   ],
   "source": [
    "# User inputs their names, capitalize each first and last name and strip any extra whitespace\n",
    "name = input(\"What is your name? \").title().strip()\n",
    "\n",
    "# Splitting the input into first and last name\n",
    "first, last = name.split(\" \")\n",
    "\n",
    "# Print output message with only the first name\n",
    "print(f\"Hello, {first}, we are excited to have you\")"
   ]
  },
  {
   "cell_type": "code",
   "execution_count": 6,
   "id": "06909e94",
   "metadata": {},
   "outputs": [
    {
     "name": "stdout",
     "output_type": "stream",
     "text": [
      "22\n"
     ]
    }
   ],
   "source": [
    "arit = '2' + '2'\n",
    "print(arit)"
   ]
  },
  {
   "cell_type": "markdown",
   "id": "e30550e4",
   "metadata": {},
   "source": [
    "Calculator.py"
   ]
  },
  {
   "cell_type": "code",
   "execution_count": 1,
   "id": "dd37460b",
   "metadata": {},
   "outputs": [
    {
     "name": "stdout",
     "output_type": "stream",
     "text": [
      "What is x: 4.5\n",
      "What is y: 8\n",
      "0.56\n"
     ]
    }
   ],
   "source": [
    "#Ask the user of the values of x and y\n",
    "x = float(input(\"What is x: \"))\n",
    "y = float(input(\"What is y: \"))\n",
    "\n",
    "#print out the arithmetic operation of x/y\n",
    "z = x/y\n",
    "print(f\"{z:.2f}\") #print z in 2sf"
   ]
  },
  {
   "cell_type": "code",
   "execution_count": 3,
   "id": "39289868",
   "metadata": {},
   "outputs": [
    {
     "name": "stdout",
     "output_type": "stream",
     "text": [
      "What's your name? Shina\n",
      "Hello\n",
      "Shina\n"
     ]
    }
   ],
   "source": [
    "# def: creating/define your own function\n",
    "#Saying Hello Shina by default\n",
    "\n",
    "def hello():\n",
    "    print(\"Hello\")\n",
    "\n",
    "name = input(\"What's your name? \")\n",
    "hello()\n",
    "print(name)"
   ]
  },
  {
   "cell_type": "code",
   "execution_count": 4,
   "id": "6326e3b1",
   "metadata": {},
   "outputs": [
    {
     "name": "stdout",
     "output_type": "stream",
     "text": [
      "What's your name? Shina\n",
      "Hello, Shina\n"
     ]
    }
   ],
   "source": [
    "# def: creating/define your own function\n",
    "#Saying Hello Shina by default\n",
    "\n",
    "def hello(to): # to - here is an arg.\n",
    "    print(f\"Hello, {to}\")\n",
    "\n",
    "name = input(\"What's your name? \")\n",
    "hello(name)"
   ]
  },
  {
   "cell_type": "code",
   "execution_count": 7,
   "id": "4e12f803",
   "metadata": {},
   "outputs": [
    {
     "name": "stdout",
     "output_type": "stream",
     "text": [
      "What's your name? Shina\n",
      "Hello, world\n"
     ]
    }
   ],
   "source": [
    "# def: creating/define your own function\n",
    "#Saying Hello Shina by default\n",
    "\n",
    "# Adding default args\n",
    "def hello(to=\"world\"): # to=world - here is a default value assuming user refused to include string for name.\n",
    "    print(f\"Hello, {to}\")\n",
    "\n",
    "name = input(\"What's your name? \")\n",
    "hello() # No value declared so default takes pre-eminence"
   ]
  },
  {
   "cell_type": "code",
   "execution_count": 8,
   "id": "996ddf39",
   "metadata": {
    "scrolled": true
   },
   "outputs": [
    {
     "name": "stdout",
     "output_type": "stream",
     "text": [
      "What's your name? ss\n",
      "Hello, ss\n"
     ]
    }
   ],
   "source": [
    "# def: creating/define your own function\n",
    "#Saying Hello Shina by default\n",
    "\n",
    "# Adding default args\n",
    "def hello(to=\"world\"): # to=world - here is a default value assuming user refused to include string for name.\n",
    "    print(f\"Hello, {to}\")\n",
    "\n",
    "name = input(\"What's your name? \")\n",
    "hello(name) # name decalred so default, useless"
   ]
  },
  {
   "cell_type": "code",
   "execution_count": 9,
   "id": "a94b72b6",
   "metadata": {},
   "outputs": [
    {
     "name": "stdout",
     "output_type": "stream",
     "text": [
      "What's your name? Shina\n",
      "Hello, Shina\n"
     ]
    }
   ],
   "source": [
    "# Organize with def\n",
    "\n",
    "def hello(to=\"world\"):\n",
    "    print(f\"Hello, {to}\")\n",
    "\n",
    "def main():\n",
    "    name = input(\"What's your name? \")\n",
    "    hello(name)\n",
    "    \n",
    "main()"
   ]
  },
  {
   "cell_type": "code",
   "execution_count": 12,
   "id": "a1334018",
   "metadata": {},
   "outputs": [
    {
     "name": "stdout",
     "output_type": "stream",
     "text": [
      "What is x? 3\n",
      "x² is 9\n"
     ]
    }
   ],
   "source": [
    "# Defining the square function for a value\n",
    "def square(n):\n",
    "    return pow(n,2) # returns n to the power of 2 to the caller\n",
    "\n",
    "# define the main function where we can call square() function\n",
    "def main():\n",
    "    x = int(input(\"What is x? \"))\n",
    "    print(f\"x² is {square(x)}\") # the returned value comes in place of square(x)\n",
    "    \n",
    "main()"
   ]
  },
  {
   "cell_type": "markdown",
   "id": "0b0e0b6b",
   "metadata": {},
   "source": [
    "# WEEK 2"
   ]
  },
  {
   "cell_type": "markdown",
   "id": "6cbc574b",
   "metadata": {},
   "source": [
    "Conditionals"
   ]
  },
  {
   "cell_type": "code",
   "execution_count": 3,
   "id": "6cc062d3",
   "metadata": {},
   "outputs": [
    {
     "ename": "SyntaxError",
     "evalue": "invalid syntax (2505559079.py, line 4)",
     "output_type": "error",
     "traceback": [
      "\u001b[0;36m  Cell \u001b[0;32mIn[3], line 4\u001b[0;36m\u001b[0m\n\u001b[0;31m    match name:\u001b[0m\n\u001b[0m          ^\u001b[0m\n\u001b[0;31mSyntaxError\u001b[0m\u001b[0;31m:\u001b[0m invalid syntax\n"
     ]
    }
   ],
   "source": [
    "# Match and case\n",
    "name = input(\"What is your name? \")\n",
    "# Using the match case function, it can replace the if else conditionals\n",
    "match name:\n",
    "    case \"Harry\" | \"Hermoine\" | \"Ron\": # The \"|\" operator reps the \"or\" conditional returns a boolean\n",
    "        print(\"Gryffindor\")\n",
    "    case \"Draco\":\n",
    "        print(\"Slytherin\")\n",
    "    case _:\n",
    "        print(\"Who?\")"
   ]
  },
  {
   "cell_type": "markdown",
   "id": "99c4dff9",
   "metadata": {},
   "source": [
    "Loops"
   ]
  },
  {
   "cell_type": "code",
   "execution_count": 1,
   "id": "4c42bc06",
   "metadata": {},
   "outputs": [
    {
     "name": "stdout",
     "output_type": "stream",
     "text": [
      "meow\n",
      "meow\n",
      "meow\n"
     ]
    }
   ],
   "source": [
    "# A while loop\n",
    "i = 0\n",
    "while i < 3:\n",
    "    print(\"meow\")\n",
    "    i += 1"
   ]
  },
  {
   "cell_type": "code",
   "execution_count": 2,
   "id": "a2a9b136",
   "metadata": {},
   "outputs": [
    {
     "name": "stdout",
     "output_type": "stream",
     "text": [
      "meow!\n",
      "meow!\n",
      "meow!\n"
     ]
    }
   ],
   "source": [
    "# a for loop is used to loop over a list\n",
    "\n",
    "for i in [0,1,2]:\n",
    "    print(\"meow!\")"
   ]
  },
  {
   "cell_type": "code",
   "execution_count": 3,
   "id": "fbaa66c9",
   "metadata": {},
   "outputs": [
    {
     "name": "stdout",
     "output_type": "stream",
     "text": [
      "meow!\n",
      "meow!\n",
      "meow!\n"
     ]
    }
   ],
   "source": [
    "# a for loop is used to loop over a list\n",
    "\n",
    "for i in range(3):\n",
    "    print(\"meow!\")"
   ]
  },
  {
   "cell_type": "code",
   "execution_count": 4,
   "id": "c8a1b5c1",
   "metadata": {},
   "outputs": [
    {
     "name": "stdout",
     "output_type": "stream",
     "text": [
      "meow!\n",
      "meow!\n",
      "meow!\n"
     ]
    }
   ],
   "source": [
    "# when the variable is not neccessary for the lop, use \"_\"\n",
    "for _ in range(3):\n",
    "    print(\"meow!\")"
   ]
  },
  {
   "cell_type": "code",
   "execution_count": 5,
   "id": "3e46be42",
   "metadata": {},
   "outputs": [
    {
     "name": "stdout",
     "output_type": "stream",
     "text": [
      "meow\n",
      "meow\n",
      "meow\n"
     ]
    }
   ],
   "source": [
    "# You can do the same like this:\n",
    "print(\"meow\\n\" * 3, end=\"\")"
   ]
  },
  {
   "cell_type": "code",
   "execution_count": 7,
   "id": "ec4d0c2d",
   "metadata": {},
   "outputs": [
    {
     "name": "stdout",
     "output_type": "stream",
     "text": [
      "what's n? 5\n",
      "meow!\n",
      "meow!\n",
      "meow!\n",
      "meow!\n",
      "meow!\n"
     ]
    }
   ],
   "source": [
    "# When you want to get an input that satisfy a requirement:\n",
    "while True:\n",
    "    number = int(input(\"what's n? \"))\n",
    "    if number > 0:\n",
    "        break\n",
    "        \n",
    "for _ in range(number):\n",
    "    print(\"meow!\")"
   ]
  },
  {
   "cell_type": "code",
   "execution_count": 25,
   "id": "e2d81fe7",
   "metadata": {},
   "outputs": [
    {
     "name": "stdout",
     "output_type": "stream",
     "text": [
      "What's n? 1\n",
      "meow\n"
     ]
    }
   ],
   "source": [
    "\n",
    "def main():\n",
    "    number = get_number()\n",
    "    meow(number)\n",
    "    \n",
    "def get_number():\n",
    "    while True:\n",
    "        n = int(input(\"What's n? \"))\n",
    "        if n > 0:\n",
    "            break\n",
    "    return n\n",
    "\n",
    "def meow(n):\n",
    "    for _ in range(n):\n",
    "        print(\"meow\")\n",
    "\n",
    "main()"
   ]
  },
  {
   "cell_type": "markdown",
   "id": "c73a03b7",
   "metadata": {},
   "source": [
    "Error Handling"
   ]
  },
  {
   "cell_type": "code",
   "execution_count": 7,
   "id": "9f186ec3",
   "metadata": {},
   "outputs": [
    {
     "name": "stdout",
     "output_type": "stream",
     "text": [
      "What is x? cat\n"
     ]
    },
    {
     "ename": "ValueError",
     "evalue": "invalid literal for int() with base 10: 'cat'",
     "output_type": "error",
     "traceback": [
      "\u001b[0;31m---------------------------------------------------------------------------\u001b[0m",
      "\u001b[0;31mValueError\u001b[0m                                Traceback (most recent call last)",
      "Cell \u001b[0;32mIn[7], line 1\u001b[0m\n\u001b[0;32m----> 1\u001b[0m x \u001b[38;5;241m=\u001b[39m \u001b[38;5;28;43mint\u001b[39;49m\u001b[43m(\u001b[49m\u001b[38;5;28;43minput\u001b[39;49m\u001b[43m(\u001b[49m\u001b[38;5;124;43m\"\u001b[39;49m\u001b[38;5;124;43mWhat is x? \u001b[39;49m\u001b[38;5;124;43m\"\u001b[39;49m\u001b[43m)\u001b[49m\u001b[43m)\u001b[49m\n\u001b[1;32m      2\u001b[0m \u001b[38;5;28mprint\u001b[39m(\u001b[38;5;124mf\u001b[39m\u001b[38;5;124m\"\u001b[39m\u001b[38;5;124mx is \u001b[39m\u001b[38;5;132;01m{\u001b[39;00mx\u001b[38;5;132;01m}\u001b[39;00m\u001b[38;5;124m\"\u001b[39m)\n",
      "\u001b[0;31mValueError\u001b[0m: invalid literal for int() with base 10: 'cat'"
     ]
    }
   ],
   "source": [
    "x = int(input(\"What is x? \"))\n",
    "print(f\"x is {x}\")"
   ]
  },
  {
   "cell_type": "code",
   "execution_count": 20,
   "id": "456e3523",
   "metadata": {},
   "outputs": [
    {
     "name": "stdout",
     "output_type": "stream",
     "text": [
      "What is x? 20\n",
      "x is 20\n"
     ]
    }
   ],
   "source": [
    "def main():\n",
    "    a = get_int()\n",
    "    print(f\"x is {a}\")\n",
    "\n",
    "def get_int():\n",
    "    while True:\n",
    "        try:\n",
    "            x = int(input(\"What is x? \"))\n",
    "        \n",
    "        except ValueError: #Expected value error taken care of\n",
    "            print(\"x is not an integer\")\n",
    "\n",
    "        else:\n",
    "            break\n",
    "    return x\n",
    "\n",
    "main()"
   ]
  },
  {
   "cell_type": "code",
   "execution_count": 23,
   "id": "f07becd2",
   "metadata": {},
   "outputs": [
    {
     "name": "stdout",
     "output_type": "stream",
     "text": [
      "What is x? pass\n",
      "What is x? 30\n",
      "x is 30\n"
     ]
    }
   ],
   "source": [
    "def main():\n",
    "    a = get_int()\n",
    "    print(f\"x is {a}\")\n",
    "\n",
    "def get_int():\n",
    "    while True:\n",
    "        try:\n",
    "            x = int(input(\"What is x? \"))\n",
    "            break\n",
    "        except ValueError: #Expected value error taken care of\n",
    "            pass\n",
    "    return x\n",
    "\n",
    "main()"
   ]
  },
  {
   "cell_type": "markdown",
   "id": "56cd8f76",
   "metadata": {},
   "source": [
    "Random"
   ]
  },
  {
   "cell_type": "code",
   "execution_count": 28,
   "id": "f8a55e4c",
   "metadata": {},
   "outputs": [
    {
     "name": "stdout",
     "output_type": "stream",
     "text": [
      "head\n"
     ]
    }
   ],
   "source": [
    "from random import choice\n",
    "\n",
    "coin = choice([\"head\",\"tail\"])\n",
    "print(coin)"
   ]
  },
  {
   "cell_type": "code",
   "execution_count": null,
   "id": "b8468439",
   "metadata": {},
   "outputs": [],
   "source": [
    "import random\n",
    "\n",
    "coin = random.choice([\"head\",\"tail\"])\n",
    "print(coin)\n"
   ]
  },
  {
   "cell_type": "code",
   "execution_count": 43,
   "id": "c7cde088",
   "metadata": {},
   "outputs": [
    {
     "name": "stdout",
     "output_type": "stream",
     "text": [
      "1\n"
     ]
    }
   ],
   "source": [
    "import random\n",
    "number = random.randint(1,10)\n",
    "print(number)"
   ]
  },
  {
   "cell_type": "code",
   "execution_count": 98,
   "id": "1ae06574",
   "metadata": {},
   "outputs": [
    {
     "name": "stdout",
     "output_type": "stream",
     "text": [
      "queen\n",
      "knight\n",
      "jack\n",
      "bishop\n",
      "king\n"
     ]
    }
   ],
   "source": [
    "import random\n",
    "\n",
    "card = ['jack', 'queen', 'king', 'bishop', 'knight']\n",
    "random.shuffle(card)\n",
    "\n",
    "for cd in card:\n",
    "    print(cd)"
   ]
  },
  {
   "cell_type": "code",
   "execution_count": 105,
   "id": "a43be5bf",
   "metadata": {},
   "outputs": [
    {
     "name": "stdout",
     "output_type": "stream",
     "text": [
      "5.333333333333333\n"
     ]
    }
   ],
   "source": [
    "import statistics\n",
    "\n",
    "number = statistics.mean([1,3,4,6,8,10])\n",
    "print(number)"
   ]
  },
  {
   "cell_type": "markdown",
   "id": "3c08efcf",
   "metadata": {},
   "source": [
    "sys module"
   ]
  },
  {
   "cell_type": "code",
   "execution_count": 106,
   "id": "611a6fd8",
   "metadata": {},
   "outputs": [
    {
     "name": "stdout",
     "output_type": "stream",
     "text": [
      "My name is -f\n"
     ]
    }
   ],
   "source": [
    "import sys\n",
    "\n",
    "print(\"My name is\", sys.argv[1])"
   ]
  },
  {
   "cell_type": "code",
   "execution_count": null,
   "id": "06cf4428",
   "metadata": {},
   "outputs": [],
   "source": []
  },
  {
   "cell_type": "code",
   "execution_count": null,
   "id": "38f7cf57",
   "metadata": {},
   "outputs": [],
   "source": []
  },
  {
   "cell_type": "code",
   "execution_count": null,
   "id": "682a6814",
   "metadata": {},
   "outputs": [],
   "source": []
  },
  {
   "cell_type": "code",
   "execution_count": null,
   "id": "5fc04e17",
   "metadata": {},
   "outputs": [],
   "source": []
  },
  {
   "cell_type": "code",
   "execution_count": null,
   "id": "e2e84051",
   "metadata": {},
   "outputs": [],
   "source": []
  },
  {
   "cell_type": "code",
   "execution_count": null,
   "id": "97f2dc70",
   "metadata": {},
   "outputs": [],
   "source": []
  },
  {
   "cell_type": "code",
   "execution_count": null,
   "id": "68defabc",
   "metadata": {},
   "outputs": [],
   "source": []
  }
 ],
 "metadata": {
  "kernelspec": {
   "display_name": "Python 3 (ipykernel)",
   "language": "python",
   "name": "python3"
  },
  "language_info": {
   "codemirror_mode": {
    "name": "ipython",
    "version": 3
   },
   "file_extension": ".py",
   "mimetype": "text/x-python",
   "name": "python",
   "nbconvert_exporter": "python",
   "pygments_lexer": "ipython3",
   "version": "3.9.15"
  }
 },
 "nbformat": 4,
 "nbformat_minor": 5
}
