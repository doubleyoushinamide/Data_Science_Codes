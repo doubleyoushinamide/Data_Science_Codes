{
 "cells": [
  {
   "cell_type": "markdown",
   "metadata": {},
   "source": [
    "___\n",
    "\n",
    "<a href='http://www.pieriandata.com'> <img src='../Pierian_Data_Logo.png' /></a>\n",
    "___\n",
    "# Plotly and Cufflinks"
   ]
  },
  {
   "cell_type": "markdown",
   "metadata": {},
   "source": [
    "Plotly is a library that allows you to create interactive plots that you can use in dashboards or websites (you can save them as html files or static images).\n",
    "\n",
    "## Installation\n",
    "\n",
    "In order for this all to work, you'll need to install plotly and cufflinks to call plots directly off of a pandas dataframe. These libraries are not currently available through **conda** but are available through **pip**. Install the libraries at your command line/terminal using:\n",
    "\n",
    "    pip install plotly\n",
    "    pip install cufflinks\n",
    "\n",
    "** NOTE: Make sure you only have one installation of Python on your computer when you do this, otherwise the installation may not work. **\n",
    "\n",
    "## Imports and Set-up"
   ]
  },
  {
   "cell_type": "code",
   "execution_count": 1,
   "metadata": {},
   "outputs": [],
   "source": [
    "import pandas as pd\n",
    "import numpy as np\n",
    "%matplotlib inline"
   ]
  },
  {
   "cell_type": "code",
   "execution_count": 2,
   "metadata": {},
   "outputs": [
    {
     "name": "stdout",
     "output_type": "stream",
     "text": [
      "5.16.1\n"
     ]
    }
   ],
   "source": [
    "from plotly import __version__\n",
    "from plotly.offline import download_plotlyjs, init_notebook_mode, plot, iplot\n",
    "\n",
    "print(__version__) # requires version >= 1.9.0"
   ]
  },
  {
   "cell_type": "code",
   "execution_count": 3,
   "metadata": {},
   "outputs": [],
   "source": [
    "import cufflinks as cf"
   ]
  },
  {
   "cell_type": "code",
   "execution_count": 1,
   "metadata": {
    "collapsed": true
   },
   "outputs": [
    {
     "name": "stdout",
     "output_type": "stream",
     "text": [
      "Collecting cufflinks\n",
      "  Downloading cufflinks-0.17.3.tar.gz (81 kB)\n",
      "\u001b[2K     \u001b[90m━━━━━━━━━━━━━━━━━━━━━━━━━━━━━━━━━━━━━━━\u001b[0m \u001b[32m81.7/81.7 kB\u001b[0m \u001b[31m247.7 kB/s\u001b[0m eta \u001b[36m0:00:00\u001b[0ma \u001b[36m0:00:01\u001b[0m\n",
      "\u001b[?25h  Preparing metadata (setup.py) ... \u001b[?25ldone\n",
      "\u001b[?25hRequirement already satisfied: numpy>=1.9.2 in /home/olusholasalau/anaconda3/lib/python3.9/site-packages (from cufflinks) (1.21.0)\n",
      "Requirement already satisfied: pandas>=0.19.2 in /home/olusholasalau/.local/lib/python3.9/site-packages (from cufflinks) (1.5.3)\n",
      "Requirement already satisfied: plotly>=4.1.1 in /home/olusholasalau/anaconda3/lib/python3.9/site-packages (from cufflinks) (5.16.1)\n",
      "Requirement already satisfied: six>=1.9.0 in /home/olusholasalau/.local/lib/python3.9/site-packages (from cufflinks) (1.16.0)\n",
      "Collecting colorlover>=0.2.1 (from cufflinks)\n",
      "  Downloading colorlover-0.3.0-py3-none-any.whl (8.9 kB)\n",
      "Requirement already satisfied: setuptools>=34.4.1 in /home/olusholasalau/.local/lib/python3.9/site-packages (from cufflinks) (65.5.1)\n",
      "Requirement already satisfied: ipython>=5.3.0 in /home/olusholasalau/anaconda3/lib/python3.9/site-packages (from cufflinks) (8.10.0)\n",
      "Collecting ipywidgets>=7.0.0 (from cufflinks)\n",
      "  Obtaining dependency information for ipywidgets>=7.0.0 from https://files.pythonhosted.org/packages/b8/d4/ce436660098b2f456e2b8fdf76d4f33cbc3766c874c4aa2f772c7a5e943f/ipywidgets-8.1.0-py3-none-any.whl.metadata\n",
      "  Downloading ipywidgets-8.1.0-py3-none-any.whl.metadata (2.4 kB)\n",
      "Requirement already satisfied: backcall in /home/olusholasalau/.local/lib/python3.9/site-packages (from ipython>=5.3.0->cufflinks) (0.2.0)\n",
      "Requirement already satisfied: decorator in /home/olusholasalau/.local/lib/python3.9/site-packages (from ipython>=5.3.0->cufflinks) (5.1.1)\n",
      "Requirement already satisfied: jedi>=0.16 in /home/olusholasalau/.local/lib/python3.9/site-packages (from ipython>=5.3.0->cufflinks) (0.18.1)\n",
      "Requirement already satisfied: matplotlib-inline in /home/olusholasalau/.local/lib/python3.9/site-packages (from ipython>=5.3.0->cufflinks) (0.1.6)\n",
      "Requirement already satisfied: pickleshare in /home/olusholasalau/.local/lib/python3.9/site-packages (from ipython>=5.3.0->cufflinks) (0.7.5)\n",
      "Requirement already satisfied: prompt-toolkit<3.1.0,>=3.0.30 in /home/olusholasalau/.local/lib/python3.9/site-packages (from ipython>=5.3.0->cufflinks) (3.0.32)\n",
      "Requirement already satisfied: pygments>=2.4.0 in /home/olusholasalau/.local/lib/python3.9/site-packages (from ipython>=5.3.0->cufflinks) (2.13.0)\n",
      "Requirement already satisfied: stack-data in /home/olusholasalau/.local/lib/python3.9/site-packages (from ipython>=5.3.0->cufflinks) (0.6.1)\n",
      "Requirement already satisfied: traitlets>=5 in /home/olusholasalau/.local/lib/python3.9/site-packages (from ipython>=5.3.0->cufflinks) (5.5.0)\n",
      "Requirement already satisfied: pexpect>4.3 in /home/olusholasalau/.local/lib/python3.9/site-packages (from ipython>=5.3.0->cufflinks) (4.8.0)\n",
      "Collecting comm>=0.1.3 (from ipywidgets>=7.0.0->cufflinks)\n",
      "  Obtaining dependency information for comm>=0.1.3 from https://files.pythonhosted.org/packages/fe/47/0133ac1b7dc476ed77710715e98077119b3d9bae56b13f6f9055e7da1c53/comm-0.1.4-py3-none-any.whl.metadata\n",
      "  Downloading comm-0.1.4-py3-none-any.whl.metadata (4.2 kB)\n",
      "Collecting widgetsnbextension~=4.0.7 (from ipywidgets>=7.0.0->cufflinks)\n",
      "  Obtaining dependency information for widgetsnbextension~=4.0.7 from https://files.pythonhosted.org/packages/8e/d4/d31b12ac0b87e8cc9fdb6ea1eb6596de405eaaa2f25606aaa755d0eebbc0/widgetsnbextension-4.0.8-py3-none-any.whl.metadata\n",
      "  Downloading widgetsnbextension-4.0.8-py3-none-any.whl.metadata (1.6 kB)\n",
      "Collecting jupyterlab-widgets~=3.0.7 (from ipywidgets>=7.0.0->cufflinks)\n",
      "  Obtaining dependency information for jupyterlab-widgets~=3.0.7 from https://files.pythonhosted.org/packages/74/5e/2475ac62faf2e342b2bf20b8d8e375f49400ecb38f52e4e0a7557eb1cedb/jupyterlab_widgets-3.0.8-py3-none-any.whl.metadata\n",
      "  Downloading jupyterlab_widgets-3.0.8-py3-none-any.whl.metadata (4.1 kB)\n",
      "Collecting python-dateutil>=2.8.1 (from pandas>=0.19.2->cufflinks)\n",
      "  Downloading python_dateutil-2.8.2-py2.py3-none-any.whl (247 kB)\n",
      "\u001b[2K     \u001b[90m━━━━━━━━━━━━━━━━━━━━━━━━━━━━━━━━━━━━━━━\u001b[0m \u001b[32m247.7/247.7 kB\u001b[0m \u001b[31m1.6 MB/s\u001b[0m eta \u001b[36m0:00:00\u001b[0m00:01\u001b[0m00:01\u001b[0m\n",
      "\u001b[?25hRequirement already satisfied: pytz>=2020.1 in /home/olusholasalau/.local/lib/python3.9/site-packages (from pandas>=0.19.2->cufflinks) (2022.7.1)\n",
      "Requirement already satisfied: tenacity>=6.2.0 in /home/olusholasalau/anaconda3/lib/python3.9/site-packages (from plotly>=4.1.1->cufflinks) (8.2.3)\n",
      "Requirement already satisfied: packaging in /home/olusholasalau/.local/lib/python3.9/site-packages (from plotly>=4.1.1->cufflinks) (21.3)\n",
      "Requirement already satisfied: parso<0.9.0,>=0.8.0 in /home/olusholasalau/.local/lib/python3.9/site-packages (from jedi>=0.16->ipython>=5.3.0->cufflinks) (0.8.3)\n",
      "Requirement already satisfied: ptyprocess>=0.5 in /home/olusholasalau/.local/lib/python3.9/site-packages (from pexpect>4.3->ipython>=5.3.0->cufflinks) (0.7.0)\n",
      "Requirement already satisfied: wcwidth in /home/olusholasalau/.local/lib/python3.9/site-packages (from prompt-toolkit<3.1.0,>=3.0.30->ipython>=5.3.0->cufflinks) (0.2.5)\n",
      "Requirement already satisfied: pyparsing!=3.0.5,>=2.0.2 in /home/olusholasalau/.local/lib/python3.9/site-packages (from packaging->plotly>=4.1.1->cufflinks) (3.0.9)\n",
      "Requirement already satisfied: executing>=1.2.0 in /home/olusholasalau/.local/lib/python3.9/site-packages (from stack-data->ipython>=5.3.0->cufflinks) (1.2.0)\n",
      "Requirement already satisfied: asttokens>=2.1.0 in /home/olusholasalau/.local/lib/python3.9/site-packages (from stack-data->ipython>=5.3.0->cufflinks) (2.1.0)\n",
      "Requirement already satisfied: pure-eval in /home/olusholasalau/.local/lib/python3.9/site-packages (from stack-data->ipython>=5.3.0->cufflinks) (0.2.2)\n",
      "Downloading ipywidgets-8.1.0-py3-none-any.whl (139 kB)\n",
      "\u001b[2K   \u001b[90m━━━━━━━━━━━━━━━━━━━━━━━━━━━━━━━━━━━━━━━━\u001b[0m \u001b[32m139.3/139.3 kB\u001b[0m \u001b[31m6.4 MB/s\u001b[0m eta \u001b[36m0:00:00\u001b[0m\n",
      "\u001b[?25hDownloading comm-0.1.4-py3-none-any.whl (6.6 kB)\n",
      "Downloading jupyterlab_widgets-3.0.8-py3-none-any.whl (214 kB)\n",
      "\u001b[2K   \u001b[90m━━━━━━━━━━━━━━━━━━━━━━━━━━━━━━━━━━━━━━━━\u001b[0m \u001b[32m215.0/215.0 kB\u001b[0m \u001b[31m6.8 MB/s\u001b[0m eta \u001b[36m0:00:00\u001b[0m\n",
      "\u001b[?25hDownloading widgetsnbextension-4.0.8-py3-none-any.whl (2.3 MB)\n",
      "\u001b[2K   \u001b[90m━━━━━━━━━━━━━━━━━━━━━━━━━━━━━━━━━━━━━━━━\u001b[0m \u001b[32m2.3/2.3 MB\u001b[0m \u001b[31m1.3 MB/s\u001b[0m eta \u001b[36m0:00:00\u001b[0m00:01\u001b[0m00:01\u001b[0m\n",
      "\u001b[?25hBuilding wheels for collected packages: cufflinks\n",
      "  Building wheel for cufflinks (setup.py) ... \u001b[?25ldone\n",
      "\u001b[?25h  Created wheel for cufflinks: filename=cufflinks-0.17.3-py3-none-any.whl size=67902 sha256=ef556fa2da5df214d63e58441c89204e2ee449de35264054c6dfab342d4acf85\n",
      "  Stored in directory: /home/olusholasalau/.cache/pip/wheels/29/b4/f8/2fd2206eeeba6ccad8167e4e8894b8c4ec27bf1342037fd136\n",
      "Successfully built cufflinks\n",
      "\u001b[33mDEPRECATION: charset-normalizer 3.0.1.-1- has a non-standard version number. pip 23.3 will enforce this behaviour change. A possible replacement is to upgrade to a newer version of charset-normalizer or contact the author to suggest that they release a version with a conforming version number. Discussion can be found at https://github.com/pypa/pip/issues/12063\u001b[0m\u001b[33m\n",
      "\u001b[0mInstalling collected packages: colorlover, widgetsnbextension, python-dateutil, jupyterlab-widgets, comm, ipywidgets, cufflinks\n",
      "  Attempting uninstall: python-dateutil\n",
      "    Found existing installation: python-dateutil 2.8.2.-1-\n",
      "    Uninstalling python-dateutil-2.8.2.-1-:\n",
      "      Successfully uninstalled python-dateutil-2.8.2.-1-\n",
      "  Attempting uninstall: comm\n",
      "    Found existing installation: comm 0.1.2\n",
      "    Uninstalling comm-0.1.2:\n",
      "      Successfully uninstalled comm-0.1.2\n",
      "\u001b[31mERROR: pip's dependency resolver does not currently take into account all the packages that are installed. This behaviour is the source of the following dependency conflicts.\n",
      "jupyter-client 7.4.6 requires tornado>=6.2, but you have tornado 6.1 which is incompatible.\n",
      "conda-repo-cli 1.0.27 requires clyent==1.2.1, but you have clyent 1.2.2 which is incompatible.\n",
      "conda-repo-cli 1.0.27 requires nbformat==5.4.0, but you have nbformat 5.7.0 which is incompatible.\n",
      "conda-repo-cli 1.0.27 requires requests==2.28.1, but you have requests 2.28.2 which is incompatible.\u001b[0m\u001b[31m\n",
      "\u001b[0mSuccessfully installed colorlover-0.3.0 comm-0.1.4 cufflinks-0.17.3 ipywidgets-8.1.0 jupyterlab-widgets-3.0.8 python-dateutil-2.8.2 widgetsnbextension-4.0.8\n"
     ]
    },
    {
     "name": "stdout",
     "output_type": "stream",
     "text": [
      "Note: you may need to restart the kernel to use updated packages.\n"
     ]
    }
   ],
   "source": [
    "pip install cufflinks"
   ]
  },
  {
   "cell_type": "code",
   "execution_count": 4,
   "metadata": {},
   "outputs": [
    {
     "data": {
      "text/html": [
       "        <script type=\"text/javascript\">\n",
       "        window.PlotlyConfig = {MathJaxConfig: 'local'};\n",
       "        if (window.MathJax && window.MathJax.Hub && window.MathJax.Hub.Config) {window.MathJax.Hub.Config({SVG: {font: \"STIX-Web\"}});}\n",
       "        if (typeof require !== 'undefined') {\n",
       "        require.undef(\"plotly\");\n",
       "        requirejs.config({\n",
       "            paths: {\n",
       "                'plotly': ['https://cdn.plot.ly/plotly-2.25.2.min']\n",
       "            }\n",
       "        });\n",
       "        require(['plotly'], function(Plotly) {\n",
       "            window._Plotly = Plotly;\n",
       "        });\n",
       "        }\n",
       "        </script>\n",
       "        "
      ]
     },
     "metadata": {},
     "output_type": "display_data"
    }
   ],
   "source": [
    "# For Notebooks\n",
    "init_notebook_mode(connected=True)"
   ]
  },
  {
   "cell_type": "code",
   "execution_count": 5,
   "metadata": {},
   "outputs": [
    {
     "data": {
      "text/html": [
       "        <script type=\"text/javascript\">\n",
       "        window.PlotlyConfig = {MathJaxConfig: 'local'};\n",
       "        if (window.MathJax && window.MathJax.Hub && window.MathJax.Hub.Config) {window.MathJax.Hub.Config({SVG: {font: \"STIX-Web\"}});}\n",
       "        if (typeof require !== 'undefined') {\n",
       "        require.undef(\"plotly\");\n",
       "        requirejs.config({\n",
       "            paths: {\n",
       "                'plotly': ['https://cdn.plot.ly/plotly-2.25.2.min']\n",
       "            }\n",
       "        });\n",
       "        require(['plotly'], function(Plotly) {\n",
       "            window._Plotly = Plotly;\n",
       "        });\n",
       "        }\n",
       "        </script>\n",
       "        "
      ]
     },
     "metadata": {},
     "output_type": "display_data"
    }
   ],
   "source": [
    "# For offline use\n",
    "cf.go_offline()"
   ]
  },
  {
   "cell_type": "markdown",
   "metadata": {},
   "source": [
    "### Fake Data"
   ]
  },
  {
   "cell_type": "code",
   "execution_count": 6,
   "metadata": {},
   "outputs": [],
   "source": [
    "df = pd.DataFrame(np.random.randn(100,4),columns='A B C D'.split())"
   ]
  },
  {
   "cell_type": "code",
   "execution_count": 7,
   "metadata": {},
   "outputs": [
    {
     "data": {
      "text/html": [
       "<div>\n",
       "<style scoped>\n",
       "    .dataframe tbody tr th:only-of-type {\n",
       "        vertical-align: middle;\n",
       "    }\n",
       "\n",
       "    .dataframe tbody tr th {\n",
       "        vertical-align: top;\n",
       "    }\n",
       "\n",
       "    .dataframe thead th {\n",
       "        text-align: right;\n",
       "    }\n",
       "</style>\n",
       "<table border=\"1\" class=\"dataframe\">\n",
       "  <thead>\n",
       "    <tr style=\"text-align: right;\">\n",
       "      <th></th>\n",
       "      <th>A</th>\n",
       "      <th>B</th>\n",
       "      <th>C</th>\n",
       "      <th>D</th>\n",
       "    </tr>\n",
       "  </thead>\n",
       "  <tbody>\n",
       "    <tr>\n",
       "      <th>0</th>\n",
       "      <td>-0.165571</td>\n",
       "      <td>-0.292445</td>\n",
       "      <td>0.350763</td>\n",
       "      <td>-1.404732</td>\n",
       "    </tr>\n",
       "    <tr>\n",
       "      <th>1</th>\n",
       "      <td>0.633934</td>\n",
       "      <td>0.740781</td>\n",
       "      <td>0.733250</td>\n",
       "      <td>1.423720</td>\n",
       "    </tr>\n",
       "    <tr>\n",
       "      <th>2</th>\n",
       "      <td>0.025527</td>\n",
       "      <td>-0.423819</td>\n",
       "      <td>-1.703293</td>\n",
       "      <td>0.826586</td>\n",
       "    </tr>\n",
       "    <tr>\n",
       "      <th>3</th>\n",
       "      <td>0.019697</td>\n",
       "      <td>-0.806529</td>\n",
       "      <td>0.820221</td>\n",
       "      <td>-1.115131</td>\n",
       "    </tr>\n",
       "    <tr>\n",
       "      <th>4</th>\n",
       "      <td>1.172288</td>\n",
       "      <td>-0.813139</td>\n",
       "      <td>-0.550771</td>\n",
       "      <td>-2.686302</td>\n",
       "    </tr>\n",
       "  </tbody>\n",
       "</table>\n",
       "</div>"
      ],
      "text/plain": [
       "          A         B         C         D\n",
       "0 -0.165571 -0.292445  0.350763 -1.404732\n",
       "1  0.633934  0.740781  0.733250  1.423720\n",
       "2  0.025527 -0.423819 -1.703293  0.826586\n",
       "3  0.019697 -0.806529  0.820221 -1.115131\n",
       "4  1.172288 -0.813139 -0.550771 -2.686302"
      ]
     },
     "execution_count": 7,
     "metadata": {},
     "output_type": "execute_result"
    }
   ],
   "source": [
    "df.head()"
   ]
  },
  {
   "cell_type": "code",
   "execution_count": 8,
   "metadata": {},
   "outputs": [],
   "source": [
    "df2 = pd.DataFrame({'Category':['A','B','C'],'Values':[32,43,50]})"
   ]
  },
  {
   "cell_type": "code",
   "execution_count": 9,
   "metadata": {},
   "outputs": [
    {
     "data": {
      "text/html": [
       "<div>\n",
       "<style scoped>\n",
       "    .dataframe tbody tr th:only-of-type {\n",
       "        vertical-align: middle;\n",
       "    }\n",
       "\n",
       "    .dataframe tbody tr th {\n",
       "        vertical-align: top;\n",
       "    }\n",
       "\n",
       "    .dataframe thead th {\n",
       "        text-align: right;\n",
       "    }\n",
       "</style>\n",
       "<table border=\"1\" class=\"dataframe\">\n",
       "  <thead>\n",
       "    <tr style=\"text-align: right;\">\n",
       "      <th></th>\n",
       "      <th>Category</th>\n",
       "      <th>Values</th>\n",
       "    </tr>\n",
       "  </thead>\n",
       "  <tbody>\n",
       "    <tr>\n",
       "      <th>0</th>\n",
       "      <td>A</td>\n",
       "      <td>32</td>\n",
       "    </tr>\n",
       "    <tr>\n",
       "      <th>1</th>\n",
       "      <td>B</td>\n",
       "      <td>43</td>\n",
       "    </tr>\n",
       "    <tr>\n",
       "      <th>2</th>\n",
       "      <td>C</td>\n",
       "      <td>50</td>\n",
       "    </tr>\n",
       "  </tbody>\n",
       "</table>\n",
       "</div>"
      ],
      "text/plain": [
       "  Category  Values\n",
       "0        A      32\n",
       "1        B      43\n",
       "2        C      50"
      ]
     },
     "execution_count": 9,
     "metadata": {},
     "output_type": "execute_result"
    }
   ],
   "source": [
    "df2.head()"
   ]
  },
  {
   "cell_type": "markdown",
   "metadata": {},
   "source": [
    "## Using Cufflinks and iplot()\n",
    "\n",
    "* scatter\n",
    "* bar\n",
    "* box\n",
    "* spread\n",
    "* ratio\n",
    "* heatmap\n",
    "* surface\n",
    "* histogram\n",
    "* bubble"
   ]
  },
  {
   "cell_type": "markdown",
   "metadata": {},
   "source": [
    "## Scatter"
   ]
  },
  {
   "cell_type": "code",
   "execution_count": 20,
   "metadata": {},
   "outputs": [
    {
     "data": {
      "application/vnd.plotly.v1+json": {
       "config": {
        "linkText": "Export to plot.ly",
        "plotlyServerURL": "https://plot.ly",
        "showLink": true
       },
       "data": [
        {
         "line": {
          "color": "rgba(255, 153, 51, 1.0)",
          "dash": "solid",
          "shape": "linear",
          "width": 1.3
         },
         "marker": {
          "size": 5,
          "symbol": "circle"
         },
         "mode": "markers",
         "name": "B",
         "text": "",
         "type": "scatter",
         "x": [
          -0.1655705937827465,
          0.6339335459532506,
          0.02552739960708487,
          0.01969683939300677,
          1.1722880458422509,
          0.9747235756758493,
          -0.6050070348936066,
          0.5085564324615662,
          -1.545435955849086,
          0.016081732460917663,
          0.22518728497505483,
          -1.3333108089982026,
          0.988778752425804,
          2.198159687266945,
          1.268817519997271,
          -0.008764501052270413,
          -0.44398572728548547,
          0.5551164490476496,
          0.8586223532174,
          -0.2094038044256258,
          -0.43206622309689674,
          0.6418351317018594,
          -1.5385625940572467,
          -0.17674250764098665,
          0.6744836258489834,
          -1.9243574705353481,
          -0.5163953508976782,
          0.9930864582338338,
          0.32124256694507275,
          -0.6698476139460213,
          0.381068709679253,
          -1.1944409695761267,
          0.6849270399380836,
          -0.3754746280710603,
          0.29975630620422455,
          0.05640202727675874,
          -0.94912681176481,
          -0.4799579983040787,
          -2.051159458016786,
          -0.3451565542145435,
          0.5491402974707585,
          0.36719851737511805,
          0.06903976021383912,
          0.9190117725334557,
          -1.024537808095599,
          -0.279366487748021,
          -1.708888485836476,
          -0.14402401705652035,
          -0.7956987990694804,
          -0.8078595466173956,
          0.6790479801631213,
          0.7620283540488753,
          0.04971040573434907,
          -1.0480450252213853,
          -1.1640007543201105,
          -0.8987684206556861,
          1.0921667216030286,
          -0.51688241157997,
          0.23331358423528553,
          0.72022348620067,
          -0.153330783695401,
          -1.7485084923560625,
          -0.5578921555527383,
          0.2592053361084132,
          0.6505485032752829,
          -0.09822617559722291,
          -0.11396477603957711,
          -0.04711327080097372,
          0.41794875708761625,
          -0.9794280917693772,
          -1.4930800481301383,
          0.20024816164433462,
          -0.0598198356874181,
          0.40228892142346856,
          0.7198143569507868,
          -0.7989673881758005,
          1.136051224771882,
          0.5213471362522815,
          0.382894174276429,
          -0.3781806207522293,
          0.1047978285603859,
          -0.5590826824234247,
          -1.4103183701528856,
          1.1809587208566368,
          -0.7340851584382985,
          2.302660557026478,
          -1.8176943917922668,
          -0.7827026497367355,
          -1.6804854405801986,
          -1.7161193914182236,
          0.13699488338331858,
          -1.0562415021653813,
          0.3440151400307065,
          -2.4135843823581773,
          -1.7169647154712107,
          0.11730382449763617,
          -0.12497531838910092,
          -0.9130583926720433,
          0.14177914589027968,
          -0.7325023740963575
         ],
         "y": [
          -0.2924447826011183,
          0.7407806451006329,
          -0.4238185025341148,
          -0.806529453653887,
          -0.8131387530579735,
          0.00734319142364019,
          1.1409690687084817,
          -1.0399200861700937,
          -0.9757840095052484,
          0.6371836649454985,
          0.4822400989864475,
          -0.10658927474989756,
          1.030457973217204,
          0.298495758255452,
          -0.7007423238711151,
          0.3099974602415881,
          -0.999126943370043,
          -0.0534876423175067,
          -0.13547608459305985,
          1.5972425667119357,
          -2.5062520958522185,
          0.23267837072353362,
          0.025786950862549618,
          0.7223057893102796,
          -0.6716161547784072,
          -0.7347753399574438,
          -0.10092901382515361,
          1.9539851832256292,
          -0.6513024950203117,
          1.4165755824561908,
          -0.999587606254183,
          -0.7707015786264458,
          0.1651321634271878,
          0.27957354172687954,
          -0.07142121924509102,
          -0.592976528976272,
          -0.6196597646542373,
          0.24417621252015778,
          0.07404638331213868,
          1.3227806225059329,
          1.7101366397285278,
          -1.5305925978054404,
          -0.744847538740032,
          2.1580413988178124,
          -0.26752586946806556,
          -1.7789276564220624,
          1.3471114020730155,
          -0.5430113078286412,
          -0.8601260350318142,
          0.7316624912629281,
          2.5130402870286854,
          -1.4384259319922756,
          0.6398977902189656,
          0.3129349832028792,
          -0.07569412487699408,
          -1.6491607182971357,
          -0.7762918151343828,
          -0.13478606841780538,
          -0.013620877199414565,
          -0.2064697103702566,
          -1.280393149670629,
          0.20677309874895722,
          0.5884118424194865,
          0.4229230519321674,
          -0.9459402404714627,
          -0.37290272901489174,
          -1.322503831154513,
          0.38427151353223454,
          0.3440100483105457,
          1.2806969455257453,
          0.4153452313345435,
          0.5806468212039666,
          1.6475556469388035,
          1.104705852204584,
          0.5020651550204874,
          -1.7915206314516867,
          0.25651199464656715,
          -0.5105539232384897,
          0.6480584816840614,
          -1.0146531468192597,
          1.1156432997731665,
          -2.2734448280261437,
          2.000158801474051,
          0.6705878143141647,
          1.0574589784742312,
          1.1555814635540624,
          -0.08170108881032653,
          -1.0400644433309123,
          -0.9605721297657042,
          -0.49164022625070686,
          -0.45380715694038964,
          -0.16729635012015623,
          -0.7955770607437094,
          -2.814936036656384,
          -0.5282245113612478,
          -1.2738671529418648,
          0.8773494814469376,
          0.668093767934002,
          -0.8402771874279442,
          -0.9939287782369531
         ]
        }
       ],
       "layout": {
        "legend": {
         "bgcolor": "#F5F6F9",
         "font": {
          "color": "#4D5663"
         }
        },
        "paper_bgcolor": "#F5F6F9",
        "plot_bgcolor": "#F5F6F9",
        "template": {
         "data": {
          "bar": [
           {
            "error_x": {
             "color": "#2a3f5f"
            },
            "error_y": {
             "color": "#2a3f5f"
            },
            "marker": {
             "line": {
              "color": "#E5ECF6",
              "width": 0.5
             },
             "pattern": {
              "fillmode": "overlay",
              "size": 10,
              "solidity": 0.2
             }
            },
            "type": "bar"
           }
          ],
          "barpolar": [
           {
            "marker": {
             "line": {
              "color": "#E5ECF6",
              "width": 0.5
             },
             "pattern": {
              "fillmode": "overlay",
              "size": 10,
              "solidity": 0.2
             }
            },
            "type": "barpolar"
           }
          ],
          "carpet": [
           {
            "aaxis": {
             "endlinecolor": "#2a3f5f",
             "gridcolor": "white",
             "linecolor": "white",
             "minorgridcolor": "white",
             "startlinecolor": "#2a3f5f"
            },
            "baxis": {
             "endlinecolor": "#2a3f5f",
             "gridcolor": "white",
             "linecolor": "white",
             "minorgridcolor": "white",
             "startlinecolor": "#2a3f5f"
            },
            "type": "carpet"
           }
          ],
          "choropleth": [
           {
            "colorbar": {
             "outlinewidth": 0,
             "ticks": ""
            },
            "type": "choropleth"
           }
          ],
          "contour": [
           {
            "colorbar": {
             "outlinewidth": 0,
             "ticks": ""
            },
            "colorscale": [
             [
              0,
              "#0d0887"
             ],
             [
              0.1111111111111111,
              "#46039f"
             ],
             [
              0.2222222222222222,
              "#7201a8"
             ],
             [
              0.3333333333333333,
              "#9c179e"
             ],
             [
              0.4444444444444444,
              "#bd3786"
             ],
             [
              0.5555555555555556,
              "#d8576b"
             ],
             [
              0.6666666666666666,
              "#ed7953"
             ],
             [
              0.7777777777777778,
              "#fb9f3a"
             ],
             [
              0.8888888888888888,
              "#fdca26"
             ],
             [
              1,
              "#f0f921"
             ]
            ],
            "type": "contour"
           }
          ],
          "contourcarpet": [
           {
            "colorbar": {
             "outlinewidth": 0,
             "ticks": ""
            },
            "type": "contourcarpet"
           }
          ],
          "heatmap": [
           {
            "colorbar": {
             "outlinewidth": 0,
             "ticks": ""
            },
            "colorscale": [
             [
              0,
              "#0d0887"
             ],
             [
              0.1111111111111111,
              "#46039f"
             ],
             [
              0.2222222222222222,
              "#7201a8"
             ],
             [
              0.3333333333333333,
              "#9c179e"
             ],
             [
              0.4444444444444444,
              "#bd3786"
             ],
             [
              0.5555555555555556,
              "#d8576b"
             ],
             [
              0.6666666666666666,
              "#ed7953"
             ],
             [
              0.7777777777777778,
              "#fb9f3a"
             ],
             [
              0.8888888888888888,
              "#fdca26"
             ],
             [
              1,
              "#f0f921"
             ]
            ],
            "type": "heatmap"
           }
          ],
          "heatmapgl": [
           {
            "colorbar": {
             "outlinewidth": 0,
             "ticks": ""
            },
            "colorscale": [
             [
              0,
              "#0d0887"
             ],
             [
              0.1111111111111111,
              "#46039f"
             ],
             [
              0.2222222222222222,
              "#7201a8"
             ],
             [
              0.3333333333333333,
              "#9c179e"
             ],
             [
              0.4444444444444444,
              "#bd3786"
             ],
             [
              0.5555555555555556,
              "#d8576b"
             ],
             [
              0.6666666666666666,
              "#ed7953"
             ],
             [
              0.7777777777777778,
              "#fb9f3a"
             ],
             [
              0.8888888888888888,
              "#fdca26"
             ],
             [
              1,
              "#f0f921"
             ]
            ],
            "type": "heatmapgl"
           }
          ],
          "histogram": [
           {
            "marker": {
             "pattern": {
              "fillmode": "overlay",
              "size": 10,
              "solidity": 0.2
             }
            },
            "type": "histogram"
           }
          ],
          "histogram2d": [
           {
            "colorbar": {
             "outlinewidth": 0,
             "ticks": ""
            },
            "colorscale": [
             [
              0,
              "#0d0887"
             ],
             [
              0.1111111111111111,
              "#46039f"
             ],
             [
              0.2222222222222222,
              "#7201a8"
             ],
             [
              0.3333333333333333,
              "#9c179e"
             ],
             [
              0.4444444444444444,
              "#bd3786"
             ],
             [
              0.5555555555555556,
              "#d8576b"
             ],
             [
              0.6666666666666666,
              "#ed7953"
             ],
             [
              0.7777777777777778,
              "#fb9f3a"
             ],
             [
              0.8888888888888888,
              "#fdca26"
             ],
             [
              1,
              "#f0f921"
             ]
            ],
            "type": "histogram2d"
           }
          ],
          "histogram2dcontour": [
           {
            "colorbar": {
             "outlinewidth": 0,
             "ticks": ""
            },
            "colorscale": [
             [
              0,
              "#0d0887"
             ],
             [
              0.1111111111111111,
              "#46039f"
             ],
             [
              0.2222222222222222,
              "#7201a8"
             ],
             [
              0.3333333333333333,
              "#9c179e"
             ],
             [
              0.4444444444444444,
              "#bd3786"
             ],
             [
              0.5555555555555556,
              "#d8576b"
             ],
             [
              0.6666666666666666,
              "#ed7953"
             ],
             [
              0.7777777777777778,
              "#fb9f3a"
             ],
             [
              0.8888888888888888,
              "#fdca26"
             ],
             [
              1,
              "#f0f921"
             ]
            ],
            "type": "histogram2dcontour"
           }
          ],
          "mesh3d": [
           {
            "colorbar": {
             "outlinewidth": 0,
             "ticks": ""
            },
            "type": "mesh3d"
           }
          ],
          "parcoords": [
           {
            "line": {
             "colorbar": {
              "outlinewidth": 0,
              "ticks": ""
             }
            },
            "type": "parcoords"
           }
          ],
          "pie": [
           {
            "automargin": true,
            "type": "pie"
           }
          ],
          "scatter": [
           {
            "fillpattern": {
             "fillmode": "overlay",
             "size": 10,
             "solidity": 0.2
            },
            "type": "scatter"
           }
          ],
          "scatter3d": [
           {
            "line": {
             "colorbar": {
              "outlinewidth": 0,
              "ticks": ""
             }
            },
            "marker": {
             "colorbar": {
              "outlinewidth": 0,
              "ticks": ""
             }
            },
            "type": "scatter3d"
           }
          ],
          "scattercarpet": [
           {
            "marker": {
             "colorbar": {
              "outlinewidth": 0,
              "ticks": ""
             }
            },
            "type": "scattercarpet"
           }
          ],
          "scattergeo": [
           {
            "marker": {
             "colorbar": {
              "outlinewidth": 0,
              "ticks": ""
             }
            },
            "type": "scattergeo"
           }
          ],
          "scattergl": [
           {
            "marker": {
             "colorbar": {
              "outlinewidth": 0,
              "ticks": ""
             }
            },
            "type": "scattergl"
           }
          ],
          "scattermapbox": [
           {
            "marker": {
             "colorbar": {
              "outlinewidth": 0,
              "ticks": ""
             }
            },
            "type": "scattermapbox"
           }
          ],
          "scatterpolar": [
           {
            "marker": {
             "colorbar": {
              "outlinewidth": 0,
              "ticks": ""
             }
            },
            "type": "scatterpolar"
           }
          ],
          "scatterpolargl": [
           {
            "marker": {
             "colorbar": {
              "outlinewidth": 0,
              "ticks": ""
             }
            },
            "type": "scatterpolargl"
           }
          ],
          "scatterternary": [
           {
            "marker": {
             "colorbar": {
              "outlinewidth": 0,
              "ticks": ""
             }
            },
            "type": "scatterternary"
           }
          ],
          "surface": [
           {
            "colorbar": {
             "outlinewidth": 0,
             "ticks": ""
            },
            "colorscale": [
             [
              0,
              "#0d0887"
             ],
             [
              0.1111111111111111,
              "#46039f"
             ],
             [
              0.2222222222222222,
              "#7201a8"
             ],
             [
              0.3333333333333333,
              "#9c179e"
             ],
             [
              0.4444444444444444,
              "#bd3786"
             ],
             [
              0.5555555555555556,
              "#d8576b"
             ],
             [
              0.6666666666666666,
              "#ed7953"
             ],
             [
              0.7777777777777778,
              "#fb9f3a"
             ],
             [
              0.8888888888888888,
              "#fdca26"
             ],
             [
              1,
              "#f0f921"
             ]
            ],
            "type": "surface"
           }
          ],
          "table": [
           {
            "cells": {
             "fill": {
              "color": "#EBF0F8"
             },
             "line": {
              "color": "white"
             }
            },
            "header": {
             "fill": {
              "color": "#C8D4E3"
             },
             "line": {
              "color": "white"
             }
            },
            "type": "table"
           }
          ]
         },
         "layout": {
          "annotationdefaults": {
           "arrowcolor": "#2a3f5f",
           "arrowhead": 0,
           "arrowwidth": 1
          },
          "autotypenumbers": "strict",
          "coloraxis": {
           "colorbar": {
            "outlinewidth": 0,
            "ticks": ""
           }
          },
          "colorscale": {
           "diverging": [
            [
             0,
             "#8e0152"
            ],
            [
             0.1,
             "#c51b7d"
            ],
            [
             0.2,
             "#de77ae"
            ],
            [
             0.3,
             "#f1b6da"
            ],
            [
             0.4,
             "#fde0ef"
            ],
            [
             0.5,
             "#f7f7f7"
            ],
            [
             0.6,
             "#e6f5d0"
            ],
            [
             0.7,
             "#b8e186"
            ],
            [
             0.8,
             "#7fbc41"
            ],
            [
             0.9,
             "#4d9221"
            ],
            [
             1,
             "#276419"
            ]
           ],
           "sequential": [
            [
             0,
             "#0d0887"
            ],
            [
             0.1111111111111111,
             "#46039f"
            ],
            [
             0.2222222222222222,
             "#7201a8"
            ],
            [
             0.3333333333333333,
             "#9c179e"
            ],
            [
             0.4444444444444444,
             "#bd3786"
            ],
            [
             0.5555555555555556,
             "#d8576b"
            ],
            [
             0.6666666666666666,
             "#ed7953"
            ],
            [
             0.7777777777777778,
             "#fb9f3a"
            ],
            [
             0.8888888888888888,
             "#fdca26"
            ],
            [
             1,
             "#f0f921"
            ]
           ],
           "sequentialminus": [
            [
             0,
             "#0d0887"
            ],
            [
             0.1111111111111111,
             "#46039f"
            ],
            [
             0.2222222222222222,
             "#7201a8"
            ],
            [
             0.3333333333333333,
             "#9c179e"
            ],
            [
             0.4444444444444444,
             "#bd3786"
            ],
            [
             0.5555555555555556,
             "#d8576b"
            ],
            [
             0.6666666666666666,
             "#ed7953"
            ],
            [
             0.7777777777777778,
             "#fb9f3a"
            ],
            [
             0.8888888888888888,
             "#fdca26"
            ],
            [
             1,
             "#f0f921"
            ]
           ]
          },
          "colorway": [
           "#636efa",
           "#EF553B",
           "#00cc96",
           "#ab63fa",
           "#FFA15A",
           "#19d3f3",
           "#FF6692",
           "#B6E880",
           "#FF97FF",
           "#FECB52"
          ],
          "font": {
           "color": "#2a3f5f"
          },
          "geo": {
           "bgcolor": "white",
           "lakecolor": "white",
           "landcolor": "#E5ECF6",
           "showlakes": true,
           "showland": true,
           "subunitcolor": "white"
          },
          "hoverlabel": {
           "align": "left"
          },
          "hovermode": "closest",
          "mapbox": {
           "style": "light"
          },
          "paper_bgcolor": "white",
          "plot_bgcolor": "#E5ECF6",
          "polar": {
           "angularaxis": {
            "gridcolor": "white",
            "linecolor": "white",
            "ticks": ""
           },
           "bgcolor": "#E5ECF6",
           "radialaxis": {
            "gridcolor": "white",
            "linecolor": "white",
            "ticks": ""
           }
          },
          "scene": {
           "xaxis": {
            "backgroundcolor": "#E5ECF6",
            "gridcolor": "white",
            "gridwidth": 2,
            "linecolor": "white",
            "showbackground": true,
            "ticks": "",
            "zerolinecolor": "white"
           },
           "yaxis": {
            "backgroundcolor": "#E5ECF6",
            "gridcolor": "white",
            "gridwidth": 2,
            "linecolor": "white",
            "showbackground": true,
            "ticks": "",
            "zerolinecolor": "white"
           },
           "zaxis": {
            "backgroundcolor": "#E5ECF6",
            "gridcolor": "white",
            "gridwidth": 2,
            "linecolor": "white",
            "showbackground": true,
            "ticks": "",
            "zerolinecolor": "white"
           }
          },
          "shapedefaults": {
           "line": {
            "color": "#2a3f5f"
           }
          },
          "ternary": {
           "aaxis": {
            "gridcolor": "white",
            "linecolor": "white",
            "ticks": ""
           },
           "baxis": {
            "gridcolor": "white",
            "linecolor": "white",
            "ticks": ""
           },
           "bgcolor": "#E5ECF6",
           "caxis": {
            "gridcolor": "white",
            "linecolor": "white",
            "ticks": ""
           }
          },
          "title": {
           "x": 0.05
          },
          "xaxis": {
           "automargin": true,
           "gridcolor": "white",
           "linecolor": "white",
           "ticks": "",
           "title": {
            "standoff": 15
           },
           "zerolinecolor": "white",
           "zerolinewidth": 2
          },
          "yaxis": {
           "automargin": true,
           "gridcolor": "white",
           "linecolor": "white",
           "ticks": "",
           "title": {
            "standoff": 15
           },
           "zerolinecolor": "white",
           "zerolinewidth": 2
          }
         }
        },
        "title": {
         "font": {
          "color": "#4D5663"
         }
        },
        "xaxis": {
         "gridcolor": "#E1E5ED",
         "showgrid": true,
         "tickfont": {
          "color": "#4D5663"
         },
         "title": {
          "font": {
           "color": "#4D5663"
          },
          "text": ""
         },
         "zerolinecolor": "#E1E5ED"
        },
        "yaxis": {
         "gridcolor": "#E1E5ED",
         "showgrid": true,
         "tickfont": {
          "color": "#4D5663"
         },
         "title": {
          "font": {
           "color": "#4D5663"
          },
          "text": ""
         },
         "zerolinecolor": "#E1E5ED"
        }
       }
      },
      "text/html": [
       "<div>                            <div id=\"be831d70-c2b8-4109-81a7-54b87607d59c\" class=\"plotly-graph-div\" style=\"height:525px; width:100%;\"></div>            <script type=\"text/javascript\">                require([\"plotly\"], function(Plotly) {                    window.PLOTLYENV=window.PLOTLYENV || {};\n",
       "                    window.PLOTLYENV.BASE_URL='https://plot.ly';                                    if (document.getElementById(\"be831d70-c2b8-4109-81a7-54b87607d59c\")) {                    Plotly.newPlot(                        \"be831d70-c2b8-4109-81a7-54b87607d59c\",                        [{\"line\":{\"color\":\"rgba(255, 153, 51, 1.0)\",\"dash\":\"solid\",\"shape\":\"linear\",\"width\":1.3},\"marker\":{\"size\":5,\"symbol\":\"circle\"},\"mode\":\"markers\",\"name\":\"B\",\"text\":\"\",\"x\":[-0.1655705937827465,0.6339335459532506,0.02552739960708487,0.01969683939300677,1.1722880458422509,0.9747235756758493,-0.6050070348936066,0.5085564324615662,-1.545435955849086,0.016081732460917663,0.22518728497505483,-1.3333108089982026,0.988778752425804,2.198159687266945,1.268817519997271,-0.008764501052270413,-0.44398572728548547,0.5551164490476496,0.8586223532174,-0.2094038044256258,-0.43206622309689674,0.6418351317018594,-1.5385625940572467,-0.17674250764098665,0.6744836258489834,-1.9243574705353481,-0.5163953508976782,0.9930864582338338,0.32124256694507275,-0.6698476139460213,0.381068709679253,-1.1944409695761267,0.6849270399380836,-0.3754746280710603,0.29975630620422455,0.05640202727675874,-0.94912681176481,-0.4799579983040787,-2.051159458016786,-0.3451565542145435,0.5491402974707585,0.36719851737511805,0.06903976021383912,0.9190117725334557,-1.024537808095599,-0.279366487748021,-1.708888485836476,-0.14402401705652035,-0.7956987990694804,-0.8078595466173956,0.6790479801631213,0.7620283540488753,0.04971040573434907,-1.0480450252213853,-1.1640007543201105,-0.8987684206556861,1.0921667216030286,-0.51688241157997,0.23331358423528553,0.72022348620067,-0.153330783695401,-1.7485084923560625,-0.5578921555527383,0.2592053361084132,0.6505485032752829,-0.09822617559722291,-0.11396477603957711,-0.04711327080097372,0.41794875708761625,-0.9794280917693772,-1.4930800481301383,0.20024816164433462,-0.0598198356874181,0.40228892142346856,0.7198143569507868,-0.7989673881758005,1.136051224771882,0.5213471362522815,0.382894174276429,-0.3781806207522293,0.1047978285603859,-0.5590826824234247,-1.4103183701528856,1.1809587208566368,-0.7340851584382985,2.302660557026478,-1.8176943917922668,-0.7827026497367355,-1.6804854405801986,-1.7161193914182236,0.13699488338331858,-1.0562415021653813,0.3440151400307065,-2.4135843823581773,-1.7169647154712107,0.11730382449763617,-0.12497531838910092,-0.9130583926720433,0.14177914589027968,-0.7325023740963575],\"y\":[-0.2924447826011183,0.7407806451006329,-0.4238185025341148,-0.806529453653887,-0.8131387530579735,0.00734319142364019,1.1409690687084817,-1.0399200861700937,-0.9757840095052484,0.6371836649454985,0.4822400989864475,-0.10658927474989756,1.030457973217204,0.298495758255452,-0.7007423238711151,0.3099974602415881,-0.999126943370043,-0.0534876423175067,-0.13547608459305985,1.5972425667119357,-2.5062520958522185,0.23267837072353362,0.025786950862549618,0.7223057893102796,-0.6716161547784072,-0.7347753399574438,-0.10092901382515361,1.9539851832256292,-0.6513024950203117,1.4165755824561908,-0.999587606254183,-0.7707015786264458,0.1651321634271878,0.27957354172687954,-0.07142121924509102,-0.592976528976272,-0.6196597646542373,0.24417621252015778,0.07404638331213868,1.3227806225059329,1.7101366397285278,-1.5305925978054404,-0.744847538740032,2.1580413988178124,-0.26752586946806556,-1.7789276564220624,1.3471114020730155,-0.5430113078286412,-0.8601260350318142,0.7316624912629281,2.5130402870286854,-1.4384259319922756,0.6398977902189656,0.3129349832028792,-0.07569412487699408,-1.6491607182971357,-0.7762918151343828,-0.13478606841780538,-0.013620877199414565,-0.2064697103702566,-1.280393149670629,0.20677309874895722,0.5884118424194865,0.4229230519321674,-0.9459402404714627,-0.37290272901489174,-1.322503831154513,0.38427151353223454,0.3440100483105457,1.2806969455257453,0.4153452313345435,0.5806468212039666,1.6475556469388035,1.104705852204584,0.5020651550204874,-1.7915206314516867,0.25651199464656715,-0.5105539232384897,0.6480584816840614,-1.0146531468192597,1.1156432997731665,-2.2734448280261437,2.000158801474051,0.6705878143141647,1.0574589784742312,1.1555814635540624,-0.08170108881032653,-1.0400644433309123,-0.9605721297657042,-0.49164022625070686,-0.45380715694038964,-0.16729635012015623,-0.7955770607437094,-2.814936036656384,-0.5282245113612478,-1.2738671529418648,0.8773494814469376,0.668093767934002,-0.8402771874279442,-0.9939287782369531],\"type\":\"scatter\"}],                        {\"legend\":{\"bgcolor\":\"#F5F6F9\",\"font\":{\"color\":\"#4D5663\"}},\"paper_bgcolor\":\"#F5F6F9\",\"plot_bgcolor\":\"#F5F6F9\",\"template\":{\"data\":{\"barpolar\":[{\"marker\":{\"line\":{\"color\":\"#E5ECF6\",\"width\":0.5},\"pattern\":{\"fillmode\":\"overlay\",\"size\":10,\"solidity\":0.2}},\"type\":\"barpolar\"}],\"bar\":[{\"error_x\":{\"color\":\"#2a3f5f\"},\"error_y\":{\"color\":\"#2a3f5f\"},\"marker\":{\"line\":{\"color\":\"#E5ECF6\",\"width\":0.5},\"pattern\":{\"fillmode\":\"overlay\",\"size\":10,\"solidity\":0.2}},\"type\":\"bar\"}],\"carpet\":[{\"aaxis\":{\"endlinecolor\":\"#2a3f5f\",\"gridcolor\":\"white\",\"linecolor\":\"white\",\"minorgridcolor\":\"white\",\"startlinecolor\":\"#2a3f5f\"},\"baxis\":{\"endlinecolor\":\"#2a3f5f\",\"gridcolor\":\"white\",\"linecolor\":\"white\",\"minorgridcolor\":\"white\",\"startlinecolor\":\"#2a3f5f\"},\"type\":\"carpet\"}],\"choropleth\":[{\"colorbar\":{\"outlinewidth\":0,\"ticks\":\"\"},\"type\":\"choropleth\"}],\"contourcarpet\":[{\"colorbar\":{\"outlinewidth\":0,\"ticks\":\"\"},\"type\":\"contourcarpet\"}],\"contour\":[{\"colorbar\":{\"outlinewidth\":0,\"ticks\":\"\"},\"colorscale\":[[0.0,\"#0d0887\"],[0.1111111111111111,\"#46039f\"],[0.2222222222222222,\"#7201a8\"],[0.3333333333333333,\"#9c179e\"],[0.4444444444444444,\"#bd3786\"],[0.5555555555555556,\"#d8576b\"],[0.6666666666666666,\"#ed7953\"],[0.7777777777777778,\"#fb9f3a\"],[0.8888888888888888,\"#fdca26\"],[1.0,\"#f0f921\"]],\"type\":\"contour\"}],\"heatmapgl\":[{\"colorbar\":{\"outlinewidth\":0,\"ticks\":\"\"},\"colorscale\":[[0.0,\"#0d0887\"],[0.1111111111111111,\"#46039f\"],[0.2222222222222222,\"#7201a8\"],[0.3333333333333333,\"#9c179e\"],[0.4444444444444444,\"#bd3786\"],[0.5555555555555556,\"#d8576b\"],[0.6666666666666666,\"#ed7953\"],[0.7777777777777778,\"#fb9f3a\"],[0.8888888888888888,\"#fdca26\"],[1.0,\"#f0f921\"]],\"type\":\"heatmapgl\"}],\"heatmap\":[{\"colorbar\":{\"outlinewidth\":0,\"ticks\":\"\"},\"colorscale\":[[0.0,\"#0d0887\"],[0.1111111111111111,\"#46039f\"],[0.2222222222222222,\"#7201a8\"],[0.3333333333333333,\"#9c179e\"],[0.4444444444444444,\"#bd3786\"],[0.5555555555555556,\"#d8576b\"],[0.6666666666666666,\"#ed7953\"],[0.7777777777777778,\"#fb9f3a\"],[0.8888888888888888,\"#fdca26\"],[1.0,\"#f0f921\"]],\"type\":\"heatmap\"}],\"histogram2dcontour\":[{\"colorbar\":{\"outlinewidth\":0,\"ticks\":\"\"},\"colorscale\":[[0.0,\"#0d0887\"],[0.1111111111111111,\"#46039f\"],[0.2222222222222222,\"#7201a8\"],[0.3333333333333333,\"#9c179e\"],[0.4444444444444444,\"#bd3786\"],[0.5555555555555556,\"#d8576b\"],[0.6666666666666666,\"#ed7953\"],[0.7777777777777778,\"#fb9f3a\"],[0.8888888888888888,\"#fdca26\"],[1.0,\"#f0f921\"]],\"type\":\"histogram2dcontour\"}],\"histogram2d\":[{\"colorbar\":{\"outlinewidth\":0,\"ticks\":\"\"},\"colorscale\":[[0.0,\"#0d0887\"],[0.1111111111111111,\"#46039f\"],[0.2222222222222222,\"#7201a8\"],[0.3333333333333333,\"#9c179e\"],[0.4444444444444444,\"#bd3786\"],[0.5555555555555556,\"#d8576b\"],[0.6666666666666666,\"#ed7953\"],[0.7777777777777778,\"#fb9f3a\"],[0.8888888888888888,\"#fdca26\"],[1.0,\"#f0f921\"]],\"type\":\"histogram2d\"}],\"histogram\":[{\"marker\":{\"pattern\":{\"fillmode\":\"overlay\",\"size\":10,\"solidity\":0.2}},\"type\":\"histogram\"}],\"mesh3d\":[{\"colorbar\":{\"outlinewidth\":0,\"ticks\":\"\"},\"type\":\"mesh3d\"}],\"parcoords\":[{\"line\":{\"colorbar\":{\"outlinewidth\":0,\"ticks\":\"\"}},\"type\":\"parcoords\"}],\"pie\":[{\"automargin\":true,\"type\":\"pie\"}],\"scatter3d\":[{\"line\":{\"colorbar\":{\"outlinewidth\":0,\"ticks\":\"\"}},\"marker\":{\"colorbar\":{\"outlinewidth\":0,\"ticks\":\"\"}},\"type\":\"scatter3d\"}],\"scattercarpet\":[{\"marker\":{\"colorbar\":{\"outlinewidth\":0,\"ticks\":\"\"}},\"type\":\"scattercarpet\"}],\"scattergeo\":[{\"marker\":{\"colorbar\":{\"outlinewidth\":0,\"ticks\":\"\"}},\"type\":\"scattergeo\"}],\"scattergl\":[{\"marker\":{\"colorbar\":{\"outlinewidth\":0,\"ticks\":\"\"}},\"type\":\"scattergl\"}],\"scattermapbox\":[{\"marker\":{\"colorbar\":{\"outlinewidth\":0,\"ticks\":\"\"}},\"type\":\"scattermapbox\"}],\"scatterpolargl\":[{\"marker\":{\"colorbar\":{\"outlinewidth\":0,\"ticks\":\"\"}},\"type\":\"scatterpolargl\"}],\"scatterpolar\":[{\"marker\":{\"colorbar\":{\"outlinewidth\":0,\"ticks\":\"\"}},\"type\":\"scatterpolar\"}],\"scatter\":[{\"fillpattern\":{\"fillmode\":\"overlay\",\"size\":10,\"solidity\":0.2},\"type\":\"scatter\"}],\"scatterternary\":[{\"marker\":{\"colorbar\":{\"outlinewidth\":0,\"ticks\":\"\"}},\"type\":\"scatterternary\"}],\"surface\":[{\"colorbar\":{\"outlinewidth\":0,\"ticks\":\"\"},\"colorscale\":[[0.0,\"#0d0887\"],[0.1111111111111111,\"#46039f\"],[0.2222222222222222,\"#7201a8\"],[0.3333333333333333,\"#9c179e\"],[0.4444444444444444,\"#bd3786\"],[0.5555555555555556,\"#d8576b\"],[0.6666666666666666,\"#ed7953\"],[0.7777777777777778,\"#fb9f3a\"],[0.8888888888888888,\"#fdca26\"],[1.0,\"#f0f921\"]],\"type\":\"surface\"}],\"table\":[{\"cells\":{\"fill\":{\"color\":\"#EBF0F8\"},\"line\":{\"color\":\"white\"}},\"header\":{\"fill\":{\"color\":\"#C8D4E3\"},\"line\":{\"color\":\"white\"}},\"type\":\"table\"}]},\"layout\":{\"annotationdefaults\":{\"arrowcolor\":\"#2a3f5f\",\"arrowhead\":0,\"arrowwidth\":1},\"autotypenumbers\":\"strict\",\"coloraxis\":{\"colorbar\":{\"outlinewidth\":0,\"ticks\":\"\"}},\"colorscale\":{\"diverging\":[[0,\"#8e0152\"],[0.1,\"#c51b7d\"],[0.2,\"#de77ae\"],[0.3,\"#f1b6da\"],[0.4,\"#fde0ef\"],[0.5,\"#f7f7f7\"],[0.6,\"#e6f5d0\"],[0.7,\"#b8e186\"],[0.8,\"#7fbc41\"],[0.9,\"#4d9221\"],[1,\"#276419\"]],\"sequential\":[[0.0,\"#0d0887\"],[0.1111111111111111,\"#46039f\"],[0.2222222222222222,\"#7201a8\"],[0.3333333333333333,\"#9c179e\"],[0.4444444444444444,\"#bd3786\"],[0.5555555555555556,\"#d8576b\"],[0.6666666666666666,\"#ed7953\"],[0.7777777777777778,\"#fb9f3a\"],[0.8888888888888888,\"#fdca26\"],[1.0,\"#f0f921\"]],\"sequentialminus\":[[0.0,\"#0d0887\"],[0.1111111111111111,\"#46039f\"],[0.2222222222222222,\"#7201a8\"],[0.3333333333333333,\"#9c179e\"],[0.4444444444444444,\"#bd3786\"],[0.5555555555555556,\"#d8576b\"],[0.6666666666666666,\"#ed7953\"],[0.7777777777777778,\"#fb9f3a\"],[0.8888888888888888,\"#fdca26\"],[1.0,\"#f0f921\"]]},\"colorway\":[\"#636efa\",\"#EF553B\",\"#00cc96\",\"#ab63fa\",\"#FFA15A\",\"#19d3f3\",\"#FF6692\",\"#B6E880\",\"#FF97FF\",\"#FECB52\"],\"font\":{\"color\":\"#2a3f5f\"},\"geo\":{\"bgcolor\":\"white\",\"lakecolor\":\"white\",\"landcolor\":\"#E5ECF6\",\"showlakes\":true,\"showland\":true,\"subunitcolor\":\"white\"},\"hoverlabel\":{\"align\":\"left\"},\"hovermode\":\"closest\",\"mapbox\":{\"style\":\"light\"},\"paper_bgcolor\":\"white\",\"plot_bgcolor\":\"#E5ECF6\",\"polar\":{\"angularaxis\":{\"gridcolor\":\"white\",\"linecolor\":\"white\",\"ticks\":\"\"},\"bgcolor\":\"#E5ECF6\",\"radialaxis\":{\"gridcolor\":\"white\",\"linecolor\":\"white\",\"ticks\":\"\"}},\"scene\":{\"xaxis\":{\"backgroundcolor\":\"#E5ECF6\",\"gridcolor\":\"white\",\"gridwidth\":2,\"linecolor\":\"white\",\"showbackground\":true,\"ticks\":\"\",\"zerolinecolor\":\"white\"},\"yaxis\":{\"backgroundcolor\":\"#E5ECF6\",\"gridcolor\":\"white\",\"gridwidth\":2,\"linecolor\":\"white\",\"showbackground\":true,\"ticks\":\"\",\"zerolinecolor\":\"white\"},\"zaxis\":{\"backgroundcolor\":\"#E5ECF6\",\"gridcolor\":\"white\",\"gridwidth\":2,\"linecolor\":\"white\",\"showbackground\":true,\"ticks\":\"\",\"zerolinecolor\":\"white\"}},\"shapedefaults\":{\"line\":{\"color\":\"#2a3f5f\"}},\"ternary\":{\"aaxis\":{\"gridcolor\":\"white\",\"linecolor\":\"white\",\"ticks\":\"\"},\"baxis\":{\"gridcolor\":\"white\",\"linecolor\":\"white\",\"ticks\":\"\"},\"bgcolor\":\"#E5ECF6\",\"caxis\":{\"gridcolor\":\"white\",\"linecolor\":\"white\",\"ticks\":\"\"}},\"title\":{\"x\":0.05},\"xaxis\":{\"automargin\":true,\"gridcolor\":\"white\",\"linecolor\":\"white\",\"ticks\":\"\",\"title\":{\"standoff\":15},\"zerolinecolor\":\"white\",\"zerolinewidth\":2},\"yaxis\":{\"automargin\":true,\"gridcolor\":\"white\",\"linecolor\":\"white\",\"ticks\":\"\",\"title\":{\"standoff\":15},\"zerolinecolor\":\"white\",\"zerolinewidth\":2}}},\"title\":{\"font\":{\"color\":\"#4D5663\"}},\"xaxis\":{\"gridcolor\":\"#E1E5ED\",\"showgrid\":true,\"tickfont\":{\"color\":\"#4D5663\"},\"title\":{\"font\":{\"color\":\"#4D5663\"},\"text\":\"\"},\"zerolinecolor\":\"#E1E5ED\"},\"yaxis\":{\"gridcolor\":\"#E1E5ED\",\"showgrid\":true,\"tickfont\":{\"color\":\"#4D5663\"},\"title\":{\"font\":{\"color\":\"#4D5663\"},\"text\":\"\"},\"zerolinecolor\":\"#E1E5ED\"}},                        {\"showLink\": true, \"linkText\": \"Export to plot.ly\", \"plotlyServerURL\": \"https://plot.ly\", \"responsive\": true}                    ).then(function(){\n",
       "                            \n",
       "var gd = document.getElementById('be831d70-c2b8-4109-81a7-54b87607d59c');\n",
       "var x = new MutationObserver(function (mutations, observer) {{\n",
       "        var display = window.getComputedStyle(gd).display;\n",
       "        if (!display || display === 'none') {{\n",
       "            console.log([gd, 'removed!']);\n",
       "            Plotly.purge(gd);\n",
       "            observer.disconnect();\n",
       "        }}\n",
       "}});\n",
       "\n",
       "// Listen for the removal of the full notebook cells\n",
       "var notebookContainer = gd.closest('#notebook-container');\n",
       "if (notebookContainer) {{\n",
       "    x.observe(notebookContainer, {childList: true});\n",
       "}}\n",
       "\n",
       "// Listen for the clearing of the current output cell\n",
       "var outputEl = gd.closest('.output');\n",
       "if (outputEl) {{\n",
       "    x.observe(outputEl, {childList: true});\n",
       "}}\n",
       "\n",
       "                        })                };                });            </script>        </div>"
      ]
     },
     "metadata": {},
     "output_type": "display_data"
    }
   ],
   "source": [
    "df.iplot(kind='scatter',x='A',y='B',mode='markers',size=5)"
   ]
  },
  {
   "cell_type": "markdown",
   "metadata": {},
   "source": [
    "## Bar Plots"
   ]
  },
  {
   "cell_type": "code",
   "execution_count": 11,
   "metadata": {},
   "outputs": [
    {
     "data": {
      "application/vnd.plotly.v1+json": {
       "config": {
        "linkText": "Export to plot.ly",
        "plotlyServerURL": "https://plot.ly",
        "showLink": true
       },
       "data": [
        {
         "marker": {
          "color": "rgba(255, 153, 51, 0.6)",
          "line": {
           "color": "rgba(255, 153, 51, 1.0)",
           "width": 1
          }
         },
         "name": "Values",
         "orientation": "v",
         "text": "",
         "type": "bar",
         "x": [
          "A",
          "B",
          "C"
         ],
         "y": [
          32,
          43,
          50
         ]
        }
       ],
       "layout": {
        "legend": {
         "bgcolor": "#F5F6F9",
         "font": {
          "color": "#4D5663"
         }
        },
        "paper_bgcolor": "#F5F6F9",
        "plot_bgcolor": "#F5F6F9",
        "template": {
         "data": {
          "bar": [
           {
            "error_x": {
             "color": "#2a3f5f"
            },
            "error_y": {
             "color": "#2a3f5f"
            },
            "marker": {
             "line": {
              "color": "#E5ECF6",
              "width": 0.5
             },
             "pattern": {
              "fillmode": "overlay",
              "size": 10,
              "solidity": 0.2
             }
            },
            "type": "bar"
           }
          ],
          "barpolar": [
           {
            "marker": {
             "line": {
              "color": "#E5ECF6",
              "width": 0.5
             },
             "pattern": {
              "fillmode": "overlay",
              "size": 10,
              "solidity": 0.2
             }
            },
            "type": "barpolar"
           }
          ],
          "carpet": [
           {
            "aaxis": {
             "endlinecolor": "#2a3f5f",
             "gridcolor": "white",
             "linecolor": "white",
             "minorgridcolor": "white",
             "startlinecolor": "#2a3f5f"
            },
            "baxis": {
             "endlinecolor": "#2a3f5f",
             "gridcolor": "white",
             "linecolor": "white",
             "minorgridcolor": "white",
             "startlinecolor": "#2a3f5f"
            },
            "type": "carpet"
           }
          ],
          "choropleth": [
           {
            "colorbar": {
             "outlinewidth": 0,
             "ticks": ""
            },
            "type": "choropleth"
           }
          ],
          "contour": [
           {
            "colorbar": {
             "outlinewidth": 0,
             "ticks": ""
            },
            "colorscale": [
             [
              0,
              "#0d0887"
             ],
             [
              0.1111111111111111,
              "#46039f"
             ],
             [
              0.2222222222222222,
              "#7201a8"
             ],
             [
              0.3333333333333333,
              "#9c179e"
             ],
             [
              0.4444444444444444,
              "#bd3786"
             ],
             [
              0.5555555555555556,
              "#d8576b"
             ],
             [
              0.6666666666666666,
              "#ed7953"
             ],
             [
              0.7777777777777778,
              "#fb9f3a"
             ],
             [
              0.8888888888888888,
              "#fdca26"
             ],
             [
              1,
              "#f0f921"
             ]
            ],
            "type": "contour"
           }
          ],
          "contourcarpet": [
           {
            "colorbar": {
             "outlinewidth": 0,
             "ticks": ""
            },
            "type": "contourcarpet"
           }
          ],
          "heatmap": [
           {
            "colorbar": {
             "outlinewidth": 0,
             "ticks": ""
            },
            "colorscale": [
             [
              0,
              "#0d0887"
             ],
             [
              0.1111111111111111,
              "#46039f"
             ],
             [
              0.2222222222222222,
              "#7201a8"
             ],
             [
              0.3333333333333333,
              "#9c179e"
             ],
             [
              0.4444444444444444,
              "#bd3786"
             ],
             [
              0.5555555555555556,
              "#d8576b"
             ],
             [
              0.6666666666666666,
              "#ed7953"
             ],
             [
              0.7777777777777778,
              "#fb9f3a"
             ],
             [
              0.8888888888888888,
              "#fdca26"
             ],
             [
              1,
              "#f0f921"
             ]
            ],
            "type": "heatmap"
           }
          ],
          "heatmapgl": [
           {
            "colorbar": {
             "outlinewidth": 0,
             "ticks": ""
            },
            "colorscale": [
             [
              0,
              "#0d0887"
             ],
             [
              0.1111111111111111,
              "#46039f"
             ],
             [
              0.2222222222222222,
              "#7201a8"
             ],
             [
              0.3333333333333333,
              "#9c179e"
             ],
             [
              0.4444444444444444,
              "#bd3786"
             ],
             [
              0.5555555555555556,
              "#d8576b"
             ],
             [
              0.6666666666666666,
              "#ed7953"
             ],
             [
              0.7777777777777778,
              "#fb9f3a"
             ],
             [
              0.8888888888888888,
              "#fdca26"
             ],
             [
              1,
              "#f0f921"
             ]
            ],
            "type": "heatmapgl"
           }
          ],
          "histogram": [
           {
            "marker": {
             "pattern": {
              "fillmode": "overlay",
              "size": 10,
              "solidity": 0.2
             }
            },
            "type": "histogram"
           }
          ],
          "histogram2d": [
           {
            "colorbar": {
             "outlinewidth": 0,
             "ticks": ""
            },
            "colorscale": [
             [
              0,
              "#0d0887"
             ],
             [
              0.1111111111111111,
              "#46039f"
             ],
             [
              0.2222222222222222,
              "#7201a8"
             ],
             [
              0.3333333333333333,
              "#9c179e"
             ],
             [
              0.4444444444444444,
              "#bd3786"
             ],
             [
              0.5555555555555556,
              "#d8576b"
             ],
             [
              0.6666666666666666,
              "#ed7953"
             ],
             [
              0.7777777777777778,
              "#fb9f3a"
             ],
             [
              0.8888888888888888,
              "#fdca26"
             ],
             [
              1,
              "#f0f921"
             ]
            ],
            "type": "histogram2d"
           }
          ],
          "histogram2dcontour": [
           {
            "colorbar": {
             "outlinewidth": 0,
             "ticks": ""
            },
            "colorscale": [
             [
              0,
              "#0d0887"
             ],
             [
              0.1111111111111111,
              "#46039f"
             ],
             [
              0.2222222222222222,
              "#7201a8"
             ],
             [
              0.3333333333333333,
              "#9c179e"
             ],
             [
              0.4444444444444444,
              "#bd3786"
             ],
             [
              0.5555555555555556,
              "#d8576b"
             ],
             [
              0.6666666666666666,
              "#ed7953"
             ],
             [
              0.7777777777777778,
              "#fb9f3a"
             ],
             [
              0.8888888888888888,
              "#fdca26"
             ],
             [
              1,
              "#f0f921"
             ]
            ],
            "type": "histogram2dcontour"
           }
          ],
          "mesh3d": [
           {
            "colorbar": {
             "outlinewidth": 0,
             "ticks": ""
            },
            "type": "mesh3d"
           }
          ],
          "parcoords": [
           {
            "line": {
             "colorbar": {
              "outlinewidth": 0,
              "ticks": ""
             }
            },
            "type": "parcoords"
           }
          ],
          "pie": [
           {
            "automargin": true,
            "type": "pie"
           }
          ],
          "scatter": [
           {
            "fillpattern": {
             "fillmode": "overlay",
             "size": 10,
             "solidity": 0.2
            },
            "type": "scatter"
           }
          ],
          "scatter3d": [
           {
            "line": {
             "colorbar": {
              "outlinewidth": 0,
              "ticks": ""
             }
            },
            "marker": {
             "colorbar": {
              "outlinewidth": 0,
              "ticks": ""
             }
            },
            "type": "scatter3d"
           }
          ],
          "scattercarpet": [
           {
            "marker": {
             "colorbar": {
              "outlinewidth": 0,
              "ticks": ""
             }
            },
            "type": "scattercarpet"
           }
          ],
          "scattergeo": [
           {
            "marker": {
             "colorbar": {
              "outlinewidth": 0,
              "ticks": ""
             }
            },
            "type": "scattergeo"
           }
          ],
          "scattergl": [
           {
            "marker": {
             "colorbar": {
              "outlinewidth": 0,
              "ticks": ""
             }
            },
            "type": "scattergl"
           }
          ],
          "scattermapbox": [
           {
            "marker": {
             "colorbar": {
              "outlinewidth": 0,
              "ticks": ""
             }
            },
            "type": "scattermapbox"
           }
          ],
          "scatterpolar": [
           {
            "marker": {
             "colorbar": {
              "outlinewidth": 0,
              "ticks": ""
             }
            },
            "type": "scatterpolar"
           }
          ],
          "scatterpolargl": [
           {
            "marker": {
             "colorbar": {
              "outlinewidth": 0,
              "ticks": ""
             }
            },
            "type": "scatterpolargl"
           }
          ],
          "scatterternary": [
           {
            "marker": {
             "colorbar": {
              "outlinewidth": 0,
              "ticks": ""
             }
            },
            "type": "scatterternary"
           }
          ],
          "surface": [
           {
            "colorbar": {
             "outlinewidth": 0,
             "ticks": ""
            },
            "colorscale": [
             [
              0,
              "#0d0887"
             ],
             [
              0.1111111111111111,
              "#46039f"
             ],
             [
              0.2222222222222222,
              "#7201a8"
             ],
             [
              0.3333333333333333,
              "#9c179e"
             ],
             [
              0.4444444444444444,
              "#bd3786"
             ],
             [
              0.5555555555555556,
              "#d8576b"
             ],
             [
              0.6666666666666666,
              "#ed7953"
             ],
             [
              0.7777777777777778,
              "#fb9f3a"
             ],
             [
              0.8888888888888888,
              "#fdca26"
             ],
             [
              1,
              "#f0f921"
             ]
            ],
            "type": "surface"
           }
          ],
          "table": [
           {
            "cells": {
             "fill": {
              "color": "#EBF0F8"
             },
             "line": {
              "color": "white"
             }
            },
            "header": {
             "fill": {
              "color": "#C8D4E3"
             },
             "line": {
              "color": "white"
             }
            },
            "type": "table"
           }
          ]
         },
         "layout": {
          "annotationdefaults": {
           "arrowcolor": "#2a3f5f",
           "arrowhead": 0,
           "arrowwidth": 1
          },
          "autotypenumbers": "strict",
          "coloraxis": {
           "colorbar": {
            "outlinewidth": 0,
            "ticks": ""
           }
          },
          "colorscale": {
           "diverging": [
            [
             0,
             "#8e0152"
            ],
            [
             0.1,
             "#c51b7d"
            ],
            [
             0.2,
             "#de77ae"
            ],
            [
             0.3,
             "#f1b6da"
            ],
            [
             0.4,
             "#fde0ef"
            ],
            [
             0.5,
             "#f7f7f7"
            ],
            [
             0.6,
             "#e6f5d0"
            ],
            [
             0.7,
             "#b8e186"
            ],
            [
             0.8,
             "#7fbc41"
            ],
            [
             0.9,
             "#4d9221"
            ],
            [
             1,
             "#276419"
            ]
           ],
           "sequential": [
            [
             0,
             "#0d0887"
            ],
            [
             0.1111111111111111,
             "#46039f"
            ],
            [
             0.2222222222222222,
             "#7201a8"
            ],
            [
             0.3333333333333333,
             "#9c179e"
            ],
            [
             0.4444444444444444,
             "#bd3786"
            ],
            [
             0.5555555555555556,
             "#d8576b"
            ],
            [
             0.6666666666666666,
             "#ed7953"
            ],
            [
             0.7777777777777778,
             "#fb9f3a"
            ],
            [
             0.8888888888888888,
             "#fdca26"
            ],
            [
             1,
             "#f0f921"
            ]
           ],
           "sequentialminus": [
            [
             0,
             "#0d0887"
            ],
            [
             0.1111111111111111,
             "#46039f"
            ],
            [
             0.2222222222222222,
             "#7201a8"
            ],
            [
             0.3333333333333333,
             "#9c179e"
            ],
            [
             0.4444444444444444,
             "#bd3786"
            ],
            [
             0.5555555555555556,
             "#d8576b"
            ],
            [
             0.6666666666666666,
             "#ed7953"
            ],
            [
             0.7777777777777778,
             "#fb9f3a"
            ],
            [
             0.8888888888888888,
             "#fdca26"
            ],
            [
             1,
             "#f0f921"
            ]
           ]
          },
          "colorway": [
           "#636efa",
           "#EF553B",
           "#00cc96",
           "#ab63fa",
           "#FFA15A",
           "#19d3f3",
           "#FF6692",
           "#B6E880",
           "#FF97FF",
           "#FECB52"
          ],
          "font": {
           "color": "#2a3f5f"
          },
          "geo": {
           "bgcolor": "white",
           "lakecolor": "white",
           "landcolor": "#E5ECF6",
           "showlakes": true,
           "showland": true,
           "subunitcolor": "white"
          },
          "hoverlabel": {
           "align": "left"
          },
          "hovermode": "closest",
          "mapbox": {
           "style": "light"
          },
          "paper_bgcolor": "white",
          "plot_bgcolor": "#E5ECF6",
          "polar": {
           "angularaxis": {
            "gridcolor": "white",
            "linecolor": "white",
            "ticks": ""
           },
           "bgcolor": "#E5ECF6",
           "radialaxis": {
            "gridcolor": "white",
            "linecolor": "white",
            "ticks": ""
           }
          },
          "scene": {
           "xaxis": {
            "backgroundcolor": "#E5ECF6",
            "gridcolor": "white",
            "gridwidth": 2,
            "linecolor": "white",
            "showbackground": true,
            "ticks": "",
            "zerolinecolor": "white"
           },
           "yaxis": {
            "backgroundcolor": "#E5ECF6",
            "gridcolor": "white",
            "gridwidth": 2,
            "linecolor": "white",
            "showbackground": true,
            "ticks": "",
            "zerolinecolor": "white"
           },
           "zaxis": {
            "backgroundcolor": "#E5ECF6",
            "gridcolor": "white",
            "gridwidth": 2,
            "linecolor": "white",
            "showbackground": true,
            "ticks": "",
            "zerolinecolor": "white"
           }
          },
          "shapedefaults": {
           "line": {
            "color": "#2a3f5f"
           }
          },
          "ternary": {
           "aaxis": {
            "gridcolor": "white",
            "linecolor": "white",
            "ticks": ""
           },
           "baxis": {
            "gridcolor": "white",
            "linecolor": "white",
            "ticks": ""
           },
           "bgcolor": "#E5ECF6",
           "caxis": {
            "gridcolor": "white",
            "linecolor": "white",
            "ticks": ""
           }
          },
          "title": {
           "x": 0.05
          },
          "xaxis": {
           "automargin": true,
           "gridcolor": "white",
           "linecolor": "white",
           "ticks": "",
           "title": {
            "standoff": 15
           },
           "zerolinecolor": "white",
           "zerolinewidth": 2
          },
          "yaxis": {
           "automargin": true,
           "gridcolor": "white",
           "linecolor": "white",
           "ticks": "",
           "title": {
            "standoff": 15
           },
           "zerolinecolor": "white",
           "zerolinewidth": 2
          }
         }
        },
        "title": {
         "font": {
          "color": "#4D5663"
         }
        },
        "xaxis": {
         "gridcolor": "#E1E5ED",
         "showgrid": true,
         "tickfont": {
          "color": "#4D5663"
         },
         "title": {
          "font": {
           "color": "#4D5663"
          },
          "text": ""
         },
         "zerolinecolor": "#E1E5ED"
        },
        "yaxis": {
         "gridcolor": "#E1E5ED",
         "showgrid": true,
         "tickfont": {
          "color": "#4D5663"
         },
         "title": {
          "font": {
           "color": "#4D5663"
          },
          "text": ""
         },
         "zerolinecolor": "#E1E5ED"
        }
       }
      },
      "text/html": [
       "<div>                            <div id=\"431f045d-de8e-4276-8e40-410e4da91f87\" class=\"plotly-graph-div\" style=\"height:525px; width:100%;\"></div>            <script type=\"text/javascript\">                require([\"plotly\"], function(Plotly) {                    window.PLOTLYENV=window.PLOTLYENV || {};\n",
       "                    window.PLOTLYENV.BASE_URL='https://plot.ly';                                    if (document.getElementById(\"431f045d-de8e-4276-8e40-410e4da91f87\")) {                    Plotly.newPlot(                        \"431f045d-de8e-4276-8e40-410e4da91f87\",                        [{\"marker\":{\"color\":\"rgba(255, 153, 51, 0.6)\",\"line\":{\"color\":\"rgba(255, 153, 51, 1.0)\",\"width\":1}},\"name\":\"Values\",\"orientation\":\"v\",\"text\":\"\",\"x\":[\"A\",\"B\",\"C\"],\"y\":[32,43,50],\"type\":\"bar\"}],                        {\"legend\":{\"bgcolor\":\"#F5F6F9\",\"font\":{\"color\":\"#4D5663\"}},\"paper_bgcolor\":\"#F5F6F9\",\"plot_bgcolor\":\"#F5F6F9\",\"template\":{\"data\":{\"barpolar\":[{\"marker\":{\"line\":{\"color\":\"#E5ECF6\",\"width\":0.5},\"pattern\":{\"fillmode\":\"overlay\",\"size\":10,\"solidity\":0.2}},\"type\":\"barpolar\"}],\"bar\":[{\"error_x\":{\"color\":\"#2a3f5f\"},\"error_y\":{\"color\":\"#2a3f5f\"},\"marker\":{\"line\":{\"color\":\"#E5ECF6\",\"width\":0.5},\"pattern\":{\"fillmode\":\"overlay\",\"size\":10,\"solidity\":0.2}},\"type\":\"bar\"}],\"carpet\":[{\"aaxis\":{\"endlinecolor\":\"#2a3f5f\",\"gridcolor\":\"white\",\"linecolor\":\"white\",\"minorgridcolor\":\"white\",\"startlinecolor\":\"#2a3f5f\"},\"baxis\":{\"endlinecolor\":\"#2a3f5f\",\"gridcolor\":\"white\",\"linecolor\":\"white\",\"minorgridcolor\":\"white\",\"startlinecolor\":\"#2a3f5f\"},\"type\":\"carpet\"}],\"choropleth\":[{\"colorbar\":{\"outlinewidth\":0,\"ticks\":\"\"},\"type\":\"choropleth\"}],\"contourcarpet\":[{\"colorbar\":{\"outlinewidth\":0,\"ticks\":\"\"},\"type\":\"contourcarpet\"}],\"contour\":[{\"colorbar\":{\"outlinewidth\":0,\"ticks\":\"\"},\"colorscale\":[[0.0,\"#0d0887\"],[0.1111111111111111,\"#46039f\"],[0.2222222222222222,\"#7201a8\"],[0.3333333333333333,\"#9c179e\"],[0.4444444444444444,\"#bd3786\"],[0.5555555555555556,\"#d8576b\"],[0.6666666666666666,\"#ed7953\"],[0.7777777777777778,\"#fb9f3a\"],[0.8888888888888888,\"#fdca26\"],[1.0,\"#f0f921\"]],\"type\":\"contour\"}],\"heatmapgl\":[{\"colorbar\":{\"outlinewidth\":0,\"ticks\":\"\"},\"colorscale\":[[0.0,\"#0d0887\"],[0.1111111111111111,\"#46039f\"],[0.2222222222222222,\"#7201a8\"],[0.3333333333333333,\"#9c179e\"],[0.4444444444444444,\"#bd3786\"],[0.5555555555555556,\"#d8576b\"],[0.6666666666666666,\"#ed7953\"],[0.7777777777777778,\"#fb9f3a\"],[0.8888888888888888,\"#fdca26\"],[1.0,\"#f0f921\"]],\"type\":\"heatmapgl\"}],\"heatmap\":[{\"colorbar\":{\"outlinewidth\":0,\"ticks\":\"\"},\"colorscale\":[[0.0,\"#0d0887\"],[0.1111111111111111,\"#46039f\"],[0.2222222222222222,\"#7201a8\"],[0.3333333333333333,\"#9c179e\"],[0.4444444444444444,\"#bd3786\"],[0.5555555555555556,\"#d8576b\"],[0.6666666666666666,\"#ed7953\"],[0.7777777777777778,\"#fb9f3a\"],[0.8888888888888888,\"#fdca26\"],[1.0,\"#f0f921\"]],\"type\":\"heatmap\"}],\"histogram2dcontour\":[{\"colorbar\":{\"outlinewidth\":0,\"ticks\":\"\"},\"colorscale\":[[0.0,\"#0d0887\"],[0.1111111111111111,\"#46039f\"],[0.2222222222222222,\"#7201a8\"],[0.3333333333333333,\"#9c179e\"],[0.4444444444444444,\"#bd3786\"],[0.5555555555555556,\"#d8576b\"],[0.6666666666666666,\"#ed7953\"],[0.7777777777777778,\"#fb9f3a\"],[0.8888888888888888,\"#fdca26\"],[1.0,\"#f0f921\"]],\"type\":\"histogram2dcontour\"}],\"histogram2d\":[{\"colorbar\":{\"outlinewidth\":0,\"ticks\":\"\"},\"colorscale\":[[0.0,\"#0d0887\"],[0.1111111111111111,\"#46039f\"],[0.2222222222222222,\"#7201a8\"],[0.3333333333333333,\"#9c179e\"],[0.4444444444444444,\"#bd3786\"],[0.5555555555555556,\"#d8576b\"],[0.6666666666666666,\"#ed7953\"],[0.7777777777777778,\"#fb9f3a\"],[0.8888888888888888,\"#fdca26\"],[1.0,\"#f0f921\"]],\"type\":\"histogram2d\"}],\"histogram\":[{\"marker\":{\"pattern\":{\"fillmode\":\"overlay\",\"size\":10,\"solidity\":0.2}},\"type\":\"histogram\"}],\"mesh3d\":[{\"colorbar\":{\"outlinewidth\":0,\"ticks\":\"\"},\"type\":\"mesh3d\"}],\"parcoords\":[{\"line\":{\"colorbar\":{\"outlinewidth\":0,\"ticks\":\"\"}},\"type\":\"parcoords\"}],\"pie\":[{\"automargin\":true,\"type\":\"pie\"}],\"scatter3d\":[{\"line\":{\"colorbar\":{\"outlinewidth\":0,\"ticks\":\"\"}},\"marker\":{\"colorbar\":{\"outlinewidth\":0,\"ticks\":\"\"}},\"type\":\"scatter3d\"}],\"scattercarpet\":[{\"marker\":{\"colorbar\":{\"outlinewidth\":0,\"ticks\":\"\"}},\"type\":\"scattercarpet\"}],\"scattergeo\":[{\"marker\":{\"colorbar\":{\"outlinewidth\":0,\"ticks\":\"\"}},\"type\":\"scattergeo\"}],\"scattergl\":[{\"marker\":{\"colorbar\":{\"outlinewidth\":0,\"ticks\":\"\"}},\"type\":\"scattergl\"}],\"scattermapbox\":[{\"marker\":{\"colorbar\":{\"outlinewidth\":0,\"ticks\":\"\"}},\"type\":\"scattermapbox\"}],\"scatterpolargl\":[{\"marker\":{\"colorbar\":{\"outlinewidth\":0,\"ticks\":\"\"}},\"type\":\"scatterpolargl\"}],\"scatterpolar\":[{\"marker\":{\"colorbar\":{\"outlinewidth\":0,\"ticks\":\"\"}},\"type\":\"scatterpolar\"}],\"scatter\":[{\"fillpattern\":{\"fillmode\":\"overlay\",\"size\":10,\"solidity\":0.2},\"type\":\"scatter\"}],\"scatterternary\":[{\"marker\":{\"colorbar\":{\"outlinewidth\":0,\"ticks\":\"\"}},\"type\":\"scatterternary\"}],\"surface\":[{\"colorbar\":{\"outlinewidth\":0,\"ticks\":\"\"},\"colorscale\":[[0.0,\"#0d0887\"],[0.1111111111111111,\"#46039f\"],[0.2222222222222222,\"#7201a8\"],[0.3333333333333333,\"#9c179e\"],[0.4444444444444444,\"#bd3786\"],[0.5555555555555556,\"#d8576b\"],[0.6666666666666666,\"#ed7953\"],[0.7777777777777778,\"#fb9f3a\"],[0.8888888888888888,\"#fdca26\"],[1.0,\"#f0f921\"]],\"type\":\"surface\"}],\"table\":[{\"cells\":{\"fill\":{\"color\":\"#EBF0F8\"},\"line\":{\"color\":\"white\"}},\"header\":{\"fill\":{\"color\":\"#C8D4E3\"},\"line\":{\"color\":\"white\"}},\"type\":\"table\"}]},\"layout\":{\"annotationdefaults\":{\"arrowcolor\":\"#2a3f5f\",\"arrowhead\":0,\"arrowwidth\":1},\"autotypenumbers\":\"strict\",\"coloraxis\":{\"colorbar\":{\"outlinewidth\":0,\"ticks\":\"\"}},\"colorscale\":{\"diverging\":[[0,\"#8e0152\"],[0.1,\"#c51b7d\"],[0.2,\"#de77ae\"],[0.3,\"#f1b6da\"],[0.4,\"#fde0ef\"],[0.5,\"#f7f7f7\"],[0.6,\"#e6f5d0\"],[0.7,\"#b8e186\"],[0.8,\"#7fbc41\"],[0.9,\"#4d9221\"],[1,\"#276419\"]],\"sequential\":[[0.0,\"#0d0887\"],[0.1111111111111111,\"#46039f\"],[0.2222222222222222,\"#7201a8\"],[0.3333333333333333,\"#9c179e\"],[0.4444444444444444,\"#bd3786\"],[0.5555555555555556,\"#d8576b\"],[0.6666666666666666,\"#ed7953\"],[0.7777777777777778,\"#fb9f3a\"],[0.8888888888888888,\"#fdca26\"],[1.0,\"#f0f921\"]],\"sequentialminus\":[[0.0,\"#0d0887\"],[0.1111111111111111,\"#46039f\"],[0.2222222222222222,\"#7201a8\"],[0.3333333333333333,\"#9c179e\"],[0.4444444444444444,\"#bd3786\"],[0.5555555555555556,\"#d8576b\"],[0.6666666666666666,\"#ed7953\"],[0.7777777777777778,\"#fb9f3a\"],[0.8888888888888888,\"#fdca26\"],[1.0,\"#f0f921\"]]},\"colorway\":[\"#636efa\",\"#EF553B\",\"#00cc96\",\"#ab63fa\",\"#FFA15A\",\"#19d3f3\",\"#FF6692\",\"#B6E880\",\"#FF97FF\",\"#FECB52\"],\"font\":{\"color\":\"#2a3f5f\"},\"geo\":{\"bgcolor\":\"white\",\"lakecolor\":\"white\",\"landcolor\":\"#E5ECF6\",\"showlakes\":true,\"showland\":true,\"subunitcolor\":\"white\"},\"hoverlabel\":{\"align\":\"left\"},\"hovermode\":\"closest\",\"mapbox\":{\"style\":\"light\"},\"paper_bgcolor\":\"white\",\"plot_bgcolor\":\"#E5ECF6\",\"polar\":{\"angularaxis\":{\"gridcolor\":\"white\",\"linecolor\":\"white\",\"ticks\":\"\"},\"bgcolor\":\"#E5ECF6\",\"radialaxis\":{\"gridcolor\":\"white\",\"linecolor\":\"white\",\"ticks\":\"\"}},\"scene\":{\"xaxis\":{\"backgroundcolor\":\"#E5ECF6\",\"gridcolor\":\"white\",\"gridwidth\":2,\"linecolor\":\"white\",\"showbackground\":true,\"ticks\":\"\",\"zerolinecolor\":\"white\"},\"yaxis\":{\"backgroundcolor\":\"#E5ECF6\",\"gridcolor\":\"white\",\"gridwidth\":2,\"linecolor\":\"white\",\"showbackground\":true,\"ticks\":\"\",\"zerolinecolor\":\"white\"},\"zaxis\":{\"backgroundcolor\":\"#E5ECF6\",\"gridcolor\":\"white\",\"gridwidth\":2,\"linecolor\":\"white\",\"showbackground\":true,\"ticks\":\"\",\"zerolinecolor\":\"white\"}},\"shapedefaults\":{\"line\":{\"color\":\"#2a3f5f\"}},\"ternary\":{\"aaxis\":{\"gridcolor\":\"white\",\"linecolor\":\"white\",\"ticks\":\"\"},\"baxis\":{\"gridcolor\":\"white\",\"linecolor\":\"white\",\"ticks\":\"\"},\"bgcolor\":\"#E5ECF6\",\"caxis\":{\"gridcolor\":\"white\",\"linecolor\":\"white\",\"ticks\":\"\"}},\"title\":{\"x\":0.05},\"xaxis\":{\"automargin\":true,\"gridcolor\":\"white\",\"linecolor\":\"white\",\"ticks\":\"\",\"title\":{\"standoff\":15},\"zerolinecolor\":\"white\",\"zerolinewidth\":2},\"yaxis\":{\"automargin\":true,\"gridcolor\":\"white\",\"linecolor\":\"white\",\"ticks\":\"\",\"title\":{\"standoff\":15},\"zerolinecolor\":\"white\",\"zerolinewidth\":2}}},\"title\":{\"font\":{\"color\":\"#4D5663\"}},\"xaxis\":{\"gridcolor\":\"#E1E5ED\",\"showgrid\":true,\"tickfont\":{\"color\":\"#4D5663\"},\"title\":{\"font\":{\"color\":\"#4D5663\"},\"text\":\"\"},\"zerolinecolor\":\"#E1E5ED\"},\"yaxis\":{\"gridcolor\":\"#E1E5ED\",\"showgrid\":true,\"tickfont\":{\"color\":\"#4D5663\"},\"title\":{\"font\":{\"color\":\"#4D5663\"},\"text\":\"\"},\"zerolinecolor\":\"#E1E5ED\"}},                        {\"showLink\": true, \"linkText\": \"Export to plot.ly\", \"plotlyServerURL\": \"https://plot.ly\", \"responsive\": true}                    ).then(function(){\n",
       "                            \n",
       "var gd = document.getElementById('431f045d-de8e-4276-8e40-410e4da91f87');\n",
       "var x = new MutationObserver(function (mutations, observer) {{\n",
       "        var display = window.getComputedStyle(gd).display;\n",
       "        if (!display || display === 'none') {{\n",
       "            console.log([gd, 'removed!']);\n",
       "            Plotly.purge(gd);\n",
       "            observer.disconnect();\n",
       "        }}\n",
       "}});\n",
       "\n",
       "// Listen for the removal of the full notebook cells\n",
       "var notebookContainer = gd.closest('#notebook-container');\n",
       "if (notebookContainer) {{\n",
       "    x.observe(notebookContainer, {childList: true});\n",
       "}}\n",
       "\n",
       "// Listen for the clearing of the current output cell\n",
       "var outputEl = gd.closest('.output');\n",
       "if (outputEl) {{\n",
       "    x.observe(outputEl, {childList: true});\n",
       "}}\n",
       "\n",
       "                        })                };                });            </script>        </div>"
      ]
     },
     "metadata": {},
     "output_type": "display_data"
    }
   ],
   "source": [
    "df2.iplot(kind='bar',x='Category',y='Values')"
   ]
  },
  {
   "cell_type": "code",
   "execution_count": 12,
   "metadata": {},
   "outputs": [
    {
     "data": {
      "application/vnd.plotly.v1+json": {
       "config": {
        "linkText": "Export to plot.ly",
        "plotlyServerURL": "https://plot.ly",
        "showLink": true
       },
       "data": [
        {
         "marker": {
          "color": "rgba(255, 153, 51, 0.6)",
          "line": {
           "color": "rgba(255, 153, 51, 1.0)",
           "width": 1
          }
         },
         "name": "None",
         "orientation": "v",
         "text": "",
         "type": "bar",
         "x": [
          "A",
          "B",
          "C",
          "D"
         ],
         "y": [
          100,
          100,
          100,
          100
         ]
        }
       ],
       "layout": {
        "legend": {
         "bgcolor": "#F5F6F9",
         "font": {
          "color": "#4D5663"
         }
        },
        "paper_bgcolor": "#F5F6F9",
        "plot_bgcolor": "#F5F6F9",
        "template": {
         "data": {
          "bar": [
           {
            "error_x": {
             "color": "#2a3f5f"
            },
            "error_y": {
             "color": "#2a3f5f"
            },
            "marker": {
             "line": {
              "color": "#E5ECF6",
              "width": 0.5
             },
             "pattern": {
              "fillmode": "overlay",
              "size": 10,
              "solidity": 0.2
             }
            },
            "type": "bar"
           }
          ],
          "barpolar": [
           {
            "marker": {
             "line": {
              "color": "#E5ECF6",
              "width": 0.5
             },
             "pattern": {
              "fillmode": "overlay",
              "size": 10,
              "solidity": 0.2
             }
            },
            "type": "barpolar"
           }
          ],
          "carpet": [
           {
            "aaxis": {
             "endlinecolor": "#2a3f5f",
             "gridcolor": "white",
             "linecolor": "white",
             "minorgridcolor": "white",
             "startlinecolor": "#2a3f5f"
            },
            "baxis": {
             "endlinecolor": "#2a3f5f",
             "gridcolor": "white",
             "linecolor": "white",
             "minorgridcolor": "white",
             "startlinecolor": "#2a3f5f"
            },
            "type": "carpet"
           }
          ],
          "choropleth": [
           {
            "colorbar": {
             "outlinewidth": 0,
             "ticks": ""
            },
            "type": "choropleth"
           }
          ],
          "contour": [
           {
            "colorbar": {
             "outlinewidth": 0,
             "ticks": ""
            },
            "colorscale": [
             [
              0,
              "#0d0887"
             ],
             [
              0.1111111111111111,
              "#46039f"
             ],
             [
              0.2222222222222222,
              "#7201a8"
             ],
             [
              0.3333333333333333,
              "#9c179e"
             ],
             [
              0.4444444444444444,
              "#bd3786"
             ],
             [
              0.5555555555555556,
              "#d8576b"
             ],
             [
              0.6666666666666666,
              "#ed7953"
             ],
             [
              0.7777777777777778,
              "#fb9f3a"
             ],
             [
              0.8888888888888888,
              "#fdca26"
             ],
             [
              1,
              "#f0f921"
             ]
            ],
            "type": "contour"
           }
          ],
          "contourcarpet": [
           {
            "colorbar": {
             "outlinewidth": 0,
             "ticks": ""
            },
            "type": "contourcarpet"
           }
          ],
          "heatmap": [
           {
            "colorbar": {
             "outlinewidth": 0,
             "ticks": ""
            },
            "colorscale": [
             [
              0,
              "#0d0887"
             ],
             [
              0.1111111111111111,
              "#46039f"
             ],
             [
              0.2222222222222222,
              "#7201a8"
             ],
             [
              0.3333333333333333,
              "#9c179e"
             ],
             [
              0.4444444444444444,
              "#bd3786"
             ],
             [
              0.5555555555555556,
              "#d8576b"
             ],
             [
              0.6666666666666666,
              "#ed7953"
             ],
             [
              0.7777777777777778,
              "#fb9f3a"
             ],
             [
              0.8888888888888888,
              "#fdca26"
             ],
             [
              1,
              "#f0f921"
             ]
            ],
            "type": "heatmap"
           }
          ],
          "heatmapgl": [
           {
            "colorbar": {
             "outlinewidth": 0,
             "ticks": ""
            },
            "colorscale": [
             [
              0,
              "#0d0887"
             ],
             [
              0.1111111111111111,
              "#46039f"
             ],
             [
              0.2222222222222222,
              "#7201a8"
             ],
             [
              0.3333333333333333,
              "#9c179e"
             ],
             [
              0.4444444444444444,
              "#bd3786"
             ],
             [
              0.5555555555555556,
              "#d8576b"
             ],
             [
              0.6666666666666666,
              "#ed7953"
             ],
             [
              0.7777777777777778,
              "#fb9f3a"
             ],
             [
              0.8888888888888888,
              "#fdca26"
             ],
             [
              1,
              "#f0f921"
             ]
            ],
            "type": "heatmapgl"
           }
          ],
          "histogram": [
           {
            "marker": {
             "pattern": {
              "fillmode": "overlay",
              "size": 10,
              "solidity": 0.2
             }
            },
            "type": "histogram"
           }
          ],
          "histogram2d": [
           {
            "colorbar": {
             "outlinewidth": 0,
             "ticks": ""
            },
            "colorscale": [
             [
              0,
              "#0d0887"
             ],
             [
              0.1111111111111111,
              "#46039f"
             ],
             [
              0.2222222222222222,
              "#7201a8"
             ],
             [
              0.3333333333333333,
              "#9c179e"
             ],
             [
              0.4444444444444444,
              "#bd3786"
             ],
             [
              0.5555555555555556,
              "#d8576b"
             ],
             [
              0.6666666666666666,
              "#ed7953"
             ],
             [
              0.7777777777777778,
              "#fb9f3a"
             ],
             [
              0.8888888888888888,
              "#fdca26"
             ],
             [
              1,
              "#f0f921"
             ]
            ],
            "type": "histogram2d"
           }
          ],
          "histogram2dcontour": [
           {
            "colorbar": {
             "outlinewidth": 0,
             "ticks": ""
            },
            "colorscale": [
             [
              0,
              "#0d0887"
             ],
             [
              0.1111111111111111,
              "#46039f"
             ],
             [
              0.2222222222222222,
              "#7201a8"
             ],
             [
              0.3333333333333333,
              "#9c179e"
             ],
             [
              0.4444444444444444,
              "#bd3786"
             ],
             [
              0.5555555555555556,
              "#d8576b"
             ],
             [
              0.6666666666666666,
              "#ed7953"
             ],
             [
              0.7777777777777778,
              "#fb9f3a"
             ],
             [
              0.8888888888888888,
              "#fdca26"
             ],
             [
              1,
              "#f0f921"
             ]
            ],
            "type": "histogram2dcontour"
           }
          ],
          "mesh3d": [
           {
            "colorbar": {
             "outlinewidth": 0,
             "ticks": ""
            },
            "type": "mesh3d"
           }
          ],
          "parcoords": [
           {
            "line": {
             "colorbar": {
              "outlinewidth": 0,
              "ticks": ""
             }
            },
            "type": "parcoords"
           }
          ],
          "pie": [
           {
            "automargin": true,
            "type": "pie"
           }
          ],
          "scatter": [
           {
            "fillpattern": {
             "fillmode": "overlay",
             "size": 10,
             "solidity": 0.2
            },
            "type": "scatter"
           }
          ],
          "scatter3d": [
           {
            "line": {
             "colorbar": {
              "outlinewidth": 0,
              "ticks": ""
             }
            },
            "marker": {
             "colorbar": {
              "outlinewidth": 0,
              "ticks": ""
             }
            },
            "type": "scatter3d"
           }
          ],
          "scattercarpet": [
           {
            "marker": {
             "colorbar": {
              "outlinewidth": 0,
              "ticks": ""
             }
            },
            "type": "scattercarpet"
           }
          ],
          "scattergeo": [
           {
            "marker": {
             "colorbar": {
              "outlinewidth": 0,
              "ticks": ""
             }
            },
            "type": "scattergeo"
           }
          ],
          "scattergl": [
           {
            "marker": {
             "colorbar": {
              "outlinewidth": 0,
              "ticks": ""
             }
            },
            "type": "scattergl"
           }
          ],
          "scattermapbox": [
           {
            "marker": {
             "colorbar": {
              "outlinewidth": 0,
              "ticks": ""
             }
            },
            "type": "scattermapbox"
           }
          ],
          "scatterpolar": [
           {
            "marker": {
             "colorbar": {
              "outlinewidth": 0,
              "ticks": ""
             }
            },
            "type": "scatterpolar"
           }
          ],
          "scatterpolargl": [
           {
            "marker": {
             "colorbar": {
              "outlinewidth": 0,
              "ticks": ""
             }
            },
            "type": "scatterpolargl"
           }
          ],
          "scatterternary": [
           {
            "marker": {
             "colorbar": {
              "outlinewidth": 0,
              "ticks": ""
             }
            },
            "type": "scatterternary"
           }
          ],
          "surface": [
           {
            "colorbar": {
             "outlinewidth": 0,
             "ticks": ""
            },
            "colorscale": [
             [
              0,
              "#0d0887"
             ],
             [
              0.1111111111111111,
              "#46039f"
             ],
             [
              0.2222222222222222,
              "#7201a8"
             ],
             [
              0.3333333333333333,
              "#9c179e"
             ],
             [
              0.4444444444444444,
              "#bd3786"
             ],
             [
              0.5555555555555556,
              "#d8576b"
             ],
             [
              0.6666666666666666,
              "#ed7953"
             ],
             [
              0.7777777777777778,
              "#fb9f3a"
             ],
             [
              0.8888888888888888,
              "#fdca26"
             ],
             [
              1,
              "#f0f921"
             ]
            ],
            "type": "surface"
           }
          ],
          "table": [
           {
            "cells": {
             "fill": {
              "color": "#EBF0F8"
             },
             "line": {
              "color": "white"
             }
            },
            "header": {
             "fill": {
              "color": "#C8D4E3"
             },
             "line": {
              "color": "white"
             }
            },
            "type": "table"
           }
          ]
         },
         "layout": {
          "annotationdefaults": {
           "arrowcolor": "#2a3f5f",
           "arrowhead": 0,
           "arrowwidth": 1
          },
          "autotypenumbers": "strict",
          "coloraxis": {
           "colorbar": {
            "outlinewidth": 0,
            "ticks": ""
           }
          },
          "colorscale": {
           "diverging": [
            [
             0,
             "#8e0152"
            ],
            [
             0.1,
             "#c51b7d"
            ],
            [
             0.2,
             "#de77ae"
            ],
            [
             0.3,
             "#f1b6da"
            ],
            [
             0.4,
             "#fde0ef"
            ],
            [
             0.5,
             "#f7f7f7"
            ],
            [
             0.6,
             "#e6f5d0"
            ],
            [
             0.7,
             "#b8e186"
            ],
            [
             0.8,
             "#7fbc41"
            ],
            [
             0.9,
             "#4d9221"
            ],
            [
             1,
             "#276419"
            ]
           ],
           "sequential": [
            [
             0,
             "#0d0887"
            ],
            [
             0.1111111111111111,
             "#46039f"
            ],
            [
             0.2222222222222222,
             "#7201a8"
            ],
            [
             0.3333333333333333,
             "#9c179e"
            ],
            [
             0.4444444444444444,
             "#bd3786"
            ],
            [
             0.5555555555555556,
             "#d8576b"
            ],
            [
             0.6666666666666666,
             "#ed7953"
            ],
            [
             0.7777777777777778,
             "#fb9f3a"
            ],
            [
             0.8888888888888888,
             "#fdca26"
            ],
            [
             1,
             "#f0f921"
            ]
           ],
           "sequentialminus": [
            [
             0,
             "#0d0887"
            ],
            [
             0.1111111111111111,
             "#46039f"
            ],
            [
             0.2222222222222222,
             "#7201a8"
            ],
            [
             0.3333333333333333,
             "#9c179e"
            ],
            [
             0.4444444444444444,
             "#bd3786"
            ],
            [
             0.5555555555555556,
             "#d8576b"
            ],
            [
             0.6666666666666666,
             "#ed7953"
            ],
            [
             0.7777777777777778,
             "#fb9f3a"
            ],
            [
             0.8888888888888888,
             "#fdca26"
            ],
            [
             1,
             "#f0f921"
            ]
           ]
          },
          "colorway": [
           "#636efa",
           "#EF553B",
           "#00cc96",
           "#ab63fa",
           "#FFA15A",
           "#19d3f3",
           "#FF6692",
           "#B6E880",
           "#FF97FF",
           "#FECB52"
          ],
          "font": {
           "color": "#2a3f5f"
          },
          "geo": {
           "bgcolor": "white",
           "lakecolor": "white",
           "landcolor": "#E5ECF6",
           "showlakes": true,
           "showland": true,
           "subunitcolor": "white"
          },
          "hoverlabel": {
           "align": "left"
          },
          "hovermode": "closest",
          "mapbox": {
           "style": "light"
          },
          "paper_bgcolor": "white",
          "plot_bgcolor": "#E5ECF6",
          "polar": {
           "angularaxis": {
            "gridcolor": "white",
            "linecolor": "white",
            "ticks": ""
           },
           "bgcolor": "#E5ECF6",
           "radialaxis": {
            "gridcolor": "white",
            "linecolor": "white",
            "ticks": ""
           }
          },
          "scene": {
           "xaxis": {
            "backgroundcolor": "#E5ECF6",
            "gridcolor": "white",
            "gridwidth": 2,
            "linecolor": "white",
            "showbackground": true,
            "ticks": "",
            "zerolinecolor": "white"
           },
           "yaxis": {
            "backgroundcolor": "#E5ECF6",
            "gridcolor": "white",
            "gridwidth": 2,
            "linecolor": "white",
            "showbackground": true,
            "ticks": "",
            "zerolinecolor": "white"
           },
           "zaxis": {
            "backgroundcolor": "#E5ECF6",
            "gridcolor": "white",
            "gridwidth": 2,
            "linecolor": "white",
            "showbackground": true,
            "ticks": "",
            "zerolinecolor": "white"
           }
          },
          "shapedefaults": {
           "line": {
            "color": "#2a3f5f"
           }
          },
          "ternary": {
           "aaxis": {
            "gridcolor": "white",
            "linecolor": "white",
            "ticks": ""
           },
           "baxis": {
            "gridcolor": "white",
            "linecolor": "white",
            "ticks": ""
           },
           "bgcolor": "#E5ECF6",
           "caxis": {
            "gridcolor": "white",
            "linecolor": "white",
            "ticks": ""
           }
          },
          "title": {
           "x": 0.05
          },
          "xaxis": {
           "automargin": true,
           "gridcolor": "white",
           "linecolor": "white",
           "ticks": "",
           "title": {
            "standoff": 15
           },
           "zerolinecolor": "white",
           "zerolinewidth": 2
          },
          "yaxis": {
           "automargin": true,
           "gridcolor": "white",
           "linecolor": "white",
           "ticks": "",
           "title": {
            "standoff": 15
           },
           "zerolinecolor": "white",
           "zerolinewidth": 2
          }
         }
        },
        "title": {
         "font": {
          "color": "#4D5663"
         }
        },
        "xaxis": {
         "gridcolor": "#E1E5ED",
         "showgrid": true,
         "tickfont": {
          "color": "#4D5663"
         },
         "title": {
          "font": {
           "color": "#4D5663"
          },
          "text": ""
         },
         "zerolinecolor": "#E1E5ED"
        },
        "yaxis": {
         "gridcolor": "#E1E5ED",
         "showgrid": true,
         "tickfont": {
          "color": "#4D5663"
         },
         "title": {
          "font": {
           "color": "#4D5663"
          },
          "text": ""
         },
         "zerolinecolor": "#E1E5ED"
        }
       }
      },
      "text/html": [
       "<div>                            <div id=\"c2c2ae50-2cc0-4d24-9f46-0c922df377b5\" class=\"plotly-graph-div\" style=\"height:525px; width:100%;\"></div>            <script type=\"text/javascript\">                require([\"plotly\"], function(Plotly) {                    window.PLOTLYENV=window.PLOTLYENV || {};\n",
       "                    window.PLOTLYENV.BASE_URL='https://plot.ly';                                    if (document.getElementById(\"c2c2ae50-2cc0-4d24-9f46-0c922df377b5\")) {                    Plotly.newPlot(                        \"c2c2ae50-2cc0-4d24-9f46-0c922df377b5\",                        [{\"marker\":{\"color\":\"rgba(255, 153, 51, 0.6)\",\"line\":{\"color\":\"rgba(255, 153, 51, 1.0)\",\"width\":1}},\"name\":\"None\",\"orientation\":\"v\",\"text\":\"\",\"x\":[\"A\",\"B\",\"C\",\"D\"],\"y\":[100,100,100,100],\"type\":\"bar\"}],                        {\"legend\":{\"bgcolor\":\"#F5F6F9\",\"font\":{\"color\":\"#4D5663\"}},\"paper_bgcolor\":\"#F5F6F9\",\"plot_bgcolor\":\"#F5F6F9\",\"template\":{\"data\":{\"barpolar\":[{\"marker\":{\"line\":{\"color\":\"#E5ECF6\",\"width\":0.5},\"pattern\":{\"fillmode\":\"overlay\",\"size\":10,\"solidity\":0.2}},\"type\":\"barpolar\"}],\"bar\":[{\"error_x\":{\"color\":\"#2a3f5f\"},\"error_y\":{\"color\":\"#2a3f5f\"},\"marker\":{\"line\":{\"color\":\"#E5ECF6\",\"width\":0.5},\"pattern\":{\"fillmode\":\"overlay\",\"size\":10,\"solidity\":0.2}},\"type\":\"bar\"}],\"carpet\":[{\"aaxis\":{\"endlinecolor\":\"#2a3f5f\",\"gridcolor\":\"white\",\"linecolor\":\"white\",\"minorgridcolor\":\"white\",\"startlinecolor\":\"#2a3f5f\"},\"baxis\":{\"endlinecolor\":\"#2a3f5f\",\"gridcolor\":\"white\",\"linecolor\":\"white\",\"minorgridcolor\":\"white\",\"startlinecolor\":\"#2a3f5f\"},\"type\":\"carpet\"}],\"choropleth\":[{\"colorbar\":{\"outlinewidth\":0,\"ticks\":\"\"},\"type\":\"choropleth\"}],\"contourcarpet\":[{\"colorbar\":{\"outlinewidth\":0,\"ticks\":\"\"},\"type\":\"contourcarpet\"}],\"contour\":[{\"colorbar\":{\"outlinewidth\":0,\"ticks\":\"\"},\"colorscale\":[[0.0,\"#0d0887\"],[0.1111111111111111,\"#46039f\"],[0.2222222222222222,\"#7201a8\"],[0.3333333333333333,\"#9c179e\"],[0.4444444444444444,\"#bd3786\"],[0.5555555555555556,\"#d8576b\"],[0.6666666666666666,\"#ed7953\"],[0.7777777777777778,\"#fb9f3a\"],[0.8888888888888888,\"#fdca26\"],[1.0,\"#f0f921\"]],\"type\":\"contour\"}],\"heatmapgl\":[{\"colorbar\":{\"outlinewidth\":0,\"ticks\":\"\"},\"colorscale\":[[0.0,\"#0d0887\"],[0.1111111111111111,\"#46039f\"],[0.2222222222222222,\"#7201a8\"],[0.3333333333333333,\"#9c179e\"],[0.4444444444444444,\"#bd3786\"],[0.5555555555555556,\"#d8576b\"],[0.6666666666666666,\"#ed7953\"],[0.7777777777777778,\"#fb9f3a\"],[0.8888888888888888,\"#fdca26\"],[1.0,\"#f0f921\"]],\"type\":\"heatmapgl\"}],\"heatmap\":[{\"colorbar\":{\"outlinewidth\":0,\"ticks\":\"\"},\"colorscale\":[[0.0,\"#0d0887\"],[0.1111111111111111,\"#46039f\"],[0.2222222222222222,\"#7201a8\"],[0.3333333333333333,\"#9c179e\"],[0.4444444444444444,\"#bd3786\"],[0.5555555555555556,\"#d8576b\"],[0.6666666666666666,\"#ed7953\"],[0.7777777777777778,\"#fb9f3a\"],[0.8888888888888888,\"#fdca26\"],[1.0,\"#f0f921\"]],\"type\":\"heatmap\"}],\"histogram2dcontour\":[{\"colorbar\":{\"outlinewidth\":0,\"ticks\":\"\"},\"colorscale\":[[0.0,\"#0d0887\"],[0.1111111111111111,\"#46039f\"],[0.2222222222222222,\"#7201a8\"],[0.3333333333333333,\"#9c179e\"],[0.4444444444444444,\"#bd3786\"],[0.5555555555555556,\"#d8576b\"],[0.6666666666666666,\"#ed7953\"],[0.7777777777777778,\"#fb9f3a\"],[0.8888888888888888,\"#fdca26\"],[1.0,\"#f0f921\"]],\"type\":\"histogram2dcontour\"}],\"histogram2d\":[{\"colorbar\":{\"outlinewidth\":0,\"ticks\":\"\"},\"colorscale\":[[0.0,\"#0d0887\"],[0.1111111111111111,\"#46039f\"],[0.2222222222222222,\"#7201a8\"],[0.3333333333333333,\"#9c179e\"],[0.4444444444444444,\"#bd3786\"],[0.5555555555555556,\"#d8576b\"],[0.6666666666666666,\"#ed7953\"],[0.7777777777777778,\"#fb9f3a\"],[0.8888888888888888,\"#fdca26\"],[1.0,\"#f0f921\"]],\"type\":\"histogram2d\"}],\"histogram\":[{\"marker\":{\"pattern\":{\"fillmode\":\"overlay\",\"size\":10,\"solidity\":0.2}},\"type\":\"histogram\"}],\"mesh3d\":[{\"colorbar\":{\"outlinewidth\":0,\"ticks\":\"\"},\"type\":\"mesh3d\"}],\"parcoords\":[{\"line\":{\"colorbar\":{\"outlinewidth\":0,\"ticks\":\"\"}},\"type\":\"parcoords\"}],\"pie\":[{\"automargin\":true,\"type\":\"pie\"}],\"scatter3d\":[{\"line\":{\"colorbar\":{\"outlinewidth\":0,\"ticks\":\"\"}},\"marker\":{\"colorbar\":{\"outlinewidth\":0,\"ticks\":\"\"}},\"type\":\"scatter3d\"}],\"scattercarpet\":[{\"marker\":{\"colorbar\":{\"outlinewidth\":0,\"ticks\":\"\"}},\"type\":\"scattercarpet\"}],\"scattergeo\":[{\"marker\":{\"colorbar\":{\"outlinewidth\":0,\"ticks\":\"\"}},\"type\":\"scattergeo\"}],\"scattergl\":[{\"marker\":{\"colorbar\":{\"outlinewidth\":0,\"ticks\":\"\"}},\"type\":\"scattergl\"}],\"scattermapbox\":[{\"marker\":{\"colorbar\":{\"outlinewidth\":0,\"ticks\":\"\"}},\"type\":\"scattermapbox\"}],\"scatterpolargl\":[{\"marker\":{\"colorbar\":{\"outlinewidth\":0,\"ticks\":\"\"}},\"type\":\"scatterpolargl\"}],\"scatterpolar\":[{\"marker\":{\"colorbar\":{\"outlinewidth\":0,\"ticks\":\"\"}},\"type\":\"scatterpolar\"}],\"scatter\":[{\"fillpattern\":{\"fillmode\":\"overlay\",\"size\":10,\"solidity\":0.2},\"type\":\"scatter\"}],\"scatterternary\":[{\"marker\":{\"colorbar\":{\"outlinewidth\":0,\"ticks\":\"\"}},\"type\":\"scatterternary\"}],\"surface\":[{\"colorbar\":{\"outlinewidth\":0,\"ticks\":\"\"},\"colorscale\":[[0.0,\"#0d0887\"],[0.1111111111111111,\"#46039f\"],[0.2222222222222222,\"#7201a8\"],[0.3333333333333333,\"#9c179e\"],[0.4444444444444444,\"#bd3786\"],[0.5555555555555556,\"#d8576b\"],[0.6666666666666666,\"#ed7953\"],[0.7777777777777778,\"#fb9f3a\"],[0.8888888888888888,\"#fdca26\"],[1.0,\"#f0f921\"]],\"type\":\"surface\"}],\"table\":[{\"cells\":{\"fill\":{\"color\":\"#EBF0F8\"},\"line\":{\"color\":\"white\"}},\"header\":{\"fill\":{\"color\":\"#C8D4E3\"},\"line\":{\"color\":\"white\"}},\"type\":\"table\"}]},\"layout\":{\"annotationdefaults\":{\"arrowcolor\":\"#2a3f5f\",\"arrowhead\":0,\"arrowwidth\":1},\"autotypenumbers\":\"strict\",\"coloraxis\":{\"colorbar\":{\"outlinewidth\":0,\"ticks\":\"\"}},\"colorscale\":{\"diverging\":[[0,\"#8e0152\"],[0.1,\"#c51b7d\"],[0.2,\"#de77ae\"],[0.3,\"#f1b6da\"],[0.4,\"#fde0ef\"],[0.5,\"#f7f7f7\"],[0.6,\"#e6f5d0\"],[0.7,\"#b8e186\"],[0.8,\"#7fbc41\"],[0.9,\"#4d9221\"],[1,\"#276419\"]],\"sequential\":[[0.0,\"#0d0887\"],[0.1111111111111111,\"#46039f\"],[0.2222222222222222,\"#7201a8\"],[0.3333333333333333,\"#9c179e\"],[0.4444444444444444,\"#bd3786\"],[0.5555555555555556,\"#d8576b\"],[0.6666666666666666,\"#ed7953\"],[0.7777777777777778,\"#fb9f3a\"],[0.8888888888888888,\"#fdca26\"],[1.0,\"#f0f921\"]],\"sequentialminus\":[[0.0,\"#0d0887\"],[0.1111111111111111,\"#46039f\"],[0.2222222222222222,\"#7201a8\"],[0.3333333333333333,\"#9c179e\"],[0.4444444444444444,\"#bd3786\"],[0.5555555555555556,\"#d8576b\"],[0.6666666666666666,\"#ed7953\"],[0.7777777777777778,\"#fb9f3a\"],[0.8888888888888888,\"#fdca26\"],[1.0,\"#f0f921\"]]},\"colorway\":[\"#636efa\",\"#EF553B\",\"#00cc96\",\"#ab63fa\",\"#FFA15A\",\"#19d3f3\",\"#FF6692\",\"#B6E880\",\"#FF97FF\",\"#FECB52\"],\"font\":{\"color\":\"#2a3f5f\"},\"geo\":{\"bgcolor\":\"white\",\"lakecolor\":\"white\",\"landcolor\":\"#E5ECF6\",\"showlakes\":true,\"showland\":true,\"subunitcolor\":\"white\"},\"hoverlabel\":{\"align\":\"left\"},\"hovermode\":\"closest\",\"mapbox\":{\"style\":\"light\"},\"paper_bgcolor\":\"white\",\"plot_bgcolor\":\"#E5ECF6\",\"polar\":{\"angularaxis\":{\"gridcolor\":\"white\",\"linecolor\":\"white\",\"ticks\":\"\"},\"bgcolor\":\"#E5ECF6\",\"radialaxis\":{\"gridcolor\":\"white\",\"linecolor\":\"white\",\"ticks\":\"\"}},\"scene\":{\"xaxis\":{\"backgroundcolor\":\"#E5ECF6\",\"gridcolor\":\"white\",\"gridwidth\":2,\"linecolor\":\"white\",\"showbackground\":true,\"ticks\":\"\",\"zerolinecolor\":\"white\"},\"yaxis\":{\"backgroundcolor\":\"#E5ECF6\",\"gridcolor\":\"white\",\"gridwidth\":2,\"linecolor\":\"white\",\"showbackground\":true,\"ticks\":\"\",\"zerolinecolor\":\"white\"},\"zaxis\":{\"backgroundcolor\":\"#E5ECF6\",\"gridcolor\":\"white\",\"gridwidth\":2,\"linecolor\":\"white\",\"showbackground\":true,\"ticks\":\"\",\"zerolinecolor\":\"white\"}},\"shapedefaults\":{\"line\":{\"color\":\"#2a3f5f\"}},\"ternary\":{\"aaxis\":{\"gridcolor\":\"white\",\"linecolor\":\"white\",\"ticks\":\"\"},\"baxis\":{\"gridcolor\":\"white\",\"linecolor\":\"white\",\"ticks\":\"\"},\"bgcolor\":\"#E5ECF6\",\"caxis\":{\"gridcolor\":\"white\",\"linecolor\":\"white\",\"ticks\":\"\"}},\"title\":{\"x\":0.05},\"xaxis\":{\"automargin\":true,\"gridcolor\":\"white\",\"linecolor\":\"white\",\"ticks\":\"\",\"title\":{\"standoff\":15},\"zerolinecolor\":\"white\",\"zerolinewidth\":2},\"yaxis\":{\"automargin\":true,\"gridcolor\":\"white\",\"linecolor\":\"white\",\"ticks\":\"\",\"title\":{\"standoff\":15},\"zerolinecolor\":\"white\",\"zerolinewidth\":2}}},\"title\":{\"font\":{\"color\":\"#4D5663\"}},\"xaxis\":{\"gridcolor\":\"#E1E5ED\",\"showgrid\":true,\"tickfont\":{\"color\":\"#4D5663\"},\"title\":{\"font\":{\"color\":\"#4D5663\"},\"text\":\"\"},\"zerolinecolor\":\"#E1E5ED\"},\"yaxis\":{\"gridcolor\":\"#E1E5ED\",\"showgrid\":true,\"tickfont\":{\"color\":\"#4D5663\"},\"title\":{\"font\":{\"color\":\"#4D5663\"},\"text\":\"\"},\"zerolinecolor\":\"#E1E5ED\"}},                        {\"showLink\": true, \"linkText\": \"Export to plot.ly\", \"plotlyServerURL\": \"https://plot.ly\", \"responsive\": true}                    ).then(function(){\n",
       "                            \n",
       "var gd = document.getElementById('c2c2ae50-2cc0-4d24-9f46-0c922df377b5');\n",
       "var x = new MutationObserver(function (mutations, observer) {{\n",
       "        var display = window.getComputedStyle(gd).display;\n",
       "        if (!display || display === 'none') {{\n",
       "            console.log([gd, 'removed!']);\n",
       "            Plotly.purge(gd);\n",
       "            observer.disconnect();\n",
       "        }}\n",
       "}});\n",
       "\n",
       "// Listen for the removal of the full notebook cells\n",
       "var notebookContainer = gd.closest('#notebook-container');\n",
       "if (notebookContainer) {{\n",
       "    x.observe(notebookContainer, {childList: true});\n",
       "}}\n",
       "\n",
       "// Listen for the clearing of the current output cell\n",
       "var outputEl = gd.closest('.output');\n",
       "if (outputEl) {{\n",
       "    x.observe(outputEl, {childList: true});\n",
       "}}\n",
       "\n",
       "                        })                };                });            </script>        </div>"
      ]
     },
     "metadata": {},
     "output_type": "display_data"
    }
   ],
   "source": [
    "df.count().iplot(kind='bar')"
   ]
  },
  {
   "cell_type": "markdown",
   "metadata": {},
   "source": [
    "## Boxplots"
   ]
  },
  {
   "cell_type": "code",
   "execution_count": 13,
   "metadata": {},
   "outputs": [
    {
     "data": {
      "application/vnd.plotly.v1+json": {
       "config": {
        "linkText": "Export to plot.ly",
        "plotlyServerURL": "https://plot.ly",
        "showLink": true
       },
       "data": [
        {
         "boxpoints": false,
         "line": {
          "width": 1.3
         },
         "marker": {
          "color": "rgba(255, 153, 51, 1.0)"
         },
         "name": "A",
         "orientation": "v",
         "type": "box",
         "y": [
          -0.1655705937827465,
          0.6339335459532506,
          0.02552739960708487,
          0.01969683939300677,
          1.1722880458422509,
          0.9747235756758493,
          -0.6050070348936066,
          0.5085564324615662,
          -1.545435955849086,
          0.016081732460917663,
          0.22518728497505483,
          -1.3333108089982026,
          0.988778752425804,
          2.198159687266945,
          1.268817519997271,
          -0.008764501052270413,
          -0.44398572728548547,
          0.5551164490476496,
          0.8586223532174,
          -0.2094038044256258,
          -0.43206622309689674,
          0.6418351317018594,
          -1.5385625940572467,
          -0.17674250764098665,
          0.6744836258489834,
          -1.9243574705353481,
          -0.5163953508976782,
          0.9930864582338338,
          0.32124256694507275,
          -0.6698476139460213,
          0.381068709679253,
          -1.1944409695761267,
          0.6849270399380836,
          -0.3754746280710603,
          0.29975630620422455,
          0.05640202727675874,
          -0.94912681176481,
          -0.4799579983040787,
          -2.051159458016786,
          -0.3451565542145435,
          0.5491402974707585,
          0.36719851737511805,
          0.06903976021383912,
          0.9190117725334557,
          -1.024537808095599,
          -0.279366487748021,
          -1.708888485836476,
          -0.14402401705652035,
          -0.7956987990694804,
          -0.8078595466173956,
          0.6790479801631213,
          0.7620283540488753,
          0.04971040573434907,
          -1.0480450252213853,
          -1.1640007543201105,
          -0.8987684206556861,
          1.0921667216030286,
          -0.51688241157997,
          0.23331358423528553,
          0.72022348620067,
          -0.153330783695401,
          -1.7485084923560625,
          -0.5578921555527383,
          0.2592053361084132,
          0.6505485032752829,
          -0.09822617559722291,
          -0.11396477603957711,
          -0.04711327080097372,
          0.41794875708761625,
          -0.9794280917693772,
          -1.4930800481301383,
          0.20024816164433462,
          -0.0598198356874181,
          0.40228892142346856,
          0.7198143569507868,
          -0.7989673881758005,
          1.136051224771882,
          0.5213471362522815,
          0.382894174276429,
          -0.3781806207522293,
          0.1047978285603859,
          -0.5590826824234247,
          -1.4103183701528856,
          1.1809587208566368,
          -0.7340851584382985,
          2.302660557026478,
          -1.8176943917922668,
          -0.7827026497367355,
          -1.6804854405801986,
          -1.7161193914182236,
          0.13699488338331858,
          -1.0562415021653813,
          0.3440151400307065,
          -2.4135843823581773,
          -1.7169647154712107,
          0.11730382449763617,
          -0.12497531838910092,
          -0.9130583926720433,
          0.14177914589027968,
          -0.7325023740963575
         ]
        },
        {
         "boxpoints": false,
         "line": {
          "width": 1.3
         },
         "marker": {
          "color": "rgba(55, 128, 191, 1.0)"
         },
         "name": "B",
         "orientation": "v",
         "type": "box",
         "y": [
          -0.2924447826011183,
          0.7407806451006329,
          -0.4238185025341148,
          -0.806529453653887,
          -0.8131387530579735,
          0.00734319142364019,
          1.1409690687084817,
          -1.0399200861700937,
          -0.9757840095052484,
          0.6371836649454985,
          0.4822400989864475,
          -0.10658927474989756,
          1.030457973217204,
          0.298495758255452,
          -0.7007423238711151,
          0.3099974602415881,
          -0.999126943370043,
          -0.0534876423175067,
          -0.13547608459305985,
          1.5972425667119357,
          -2.5062520958522185,
          0.23267837072353362,
          0.025786950862549618,
          0.7223057893102796,
          -0.6716161547784072,
          -0.7347753399574438,
          -0.10092901382515361,
          1.9539851832256292,
          -0.6513024950203117,
          1.4165755824561908,
          -0.999587606254183,
          -0.7707015786264458,
          0.1651321634271878,
          0.27957354172687954,
          -0.07142121924509102,
          -0.592976528976272,
          -0.6196597646542373,
          0.24417621252015778,
          0.07404638331213868,
          1.3227806225059329,
          1.7101366397285278,
          -1.5305925978054404,
          -0.744847538740032,
          2.1580413988178124,
          -0.26752586946806556,
          -1.7789276564220624,
          1.3471114020730155,
          -0.5430113078286412,
          -0.8601260350318142,
          0.7316624912629281,
          2.5130402870286854,
          -1.4384259319922756,
          0.6398977902189656,
          0.3129349832028792,
          -0.07569412487699408,
          -1.6491607182971357,
          -0.7762918151343828,
          -0.13478606841780538,
          -0.013620877199414565,
          -0.2064697103702566,
          -1.280393149670629,
          0.20677309874895722,
          0.5884118424194865,
          0.4229230519321674,
          -0.9459402404714627,
          -0.37290272901489174,
          -1.322503831154513,
          0.38427151353223454,
          0.3440100483105457,
          1.2806969455257453,
          0.4153452313345435,
          0.5806468212039666,
          1.6475556469388035,
          1.104705852204584,
          0.5020651550204874,
          -1.7915206314516867,
          0.25651199464656715,
          -0.5105539232384897,
          0.6480584816840614,
          -1.0146531468192597,
          1.1156432997731665,
          -2.2734448280261437,
          2.000158801474051,
          0.6705878143141647,
          1.0574589784742312,
          1.1555814635540624,
          -0.08170108881032653,
          -1.0400644433309123,
          -0.9605721297657042,
          -0.49164022625070686,
          -0.45380715694038964,
          -0.16729635012015623,
          -0.7955770607437094,
          -2.814936036656384,
          -0.5282245113612478,
          -1.2738671529418648,
          0.8773494814469376,
          0.668093767934002,
          -0.8402771874279442,
          -0.9939287782369531
         ]
        },
        {
         "boxpoints": false,
         "line": {
          "width": 1.3
         },
         "marker": {
          "color": "rgba(50, 171, 96, 1.0)"
         },
         "name": "C",
         "orientation": "v",
         "type": "box",
         "y": [
          0.35076263526198337,
          0.733249650774157,
          -1.7032930220035714,
          0.8202205170894571,
          -0.5507710511015657,
          -1.1240484146993106,
          0.29740568617598245,
          1.1972015362816384,
          -0.22820240226006316,
          0.5355998701914795,
          -1.1295370842041599,
          -0.7491051317232211,
          0.20681092837016593,
          -0.3530340544737697,
          0.4218783417978045,
          0.18087808542826384,
          0.3873549029009786,
          0.10677295388359759,
          -0.6829100527136044,
          -0.6573768834964874,
          0.6499006229297318,
          0.045102328905965765,
          0.3222410032265958,
          -0.8047455945731645,
          0.8186156888335291,
          -2.5206315140725777,
          0.9972223726586227,
          -1.1558752369298482,
          1.6116851692598697,
          -1.266511312491447,
          -1.7273808466675313,
          1.4121644992590647,
          0.3693496958379291,
          -1.2512859754290517,
          0.7088036750026356,
          0.6038574645121113,
          1.3998585403931767,
          0.07222594907407917,
          0.9151272475922841,
          0.07797543856241951,
          0.5942466476602303,
          1.942908793390327,
          -0.749206961204227,
          -0.14404845354792145,
          0.08316410129222325,
          0.6526673416999027,
          -0.8305184338945732,
          0.494168214342465,
          -0.5851646590700206,
          0.38569648810177964,
          0.29454881397359456,
          -1.4336427820706354,
          -1.9572425188301583,
          0.9156965283707941,
          0.9731639881488587,
          0.7959548922375212,
          1.6539560767124746,
          -0.15071707089455394,
          -0.3157097115252297,
          0.6420971166613652,
          -1.5833339341441615,
          -0.5497853707439115,
          -2.155874940570798,
          -0.31627953905033046,
          0.8456771431879876,
          2.7038916449379418,
          0.7565640454851246,
          3.333138715647141,
          -0.691495621223797,
          1.1543707889340264,
          -0.38110714593892153,
          0.07015709719435037,
          0.9730564301853157,
          0.43113191059400285,
          -0.49883277531233877,
          0.21296943694756737,
          1.5130090932884415,
          -0.9155328178978838,
          0.1492931406956385,
          -1.572780364986155,
          -0.8097326528930057,
          -2.0028236151893055,
          2.5147398980462117,
          1.6103027546296318,
          -0.45192727371107133,
          0.299848019757964,
          0.8334830464289262,
          0.8947415038250612,
          -0.11279336388146276,
          -0.346041329228633,
          2.2331580526894084,
          -0.33113739471086795,
          0.49895851577455197,
          -0.2304515686683581,
          -1.4668971259025136,
          1.0726111366421744,
          0.5549556662851106,
          1.0410095475920396,
          -0.23695241941451597,
          -0.5013511150598189
         ]
        },
        {
         "boxpoints": false,
         "line": {
          "width": 1.3
         },
         "marker": {
          "color": "rgba(128, 0, 128, 1.0)"
         },
         "name": "D",
         "orientation": "v",
         "type": "box",
         "y": [
          -1.4047320927353888,
          1.4237200377383676,
          0.8265858627223719,
          -1.1151313254253328,
          -2.686302163682932,
          -2.032681467811205,
          -0.1855816916495254,
          -0.15543861488373062,
          0.7868694998490952,
          0.41041051951329316,
          0.8156060390638558,
          -1.4619644391399798,
          0.32130853170873824,
          -0.8075549614220208,
          0.8441914752334481,
          1.0166593992134825,
          0.046095134277734866,
          1.5110536205445035,
          0.37812992835432196,
          -1.1371971301959563,
          -0.405180520337886,
          -0.22787398528114242,
          -0.06132667206528754,
          -0.2938130692398661,
          1.0177552578194045,
          0.5261811051852987,
          -0.07245347114924584,
          -0.7881535410935027,
          0.5127602237492641,
          0.34495536548287414,
          -0.07211553377164076,
          -1.9796248240992131,
          0.9905056587762447,
          0.6276548929731041,
          2.512839509103458,
          0.393276754863117,
          -1.6738125240432749,
          1.5276633849577352,
          -1.684519672347046,
          -0.3030552198488424,
          -0.7143365770839046,
          1.9815729393615664,
          -0.3250489653887721,
          0.27159611260491806,
          -0.2122044979478187,
          -1.9594916190841276,
          1.9066170044438184,
          -0.5226907355264899,
          0.7974621362363147,
          1.048444687819637,
          -0.85337863465108,
          -1.283656353924518,
          -1.6509182165023395,
          -1.939746014696315,
          0.32968183706646076,
          -0.05427902038794936,
          0.33703648598626335,
          0.5225665373653318,
          0.8773138958871902,
          0.07806610399714041,
          -1.0882284995629077,
          -0.5591230471826347,
          -0.577616413846726,
          1.2757632717511154,
          0.2137195900493786,
          -1.3325488259242642,
          0.8652867649593701,
          -0.3248854914734833,
          -0.26696602253882457,
          1.3916034561849149,
          2.5332226306314958,
          -0.8627985608403493,
          -0.48314936501080663,
          0.022291286582630035,
          0.9581020491255166,
          -1.2063368460462618,
          -2.510095148625423,
          -1.4609281899897406,
          -0.033575684387133424,
          -1.5284792174694775,
          1.3824084982959488,
          -0.053823501189782845,
          -0.5804281072629928,
          -0.671624871204395,
          -1.0667214635958242,
          -0.37317513328559504,
          -1.1471363068064102,
          -0.9113881573642173,
          2.358817473859362,
          0.7258671702826152,
          1.0421233958080982,
          -0.05670006168759067,
          -0.5713642642753461,
          -1.1063788697212507,
          -0.5965455108255635,
          -1.5387314659064195,
          -0.17467480421157586,
          -0.21496606283281525,
          0.3744289266602406,
          1.8123992926268773
         ]
        }
       ],
       "layout": {
        "legend": {
         "bgcolor": "#F5F6F9",
         "font": {
          "color": "#4D5663"
         }
        },
        "paper_bgcolor": "#F5F6F9",
        "plot_bgcolor": "#F5F6F9",
        "template": {
         "data": {
          "bar": [
           {
            "error_x": {
             "color": "#2a3f5f"
            },
            "error_y": {
             "color": "#2a3f5f"
            },
            "marker": {
             "line": {
              "color": "#E5ECF6",
              "width": 0.5
             },
             "pattern": {
              "fillmode": "overlay",
              "size": 10,
              "solidity": 0.2
             }
            },
            "type": "bar"
           }
          ],
          "barpolar": [
           {
            "marker": {
             "line": {
              "color": "#E5ECF6",
              "width": 0.5
             },
             "pattern": {
              "fillmode": "overlay",
              "size": 10,
              "solidity": 0.2
             }
            },
            "type": "barpolar"
           }
          ],
          "carpet": [
           {
            "aaxis": {
             "endlinecolor": "#2a3f5f",
             "gridcolor": "white",
             "linecolor": "white",
             "minorgridcolor": "white",
             "startlinecolor": "#2a3f5f"
            },
            "baxis": {
             "endlinecolor": "#2a3f5f",
             "gridcolor": "white",
             "linecolor": "white",
             "minorgridcolor": "white",
             "startlinecolor": "#2a3f5f"
            },
            "type": "carpet"
           }
          ],
          "choropleth": [
           {
            "colorbar": {
             "outlinewidth": 0,
             "ticks": ""
            },
            "type": "choropleth"
           }
          ],
          "contour": [
           {
            "colorbar": {
             "outlinewidth": 0,
             "ticks": ""
            },
            "colorscale": [
             [
              0,
              "#0d0887"
             ],
             [
              0.1111111111111111,
              "#46039f"
             ],
             [
              0.2222222222222222,
              "#7201a8"
             ],
             [
              0.3333333333333333,
              "#9c179e"
             ],
             [
              0.4444444444444444,
              "#bd3786"
             ],
             [
              0.5555555555555556,
              "#d8576b"
             ],
             [
              0.6666666666666666,
              "#ed7953"
             ],
             [
              0.7777777777777778,
              "#fb9f3a"
             ],
             [
              0.8888888888888888,
              "#fdca26"
             ],
             [
              1,
              "#f0f921"
             ]
            ],
            "type": "contour"
           }
          ],
          "contourcarpet": [
           {
            "colorbar": {
             "outlinewidth": 0,
             "ticks": ""
            },
            "type": "contourcarpet"
           }
          ],
          "heatmap": [
           {
            "colorbar": {
             "outlinewidth": 0,
             "ticks": ""
            },
            "colorscale": [
             [
              0,
              "#0d0887"
             ],
             [
              0.1111111111111111,
              "#46039f"
             ],
             [
              0.2222222222222222,
              "#7201a8"
             ],
             [
              0.3333333333333333,
              "#9c179e"
             ],
             [
              0.4444444444444444,
              "#bd3786"
             ],
             [
              0.5555555555555556,
              "#d8576b"
             ],
             [
              0.6666666666666666,
              "#ed7953"
             ],
             [
              0.7777777777777778,
              "#fb9f3a"
             ],
             [
              0.8888888888888888,
              "#fdca26"
             ],
             [
              1,
              "#f0f921"
             ]
            ],
            "type": "heatmap"
           }
          ],
          "heatmapgl": [
           {
            "colorbar": {
             "outlinewidth": 0,
             "ticks": ""
            },
            "colorscale": [
             [
              0,
              "#0d0887"
             ],
             [
              0.1111111111111111,
              "#46039f"
             ],
             [
              0.2222222222222222,
              "#7201a8"
             ],
             [
              0.3333333333333333,
              "#9c179e"
             ],
             [
              0.4444444444444444,
              "#bd3786"
             ],
             [
              0.5555555555555556,
              "#d8576b"
             ],
             [
              0.6666666666666666,
              "#ed7953"
             ],
             [
              0.7777777777777778,
              "#fb9f3a"
             ],
             [
              0.8888888888888888,
              "#fdca26"
             ],
             [
              1,
              "#f0f921"
             ]
            ],
            "type": "heatmapgl"
           }
          ],
          "histogram": [
           {
            "marker": {
             "pattern": {
              "fillmode": "overlay",
              "size": 10,
              "solidity": 0.2
             }
            },
            "type": "histogram"
           }
          ],
          "histogram2d": [
           {
            "colorbar": {
             "outlinewidth": 0,
             "ticks": ""
            },
            "colorscale": [
             [
              0,
              "#0d0887"
             ],
             [
              0.1111111111111111,
              "#46039f"
             ],
             [
              0.2222222222222222,
              "#7201a8"
             ],
             [
              0.3333333333333333,
              "#9c179e"
             ],
             [
              0.4444444444444444,
              "#bd3786"
             ],
             [
              0.5555555555555556,
              "#d8576b"
             ],
             [
              0.6666666666666666,
              "#ed7953"
             ],
             [
              0.7777777777777778,
              "#fb9f3a"
             ],
             [
              0.8888888888888888,
              "#fdca26"
             ],
             [
              1,
              "#f0f921"
             ]
            ],
            "type": "histogram2d"
           }
          ],
          "histogram2dcontour": [
           {
            "colorbar": {
             "outlinewidth": 0,
             "ticks": ""
            },
            "colorscale": [
             [
              0,
              "#0d0887"
             ],
             [
              0.1111111111111111,
              "#46039f"
             ],
             [
              0.2222222222222222,
              "#7201a8"
             ],
             [
              0.3333333333333333,
              "#9c179e"
             ],
             [
              0.4444444444444444,
              "#bd3786"
             ],
             [
              0.5555555555555556,
              "#d8576b"
             ],
             [
              0.6666666666666666,
              "#ed7953"
             ],
             [
              0.7777777777777778,
              "#fb9f3a"
             ],
             [
              0.8888888888888888,
              "#fdca26"
             ],
             [
              1,
              "#f0f921"
             ]
            ],
            "type": "histogram2dcontour"
           }
          ],
          "mesh3d": [
           {
            "colorbar": {
             "outlinewidth": 0,
             "ticks": ""
            },
            "type": "mesh3d"
           }
          ],
          "parcoords": [
           {
            "line": {
             "colorbar": {
              "outlinewidth": 0,
              "ticks": ""
             }
            },
            "type": "parcoords"
           }
          ],
          "pie": [
           {
            "automargin": true,
            "type": "pie"
           }
          ],
          "scatter": [
           {
            "fillpattern": {
             "fillmode": "overlay",
             "size": 10,
             "solidity": 0.2
            },
            "type": "scatter"
           }
          ],
          "scatter3d": [
           {
            "line": {
             "colorbar": {
              "outlinewidth": 0,
              "ticks": ""
             }
            },
            "marker": {
             "colorbar": {
              "outlinewidth": 0,
              "ticks": ""
             }
            },
            "type": "scatter3d"
           }
          ],
          "scattercarpet": [
           {
            "marker": {
             "colorbar": {
              "outlinewidth": 0,
              "ticks": ""
             }
            },
            "type": "scattercarpet"
           }
          ],
          "scattergeo": [
           {
            "marker": {
             "colorbar": {
              "outlinewidth": 0,
              "ticks": ""
             }
            },
            "type": "scattergeo"
           }
          ],
          "scattergl": [
           {
            "marker": {
             "colorbar": {
              "outlinewidth": 0,
              "ticks": ""
             }
            },
            "type": "scattergl"
           }
          ],
          "scattermapbox": [
           {
            "marker": {
             "colorbar": {
              "outlinewidth": 0,
              "ticks": ""
             }
            },
            "type": "scattermapbox"
           }
          ],
          "scatterpolar": [
           {
            "marker": {
             "colorbar": {
              "outlinewidth": 0,
              "ticks": ""
             }
            },
            "type": "scatterpolar"
           }
          ],
          "scatterpolargl": [
           {
            "marker": {
             "colorbar": {
              "outlinewidth": 0,
              "ticks": ""
             }
            },
            "type": "scatterpolargl"
           }
          ],
          "scatterternary": [
           {
            "marker": {
             "colorbar": {
              "outlinewidth": 0,
              "ticks": ""
             }
            },
            "type": "scatterternary"
           }
          ],
          "surface": [
           {
            "colorbar": {
             "outlinewidth": 0,
             "ticks": ""
            },
            "colorscale": [
             [
              0,
              "#0d0887"
             ],
             [
              0.1111111111111111,
              "#46039f"
             ],
             [
              0.2222222222222222,
              "#7201a8"
             ],
             [
              0.3333333333333333,
              "#9c179e"
             ],
             [
              0.4444444444444444,
              "#bd3786"
             ],
             [
              0.5555555555555556,
              "#d8576b"
             ],
             [
              0.6666666666666666,
              "#ed7953"
             ],
             [
              0.7777777777777778,
              "#fb9f3a"
             ],
             [
              0.8888888888888888,
              "#fdca26"
             ],
             [
              1,
              "#f0f921"
             ]
            ],
            "type": "surface"
           }
          ],
          "table": [
           {
            "cells": {
             "fill": {
              "color": "#EBF0F8"
             },
             "line": {
              "color": "white"
             }
            },
            "header": {
             "fill": {
              "color": "#C8D4E3"
             },
             "line": {
              "color": "white"
             }
            },
            "type": "table"
           }
          ]
         },
         "layout": {
          "annotationdefaults": {
           "arrowcolor": "#2a3f5f",
           "arrowhead": 0,
           "arrowwidth": 1
          },
          "autotypenumbers": "strict",
          "coloraxis": {
           "colorbar": {
            "outlinewidth": 0,
            "ticks": ""
           }
          },
          "colorscale": {
           "diverging": [
            [
             0,
             "#8e0152"
            ],
            [
             0.1,
             "#c51b7d"
            ],
            [
             0.2,
             "#de77ae"
            ],
            [
             0.3,
             "#f1b6da"
            ],
            [
             0.4,
             "#fde0ef"
            ],
            [
             0.5,
             "#f7f7f7"
            ],
            [
             0.6,
             "#e6f5d0"
            ],
            [
             0.7,
             "#b8e186"
            ],
            [
             0.8,
             "#7fbc41"
            ],
            [
             0.9,
             "#4d9221"
            ],
            [
             1,
             "#276419"
            ]
           ],
           "sequential": [
            [
             0,
             "#0d0887"
            ],
            [
             0.1111111111111111,
             "#46039f"
            ],
            [
             0.2222222222222222,
             "#7201a8"
            ],
            [
             0.3333333333333333,
             "#9c179e"
            ],
            [
             0.4444444444444444,
             "#bd3786"
            ],
            [
             0.5555555555555556,
             "#d8576b"
            ],
            [
             0.6666666666666666,
             "#ed7953"
            ],
            [
             0.7777777777777778,
             "#fb9f3a"
            ],
            [
             0.8888888888888888,
             "#fdca26"
            ],
            [
             1,
             "#f0f921"
            ]
           ],
           "sequentialminus": [
            [
             0,
             "#0d0887"
            ],
            [
             0.1111111111111111,
             "#46039f"
            ],
            [
             0.2222222222222222,
             "#7201a8"
            ],
            [
             0.3333333333333333,
             "#9c179e"
            ],
            [
             0.4444444444444444,
             "#bd3786"
            ],
            [
             0.5555555555555556,
             "#d8576b"
            ],
            [
             0.6666666666666666,
             "#ed7953"
            ],
            [
             0.7777777777777778,
             "#fb9f3a"
            ],
            [
             0.8888888888888888,
             "#fdca26"
            ],
            [
             1,
             "#f0f921"
            ]
           ]
          },
          "colorway": [
           "#636efa",
           "#EF553B",
           "#00cc96",
           "#ab63fa",
           "#FFA15A",
           "#19d3f3",
           "#FF6692",
           "#B6E880",
           "#FF97FF",
           "#FECB52"
          ],
          "font": {
           "color": "#2a3f5f"
          },
          "geo": {
           "bgcolor": "white",
           "lakecolor": "white",
           "landcolor": "#E5ECF6",
           "showlakes": true,
           "showland": true,
           "subunitcolor": "white"
          },
          "hoverlabel": {
           "align": "left"
          },
          "hovermode": "closest",
          "mapbox": {
           "style": "light"
          },
          "paper_bgcolor": "white",
          "plot_bgcolor": "#E5ECF6",
          "polar": {
           "angularaxis": {
            "gridcolor": "white",
            "linecolor": "white",
            "ticks": ""
           },
           "bgcolor": "#E5ECF6",
           "radialaxis": {
            "gridcolor": "white",
            "linecolor": "white",
            "ticks": ""
           }
          },
          "scene": {
           "xaxis": {
            "backgroundcolor": "#E5ECF6",
            "gridcolor": "white",
            "gridwidth": 2,
            "linecolor": "white",
            "showbackground": true,
            "ticks": "",
            "zerolinecolor": "white"
           },
           "yaxis": {
            "backgroundcolor": "#E5ECF6",
            "gridcolor": "white",
            "gridwidth": 2,
            "linecolor": "white",
            "showbackground": true,
            "ticks": "",
            "zerolinecolor": "white"
           },
           "zaxis": {
            "backgroundcolor": "#E5ECF6",
            "gridcolor": "white",
            "gridwidth": 2,
            "linecolor": "white",
            "showbackground": true,
            "ticks": "",
            "zerolinecolor": "white"
           }
          },
          "shapedefaults": {
           "line": {
            "color": "#2a3f5f"
           }
          },
          "ternary": {
           "aaxis": {
            "gridcolor": "white",
            "linecolor": "white",
            "ticks": ""
           },
           "baxis": {
            "gridcolor": "white",
            "linecolor": "white",
            "ticks": ""
           },
           "bgcolor": "#E5ECF6",
           "caxis": {
            "gridcolor": "white",
            "linecolor": "white",
            "ticks": ""
           }
          },
          "title": {
           "x": 0.05
          },
          "xaxis": {
           "automargin": true,
           "gridcolor": "white",
           "linecolor": "white",
           "ticks": "",
           "title": {
            "standoff": 15
           },
           "zerolinecolor": "white",
           "zerolinewidth": 2
          },
          "yaxis": {
           "automargin": true,
           "gridcolor": "white",
           "linecolor": "white",
           "ticks": "",
           "title": {
            "standoff": 15
           },
           "zerolinecolor": "white",
           "zerolinewidth": 2
          }
         }
        },
        "title": {
         "font": {
          "color": "#4D5663"
         }
        },
        "xaxis": {
         "gridcolor": "#E1E5ED",
         "showgrid": true,
         "tickfont": {
          "color": "#4D5663"
         },
         "title": {
          "font": {
           "color": "#4D5663"
          },
          "text": ""
         },
         "zerolinecolor": "#E1E5ED"
        },
        "yaxis": {
         "gridcolor": "#E1E5ED",
         "showgrid": true,
         "tickfont": {
          "color": "#4D5663"
         },
         "title": {
          "font": {
           "color": "#4D5663"
          },
          "text": ""
         },
         "zerolinecolor": "#E1E5ED"
        }
       }
      },
      "text/html": [
       "<div>                            <div id=\"7cf91e31-7698-4a8c-bcae-8e4d09f25901\" class=\"plotly-graph-div\" style=\"height:525px; width:100%;\"></div>            <script type=\"text/javascript\">                require([\"plotly\"], function(Plotly) {                    window.PLOTLYENV=window.PLOTLYENV || {};\n",
       "                    window.PLOTLYENV.BASE_URL='https://plot.ly';                                    if (document.getElementById(\"7cf91e31-7698-4a8c-bcae-8e4d09f25901\")) {                    Plotly.newPlot(                        \"7cf91e31-7698-4a8c-bcae-8e4d09f25901\",                        [{\"boxpoints\":false,\"line\":{\"width\":1.3},\"marker\":{\"color\":\"rgba(255, 153, 51, 1.0)\"},\"name\":\"A\",\"orientation\":\"v\",\"y\":[-0.1655705937827465,0.6339335459532506,0.02552739960708487,0.01969683939300677,1.1722880458422509,0.9747235756758493,-0.6050070348936066,0.5085564324615662,-1.545435955849086,0.016081732460917663,0.22518728497505483,-1.3333108089982026,0.988778752425804,2.198159687266945,1.268817519997271,-0.008764501052270413,-0.44398572728548547,0.5551164490476496,0.8586223532174,-0.2094038044256258,-0.43206622309689674,0.6418351317018594,-1.5385625940572467,-0.17674250764098665,0.6744836258489834,-1.9243574705353481,-0.5163953508976782,0.9930864582338338,0.32124256694507275,-0.6698476139460213,0.381068709679253,-1.1944409695761267,0.6849270399380836,-0.3754746280710603,0.29975630620422455,0.05640202727675874,-0.94912681176481,-0.4799579983040787,-2.051159458016786,-0.3451565542145435,0.5491402974707585,0.36719851737511805,0.06903976021383912,0.9190117725334557,-1.024537808095599,-0.279366487748021,-1.708888485836476,-0.14402401705652035,-0.7956987990694804,-0.8078595466173956,0.6790479801631213,0.7620283540488753,0.04971040573434907,-1.0480450252213853,-1.1640007543201105,-0.8987684206556861,1.0921667216030286,-0.51688241157997,0.23331358423528553,0.72022348620067,-0.153330783695401,-1.7485084923560625,-0.5578921555527383,0.2592053361084132,0.6505485032752829,-0.09822617559722291,-0.11396477603957711,-0.04711327080097372,0.41794875708761625,-0.9794280917693772,-1.4930800481301383,0.20024816164433462,-0.0598198356874181,0.40228892142346856,0.7198143569507868,-0.7989673881758005,1.136051224771882,0.5213471362522815,0.382894174276429,-0.3781806207522293,0.1047978285603859,-0.5590826824234247,-1.4103183701528856,1.1809587208566368,-0.7340851584382985,2.302660557026478,-1.8176943917922668,-0.7827026497367355,-1.6804854405801986,-1.7161193914182236,0.13699488338331858,-1.0562415021653813,0.3440151400307065,-2.4135843823581773,-1.7169647154712107,0.11730382449763617,-0.12497531838910092,-0.9130583926720433,0.14177914589027968,-0.7325023740963575],\"type\":\"box\"},{\"boxpoints\":false,\"line\":{\"width\":1.3},\"marker\":{\"color\":\"rgba(55, 128, 191, 1.0)\"},\"name\":\"B\",\"orientation\":\"v\",\"y\":[-0.2924447826011183,0.7407806451006329,-0.4238185025341148,-0.806529453653887,-0.8131387530579735,0.00734319142364019,1.1409690687084817,-1.0399200861700937,-0.9757840095052484,0.6371836649454985,0.4822400989864475,-0.10658927474989756,1.030457973217204,0.298495758255452,-0.7007423238711151,0.3099974602415881,-0.999126943370043,-0.0534876423175067,-0.13547608459305985,1.5972425667119357,-2.5062520958522185,0.23267837072353362,0.025786950862549618,0.7223057893102796,-0.6716161547784072,-0.7347753399574438,-0.10092901382515361,1.9539851832256292,-0.6513024950203117,1.4165755824561908,-0.999587606254183,-0.7707015786264458,0.1651321634271878,0.27957354172687954,-0.07142121924509102,-0.592976528976272,-0.6196597646542373,0.24417621252015778,0.07404638331213868,1.3227806225059329,1.7101366397285278,-1.5305925978054404,-0.744847538740032,2.1580413988178124,-0.26752586946806556,-1.7789276564220624,1.3471114020730155,-0.5430113078286412,-0.8601260350318142,0.7316624912629281,2.5130402870286854,-1.4384259319922756,0.6398977902189656,0.3129349832028792,-0.07569412487699408,-1.6491607182971357,-0.7762918151343828,-0.13478606841780538,-0.013620877199414565,-0.2064697103702566,-1.280393149670629,0.20677309874895722,0.5884118424194865,0.4229230519321674,-0.9459402404714627,-0.37290272901489174,-1.322503831154513,0.38427151353223454,0.3440100483105457,1.2806969455257453,0.4153452313345435,0.5806468212039666,1.6475556469388035,1.104705852204584,0.5020651550204874,-1.7915206314516867,0.25651199464656715,-0.5105539232384897,0.6480584816840614,-1.0146531468192597,1.1156432997731665,-2.2734448280261437,2.000158801474051,0.6705878143141647,1.0574589784742312,1.1555814635540624,-0.08170108881032653,-1.0400644433309123,-0.9605721297657042,-0.49164022625070686,-0.45380715694038964,-0.16729635012015623,-0.7955770607437094,-2.814936036656384,-0.5282245113612478,-1.2738671529418648,0.8773494814469376,0.668093767934002,-0.8402771874279442,-0.9939287782369531],\"type\":\"box\"},{\"boxpoints\":false,\"line\":{\"width\":1.3},\"marker\":{\"color\":\"rgba(50, 171, 96, 1.0)\"},\"name\":\"C\",\"orientation\":\"v\",\"y\":[0.35076263526198337,0.733249650774157,-1.7032930220035714,0.8202205170894571,-0.5507710511015657,-1.1240484146993106,0.29740568617598245,1.1972015362816384,-0.22820240226006316,0.5355998701914795,-1.1295370842041599,-0.7491051317232211,0.20681092837016593,-0.3530340544737697,0.4218783417978045,0.18087808542826384,0.3873549029009786,0.10677295388359759,-0.6829100527136044,-0.6573768834964874,0.6499006229297318,0.045102328905965765,0.3222410032265958,-0.8047455945731645,0.8186156888335291,-2.5206315140725777,0.9972223726586227,-1.1558752369298482,1.6116851692598697,-1.266511312491447,-1.7273808466675313,1.4121644992590647,0.3693496958379291,-1.2512859754290517,0.7088036750026356,0.6038574645121113,1.3998585403931767,0.07222594907407917,0.9151272475922841,0.07797543856241951,0.5942466476602303,1.942908793390327,-0.749206961204227,-0.14404845354792145,0.08316410129222325,0.6526673416999027,-0.8305184338945732,0.494168214342465,-0.5851646590700206,0.38569648810177964,0.29454881397359456,-1.4336427820706354,-1.9572425188301583,0.9156965283707941,0.9731639881488587,0.7959548922375212,1.6539560767124746,-0.15071707089455394,-0.3157097115252297,0.6420971166613652,-1.5833339341441615,-0.5497853707439115,-2.155874940570798,-0.31627953905033046,0.8456771431879876,2.7038916449379418,0.7565640454851246,3.333138715647141,-0.691495621223797,1.1543707889340264,-0.38110714593892153,0.07015709719435037,0.9730564301853157,0.43113191059400285,-0.49883277531233877,0.21296943694756737,1.5130090932884415,-0.9155328178978838,0.1492931406956385,-1.572780364986155,-0.8097326528930057,-2.0028236151893055,2.5147398980462117,1.6103027546296318,-0.45192727371107133,0.299848019757964,0.8334830464289262,0.8947415038250612,-0.11279336388146276,-0.346041329228633,2.2331580526894084,-0.33113739471086795,0.49895851577455197,-0.2304515686683581,-1.4668971259025136,1.0726111366421744,0.5549556662851106,1.0410095475920396,-0.23695241941451597,-0.5013511150598189],\"type\":\"box\"},{\"boxpoints\":false,\"line\":{\"width\":1.3},\"marker\":{\"color\":\"rgba(128, 0, 128, 1.0)\"},\"name\":\"D\",\"orientation\":\"v\",\"y\":[-1.4047320927353888,1.4237200377383676,0.8265858627223719,-1.1151313254253328,-2.686302163682932,-2.032681467811205,-0.1855816916495254,-0.15543861488373062,0.7868694998490952,0.41041051951329316,0.8156060390638558,-1.4619644391399798,0.32130853170873824,-0.8075549614220208,0.8441914752334481,1.0166593992134825,0.046095134277734866,1.5110536205445035,0.37812992835432196,-1.1371971301959563,-0.405180520337886,-0.22787398528114242,-0.06132667206528754,-0.2938130692398661,1.0177552578194045,0.5261811051852987,-0.07245347114924584,-0.7881535410935027,0.5127602237492641,0.34495536548287414,-0.07211553377164076,-1.9796248240992131,0.9905056587762447,0.6276548929731041,2.512839509103458,0.393276754863117,-1.6738125240432749,1.5276633849577352,-1.684519672347046,-0.3030552198488424,-0.7143365770839046,1.9815729393615664,-0.3250489653887721,0.27159611260491806,-0.2122044979478187,-1.9594916190841276,1.9066170044438184,-0.5226907355264899,0.7974621362363147,1.048444687819637,-0.85337863465108,-1.283656353924518,-1.6509182165023395,-1.939746014696315,0.32968183706646076,-0.05427902038794936,0.33703648598626335,0.5225665373653318,0.8773138958871902,0.07806610399714041,-1.0882284995629077,-0.5591230471826347,-0.577616413846726,1.2757632717511154,0.2137195900493786,-1.3325488259242642,0.8652867649593701,-0.3248854914734833,-0.26696602253882457,1.3916034561849149,2.5332226306314958,-0.8627985608403493,-0.48314936501080663,0.022291286582630035,0.9581020491255166,-1.2063368460462618,-2.510095148625423,-1.4609281899897406,-0.033575684387133424,-1.5284792174694775,1.3824084982959488,-0.053823501189782845,-0.5804281072629928,-0.671624871204395,-1.0667214635958242,-0.37317513328559504,-1.1471363068064102,-0.9113881573642173,2.358817473859362,0.7258671702826152,1.0421233958080982,-0.05670006168759067,-0.5713642642753461,-1.1063788697212507,-0.5965455108255635,-1.5387314659064195,-0.17467480421157586,-0.21496606283281525,0.3744289266602406,1.8123992926268773],\"type\":\"box\"}],                        {\"legend\":{\"bgcolor\":\"#F5F6F9\",\"font\":{\"color\":\"#4D5663\"}},\"paper_bgcolor\":\"#F5F6F9\",\"plot_bgcolor\":\"#F5F6F9\",\"template\":{\"data\":{\"barpolar\":[{\"marker\":{\"line\":{\"color\":\"#E5ECF6\",\"width\":0.5},\"pattern\":{\"fillmode\":\"overlay\",\"size\":10,\"solidity\":0.2}},\"type\":\"barpolar\"}],\"bar\":[{\"error_x\":{\"color\":\"#2a3f5f\"},\"error_y\":{\"color\":\"#2a3f5f\"},\"marker\":{\"line\":{\"color\":\"#E5ECF6\",\"width\":0.5},\"pattern\":{\"fillmode\":\"overlay\",\"size\":10,\"solidity\":0.2}},\"type\":\"bar\"}],\"carpet\":[{\"aaxis\":{\"endlinecolor\":\"#2a3f5f\",\"gridcolor\":\"white\",\"linecolor\":\"white\",\"minorgridcolor\":\"white\",\"startlinecolor\":\"#2a3f5f\"},\"baxis\":{\"endlinecolor\":\"#2a3f5f\",\"gridcolor\":\"white\",\"linecolor\":\"white\",\"minorgridcolor\":\"white\",\"startlinecolor\":\"#2a3f5f\"},\"type\":\"carpet\"}],\"choropleth\":[{\"colorbar\":{\"outlinewidth\":0,\"ticks\":\"\"},\"type\":\"choropleth\"}],\"contourcarpet\":[{\"colorbar\":{\"outlinewidth\":0,\"ticks\":\"\"},\"type\":\"contourcarpet\"}],\"contour\":[{\"colorbar\":{\"outlinewidth\":0,\"ticks\":\"\"},\"colorscale\":[[0.0,\"#0d0887\"],[0.1111111111111111,\"#46039f\"],[0.2222222222222222,\"#7201a8\"],[0.3333333333333333,\"#9c179e\"],[0.4444444444444444,\"#bd3786\"],[0.5555555555555556,\"#d8576b\"],[0.6666666666666666,\"#ed7953\"],[0.7777777777777778,\"#fb9f3a\"],[0.8888888888888888,\"#fdca26\"],[1.0,\"#f0f921\"]],\"type\":\"contour\"}],\"heatmapgl\":[{\"colorbar\":{\"outlinewidth\":0,\"ticks\":\"\"},\"colorscale\":[[0.0,\"#0d0887\"],[0.1111111111111111,\"#46039f\"],[0.2222222222222222,\"#7201a8\"],[0.3333333333333333,\"#9c179e\"],[0.4444444444444444,\"#bd3786\"],[0.5555555555555556,\"#d8576b\"],[0.6666666666666666,\"#ed7953\"],[0.7777777777777778,\"#fb9f3a\"],[0.8888888888888888,\"#fdca26\"],[1.0,\"#f0f921\"]],\"type\":\"heatmapgl\"}],\"heatmap\":[{\"colorbar\":{\"outlinewidth\":0,\"ticks\":\"\"},\"colorscale\":[[0.0,\"#0d0887\"],[0.1111111111111111,\"#46039f\"],[0.2222222222222222,\"#7201a8\"],[0.3333333333333333,\"#9c179e\"],[0.4444444444444444,\"#bd3786\"],[0.5555555555555556,\"#d8576b\"],[0.6666666666666666,\"#ed7953\"],[0.7777777777777778,\"#fb9f3a\"],[0.8888888888888888,\"#fdca26\"],[1.0,\"#f0f921\"]],\"type\":\"heatmap\"}],\"histogram2dcontour\":[{\"colorbar\":{\"outlinewidth\":0,\"ticks\":\"\"},\"colorscale\":[[0.0,\"#0d0887\"],[0.1111111111111111,\"#46039f\"],[0.2222222222222222,\"#7201a8\"],[0.3333333333333333,\"#9c179e\"],[0.4444444444444444,\"#bd3786\"],[0.5555555555555556,\"#d8576b\"],[0.6666666666666666,\"#ed7953\"],[0.7777777777777778,\"#fb9f3a\"],[0.8888888888888888,\"#fdca26\"],[1.0,\"#f0f921\"]],\"type\":\"histogram2dcontour\"}],\"histogram2d\":[{\"colorbar\":{\"outlinewidth\":0,\"ticks\":\"\"},\"colorscale\":[[0.0,\"#0d0887\"],[0.1111111111111111,\"#46039f\"],[0.2222222222222222,\"#7201a8\"],[0.3333333333333333,\"#9c179e\"],[0.4444444444444444,\"#bd3786\"],[0.5555555555555556,\"#d8576b\"],[0.6666666666666666,\"#ed7953\"],[0.7777777777777778,\"#fb9f3a\"],[0.8888888888888888,\"#fdca26\"],[1.0,\"#f0f921\"]],\"type\":\"histogram2d\"}],\"histogram\":[{\"marker\":{\"pattern\":{\"fillmode\":\"overlay\",\"size\":10,\"solidity\":0.2}},\"type\":\"histogram\"}],\"mesh3d\":[{\"colorbar\":{\"outlinewidth\":0,\"ticks\":\"\"},\"type\":\"mesh3d\"}],\"parcoords\":[{\"line\":{\"colorbar\":{\"outlinewidth\":0,\"ticks\":\"\"}},\"type\":\"parcoords\"}],\"pie\":[{\"automargin\":true,\"type\":\"pie\"}],\"scatter3d\":[{\"line\":{\"colorbar\":{\"outlinewidth\":0,\"ticks\":\"\"}},\"marker\":{\"colorbar\":{\"outlinewidth\":0,\"ticks\":\"\"}},\"type\":\"scatter3d\"}],\"scattercarpet\":[{\"marker\":{\"colorbar\":{\"outlinewidth\":0,\"ticks\":\"\"}},\"type\":\"scattercarpet\"}],\"scattergeo\":[{\"marker\":{\"colorbar\":{\"outlinewidth\":0,\"ticks\":\"\"}},\"type\":\"scattergeo\"}],\"scattergl\":[{\"marker\":{\"colorbar\":{\"outlinewidth\":0,\"ticks\":\"\"}},\"type\":\"scattergl\"}],\"scattermapbox\":[{\"marker\":{\"colorbar\":{\"outlinewidth\":0,\"ticks\":\"\"}},\"type\":\"scattermapbox\"}],\"scatterpolargl\":[{\"marker\":{\"colorbar\":{\"outlinewidth\":0,\"ticks\":\"\"}},\"type\":\"scatterpolargl\"}],\"scatterpolar\":[{\"marker\":{\"colorbar\":{\"outlinewidth\":0,\"ticks\":\"\"}},\"type\":\"scatterpolar\"}],\"scatter\":[{\"fillpattern\":{\"fillmode\":\"overlay\",\"size\":10,\"solidity\":0.2},\"type\":\"scatter\"}],\"scatterternary\":[{\"marker\":{\"colorbar\":{\"outlinewidth\":0,\"ticks\":\"\"}},\"type\":\"scatterternary\"}],\"surface\":[{\"colorbar\":{\"outlinewidth\":0,\"ticks\":\"\"},\"colorscale\":[[0.0,\"#0d0887\"],[0.1111111111111111,\"#46039f\"],[0.2222222222222222,\"#7201a8\"],[0.3333333333333333,\"#9c179e\"],[0.4444444444444444,\"#bd3786\"],[0.5555555555555556,\"#d8576b\"],[0.6666666666666666,\"#ed7953\"],[0.7777777777777778,\"#fb9f3a\"],[0.8888888888888888,\"#fdca26\"],[1.0,\"#f0f921\"]],\"type\":\"surface\"}],\"table\":[{\"cells\":{\"fill\":{\"color\":\"#EBF0F8\"},\"line\":{\"color\":\"white\"}},\"header\":{\"fill\":{\"color\":\"#C8D4E3\"},\"line\":{\"color\":\"white\"}},\"type\":\"table\"}]},\"layout\":{\"annotationdefaults\":{\"arrowcolor\":\"#2a3f5f\",\"arrowhead\":0,\"arrowwidth\":1},\"autotypenumbers\":\"strict\",\"coloraxis\":{\"colorbar\":{\"outlinewidth\":0,\"ticks\":\"\"}},\"colorscale\":{\"diverging\":[[0,\"#8e0152\"],[0.1,\"#c51b7d\"],[0.2,\"#de77ae\"],[0.3,\"#f1b6da\"],[0.4,\"#fde0ef\"],[0.5,\"#f7f7f7\"],[0.6,\"#e6f5d0\"],[0.7,\"#b8e186\"],[0.8,\"#7fbc41\"],[0.9,\"#4d9221\"],[1,\"#276419\"]],\"sequential\":[[0.0,\"#0d0887\"],[0.1111111111111111,\"#46039f\"],[0.2222222222222222,\"#7201a8\"],[0.3333333333333333,\"#9c179e\"],[0.4444444444444444,\"#bd3786\"],[0.5555555555555556,\"#d8576b\"],[0.6666666666666666,\"#ed7953\"],[0.7777777777777778,\"#fb9f3a\"],[0.8888888888888888,\"#fdca26\"],[1.0,\"#f0f921\"]],\"sequentialminus\":[[0.0,\"#0d0887\"],[0.1111111111111111,\"#46039f\"],[0.2222222222222222,\"#7201a8\"],[0.3333333333333333,\"#9c179e\"],[0.4444444444444444,\"#bd3786\"],[0.5555555555555556,\"#d8576b\"],[0.6666666666666666,\"#ed7953\"],[0.7777777777777778,\"#fb9f3a\"],[0.8888888888888888,\"#fdca26\"],[1.0,\"#f0f921\"]]},\"colorway\":[\"#636efa\",\"#EF553B\",\"#00cc96\",\"#ab63fa\",\"#FFA15A\",\"#19d3f3\",\"#FF6692\",\"#B6E880\",\"#FF97FF\",\"#FECB52\"],\"font\":{\"color\":\"#2a3f5f\"},\"geo\":{\"bgcolor\":\"white\",\"lakecolor\":\"white\",\"landcolor\":\"#E5ECF6\",\"showlakes\":true,\"showland\":true,\"subunitcolor\":\"white\"},\"hoverlabel\":{\"align\":\"left\"},\"hovermode\":\"closest\",\"mapbox\":{\"style\":\"light\"},\"paper_bgcolor\":\"white\",\"plot_bgcolor\":\"#E5ECF6\",\"polar\":{\"angularaxis\":{\"gridcolor\":\"white\",\"linecolor\":\"white\",\"ticks\":\"\"},\"bgcolor\":\"#E5ECF6\",\"radialaxis\":{\"gridcolor\":\"white\",\"linecolor\":\"white\",\"ticks\":\"\"}},\"scene\":{\"xaxis\":{\"backgroundcolor\":\"#E5ECF6\",\"gridcolor\":\"white\",\"gridwidth\":2,\"linecolor\":\"white\",\"showbackground\":true,\"ticks\":\"\",\"zerolinecolor\":\"white\"},\"yaxis\":{\"backgroundcolor\":\"#E5ECF6\",\"gridcolor\":\"white\",\"gridwidth\":2,\"linecolor\":\"white\",\"showbackground\":true,\"ticks\":\"\",\"zerolinecolor\":\"white\"},\"zaxis\":{\"backgroundcolor\":\"#E5ECF6\",\"gridcolor\":\"white\",\"gridwidth\":2,\"linecolor\":\"white\",\"showbackground\":true,\"ticks\":\"\",\"zerolinecolor\":\"white\"}},\"shapedefaults\":{\"line\":{\"color\":\"#2a3f5f\"}},\"ternary\":{\"aaxis\":{\"gridcolor\":\"white\",\"linecolor\":\"white\",\"ticks\":\"\"},\"baxis\":{\"gridcolor\":\"white\",\"linecolor\":\"white\",\"ticks\":\"\"},\"bgcolor\":\"#E5ECF6\",\"caxis\":{\"gridcolor\":\"white\",\"linecolor\":\"white\",\"ticks\":\"\"}},\"title\":{\"x\":0.05},\"xaxis\":{\"automargin\":true,\"gridcolor\":\"white\",\"linecolor\":\"white\",\"ticks\":\"\",\"title\":{\"standoff\":15},\"zerolinecolor\":\"white\",\"zerolinewidth\":2},\"yaxis\":{\"automargin\":true,\"gridcolor\":\"white\",\"linecolor\":\"white\",\"ticks\":\"\",\"title\":{\"standoff\":15},\"zerolinecolor\":\"white\",\"zerolinewidth\":2}}},\"title\":{\"font\":{\"color\":\"#4D5663\"}},\"xaxis\":{\"gridcolor\":\"#E1E5ED\",\"showgrid\":true,\"tickfont\":{\"color\":\"#4D5663\"},\"title\":{\"font\":{\"color\":\"#4D5663\"},\"text\":\"\"},\"zerolinecolor\":\"#E1E5ED\"},\"yaxis\":{\"gridcolor\":\"#E1E5ED\",\"showgrid\":true,\"tickfont\":{\"color\":\"#4D5663\"},\"title\":{\"font\":{\"color\":\"#4D5663\"},\"text\":\"\"},\"zerolinecolor\":\"#E1E5ED\"}},                        {\"showLink\": true, \"linkText\": \"Export to plot.ly\", \"plotlyServerURL\": \"https://plot.ly\", \"responsive\": true}                    ).then(function(){\n",
       "                            \n",
       "var gd = document.getElementById('7cf91e31-7698-4a8c-bcae-8e4d09f25901');\n",
       "var x = new MutationObserver(function (mutations, observer) {{\n",
       "        var display = window.getComputedStyle(gd).display;\n",
       "        if (!display || display === 'none') {{\n",
       "            console.log([gd, 'removed!']);\n",
       "            Plotly.purge(gd);\n",
       "            observer.disconnect();\n",
       "        }}\n",
       "}});\n",
       "\n",
       "// Listen for the removal of the full notebook cells\n",
       "var notebookContainer = gd.closest('#notebook-container');\n",
       "if (notebookContainer) {{\n",
       "    x.observe(notebookContainer, {childList: true});\n",
       "}}\n",
       "\n",
       "// Listen for the clearing of the current output cell\n",
       "var outputEl = gd.closest('.output');\n",
       "if (outputEl) {{\n",
       "    x.observe(outputEl, {childList: true});\n",
       "}}\n",
       "\n",
       "                        })                };                });            </script>        </div>"
      ]
     },
     "metadata": {},
     "output_type": "display_data"
    }
   ],
   "source": [
    "df.iplot(kind='box')"
   ]
  },
  {
   "cell_type": "markdown",
   "metadata": {},
   "source": [
    "## 3d Surface"
   ]
  },
  {
   "cell_type": "code",
   "execution_count": 14,
   "metadata": {},
   "outputs": [
    {
     "data": {
      "application/vnd.plotly.v1+json": {
       "config": {
        "linkText": "Export to plot.ly",
        "plotlyServerURL": "https://plot.ly",
        "showLink": true
       },
       "data": [
        {
         "colorscale": [
          [
           0,
           "rgb(165,0,38)"
          ],
          [
           0.1,
           "rgb(215,48,39)"
          ],
          [
           0.2,
           "rgb(244,109,67)"
          ],
          [
           0.3,
           "rgb(253,174,97)"
          ],
          [
           0.4,
           "rgb(254,224,144)"
          ],
          [
           0.5,
           "rgb(255,255,191)"
          ],
          [
           0.6,
           "rgb(224,243,248)"
          ],
          [
           0.7,
           "rgb(171,217,233)"
          ],
          [
           0.8,
           "rgb(116,173,209)"
          ],
          [
           0.9,
           "rgb(69,117,180)"
          ],
          [
           1,
           "rgb(49,54,149)"
          ]
         ],
         "type": "surface",
         "x": [
          0,
          1,
          2,
          3,
          4
         ],
         "y": [
          "x",
          "y",
          "z"
         ],
         "z": [
          [
           1,
           2,
           3,
           4,
           5
          ],
          [
           10,
           20,
           30,
           20,
           10
          ],
          [
           5,
           4,
           3,
           2,
           1
          ]
         ]
        }
       ],
       "layout": {
        "legend": {
         "bgcolor": "#F5F6F9",
         "font": {
          "color": "#4D5663"
         }
        },
        "paper_bgcolor": "#F5F6F9",
        "plot_bgcolor": "#F5F6F9",
        "template": {
         "data": {
          "bar": [
           {
            "error_x": {
             "color": "#2a3f5f"
            },
            "error_y": {
             "color": "#2a3f5f"
            },
            "marker": {
             "line": {
              "color": "#E5ECF6",
              "width": 0.5
             },
             "pattern": {
              "fillmode": "overlay",
              "size": 10,
              "solidity": 0.2
             }
            },
            "type": "bar"
           }
          ],
          "barpolar": [
           {
            "marker": {
             "line": {
              "color": "#E5ECF6",
              "width": 0.5
             },
             "pattern": {
              "fillmode": "overlay",
              "size": 10,
              "solidity": 0.2
             }
            },
            "type": "barpolar"
           }
          ],
          "carpet": [
           {
            "aaxis": {
             "endlinecolor": "#2a3f5f",
             "gridcolor": "white",
             "linecolor": "white",
             "minorgridcolor": "white",
             "startlinecolor": "#2a3f5f"
            },
            "baxis": {
             "endlinecolor": "#2a3f5f",
             "gridcolor": "white",
             "linecolor": "white",
             "minorgridcolor": "white",
             "startlinecolor": "#2a3f5f"
            },
            "type": "carpet"
           }
          ],
          "choropleth": [
           {
            "colorbar": {
             "outlinewidth": 0,
             "ticks": ""
            },
            "type": "choropleth"
           }
          ],
          "contour": [
           {
            "colorbar": {
             "outlinewidth": 0,
             "ticks": ""
            },
            "colorscale": [
             [
              0,
              "#0d0887"
             ],
             [
              0.1111111111111111,
              "#46039f"
             ],
             [
              0.2222222222222222,
              "#7201a8"
             ],
             [
              0.3333333333333333,
              "#9c179e"
             ],
             [
              0.4444444444444444,
              "#bd3786"
             ],
             [
              0.5555555555555556,
              "#d8576b"
             ],
             [
              0.6666666666666666,
              "#ed7953"
             ],
             [
              0.7777777777777778,
              "#fb9f3a"
             ],
             [
              0.8888888888888888,
              "#fdca26"
             ],
             [
              1,
              "#f0f921"
             ]
            ],
            "type": "contour"
           }
          ],
          "contourcarpet": [
           {
            "colorbar": {
             "outlinewidth": 0,
             "ticks": ""
            },
            "type": "contourcarpet"
           }
          ],
          "heatmap": [
           {
            "colorbar": {
             "outlinewidth": 0,
             "ticks": ""
            },
            "colorscale": [
             [
              0,
              "#0d0887"
             ],
             [
              0.1111111111111111,
              "#46039f"
             ],
             [
              0.2222222222222222,
              "#7201a8"
             ],
             [
              0.3333333333333333,
              "#9c179e"
             ],
             [
              0.4444444444444444,
              "#bd3786"
             ],
             [
              0.5555555555555556,
              "#d8576b"
             ],
             [
              0.6666666666666666,
              "#ed7953"
             ],
             [
              0.7777777777777778,
              "#fb9f3a"
             ],
             [
              0.8888888888888888,
              "#fdca26"
             ],
             [
              1,
              "#f0f921"
             ]
            ],
            "type": "heatmap"
           }
          ],
          "heatmapgl": [
           {
            "colorbar": {
             "outlinewidth": 0,
             "ticks": ""
            },
            "colorscale": [
             [
              0,
              "#0d0887"
             ],
             [
              0.1111111111111111,
              "#46039f"
             ],
             [
              0.2222222222222222,
              "#7201a8"
             ],
             [
              0.3333333333333333,
              "#9c179e"
             ],
             [
              0.4444444444444444,
              "#bd3786"
             ],
             [
              0.5555555555555556,
              "#d8576b"
             ],
             [
              0.6666666666666666,
              "#ed7953"
             ],
             [
              0.7777777777777778,
              "#fb9f3a"
             ],
             [
              0.8888888888888888,
              "#fdca26"
             ],
             [
              1,
              "#f0f921"
             ]
            ],
            "type": "heatmapgl"
           }
          ],
          "histogram": [
           {
            "marker": {
             "pattern": {
              "fillmode": "overlay",
              "size": 10,
              "solidity": 0.2
             }
            },
            "type": "histogram"
           }
          ],
          "histogram2d": [
           {
            "colorbar": {
             "outlinewidth": 0,
             "ticks": ""
            },
            "colorscale": [
             [
              0,
              "#0d0887"
             ],
             [
              0.1111111111111111,
              "#46039f"
             ],
             [
              0.2222222222222222,
              "#7201a8"
             ],
             [
              0.3333333333333333,
              "#9c179e"
             ],
             [
              0.4444444444444444,
              "#bd3786"
             ],
             [
              0.5555555555555556,
              "#d8576b"
             ],
             [
              0.6666666666666666,
              "#ed7953"
             ],
             [
              0.7777777777777778,
              "#fb9f3a"
             ],
             [
              0.8888888888888888,
              "#fdca26"
             ],
             [
              1,
              "#f0f921"
             ]
            ],
            "type": "histogram2d"
           }
          ],
          "histogram2dcontour": [
           {
            "colorbar": {
             "outlinewidth": 0,
             "ticks": ""
            },
            "colorscale": [
             [
              0,
              "#0d0887"
             ],
             [
              0.1111111111111111,
              "#46039f"
             ],
             [
              0.2222222222222222,
              "#7201a8"
             ],
             [
              0.3333333333333333,
              "#9c179e"
             ],
             [
              0.4444444444444444,
              "#bd3786"
             ],
             [
              0.5555555555555556,
              "#d8576b"
             ],
             [
              0.6666666666666666,
              "#ed7953"
             ],
             [
              0.7777777777777778,
              "#fb9f3a"
             ],
             [
              0.8888888888888888,
              "#fdca26"
             ],
             [
              1,
              "#f0f921"
             ]
            ],
            "type": "histogram2dcontour"
           }
          ],
          "mesh3d": [
           {
            "colorbar": {
             "outlinewidth": 0,
             "ticks": ""
            },
            "type": "mesh3d"
           }
          ],
          "parcoords": [
           {
            "line": {
             "colorbar": {
              "outlinewidth": 0,
              "ticks": ""
             }
            },
            "type": "parcoords"
           }
          ],
          "pie": [
           {
            "automargin": true,
            "type": "pie"
           }
          ],
          "scatter": [
           {
            "fillpattern": {
             "fillmode": "overlay",
             "size": 10,
             "solidity": 0.2
            },
            "type": "scatter"
           }
          ],
          "scatter3d": [
           {
            "line": {
             "colorbar": {
              "outlinewidth": 0,
              "ticks": ""
             }
            },
            "marker": {
             "colorbar": {
              "outlinewidth": 0,
              "ticks": ""
             }
            },
            "type": "scatter3d"
           }
          ],
          "scattercarpet": [
           {
            "marker": {
             "colorbar": {
              "outlinewidth": 0,
              "ticks": ""
             }
            },
            "type": "scattercarpet"
           }
          ],
          "scattergeo": [
           {
            "marker": {
             "colorbar": {
              "outlinewidth": 0,
              "ticks": ""
             }
            },
            "type": "scattergeo"
           }
          ],
          "scattergl": [
           {
            "marker": {
             "colorbar": {
              "outlinewidth": 0,
              "ticks": ""
             }
            },
            "type": "scattergl"
           }
          ],
          "scattermapbox": [
           {
            "marker": {
             "colorbar": {
              "outlinewidth": 0,
              "ticks": ""
             }
            },
            "type": "scattermapbox"
           }
          ],
          "scatterpolar": [
           {
            "marker": {
             "colorbar": {
              "outlinewidth": 0,
              "ticks": ""
             }
            },
            "type": "scatterpolar"
           }
          ],
          "scatterpolargl": [
           {
            "marker": {
             "colorbar": {
              "outlinewidth": 0,
              "ticks": ""
             }
            },
            "type": "scatterpolargl"
           }
          ],
          "scatterternary": [
           {
            "marker": {
             "colorbar": {
              "outlinewidth": 0,
              "ticks": ""
             }
            },
            "type": "scatterternary"
           }
          ],
          "surface": [
           {
            "colorbar": {
             "outlinewidth": 0,
             "ticks": ""
            },
            "colorscale": [
             [
              0,
              "#0d0887"
             ],
             [
              0.1111111111111111,
              "#46039f"
             ],
             [
              0.2222222222222222,
              "#7201a8"
             ],
             [
              0.3333333333333333,
              "#9c179e"
             ],
             [
              0.4444444444444444,
              "#bd3786"
             ],
             [
              0.5555555555555556,
              "#d8576b"
             ],
             [
              0.6666666666666666,
              "#ed7953"
             ],
             [
              0.7777777777777778,
              "#fb9f3a"
             ],
             [
              0.8888888888888888,
              "#fdca26"
             ],
             [
              1,
              "#f0f921"
             ]
            ],
            "type": "surface"
           }
          ],
          "table": [
           {
            "cells": {
             "fill": {
              "color": "#EBF0F8"
             },
             "line": {
              "color": "white"
             }
            },
            "header": {
             "fill": {
              "color": "#C8D4E3"
             },
             "line": {
              "color": "white"
             }
            },
            "type": "table"
           }
          ]
         },
         "layout": {
          "annotationdefaults": {
           "arrowcolor": "#2a3f5f",
           "arrowhead": 0,
           "arrowwidth": 1
          },
          "autotypenumbers": "strict",
          "coloraxis": {
           "colorbar": {
            "outlinewidth": 0,
            "ticks": ""
           }
          },
          "colorscale": {
           "diverging": [
            [
             0,
             "#8e0152"
            ],
            [
             0.1,
             "#c51b7d"
            ],
            [
             0.2,
             "#de77ae"
            ],
            [
             0.3,
             "#f1b6da"
            ],
            [
             0.4,
             "#fde0ef"
            ],
            [
             0.5,
             "#f7f7f7"
            ],
            [
             0.6,
             "#e6f5d0"
            ],
            [
             0.7,
             "#b8e186"
            ],
            [
             0.8,
             "#7fbc41"
            ],
            [
             0.9,
             "#4d9221"
            ],
            [
             1,
             "#276419"
            ]
           ],
           "sequential": [
            [
             0,
             "#0d0887"
            ],
            [
             0.1111111111111111,
             "#46039f"
            ],
            [
             0.2222222222222222,
             "#7201a8"
            ],
            [
             0.3333333333333333,
             "#9c179e"
            ],
            [
             0.4444444444444444,
             "#bd3786"
            ],
            [
             0.5555555555555556,
             "#d8576b"
            ],
            [
             0.6666666666666666,
             "#ed7953"
            ],
            [
             0.7777777777777778,
             "#fb9f3a"
            ],
            [
             0.8888888888888888,
             "#fdca26"
            ],
            [
             1,
             "#f0f921"
            ]
           ],
           "sequentialminus": [
            [
             0,
             "#0d0887"
            ],
            [
             0.1111111111111111,
             "#46039f"
            ],
            [
             0.2222222222222222,
             "#7201a8"
            ],
            [
             0.3333333333333333,
             "#9c179e"
            ],
            [
             0.4444444444444444,
             "#bd3786"
            ],
            [
             0.5555555555555556,
             "#d8576b"
            ],
            [
             0.6666666666666666,
             "#ed7953"
            ],
            [
             0.7777777777777778,
             "#fb9f3a"
            ],
            [
             0.8888888888888888,
             "#fdca26"
            ],
            [
             1,
             "#f0f921"
            ]
           ]
          },
          "colorway": [
           "#636efa",
           "#EF553B",
           "#00cc96",
           "#ab63fa",
           "#FFA15A",
           "#19d3f3",
           "#FF6692",
           "#B6E880",
           "#FF97FF",
           "#FECB52"
          ],
          "font": {
           "color": "#2a3f5f"
          },
          "geo": {
           "bgcolor": "white",
           "lakecolor": "white",
           "landcolor": "#E5ECF6",
           "showlakes": true,
           "showland": true,
           "subunitcolor": "white"
          },
          "hoverlabel": {
           "align": "left"
          },
          "hovermode": "closest",
          "mapbox": {
           "style": "light"
          },
          "paper_bgcolor": "white",
          "plot_bgcolor": "#E5ECF6",
          "polar": {
           "angularaxis": {
            "gridcolor": "white",
            "linecolor": "white",
            "ticks": ""
           },
           "bgcolor": "#E5ECF6",
           "radialaxis": {
            "gridcolor": "white",
            "linecolor": "white",
            "ticks": ""
           }
          },
          "scene": {
           "xaxis": {
            "backgroundcolor": "#E5ECF6",
            "gridcolor": "white",
            "gridwidth": 2,
            "linecolor": "white",
            "showbackground": true,
            "ticks": "",
            "zerolinecolor": "white"
           },
           "yaxis": {
            "backgroundcolor": "#E5ECF6",
            "gridcolor": "white",
            "gridwidth": 2,
            "linecolor": "white",
            "showbackground": true,
            "ticks": "",
            "zerolinecolor": "white"
           },
           "zaxis": {
            "backgroundcolor": "#E5ECF6",
            "gridcolor": "white",
            "gridwidth": 2,
            "linecolor": "white",
            "showbackground": true,
            "ticks": "",
            "zerolinecolor": "white"
           }
          },
          "shapedefaults": {
           "line": {
            "color": "#2a3f5f"
           }
          },
          "ternary": {
           "aaxis": {
            "gridcolor": "white",
            "linecolor": "white",
            "ticks": ""
           },
           "baxis": {
            "gridcolor": "white",
            "linecolor": "white",
            "ticks": ""
           },
           "bgcolor": "#E5ECF6",
           "caxis": {
            "gridcolor": "white",
            "linecolor": "white",
            "ticks": ""
           }
          },
          "title": {
           "x": 0.05
          },
          "xaxis": {
           "automargin": true,
           "gridcolor": "white",
           "linecolor": "white",
           "ticks": "",
           "title": {
            "standoff": 15
           },
           "zerolinecolor": "white",
           "zerolinewidth": 2
          },
          "yaxis": {
           "automargin": true,
           "gridcolor": "white",
           "linecolor": "white",
           "ticks": "",
           "title": {
            "standoff": 15
           },
           "zerolinecolor": "white",
           "zerolinewidth": 2
          }
         }
        },
        "title": {
         "font": {
          "color": "#4D5663"
         }
        },
        "xaxis": {
         "gridcolor": "#E1E5ED",
         "showgrid": true,
         "tickfont": {
          "color": "#4D5663"
         },
         "title": {
          "font": {
           "color": "#4D5663"
          },
          "text": ""
         },
         "zerolinecolor": "#E1E5ED"
        },
        "yaxis": {
         "gridcolor": "#E1E5ED",
         "showgrid": true,
         "tickfont": {
          "color": "#4D5663"
         },
         "title": {
          "font": {
           "color": "#4D5663"
          },
          "text": ""
         },
         "zerolinecolor": "#E1E5ED"
        }
       }
      },
      "text/html": [
       "<div>                            <div id=\"bf6e260e-73fd-44f4-84ba-e1e7847da00a\" class=\"plotly-graph-div\" style=\"height:525px; width:100%;\"></div>            <script type=\"text/javascript\">                require([\"plotly\"], function(Plotly) {                    window.PLOTLYENV=window.PLOTLYENV || {};\n",
       "                    window.PLOTLYENV.BASE_URL='https://plot.ly';                                    if (document.getElementById(\"bf6e260e-73fd-44f4-84ba-e1e7847da00a\")) {                    Plotly.newPlot(                        \"bf6e260e-73fd-44f4-84ba-e1e7847da00a\",                        [{\"colorscale\":[[0.0,\"rgb(165,0,38)\"],[0.1,\"rgb(215,48,39)\"],[0.2,\"rgb(244,109,67)\"],[0.3,\"rgb(253,174,97)\"],[0.4,\"rgb(254,224,144)\"],[0.5,\"rgb(255,255,191)\"],[0.6,\"rgb(224,243,248)\"],[0.7,\"rgb(171,217,233)\"],[0.8,\"rgb(116,173,209)\"],[0.9,\"rgb(69,117,180)\"],[1.0,\"rgb(49,54,149)\"]],\"x\":[0,1,2,3,4],\"y\":[\"x\",\"y\",\"z\"],\"z\":[[1,2,3,4,5],[10,20,30,20,10],[5,4,3,2,1]],\"type\":\"surface\"}],                        {\"legend\":{\"bgcolor\":\"#F5F6F9\",\"font\":{\"color\":\"#4D5663\"}},\"paper_bgcolor\":\"#F5F6F9\",\"plot_bgcolor\":\"#F5F6F9\",\"template\":{\"data\":{\"barpolar\":[{\"marker\":{\"line\":{\"color\":\"#E5ECF6\",\"width\":0.5},\"pattern\":{\"fillmode\":\"overlay\",\"size\":10,\"solidity\":0.2}},\"type\":\"barpolar\"}],\"bar\":[{\"error_x\":{\"color\":\"#2a3f5f\"},\"error_y\":{\"color\":\"#2a3f5f\"},\"marker\":{\"line\":{\"color\":\"#E5ECF6\",\"width\":0.5},\"pattern\":{\"fillmode\":\"overlay\",\"size\":10,\"solidity\":0.2}},\"type\":\"bar\"}],\"carpet\":[{\"aaxis\":{\"endlinecolor\":\"#2a3f5f\",\"gridcolor\":\"white\",\"linecolor\":\"white\",\"minorgridcolor\":\"white\",\"startlinecolor\":\"#2a3f5f\"},\"baxis\":{\"endlinecolor\":\"#2a3f5f\",\"gridcolor\":\"white\",\"linecolor\":\"white\",\"minorgridcolor\":\"white\",\"startlinecolor\":\"#2a3f5f\"},\"type\":\"carpet\"}],\"choropleth\":[{\"colorbar\":{\"outlinewidth\":0,\"ticks\":\"\"},\"type\":\"choropleth\"}],\"contourcarpet\":[{\"colorbar\":{\"outlinewidth\":0,\"ticks\":\"\"},\"type\":\"contourcarpet\"}],\"contour\":[{\"colorbar\":{\"outlinewidth\":0,\"ticks\":\"\"},\"colorscale\":[[0.0,\"#0d0887\"],[0.1111111111111111,\"#46039f\"],[0.2222222222222222,\"#7201a8\"],[0.3333333333333333,\"#9c179e\"],[0.4444444444444444,\"#bd3786\"],[0.5555555555555556,\"#d8576b\"],[0.6666666666666666,\"#ed7953\"],[0.7777777777777778,\"#fb9f3a\"],[0.8888888888888888,\"#fdca26\"],[1.0,\"#f0f921\"]],\"type\":\"contour\"}],\"heatmapgl\":[{\"colorbar\":{\"outlinewidth\":0,\"ticks\":\"\"},\"colorscale\":[[0.0,\"#0d0887\"],[0.1111111111111111,\"#46039f\"],[0.2222222222222222,\"#7201a8\"],[0.3333333333333333,\"#9c179e\"],[0.4444444444444444,\"#bd3786\"],[0.5555555555555556,\"#d8576b\"],[0.6666666666666666,\"#ed7953\"],[0.7777777777777778,\"#fb9f3a\"],[0.8888888888888888,\"#fdca26\"],[1.0,\"#f0f921\"]],\"type\":\"heatmapgl\"}],\"heatmap\":[{\"colorbar\":{\"outlinewidth\":0,\"ticks\":\"\"},\"colorscale\":[[0.0,\"#0d0887\"],[0.1111111111111111,\"#46039f\"],[0.2222222222222222,\"#7201a8\"],[0.3333333333333333,\"#9c179e\"],[0.4444444444444444,\"#bd3786\"],[0.5555555555555556,\"#d8576b\"],[0.6666666666666666,\"#ed7953\"],[0.7777777777777778,\"#fb9f3a\"],[0.8888888888888888,\"#fdca26\"],[1.0,\"#f0f921\"]],\"type\":\"heatmap\"}],\"histogram2dcontour\":[{\"colorbar\":{\"outlinewidth\":0,\"ticks\":\"\"},\"colorscale\":[[0.0,\"#0d0887\"],[0.1111111111111111,\"#46039f\"],[0.2222222222222222,\"#7201a8\"],[0.3333333333333333,\"#9c179e\"],[0.4444444444444444,\"#bd3786\"],[0.5555555555555556,\"#d8576b\"],[0.6666666666666666,\"#ed7953\"],[0.7777777777777778,\"#fb9f3a\"],[0.8888888888888888,\"#fdca26\"],[1.0,\"#f0f921\"]],\"type\":\"histogram2dcontour\"}],\"histogram2d\":[{\"colorbar\":{\"outlinewidth\":0,\"ticks\":\"\"},\"colorscale\":[[0.0,\"#0d0887\"],[0.1111111111111111,\"#46039f\"],[0.2222222222222222,\"#7201a8\"],[0.3333333333333333,\"#9c179e\"],[0.4444444444444444,\"#bd3786\"],[0.5555555555555556,\"#d8576b\"],[0.6666666666666666,\"#ed7953\"],[0.7777777777777778,\"#fb9f3a\"],[0.8888888888888888,\"#fdca26\"],[1.0,\"#f0f921\"]],\"type\":\"histogram2d\"}],\"histogram\":[{\"marker\":{\"pattern\":{\"fillmode\":\"overlay\",\"size\":10,\"solidity\":0.2}},\"type\":\"histogram\"}],\"mesh3d\":[{\"colorbar\":{\"outlinewidth\":0,\"ticks\":\"\"},\"type\":\"mesh3d\"}],\"parcoords\":[{\"line\":{\"colorbar\":{\"outlinewidth\":0,\"ticks\":\"\"}},\"type\":\"parcoords\"}],\"pie\":[{\"automargin\":true,\"type\":\"pie\"}],\"scatter3d\":[{\"line\":{\"colorbar\":{\"outlinewidth\":0,\"ticks\":\"\"}},\"marker\":{\"colorbar\":{\"outlinewidth\":0,\"ticks\":\"\"}},\"type\":\"scatter3d\"}],\"scattercarpet\":[{\"marker\":{\"colorbar\":{\"outlinewidth\":0,\"ticks\":\"\"}},\"type\":\"scattercarpet\"}],\"scattergeo\":[{\"marker\":{\"colorbar\":{\"outlinewidth\":0,\"ticks\":\"\"}},\"type\":\"scattergeo\"}],\"scattergl\":[{\"marker\":{\"colorbar\":{\"outlinewidth\":0,\"ticks\":\"\"}},\"type\":\"scattergl\"}],\"scattermapbox\":[{\"marker\":{\"colorbar\":{\"outlinewidth\":0,\"ticks\":\"\"}},\"type\":\"scattermapbox\"}],\"scatterpolargl\":[{\"marker\":{\"colorbar\":{\"outlinewidth\":0,\"ticks\":\"\"}},\"type\":\"scatterpolargl\"}],\"scatterpolar\":[{\"marker\":{\"colorbar\":{\"outlinewidth\":0,\"ticks\":\"\"}},\"type\":\"scatterpolar\"}],\"scatter\":[{\"fillpattern\":{\"fillmode\":\"overlay\",\"size\":10,\"solidity\":0.2},\"type\":\"scatter\"}],\"scatterternary\":[{\"marker\":{\"colorbar\":{\"outlinewidth\":0,\"ticks\":\"\"}},\"type\":\"scatterternary\"}],\"surface\":[{\"colorbar\":{\"outlinewidth\":0,\"ticks\":\"\"},\"colorscale\":[[0.0,\"#0d0887\"],[0.1111111111111111,\"#46039f\"],[0.2222222222222222,\"#7201a8\"],[0.3333333333333333,\"#9c179e\"],[0.4444444444444444,\"#bd3786\"],[0.5555555555555556,\"#d8576b\"],[0.6666666666666666,\"#ed7953\"],[0.7777777777777778,\"#fb9f3a\"],[0.8888888888888888,\"#fdca26\"],[1.0,\"#f0f921\"]],\"type\":\"surface\"}],\"table\":[{\"cells\":{\"fill\":{\"color\":\"#EBF0F8\"},\"line\":{\"color\":\"white\"}},\"header\":{\"fill\":{\"color\":\"#C8D4E3\"},\"line\":{\"color\":\"white\"}},\"type\":\"table\"}]},\"layout\":{\"annotationdefaults\":{\"arrowcolor\":\"#2a3f5f\",\"arrowhead\":0,\"arrowwidth\":1},\"autotypenumbers\":\"strict\",\"coloraxis\":{\"colorbar\":{\"outlinewidth\":0,\"ticks\":\"\"}},\"colorscale\":{\"diverging\":[[0,\"#8e0152\"],[0.1,\"#c51b7d\"],[0.2,\"#de77ae\"],[0.3,\"#f1b6da\"],[0.4,\"#fde0ef\"],[0.5,\"#f7f7f7\"],[0.6,\"#e6f5d0\"],[0.7,\"#b8e186\"],[0.8,\"#7fbc41\"],[0.9,\"#4d9221\"],[1,\"#276419\"]],\"sequential\":[[0.0,\"#0d0887\"],[0.1111111111111111,\"#46039f\"],[0.2222222222222222,\"#7201a8\"],[0.3333333333333333,\"#9c179e\"],[0.4444444444444444,\"#bd3786\"],[0.5555555555555556,\"#d8576b\"],[0.6666666666666666,\"#ed7953\"],[0.7777777777777778,\"#fb9f3a\"],[0.8888888888888888,\"#fdca26\"],[1.0,\"#f0f921\"]],\"sequentialminus\":[[0.0,\"#0d0887\"],[0.1111111111111111,\"#46039f\"],[0.2222222222222222,\"#7201a8\"],[0.3333333333333333,\"#9c179e\"],[0.4444444444444444,\"#bd3786\"],[0.5555555555555556,\"#d8576b\"],[0.6666666666666666,\"#ed7953\"],[0.7777777777777778,\"#fb9f3a\"],[0.8888888888888888,\"#fdca26\"],[1.0,\"#f0f921\"]]},\"colorway\":[\"#636efa\",\"#EF553B\",\"#00cc96\",\"#ab63fa\",\"#FFA15A\",\"#19d3f3\",\"#FF6692\",\"#B6E880\",\"#FF97FF\",\"#FECB52\"],\"font\":{\"color\":\"#2a3f5f\"},\"geo\":{\"bgcolor\":\"white\",\"lakecolor\":\"white\",\"landcolor\":\"#E5ECF6\",\"showlakes\":true,\"showland\":true,\"subunitcolor\":\"white\"},\"hoverlabel\":{\"align\":\"left\"},\"hovermode\":\"closest\",\"mapbox\":{\"style\":\"light\"},\"paper_bgcolor\":\"white\",\"plot_bgcolor\":\"#E5ECF6\",\"polar\":{\"angularaxis\":{\"gridcolor\":\"white\",\"linecolor\":\"white\",\"ticks\":\"\"},\"bgcolor\":\"#E5ECF6\",\"radialaxis\":{\"gridcolor\":\"white\",\"linecolor\":\"white\",\"ticks\":\"\"}},\"scene\":{\"xaxis\":{\"backgroundcolor\":\"#E5ECF6\",\"gridcolor\":\"white\",\"gridwidth\":2,\"linecolor\":\"white\",\"showbackground\":true,\"ticks\":\"\",\"zerolinecolor\":\"white\"},\"yaxis\":{\"backgroundcolor\":\"#E5ECF6\",\"gridcolor\":\"white\",\"gridwidth\":2,\"linecolor\":\"white\",\"showbackground\":true,\"ticks\":\"\",\"zerolinecolor\":\"white\"},\"zaxis\":{\"backgroundcolor\":\"#E5ECF6\",\"gridcolor\":\"white\",\"gridwidth\":2,\"linecolor\":\"white\",\"showbackground\":true,\"ticks\":\"\",\"zerolinecolor\":\"white\"}},\"shapedefaults\":{\"line\":{\"color\":\"#2a3f5f\"}},\"ternary\":{\"aaxis\":{\"gridcolor\":\"white\",\"linecolor\":\"white\",\"ticks\":\"\"},\"baxis\":{\"gridcolor\":\"white\",\"linecolor\":\"white\",\"ticks\":\"\"},\"bgcolor\":\"#E5ECF6\",\"caxis\":{\"gridcolor\":\"white\",\"linecolor\":\"white\",\"ticks\":\"\"}},\"title\":{\"x\":0.05},\"xaxis\":{\"automargin\":true,\"gridcolor\":\"white\",\"linecolor\":\"white\",\"ticks\":\"\",\"title\":{\"standoff\":15},\"zerolinecolor\":\"white\",\"zerolinewidth\":2},\"yaxis\":{\"automargin\":true,\"gridcolor\":\"white\",\"linecolor\":\"white\",\"ticks\":\"\",\"title\":{\"standoff\":15},\"zerolinecolor\":\"white\",\"zerolinewidth\":2}}},\"title\":{\"font\":{\"color\":\"#4D5663\"}},\"xaxis\":{\"gridcolor\":\"#E1E5ED\",\"showgrid\":true,\"tickfont\":{\"color\":\"#4D5663\"},\"title\":{\"font\":{\"color\":\"#4D5663\"},\"text\":\"\"},\"zerolinecolor\":\"#E1E5ED\"},\"yaxis\":{\"gridcolor\":\"#E1E5ED\",\"showgrid\":true,\"tickfont\":{\"color\":\"#4D5663\"},\"title\":{\"font\":{\"color\":\"#4D5663\"},\"text\":\"\"},\"zerolinecolor\":\"#E1E5ED\"}},                        {\"showLink\": true, \"linkText\": \"Export to plot.ly\", \"plotlyServerURL\": \"https://plot.ly\", \"responsive\": true}                    ).then(function(){\n",
       "                            \n",
       "var gd = document.getElementById('bf6e260e-73fd-44f4-84ba-e1e7847da00a');\n",
       "var x = new MutationObserver(function (mutations, observer) {{\n",
       "        var display = window.getComputedStyle(gd).display;\n",
       "        if (!display || display === 'none') {{\n",
       "            console.log([gd, 'removed!']);\n",
       "            Plotly.purge(gd);\n",
       "            observer.disconnect();\n",
       "        }}\n",
       "}});\n",
       "\n",
       "// Listen for the removal of the full notebook cells\n",
       "var notebookContainer = gd.closest('#notebook-container');\n",
       "if (notebookContainer) {{\n",
       "    x.observe(notebookContainer, {childList: true});\n",
       "}}\n",
       "\n",
       "// Listen for the clearing of the current output cell\n",
       "var outputEl = gd.closest('.output');\n",
       "if (outputEl) {{\n",
       "    x.observe(outputEl, {childList: true});\n",
       "}}\n",
       "\n",
       "                        })                };                });            </script>        </div>"
      ]
     },
     "metadata": {},
     "output_type": "display_data"
    }
   ],
   "source": [
    "df3 = pd.DataFrame({'x':[1,2,3,4,5],'y':[10,20,30,20,10],'z':[5,4,3,2,1]})\n",
    "df3.iplot(kind='surface',colorscale='rdylbu')"
   ]
  },
  {
   "cell_type": "markdown",
   "metadata": {},
   "source": [
    "## Spread"
   ]
  },
  {
   "cell_type": "code",
   "execution_count": 15,
   "metadata": {},
   "outputs": [
    {
     "name": "stderr",
     "output_type": "stream",
     "text": [
      "/home/olusholasalau/anaconda3/lib/python3.9/site-packages/cufflinks/plotlytools.py:849: FutureWarning:\n",
      "\n",
      "The pandas.np module is deprecated and will be removed from pandas in a future version. Import numpy directly instead.\n",
      "\n",
      "/home/olusholasalau/anaconda3/lib/python3.9/site-packages/cufflinks/plotlytools.py:850: FutureWarning:\n",
      "\n",
      "The pandas.np module is deprecated and will be removed from pandas in a future version. Import numpy directly instead.\n",
      "\n"
     ]
    },
    {
     "data": {
      "application/vnd.plotly.v1+json": {
       "config": {
        "linkText": "Export to plot.ly",
        "plotlyServerURL": "https://plot.ly",
        "showLink": true
       },
       "data": [
        {
         "line": {
          "color": "rgba(255, 153, 51, 1.0)",
          "dash": "solid",
          "shape": "linear",
          "width": 1.3
         },
         "mode": "lines",
         "name": "A",
         "text": "",
         "type": "scatter",
         "x": [
          0,
          1,
          2,
          3,
          4,
          5,
          6,
          7,
          8,
          9,
          10,
          11,
          12,
          13,
          14,
          15,
          16,
          17,
          18,
          19,
          20,
          21,
          22,
          23,
          24,
          25,
          26,
          27,
          28,
          29,
          30,
          31,
          32,
          33,
          34,
          35,
          36,
          37,
          38,
          39,
          40,
          41,
          42,
          43,
          44,
          45,
          46,
          47,
          48,
          49,
          50,
          51,
          52,
          53,
          54,
          55,
          56,
          57,
          58,
          59,
          60,
          61,
          62,
          63,
          64,
          65,
          66,
          67,
          68,
          69,
          70,
          71,
          72,
          73,
          74,
          75,
          76,
          77,
          78,
          79,
          80,
          81,
          82,
          83,
          84,
          85,
          86,
          87,
          88,
          89,
          90,
          91,
          92,
          93,
          94,
          95,
          96,
          97,
          98,
          99
         ],
         "y": [
          -0.1655705937827465,
          0.6339335459532506,
          0.02552739960708487,
          0.01969683939300677,
          1.1722880458422509,
          0.9747235756758493,
          -0.6050070348936066,
          0.5085564324615662,
          -1.545435955849086,
          0.016081732460917663,
          0.22518728497505483,
          -1.3333108089982026,
          0.988778752425804,
          2.198159687266945,
          1.268817519997271,
          -0.008764501052270413,
          -0.44398572728548547,
          0.5551164490476496,
          0.8586223532174,
          -0.2094038044256258,
          -0.43206622309689674,
          0.6418351317018594,
          -1.5385625940572467,
          -0.17674250764098665,
          0.6744836258489834,
          -1.9243574705353481,
          -0.5163953508976782,
          0.9930864582338338,
          0.32124256694507275,
          -0.6698476139460213,
          0.381068709679253,
          -1.1944409695761267,
          0.6849270399380836,
          -0.3754746280710603,
          0.29975630620422455,
          0.05640202727675874,
          -0.94912681176481,
          -0.4799579983040787,
          -2.051159458016786,
          -0.3451565542145435,
          0.5491402974707585,
          0.36719851737511805,
          0.06903976021383912,
          0.9190117725334557,
          -1.024537808095599,
          -0.279366487748021,
          -1.708888485836476,
          -0.14402401705652035,
          -0.7956987990694804,
          -0.8078595466173956,
          0.6790479801631213,
          0.7620283540488753,
          0.04971040573434907,
          -1.0480450252213853,
          -1.1640007543201105,
          -0.8987684206556861,
          1.0921667216030286,
          -0.51688241157997,
          0.23331358423528553,
          0.72022348620067,
          -0.153330783695401,
          -1.7485084923560625,
          -0.5578921555527383,
          0.2592053361084132,
          0.6505485032752829,
          -0.09822617559722291,
          -0.11396477603957711,
          -0.04711327080097372,
          0.41794875708761625,
          -0.9794280917693772,
          -1.4930800481301383,
          0.20024816164433462,
          -0.0598198356874181,
          0.40228892142346856,
          0.7198143569507868,
          -0.7989673881758005,
          1.136051224771882,
          0.5213471362522815,
          0.382894174276429,
          -0.3781806207522293,
          0.1047978285603859,
          -0.5590826824234247,
          -1.4103183701528856,
          1.1809587208566368,
          -0.7340851584382985,
          2.302660557026478,
          -1.8176943917922668,
          -0.7827026497367355,
          -1.6804854405801986,
          -1.7161193914182236,
          0.13699488338331858,
          -1.0562415021653813,
          0.3440151400307065,
          -2.4135843823581773,
          -1.7169647154712107,
          0.11730382449763617,
          -0.12497531838910092,
          -0.9130583926720433,
          0.14177914589027968,
          -0.7325023740963575
         ]
        },
        {
         "line": {
          "color": "rgba(55, 128, 191, 1.0)",
          "dash": "solid",
          "shape": "linear",
          "width": 1.3
         },
         "mode": "lines",
         "name": "B",
         "text": "",
         "type": "scatter",
         "x": [
          0,
          1,
          2,
          3,
          4,
          5,
          6,
          7,
          8,
          9,
          10,
          11,
          12,
          13,
          14,
          15,
          16,
          17,
          18,
          19,
          20,
          21,
          22,
          23,
          24,
          25,
          26,
          27,
          28,
          29,
          30,
          31,
          32,
          33,
          34,
          35,
          36,
          37,
          38,
          39,
          40,
          41,
          42,
          43,
          44,
          45,
          46,
          47,
          48,
          49,
          50,
          51,
          52,
          53,
          54,
          55,
          56,
          57,
          58,
          59,
          60,
          61,
          62,
          63,
          64,
          65,
          66,
          67,
          68,
          69,
          70,
          71,
          72,
          73,
          74,
          75,
          76,
          77,
          78,
          79,
          80,
          81,
          82,
          83,
          84,
          85,
          86,
          87,
          88,
          89,
          90,
          91,
          92,
          93,
          94,
          95,
          96,
          97,
          98,
          99
         ],
         "y": [
          -0.2924447826011183,
          0.7407806451006329,
          -0.4238185025341148,
          -0.806529453653887,
          -0.8131387530579735,
          0.00734319142364019,
          1.1409690687084817,
          -1.0399200861700937,
          -0.9757840095052484,
          0.6371836649454985,
          0.4822400989864475,
          -0.10658927474989756,
          1.030457973217204,
          0.298495758255452,
          -0.7007423238711151,
          0.3099974602415881,
          -0.999126943370043,
          -0.0534876423175067,
          -0.13547608459305985,
          1.5972425667119357,
          -2.5062520958522185,
          0.23267837072353362,
          0.025786950862549618,
          0.7223057893102796,
          -0.6716161547784072,
          -0.7347753399574438,
          -0.10092901382515361,
          1.9539851832256292,
          -0.6513024950203117,
          1.4165755824561908,
          -0.999587606254183,
          -0.7707015786264458,
          0.1651321634271878,
          0.27957354172687954,
          -0.07142121924509102,
          -0.592976528976272,
          -0.6196597646542373,
          0.24417621252015778,
          0.07404638331213868,
          1.3227806225059329,
          1.7101366397285278,
          -1.5305925978054404,
          -0.744847538740032,
          2.1580413988178124,
          -0.26752586946806556,
          -1.7789276564220624,
          1.3471114020730155,
          -0.5430113078286412,
          -0.8601260350318142,
          0.7316624912629281,
          2.5130402870286854,
          -1.4384259319922756,
          0.6398977902189656,
          0.3129349832028792,
          -0.07569412487699408,
          -1.6491607182971357,
          -0.7762918151343828,
          -0.13478606841780538,
          -0.013620877199414565,
          -0.2064697103702566,
          -1.280393149670629,
          0.20677309874895722,
          0.5884118424194865,
          0.4229230519321674,
          -0.9459402404714627,
          -0.37290272901489174,
          -1.322503831154513,
          0.38427151353223454,
          0.3440100483105457,
          1.2806969455257453,
          0.4153452313345435,
          0.5806468212039666,
          1.6475556469388035,
          1.104705852204584,
          0.5020651550204874,
          -1.7915206314516867,
          0.25651199464656715,
          -0.5105539232384897,
          0.6480584816840614,
          -1.0146531468192597,
          1.1156432997731665,
          -2.2734448280261437,
          2.000158801474051,
          0.6705878143141647,
          1.0574589784742312,
          1.1555814635540624,
          -0.08170108881032653,
          -1.0400644433309123,
          -0.9605721297657042,
          -0.49164022625070686,
          -0.45380715694038964,
          -0.16729635012015623,
          -0.7955770607437094,
          -2.814936036656384,
          -0.5282245113612478,
          -1.2738671529418648,
          0.8773494814469376,
          0.668093767934002,
          -0.8402771874279442,
          -0.9939287782369531
         ]
        },
        {
         "connectgaps": false,
         "fill": "tozeroy",
         "line": {
          "color": "green",
          "dash": "solid",
          "shape": "linear",
          "width": 0.5
         },
         "mode": "lines",
         "name": "Spread",
         "showlegend": false,
         "type": "scatter",
         "x": [
          0,
          1,
          2,
          3,
          4,
          5,
          6,
          7,
          8,
          9,
          10,
          11,
          12,
          13,
          14,
          15,
          16,
          17,
          18,
          19,
          20,
          21,
          22,
          23,
          24,
          25,
          26,
          27,
          28,
          29,
          30,
          31,
          32,
          33,
          34,
          35,
          36,
          37,
          38,
          39,
          40,
          41,
          42,
          43,
          44,
          45,
          46,
          47,
          48,
          49,
          50,
          51,
          52,
          53,
          54,
          55,
          56,
          57,
          58,
          59,
          60,
          61,
          62,
          63,
          64,
          65,
          66,
          67,
          68,
          69,
          70,
          71,
          72,
          73,
          74,
          75,
          76,
          77,
          78,
          79,
          80,
          81,
          82,
          83,
          84,
          85,
          86,
          87,
          88,
          89,
          90,
          91,
          92,
          93,
          94,
          95,
          96,
          97,
          98,
          99
         ],
         "xaxis": "x2",
         "y": [
          0.12687418881837179,
          "",
          0.4493459021411997,
          0.8262262930468938,
          1.9854267989002243,
          0.9673803842522092,
          "",
          1.5484765186316598,
          "",
          "",
          "",
          "",
          "",
          1.8996639290114932,
          1.9695598438683861,
          "",
          0.5551412160845576,
          0.6086040913651563,
          0.9940984378104598,
          "",
          2.0741858727553217,
          0.40915676097832576,
          "",
          "",
          1.3460997806273904,
          "",
          "",
          "",
          0.9725450619653844,
          "",
          1.380656315933436,
          "",
          0.5197948765108957,
          "",
          0.3711775254493156,
          0.6493785562530306,
          "",
          "",
          "",
          "",
          "",
          1.8977911151805584,
          0.813887298953871,
          "",
          "",
          1.4995611686740413,
          "",
          0.3989872907721208,
          0.0644272359623338,
          "",
          "",
          2.200454286041151,
          "",
          "",
          "",
          0.7503922976414497,
          1.8684585367374114,
          "",
          0.2469344614347001,
          0.9266931965709266,
          1.127062365975228,
          "",
          "",
          "",
          1.5964887437467457,
          0.27467655341766883,
          1.2085390551149358,
          "",
          0.07393870877707054,
          "",
          "",
          "",
          "",
          "",
          0.21774920193029934,
          0.9925532432758862,
          0.8795392301253148,
          1.0319010594907712,
          "",
          0.6364725260670303,
          "",
          1.714362145602719,
          "",
          0.5103709065424721,
          "",
          1.1470790934724158,
          "",
          0.25736179359417677,
          "",
          "",
          0.5908020403237082,
          "",
          1.139592200774416,
          0.40135165429820674,
          "",
          1.391170977439501,
          "",
          "",
          0.982056333318224,
          0.2614264041405956
         ],
         "yaxis": "y2"
        },
        {
         "connectgaps": false,
         "fill": "tozeroy",
         "line": {
          "color": "red",
          "dash": "solid",
          "shape": "linear",
          "width": 0.5
         },
         "mode": "lines",
         "name": "Spread",
         "showlegend": false,
         "type": "scatter",
         "x": [
          0,
          1,
          2,
          3,
          4,
          5,
          6,
          7,
          8,
          9,
          10,
          11,
          12,
          13,
          14,
          15,
          16,
          17,
          18,
          19,
          20,
          21,
          22,
          23,
          24,
          25,
          26,
          27,
          28,
          29,
          30,
          31,
          32,
          33,
          34,
          35,
          36,
          37,
          38,
          39,
          40,
          41,
          42,
          43,
          44,
          45,
          46,
          47,
          48,
          49,
          50,
          51,
          52,
          53,
          54,
          55,
          56,
          57,
          58,
          59,
          60,
          61,
          62,
          63,
          64,
          65,
          66,
          67,
          68,
          69,
          70,
          71,
          72,
          73,
          74,
          75,
          76,
          77,
          78,
          79,
          80,
          81,
          82,
          83,
          84,
          85,
          86,
          87,
          88,
          89,
          90,
          91,
          92,
          93,
          94,
          95,
          96,
          97,
          98,
          99
         ],
         "xaxis": "x2",
         "y": [
          "",
          -0.10684709914738233,
          "",
          "",
          "",
          "",
          -1.7459761036020884,
          "",
          -0.5696519463438376,
          -0.6211019324845808,
          -0.2570528140113927,
          -1.226721534248305,
          -0.04167922079139985,
          "",
          "",
          -0.3187619612938585,
          "",
          "",
          "",
          -1.8066463711375615,
          "",
          "",
          -1.5643495449197964,
          -0.8990482969512662,
          "",
          -1.1895821305779042,
          -0.41546633707252456,
          -0.9608987249917954,
          "",
          -2.086423196402212,
          "",
          -0.4237393909496808,
          "",
          -0.6550481697979398,
          "",
          "",
          -0.3294670471105726,
          -0.7241342108242365,
          -2.1252058413289245,
          -1.6679371767204763,
          -1.1609963422577692,
          "",
          "",
          -1.2390296262843568,
          -0.7570119386275334,
          "",
          -3.0559998879094916,
          "",
          "",
          -1.5395220378803236,
          -1.8339923068655641,
          "",
          -0.5901873844846166,
          -1.3609800084242645,
          -1.0883066294431165,
          "",
          "",
          -0.38209634316216456,
          "",
          "",
          "",
          -1.9552815911050199,
          -1.146303997972225,
          -0.16371771582375422,
          "",
          "",
          "",
          -0.43138478433320826,
          "",
          -2.2601250372951225,
          -1.9084252794646819,
          -0.380398659559632,
          -1.7073754826262215,
          -0.7024169307811154,
          "",
          "",
          "",
          "",
          -0.2651643074076324,
          "",
          -1.0108454712127806,
          "",
          -3.410477171626937,
          "",
          -1.7915441369125298,
          "",
          -1.7359933029819403,
          "",
          -0.7199133108144944,
          -1.2244791651675166,
          "",
          -0.8889451520452251,
          "",
          "",
          -1.1887402041099628,
          "",
          -1.0023247998360385,
          -1.5811521606060452,
          "",
          ""
         ],
         "yaxis": "y2"
        }
       ],
       "layout": {
        "hovermode": "x",
        "legend": {
         "bgcolor": "#F5F6F9",
         "font": {
          "color": "#4D5663"
         }
        },
        "paper_bgcolor": "#F5F6F9",
        "plot_bgcolor": "#F5F6F9",
        "template": {
         "data": {
          "bar": [
           {
            "error_x": {
             "color": "#2a3f5f"
            },
            "error_y": {
             "color": "#2a3f5f"
            },
            "marker": {
             "line": {
              "color": "#E5ECF6",
              "width": 0.5
             },
             "pattern": {
              "fillmode": "overlay",
              "size": 10,
              "solidity": 0.2
             }
            },
            "type": "bar"
           }
          ],
          "barpolar": [
           {
            "marker": {
             "line": {
              "color": "#E5ECF6",
              "width": 0.5
             },
             "pattern": {
              "fillmode": "overlay",
              "size": 10,
              "solidity": 0.2
             }
            },
            "type": "barpolar"
           }
          ],
          "carpet": [
           {
            "aaxis": {
             "endlinecolor": "#2a3f5f",
             "gridcolor": "white",
             "linecolor": "white",
             "minorgridcolor": "white",
             "startlinecolor": "#2a3f5f"
            },
            "baxis": {
             "endlinecolor": "#2a3f5f",
             "gridcolor": "white",
             "linecolor": "white",
             "minorgridcolor": "white",
             "startlinecolor": "#2a3f5f"
            },
            "type": "carpet"
           }
          ],
          "choropleth": [
           {
            "colorbar": {
             "outlinewidth": 0,
             "ticks": ""
            },
            "type": "choropleth"
           }
          ],
          "contour": [
           {
            "colorbar": {
             "outlinewidth": 0,
             "ticks": ""
            },
            "colorscale": [
             [
              0,
              "#0d0887"
             ],
             [
              0.1111111111111111,
              "#46039f"
             ],
             [
              0.2222222222222222,
              "#7201a8"
             ],
             [
              0.3333333333333333,
              "#9c179e"
             ],
             [
              0.4444444444444444,
              "#bd3786"
             ],
             [
              0.5555555555555556,
              "#d8576b"
             ],
             [
              0.6666666666666666,
              "#ed7953"
             ],
             [
              0.7777777777777778,
              "#fb9f3a"
             ],
             [
              0.8888888888888888,
              "#fdca26"
             ],
             [
              1,
              "#f0f921"
             ]
            ],
            "type": "contour"
           }
          ],
          "contourcarpet": [
           {
            "colorbar": {
             "outlinewidth": 0,
             "ticks": ""
            },
            "type": "contourcarpet"
           }
          ],
          "heatmap": [
           {
            "colorbar": {
             "outlinewidth": 0,
             "ticks": ""
            },
            "colorscale": [
             [
              0,
              "#0d0887"
             ],
             [
              0.1111111111111111,
              "#46039f"
             ],
             [
              0.2222222222222222,
              "#7201a8"
             ],
             [
              0.3333333333333333,
              "#9c179e"
             ],
             [
              0.4444444444444444,
              "#bd3786"
             ],
             [
              0.5555555555555556,
              "#d8576b"
             ],
             [
              0.6666666666666666,
              "#ed7953"
             ],
             [
              0.7777777777777778,
              "#fb9f3a"
             ],
             [
              0.8888888888888888,
              "#fdca26"
             ],
             [
              1,
              "#f0f921"
             ]
            ],
            "type": "heatmap"
           }
          ],
          "heatmapgl": [
           {
            "colorbar": {
             "outlinewidth": 0,
             "ticks": ""
            },
            "colorscale": [
             [
              0,
              "#0d0887"
             ],
             [
              0.1111111111111111,
              "#46039f"
             ],
             [
              0.2222222222222222,
              "#7201a8"
             ],
             [
              0.3333333333333333,
              "#9c179e"
             ],
             [
              0.4444444444444444,
              "#bd3786"
             ],
             [
              0.5555555555555556,
              "#d8576b"
             ],
             [
              0.6666666666666666,
              "#ed7953"
             ],
             [
              0.7777777777777778,
              "#fb9f3a"
             ],
             [
              0.8888888888888888,
              "#fdca26"
             ],
             [
              1,
              "#f0f921"
             ]
            ],
            "type": "heatmapgl"
           }
          ],
          "histogram": [
           {
            "marker": {
             "pattern": {
              "fillmode": "overlay",
              "size": 10,
              "solidity": 0.2
             }
            },
            "type": "histogram"
           }
          ],
          "histogram2d": [
           {
            "colorbar": {
             "outlinewidth": 0,
             "ticks": ""
            },
            "colorscale": [
             [
              0,
              "#0d0887"
             ],
             [
              0.1111111111111111,
              "#46039f"
             ],
             [
              0.2222222222222222,
              "#7201a8"
             ],
             [
              0.3333333333333333,
              "#9c179e"
             ],
             [
              0.4444444444444444,
              "#bd3786"
             ],
             [
              0.5555555555555556,
              "#d8576b"
             ],
             [
              0.6666666666666666,
              "#ed7953"
             ],
             [
              0.7777777777777778,
              "#fb9f3a"
             ],
             [
              0.8888888888888888,
              "#fdca26"
             ],
             [
              1,
              "#f0f921"
             ]
            ],
            "type": "histogram2d"
           }
          ],
          "histogram2dcontour": [
           {
            "colorbar": {
             "outlinewidth": 0,
             "ticks": ""
            },
            "colorscale": [
             [
              0,
              "#0d0887"
             ],
             [
              0.1111111111111111,
              "#46039f"
             ],
             [
              0.2222222222222222,
              "#7201a8"
             ],
             [
              0.3333333333333333,
              "#9c179e"
             ],
             [
              0.4444444444444444,
              "#bd3786"
             ],
             [
              0.5555555555555556,
              "#d8576b"
             ],
             [
              0.6666666666666666,
              "#ed7953"
             ],
             [
              0.7777777777777778,
              "#fb9f3a"
             ],
             [
              0.8888888888888888,
              "#fdca26"
             ],
             [
              1,
              "#f0f921"
             ]
            ],
            "type": "histogram2dcontour"
           }
          ],
          "mesh3d": [
           {
            "colorbar": {
             "outlinewidth": 0,
             "ticks": ""
            },
            "type": "mesh3d"
           }
          ],
          "parcoords": [
           {
            "line": {
             "colorbar": {
              "outlinewidth": 0,
              "ticks": ""
             }
            },
            "type": "parcoords"
           }
          ],
          "pie": [
           {
            "automargin": true,
            "type": "pie"
           }
          ],
          "scatter": [
           {
            "fillpattern": {
             "fillmode": "overlay",
             "size": 10,
             "solidity": 0.2
            },
            "type": "scatter"
           }
          ],
          "scatter3d": [
           {
            "line": {
             "colorbar": {
              "outlinewidth": 0,
              "ticks": ""
             }
            },
            "marker": {
             "colorbar": {
              "outlinewidth": 0,
              "ticks": ""
             }
            },
            "type": "scatter3d"
           }
          ],
          "scattercarpet": [
           {
            "marker": {
             "colorbar": {
              "outlinewidth": 0,
              "ticks": ""
             }
            },
            "type": "scattercarpet"
           }
          ],
          "scattergeo": [
           {
            "marker": {
             "colorbar": {
              "outlinewidth": 0,
              "ticks": ""
             }
            },
            "type": "scattergeo"
           }
          ],
          "scattergl": [
           {
            "marker": {
             "colorbar": {
              "outlinewidth": 0,
              "ticks": ""
             }
            },
            "type": "scattergl"
           }
          ],
          "scattermapbox": [
           {
            "marker": {
             "colorbar": {
              "outlinewidth": 0,
              "ticks": ""
             }
            },
            "type": "scattermapbox"
           }
          ],
          "scatterpolar": [
           {
            "marker": {
             "colorbar": {
              "outlinewidth": 0,
              "ticks": ""
             }
            },
            "type": "scatterpolar"
           }
          ],
          "scatterpolargl": [
           {
            "marker": {
             "colorbar": {
              "outlinewidth": 0,
              "ticks": ""
             }
            },
            "type": "scatterpolargl"
           }
          ],
          "scatterternary": [
           {
            "marker": {
             "colorbar": {
              "outlinewidth": 0,
              "ticks": ""
             }
            },
            "type": "scatterternary"
           }
          ],
          "surface": [
           {
            "colorbar": {
             "outlinewidth": 0,
             "ticks": ""
            },
            "colorscale": [
             [
              0,
              "#0d0887"
             ],
             [
              0.1111111111111111,
              "#46039f"
             ],
             [
              0.2222222222222222,
              "#7201a8"
             ],
             [
              0.3333333333333333,
              "#9c179e"
             ],
             [
              0.4444444444444444,
              "#bd3786"
             ],
             [
              0.5555555555555556,
              "#d8576b"
             ],
             [
              0.6666666666666666,
              "#ed7953"
             ],
             [
              0.7777777777777778,
              "#fb9f3a"
             ],
             [
              0.8888888888888888,
              "#fdca26"
             ],
             [
              1,
              "#f0f921"
             ]
            ],
            "type": "surface"
           }
          ],
          "table": [
           {
            "cells": {
             "fill": {
              "color": "#EBF0F8"
             },
             "line": {
              "color": "white"
             }
            },
            "header": {
             "fill": {
              "color": "#C8D4E3"
             },
             "line": {
              "color": "white"
             }
            },
            "type": "table"
           }
          ]
         },
         "layout": {
          "annotationdefaults": {
           "arrowcolor": "#2a3f5f",
           "arrowhead": 0,
           "arrowwidth": 1
          },
          "autotypenumbers": "strict",
          "coloraxis": {
           "colorbar": {
            "outlinewidth": 0,
            "ticks": ""
           }
          },
          "colorscale": {
           "diverging": [
            [
             0,
             "#8e0152"
            ],
            [
             0.1,
             "#c51b7d"
            ],
            [
             0.2,
             "#de77ae"
            ],
            [
             0.3,
             "#f1b6da"
            ],
            [
             0.4,
             "#fde0ef"
            ],
            [
             0.5,
             "#f7f7f7"
            ],
            [
             0.6,
             "#e6f5d0"
            ],
            [
             0.7,
             "#b8e186"
            ],
            [
             0.8,
             "#7fbc41"
            ],
            [
             0.9,
             "#4d9221"
            ],
            [
             1,
             "#276419"
            ]
           ],
           "sequential": [
            [
             0,
             "#0d0887"
            ],
            [
             0.1111111111111111,
             "#46039f"
            ],
            [
             0.2222222222222222,
             "#7201a8"
            ],
            [
             0.3333333333333333,
             "#9c179e"
            ],
            [
             0.4444444444444444,
             "#bd3786"
            ],
            [
             0.5555555555555556,
             "#d8576b"
            ],
            [
             0.6666666666666666,
             "#ed7953"
            ],
            [
             0.7777777777777778,
             "#fb9f3a"
            ],
            [
             0.8888888888888888,
             "#fdca26"
            ],
            [
             1,
             "#f0f921"
            ]
           ],
           "sequentialminus": [
            [
             0,
             "#0d0887"
            ],
            [
             0.1111111111111111,
             "#46039f"
            ],
            [
             0.2222222222222222,
             "#7201a8"
            ],
            [
             0.3333333333333333,
             "#9c179e"
            ],
            [
             0.4444444444444444,
             "#bd3786"
            ],
            [
             0.5555555555555556,
             "#d8576b"
            ],
            [
             0.6666666666666666,
             "#ed7953"
            ],
            [
             0.7777777777777778,
             "#fb9f3a"
            ],
            [
             0.8888888888888888,
             "#fdca26"
            ],
            [
             1,
             "#f0f921"
            ]
           ]
          },
          "colorway": [
           "#636efa",
           "#EF553B",
           "#00cc96",
           "#ab63fa",
           "#FFA15A",
           "#19d3f3",
           "#FF6692",
           "#B6E880",
           "#FF97FF",
           "#FECB52"
          ],
          "font": {
           "color": "#2a3f5f"
          },
          "geo": {
           "bgcolor": "white",
           "lakecolor": "white",
           "landcolor": "#E5ECF6",
           "showlakes": true,
           "showland": true,
           "subunitcolor": "white"
          },
          "hoverlabel": {
           "align": "left"
          },
          "hovermode": "closest",
          "mapbox": {
           "style": "light"
          },
          "paper_bgcolor": "white",
          "plot_bgcolor": "#E5ECF6",
          "polar": {
           "angularaxis": {
            "gridcolor": "white",
            "linecolor": "white",
            "ticks": ""
           },
           "bgcolor": "#E5ECF6",
           "radialaxis": {
            "gridcolor": "white",
            "linecolor": "white",
            "ticks": ""
           }
          },
          "scene": {
           "xaxis": {
            "backgroundcolor": "#E5ECF6",
            "gridcolor": "white",
            "gridwidth": 2,
            "linecolor": "white",
            "showbackground": true,
            "ticks": "",
            "zerolinecolor": "white"
           },
           "yaxis": {
            "backgroundcolor": "#E5ECF6",
            "gridcolor": "white",
            "gridwidth": 2,
            "linecolor": "white",
            "showbackground": true,
            "ticks": "",
            "zerolinecolor": "white"
           },
           "zaxis": {
            "backgroundcolor": "#E5ECF6",
            "gridcolor": "white",
            "gridwidth": 2,
            "linecolor": "white",
            "showbackground": true,
            "ticks": "",
            "zerolinecolor": "white"
           }
          },
          "shapedefaults": {
           "line": {
            "color": "#2a3f5f"
           }
          },
          "ternary": {
           "aaxis": {
            "gridcolor": "white",
            "linecolor": "white",
            "ticks": ""
           },
           "baxis": {
            "gridcolor": "white",
            "linecolor": "white",
            "ticks": ""
           },
           "bgcolor": "#E5ECF6",
           "caxis": {
            "gridcolor": "white",
            "linecolor": "white",
            "ticks": ""
           }
          },
          "title": {
           "x": 0.05
          },
          "xaxis": {
           "automargin": true,
           "gridcolor": "white",
           "linecolor": "white",
           "ticks": "",
           "title": {
            "standoff": 15
           },
           "zerolinecolor": "white",
           "zerolinewidth": 2
          },
          "yaxis": {
           "automargin": true,
           "gridcolor": "white",
           "linecolor": "white",
           "ticks": "",
           "title": {
            "standoff": 15
           },
           "zerolinecolor": "white",
           "zerolinewidth": 2
          }
         }
        },
        "title": {
         "font": {
          "color": "#4D5663"
         }
        },
        "xaxis": {
         "gridcolor": "#E1E5ED",
         "showgrid": true,
         "tickfont": {
          "color": "#4D5663"
         },
         "title": {
          "font": {
           "color": "#4D5663"
          },
          "text": ""
         },
         "zerolinecolor": "#E1E5ED"
        },
        "xaxis2": {
         "anchor": "y2",
         "gridcolor": "#E1E5ED",
         "showgrid": true,
         "showticklabels": false,
         "tickfont": {
          "color": "#4D5663"
         },
         "title": {
          "font": {
           "color": "#4D5663"
          },
          "text": ""
         },
         "zerolinecolor": "#E1E5ED"
        },
        "yaxis": {
         "domain": [
          0.3,
          1
         ],
         "gridcolor": "#E1E5ED",
         "showgrid": true,
         "tickfont": {
          "color": "#4D5663"
         },
         "title": {
          "font": {
           "color": "#4D5663"
          },
          "text": ""
         },
         "zerolinecolor": "#E1E5ED"
        },
        "yaxis2": {
         "domain": [
          0,
          0.25
         ],
         "gridcolor": "#E1E5ED",
         "showgrid": true,
         "tickfont": {
          "color": "#4D5663"
         },
         "title": {
          "font": {
           "color": "#4D5663"
          },
          "text": "Spread"
         },
         "zerolinecolor": "#E1E5ED"
        }
       }
      },
      "text/html": [
       "<div>                            <div id=\"6c79c044-7ba1-46bd-be3a-1144777cb933\" class=\"plotly-graph-div\" style=\"height:525px; width:100%;\"></div>            <script type=\"text/javascript\">                require([\"plotly\"], function(Plotly) {                    window.PLOTLYENV=window.PLOTLYENV || {};\n",
       "                    window.PLOTLYENV.BASE_URL='https://plot.ly';                                    if (document.getElementById(\"6c79c044-7ba1-46bd-be3a-1144777cb933\")) {                    Plotly.newPlot(                        \"6c79c044-7ba1-46bd-be3a-1144777cb933\",                        [{\"line\":{\"color\":\"rgba(255, 153, 51, 1.0)\",\"dash\":\"solid\",\"shape\":\"linear\",\"width\":1.3},\"mode\":\"lines\",\"name\":\"A\",\"text\":\"\",\"x\":[0,1,2,3,4,5,6,7,8,9,10,11,12,13,14,15,16,17,18,19,20,21,22,23,24,25,26,27,28,29,30,31,32,33,34,35,36,37,38,39,40,41,42,43,44,45,46,47,48,49,50,51,52,53,54,55,56,57,58,59,60,61,62,63,64,65,66,67,68,69,70,71,72,73,74,75,76,77,78,79,80,81,82,83,84,85,86,87,88,89,90,91,92,93,94,95,96,97,98,99],\"y\":[-0.1655705937827465,0.6339335459532506,0.02552739960708487,0.01969683939300677,1.1722880458422509,0.9747235756758493,-0.6050070348936066,0.5085564324615662,-1.545435955849086,0.016081732460917663,0.22518728497505483,-1.3333108089982026,0.988778752425804,2.198159687266945,1.268817519997271,-0.008764501052270413,-0.44398572728548547,0.5551164490476496,0.8586223532174,-0.2094038044256258,-0.43206622309689674,0.6418351317018594,-1.5385625940572467,-0.17674250764098665,0.6744836258489834,-1.9243574705353481,-0.5163953508976782,0.9930864582338338,0.32124256694507275,-0.6698476139460213,0.381068709679253,-1.1944409695761267,0.6849270399380836,-0.3754746280710603,0.29975630620422455,0.05640202727675874,-0.94912681176481,-0.4799579983040787,-2.051159458016786,-0.3451565542145435,0.5491402974707585,0.36719851737511805,0.06903976021383912,0.9190117725334557,-1.024537808095599,-0.279366487748021,-1.708888485836476,-0.14402401705652035,-0.7956987990694804,-0.8078595466173956,0.6790479801631213,0.7620283540488753,0.04971040573434907,-1.0480450252213853,-1.1640007543201105,-0.8987684206556861,1.0921667216030286,-0.51688241157997,0.23331358423528553,0.72022348620067,-0.153330783695401,-1.7485084923560625,-0.5578921555527383,0.2592053361084132,0.6505485032752829,-0.09822617559722291,-0.11396477603957711,-0.04711327080097372,0.41794875708761625,-0.9794280917693772,-1.4930800481301383,0.20024816164433462,-0.0598198356874181,0.40228892142346856,0.7198143569507868,-0.7989673881758005,1.136051224771882,0.5213471362522815,0.382894174276429,-0.3781806207522293,0.1047978285603859,-0.5590826824234247,-1.4103183701528856,1.1809587208566368,-0.7340851584382985,2.302660557026478,-1.8176943917922668,-0.7827026497367355,-1.6804854405801986,-1.7161193914182236,0.13699488338331858,-1.0562415021653813,0.3440151400307065,-2.4135843823581773,-1.7169647154712107,0.11730382449763617,-0.12497531838910092,-0.9130583926720433,0.14177914589027968,-0.7325023740963575],\"type\":\"scatter\"},{\"line\":{\"color\":\"rgba(55, 128, 191, 1.0)\",\"dash\":\"solid\",\"shape\":\"linear\",\"width\":1.3},\"mode\":\"lines\",\"name\":\"B\",\"text\":\"\",\"x\":[0,1,2,3,4,5,6,7,8,9,10,11,12,13,14,15,16,17,18,19,20,21,22,23,24,25,26,27,28,29,30,31,32,33,34,35,36,37,38,39,40,41,42,43,44,45,46,47,48,49,50,51,52,53,54,55,56,57,58,59,60,61,62,63,64,65,66,67,68,69,70,71,72,73,74,75,76,77,78,79,80,81,82,83,84,85,86,87,88,89,90,91,92,93,94,95,96,97,98,99],\"y\":[-0.2924447826011183,0.7407806451006329,-0.4238185025341148,-0.806529453653887,-0.8131387530579735,0.00734319142364019,1.1409690687084817,-1.0399200861700937,-0.9757840095052484,0.6371836649454985,0.4822400989864475,-0.10658927474989756,1.030457973217204,0.298495758255452,-0.7007423238711151,0.3099974602415881,-0.999126943370043,-0.0534876423175067,-0.13547608459305985,1.5972425667119357,-2.5062520958522185,0.23267837072353362,0.025786950862549618,0.7223057893102796,-0.6716161547784072,-0.7347753399574438,-0.10092901382515361,1.9539851832256292,-0.6513024950203117,1.4165755824561908,-0.999587606254183,-0.7707015786264458,0.1651321634271878,0.27957354172687954,-0.07142121924509102,-0.592976528976272,-0.6196597646542373,0.24417621252015778,0.07404638331213868,1.3227806225059329,1.7101366397285278,-1.5305925978054404,-0.744847538740032,2.1580413988178124,-0.26752586946806556,-1.7789276564220624,1.3471114020730155,-0.5430113078286412,-0.8601260350318142,0.7316624912629281,2.5130402870286854,-1.4384259319922756,0.6398977902189656,0.3129349832028792,-0.07569412487699408,-1.6491607182971357,-0.7762918151343828,-0.13478606841780538,-0.013620877199414565,-0.2064697103702566,-1.280393149670629,0.20677309874895722,0.5884118424194865,0.4229230519321674,-0.9459402404714627,-0.37290272901489174,-1.322503831154513,0.38427151353223454,0.3440100483105457,1.2806969455257453,0.4153452313345435,0.5806468212039666,1.6475556469388035,1.104705852204584,0.5020651550204874,-1.7915206314516867,0.25651199464656715,-0.5105539232384897,0.6480584816840614,-1.0146531468192597,1.1156432997731665,-2.2734448280261437,2.000158801474051,0.6705878143141647,1.0574589784742312,1.1555814635540624,-0.08170108881032653,-1.0400644433309123,-0.9605721297657042,-0.49164022625070686,-0.45380715694038964,-0.16729635012015623,-0.7955770607437094,-2.814936036656384,-0.5282245113612478,-1.2738671529418648,0.8773494814469376,0.668093767934002,-0.8402771874279442,-0.9939287782369531],\"type\":\"scatter\"},{\"connectgaps\":false,\"fill\":\"tozeroy\",\"line\":{\"color\":\"green\",\"dash\":\"solid\",\"shape\":\"linear\",\"width\":0.5},\"mode\":\"lines\",\"name\":\"Spread\",\"showlegend\":false,\"x\":[0,1,2,3,4,5,6,7,8,9,10,11,12,13,14,15,16,17,18,19,20,21,22,23,24,25,26,27,28,29,30,31,32,33,34,35,36,37,38,39,40,41,42,43,44,45,46,47,48,49,50,51,52,53,54,55,56,57,58,59,60,61,62,63,64,65,66,67,68,69,70,71,72,73,74,75,76,77,78,79,80,81,82,83,84,85,86,87,88,89,90,91,92,93,94,95,96,97,98,99],\"xaxis\":\"x2\",\"y\":[0.12687418881837179,\"\",0.4493459021411997,0.8262262930468938,1.9854267989002243,0.9673803842522092,\"\",1.5484765186316598,\"\",\"\",\"\",\"\",\"\",1.8996639290114932,1.9695598438683861,\"\",0.5551412160845576,0.6086040913651563,0.9940984378104598,\"\",2.0741858727553217,0.40915676097832576,\"\",\"\",1.3460997806273904,\"\",\"\",\"\",0.9725450619653844,\"\",1.380656315933436,\"\",0.5197948765108957,\"\",0.3711775254493156,0.6493785562530306,\"\",\"\",\"\",\"\",\"\",1.8977911151805584,0.813887298953871,\"\",\"\",1.4995611686740413,\"\",0.3989872907721208,0.0644272359623338,\"\",\"\",2.200454286041151,\"\",\"\",\"\",0.7503922976414497,1.8684585367374114,\"\",0.2469344614347001,0.9266931965709266,1.127062365975228,\"\",\"\",\"\",1.5964887437467457,0.27467655341766883,1.2085390551149358,\"\",0.07393870877707054,\"\",\"\",\"\",\"\",\"\",0.21774920193029934,0.9925532432758862,0.8795392301253148,1.0319010594907712,\"\",0.6364725260670303,\"\",1.714362145602719,\"\",0.5103709065424721,\"\",1.1470790934724158,\"\",0.25736179359417677,\"\",\"\",0.5908020403237082,\"\",1.139592200774416,0.40135165429820674,\"\",1.391170977439501,\"\",\"\",0.982056333318224,0.2614264041405956],\"yaxis\":\"y2\",\"type\":\"scatter\"},{\"connectgaps\":false,\"fill\":\"tozeroy\",\"line\":{\"color\":\"red\",\"dash\":\"solid\",\"shape\":\"linear\",\"width\":0.5},\"mode\":\"lines\",\"name\":\"Spread\",\"showlegend\":false,\"x\":[0,1,2,3,4,5,6,7,8,9,10,11,12,13,14,15,16,17,18,19,20,21,22,23,24,25,26,27,28,29,30,31,32,33,34,35,36,37,38,39,40,41,42,43,44,45,46,47,48,49,50,51,52,53,54,55,56,57,58,59,60,61,62,63,64,65,66,67,68,69,70,71,72,73,74,75,76,77,78,79,80,81,82,83,84,85,86,87,88,89,90,91,92,93,94,95,96,97,98,99],\"xaxis\":\"x2\",\"y\":[\"\",-0.10684709914738233,\"\",\"\",\"\",\"\",-1.7459761036020884,\"\",-0.5696519463438376,-0.6211019324845808,-0.2570528140113927,-1.226721534248305,-0.04167922079139985,\"\",\"\",-0.3187619612938585,\"\",\"\",\"\",-1.8066463711375615,\"\",\"\",-1.5643495449197964,-0.8990482969512662,\"\",-1.1895821305779042,-0.41546633707252456,-0.9608987249917954,\"\",-2.086423196402212,\"\",-0.4237393909496808,\"\",-0.6550481697979398,\"\",\"\",-0.3294670471105726,-0.7241342108242365,-2.1252058413289245,-1.6679371767204763,-1.1609963422577692,\"\",\"\",-1.2390296262843568,-0.7570119386275334,\"\",-3.0559998879094916,\"\",\"\",-1.5395220378803236,-1.8339923068655641,\"\",-0.5901873844846166,-1.3609800084242645,-1.0883066294431165,\"\",\"\",-0.38209634316216456,\"\",\"\",\"\",-1.9552815911050199,-1.146303997972225,-0.16371771582375422,\"\",\"\",\"\",-0.43138478433320826,\"\",-2.2601250372951225,-1.9084252794646819,-0.380398659559632,-1.7073754826262215,-0.7024169307811154,\"\",\"\",\"\",\"\",-0.2651643074076324,\"\",-1.0108454712127806,\"\",-3.410477171626937,\"\",-1.7915441369125298,\"\",-1.7359933029819403,\"\",-0.7199133108144944,-1.2244791651675166,\"\",-0.8889451520452251,\"\",\"\",-1.1887402041099628,\"\",-1.0023247998360385,-1.5811521606060452,\"\",\"\"],\"yaxis\":\"y2\",\"type\":\"scatter\"}],                        {\"hovermode\":\"x\",\"legend\":{\"bgcolor\":\"#F5F6F9\",\"font\":{\"color\":\"#4D5663\"}},\"paper_bgcolor\":\"#F5F6F9\",\"plot_bgcolor\":\"#F5F6F9\",\"template\":{\"data\":{\"barpolar\":[{\"marker\":{\"line\":{\"color\":\"#E5ECF6\",\"width\":0.5},\"pattern\":{\"fillmode\":\"overlay\",\"size\":10,\"solidity\":0.2}},\"type\":\"barpolar\"}],\"bar\":[{\"error_x\":{\"color\":\"#2a3f5f\"},\"error_y\":{\"color\":\"#2a3f5f\"},\"marker\":{\"line\":{\"color\":\"#E5ECF6\",\"width\":0.5},\"pattern\":{\"fillmode\":\"overlay\",\"size\":10,\"solidity\":0.2}},\"type\":\"bar\"}],\"carpet\":[{\"aaxis\":{\"endlinecolor\":\"#2a3f5f\",\"gridcolor\":\"white\",\"linecolor\":\"white\",\"minorgridcolor\":\"white\",\"startlinecolor\":\"#2a3f5f\"},\"baxis\":{\"endlinecolor\":\"#2a3f5f\",\"gridcolor\":\"white\",\"linecolor\":\"white\",\"minorgridcolor\":\"white\",\"startlinecolor\":\"#2a3f5f\"},\"type\":\"carpet\"}],\"choropleth\":[{\"colorbar\":{\"outlinewidth\":0,\"ticks\":\"\"},\"type\":\"choropleth\"}],\"contourcarpet\":[{\"colorbar\":{\"outlinewidth\":0,\"ticks\":\"\"},\"type\":\"contourcarpet\"}],\"contour\":[{\"colorbar\":{\"outlinewidth\":0,\"ticks\":\"\"},\"colorscale\":[[0.0,\"#0d0887\"],[0.1111111111111111,\"#46039f\"],[0.2222222222222222,\"#7201a8\"],[0.3333333333333333,\"#9c179e\"],[0.4444444444444444,\"#bd3786\"],[0.5555555555555556,\"#d8576b\"],[0.6666666666666666,\"#ed7953\"],[0.7777777777777778,\"#fb9f3a\"],[0.8888888888888888,\"#fdca26\"],[1.0,\"#f0f921\"]],\"type\":\"contour\"}],\"heatmapgl\":[{\"colorbar\":{\"outlinewidth\":0,\"ticks\":\"\"},\"colorscale\":[[0.0,\"#0d0887\"],[0.1111111111111111,\"#46039f\"],[0.2222222222222222,\"#7201a8\"],[0.3333333333333333,\"#9c179e\"],[0.4444444444444444,\"#bd3786\"],[0.5555555555555556,\"#d8576b\"],[0.6666666666666666,\"#ed7953\"],[0.7777777777777778,\"#fb9f3a\"],[0.8888888888888888,\"#fdca26\"],[1.0,\"#f0f921\"]],\"type\":\"heatmapgl\"}],\"heatmap\":[{\"colorbar\":{\"outlinewidth\":0,\"ticks\":\"\"},\"colorscale\":[[0.0,\"#0d0887\"],[0.1111111111111111,\"#46039f\"],[0.2222222222222222,\"#7201a8\"],[0.3333333333333333,\"#9c179e\"],[0.4444444444444444,\"#bd3786\"],[0.5555555555555556,\"#d8576b\"],[0.6666666666666666,\"#ed7953\"],[0.7777777777777778,\"#fb9f3a\"],[0.8888888888888888,\"#fdca26\"],[1.0,\"#f0f921\"]],\"type\":\"heatmap\"}],\"histogram2dcontour\":[{\"colorbar\":{\"outlinewidth\":0,\"ticks\":\"\"},\"colorscale\":[[0.0,\"#0d0887\"],[0.1111111111111111,\"#46039f\"],[0.2222222222222222,\"#7201a8\"],[0.3333333333333333,\"#9c179e\"],[0.4444444444444444,\"#bd3786\"],[0.5555555555555556,\"#d8576b\"],[0.6666666666666666,\"#ed7953\"],[0.7777777777777778,\"#fb9f3a\"],[0.8888888888888888,\"#fdca26\"],[1.0,\"#f0f921\"]],\"type\":\"histogram2dcontour\"}],\"histogram2d\":[{\"colorbar\":{\"outlinewidth\":0,\"ticks\":\"\"},\"colorscale\":[[0.0,\"#0d0887\"],[0.1111111111111111,\"#46039f\"],[0.2222222222222222,\"#7201a8\"],[0.3333333333333333,\"#9c179e\"],[0.4444444444444444,\"#bd3786\"],[0.5555555555555556,\"#d8576b\"],[0.6666666666666666,\"#ed7953\"],[0.7777777777777778,\"#fb9f3a\"],[0.8888888888888888,\"#fdca26\"],[1.0,\"#f0f921\"]],\"type\":\"histogram2d\"}],\"histogram\":[{\"marker\":{\"pattern\":{\"fillmode\":\"overlay\",\"size\":10,\"solidity\":0.2}},\"type\":\"histogram\"}],\"mesh3d\":[{\"colorbar\":{\"outlinewidth\":0,\"ticks\":\"\"},\"type\":\"mesh3d\"}],\"parcoords\":[{\"line\":{\"colorbar\":{\"outlinewidth\":0,\"ticks\":\"\"}},\"type\":\"parcoords\"}],\"pie\":[{\"automargin\":true,\"type\":\"pie\"}],\"scatter3d\":[{\"line\":{\"colorbar\":{\"outlinewidth\":0,\"ticks\":\"\"}},\"marker\":{\"colorbar\":{\"outlinewidth\":0,\"ticks\":\"\"}},\"type\":\"scatter3d\"}],\"scattercarpet\":[{\"marker\":{\"colorbar\":{\"outlinewidth\":0,\"ticks\":\"\"}},\"type\":\"scattercarpet\"}],\"scattergeo\":[{\"marker\":{\"colorbar\":{\"outlinewidth\":0,\"ticks\":\"\"}},\"type\":\"scattergeo\"}],\"scattergl\":[{\"marker\":{\"colorbar\":{\"outlinewidth\":0,\"ticks\":\"\"}},\"type\":\"scattergl\"}],\"scattermapbox\":[{\"marker\":{\"colorbar\":{\"outlinewidth\":0,\"ticks\":\"\"}},\"type\":\"scattermapbox\"}],\"scatterpolargl\":[{\"marker\":{\"colorbar\":{\"outlinewidth\":0,\"ticks\":\"\"}},\"type\":\"scatterpolargl\"}],\"scatterpolar\":[{\"marker\":{\"colorbar\":{\"outlinewidth\":0,\"ticks\":\"\"}},\"type\":\"scatterpolar\"}],\"scatter\":[{\"fillpattern\":{\"fillmode\":\"overlay\",\"size\":10,\"solidity\":0.2},\"type\":\"scatter\"}],\"scatterternary\":[{\"marker\":{\"colorbar\":{\"outlinewidth\":0,\"ticks\":\"\"}},\"type\":\"scatterternary\"}],\"surface\":[{\"colorbar\":{\"outlinewidth\":0,\"ticks\":\"\"},\"colorscale\":[[0.0,\"#0d0887\"],[0.1111111111111111,\"#46039f\"],[0.2222222222222222,\"#7201a8\"],[0.3333333333333333,\"#9c179e\"],[0.4444444444444444,\"#bd3786\"],[0.5555555555555556,\"#d8576b\"],[0.6666666666666666,\"#ed7953\"],[0.7777777777777778,\"#fb9f3a\"],[0.8888888888888888,\"#fdca26\"],[1.0,\"#f0f921\"]],\"type\":\"surface\"}],\"table\":[{\"cells\":{\"fill\":{\"color\":\"#EBF0F8\"},\"line\":{\"color\":\"white\"}},\"header\":{\"fill\":{\"color\":\"#C8D4E3\"},\"line\":{\"color\":\"white\"}},\"type\":\"table\"}]},\"layout\":{\"annotationdefaults\":{\"arrowcolor\":\"#2a3f5f\",\"arrowhead\":0,\"arrowwidth\":1},\"autotypenumbers\":\"strict\",\"coloraxis\":{\"colorbar\":{\"outlinewidth\":0,\"ticks\":\"\"}},\"colorscale\":{\"diverging\":[[0,\"#8e0152\"],[0.1,\"#c51b7d\"],[0.2,\"#de77ae\"],[0.3,\"#f1b6da\"],[0.4,\"#fde0ef\"],[0.5,\"#f7f7f7\"],[0.6,\"#e6f5d0\"],[0.7,\"#b8e186\"],[0.8,\"#7fbc41\"],[0.9,\"#4d9221\"],[1,\"#276419\"]],\"sequential\":[[0.0,\"#0d0887\"],[0.1111111111111111,\"#46039f\"],[0.2222222222222222,\"#7201a8\"],[0.3333333333333333,\"#9c179e\"],[0.4444444444444444,\"#bd3786\"],[0.5555555555555556,\"#d8576b\"],[0.6666666666666666,\"#ed7953\"],[0.7777777777777778,\"#fb9f3a\"],[0.8888888888888888,\"#fdca26\"],[1.0,\"#f0f921\"]],\"sequentialminus\":[[0.0,\"#0d0887\"],[0.1111111111111111,\"#46039f\"],[0.2222222222222222,\"#7201a8\"],[0.3333333333333333,\"#9c179e\"],[0.4444444444444444,\"#bd3786\"],[0.5555555555555556,\"#d8576b\"],[0.6666666666666666,\"#ed7953\"],[0.7777777777777778,\"#fb9f3a\"],[0.8888888888888888,\"#fdca26\"],[1.0,\"#f0f921\"]]},\"colorway\":[\"#636efa\",\"#EF553B\",\"#00cc96\",\"#ab63fa\",\"#FFA15A\",\"#19d3f3\",\"#FF6692\",\"#B6E880\",\"#FF97FF\",\"#FECB52\"],\"font\":{\"color\":\"#2a3f5f\"},\"geo\":{\"bgcolor\":\"white\",\"lakecolor\":\"white\",\"landcolor\":\"#E5ECF6\",\"showlakes\":true,\"showland\":true,\"subunitcolor\":\"white\"},\"hoverlabel\":{\"align\":\"left\"},\"hovermode\":\"closest\",\"mapbox\":{\"style\":\"light\"},\"paper_bgcolor\":\"white\",\"plot_bgcolor\":\"#E5ECF6\",\"polar\":{\"angularaxis\":{\"gridcolor\":\"white\",\"linecolor\":\"white\",\"ticks\":\"\"},\"bgcolor\":\"#E5ECF6\",\"radialaxis\":{\"gridcolor\":\"white\",\"linecolor\":\"white\",\"ticks\":\"\"}},\"scene\":{\"xaxis\":{\"backgroundcolor\":\"#E5ECF6\",\"gridcolor\":\"white\",\"gridwidth\":2,\"linecolor\":\"white\",\"showbackground\":true,\"ticks\":\"\",\"zerolinecolor\":\"white\"},\"yaxis\":{\"backgroundcolor\":\"#E5ECF6\",\"gridcolor\":\"white\",\"gridwidth\":2,\"linecolor\":\"white\",\"showbackground\":true,\"ticks\":\"\",\"zerolinecolor\":\"white\"},\"zaxis\":{\"backgroundcolor\":\"#E5ECF6\",\"gridcolor\":\"white\",\"gridwidth\":2,\"linecolor\":\"white\",\"showbackground\":true,\"ticks\":\"\",\"zerolinecolor\":\"white\"}},\"shapedefaults\":{\"line\":{\"color\":\"#2a3f5f\"}},\"ternary\":{\"aaxis\":{\"gridcolor\":\"white\",\"linecolor\":\"white\",\"ticks\":\"\"},\"baxis\":{\"gridcolor\":\"white\",\"linecolor\":\"white\",\"ticks\":\"\"},\"bgcolor\":\"#E5ECF6\",\"caxis\":{\"gridcolor\":\"white\",\"linecolor\":\"white\",\"ticks\":\"\"}},\"title\":{\"x\":0.05},\"xaxis\":{\"automargin\":true,\"gridcolor\":\"white\",\"linecolor\":\"white\",\"ticks\":\"\",\"title\":{\"standoff\":15},\"zerolinecolor\":\"white\",\"zerolinewidth\":2},\"yaxis\":{\"automargin\":true,\"gridcolor\":\"white\",\"linecolor\":\"white\",\"ticks\":\"\",\"title\":{\"standoff\":15},\"zerolinecolor\":\"white\",\"zerolinewidth\":2}}},\"title\":{\"font\":{\"color\":\"#4D5663\"}},\"xaxis\":{\"gridcolor\":\"#E1E5ED\",\"showgrid\":true,\"tickfont\":{\"color\":\"#4D5663\"},\"title\":{\"font\":{\"color\":\"#4D5663\"},\"text\":\"\"},\"zerolinecolor\":\"#E1E5ED\"},\"yaxis\":{\"domain\":[0.3,1],\"gridcolor\":\"#E1E5ED\",\"showgrid\":true,\"tickfont\":{\"color\":\"#4D5663\"},\"title\":{\"font\":{\"color\":\"#4D5663\"},\"text\":\"\"},\"zerolinecolor\":\"#E1E5ED\"},\"yaxis2\":{\"domain\":[0,0.25],\"gridcolor\":\"#E1E5ED\",\"showgrid\":true,\"tickfont\":{\"color\":\"#4D5663\"},\"title\":{\"font\":{\"color\":\"#4D5663\"},\"text\":\"Spread\"},\"zerolinecolor\":\"#E1E5ED\"},\"xaxis2\":{\"anchor\":\"y2\",\"gridcolor\":\"#E1E5ED\",\"showgrid\":true,\"showticklabels\":false,\"tickfont\":{\"color\":\"#4D5663\"},\"title\":{\"font\":{\"color\":\"#4D5663\"},\"text\":\"\"},\"zerolinecolor\":\"#E1E5ED\"}},                        {\"showLink\": true, \"linkText\": \"Export to plot.ly\", \"plotlyServerURL\": \"https://plot.ly\", \"responsive\": true}                    ).then(function(){\n",
       "                            \n",
       "var gd = document.getElementById('6c79c044-7ba1-46bd-be3a-1144777cb933');\n",
       "var x = new MutationObserver(function (mutations, observer) {{\n",
       "        var display = window.getComputedStyle(gd).display;\n",
       "        if (!display || display === 'none') {{\n",
       "            console.log([gd, 'removed!']);\n",
       "            Plotly.purge(gd);\n",
       "            observer.disconnect();\n",
       "        }}\n",
       "}});\n",
       "\n",
       "// Listen for the removal of the full notebook cells\n",
       "var notebookContainer = gd.closest('#notebook-container');\n",
       "if (notebookContainer) {{\n",
       "    x.observe(notebookContainer, {childList: true});\n",
       "}}\n",
       "\n",
       "// Listen for the clearing of the current output cell\n",
       "var outputEl = gd.closest('.output');\n",
       "if (outputEl) {{\n",
       "    x.observe(outputEl, {childList: true});\n",
       "}}\n",
       "\n",
       "                        })                };                });            </script>        </div>"
      ]
     },
     "metadata": {},
     "output_type": "display_data"
    }
   ],
   "source": [
    "df[['A','B']].iplot(kind='spread')"
   ]
  },
  {
   "cell_type": "markdown",
   "metadata": {},
   "source": [
    "## histogram"
   ]
  },
  {
   "cell_type": "code",
   "execution_count": 16,
   "metadata": {},
   "outputs": [
    {
     "data": {
      "application/vnd.plotly.v1+json": {
       "config": {
        "linkText": "Export to plot.ly",
        "plotlyServerURL": "https://plot.ly",
        "showLink": true
       },
       "data": [
        {
         "histfunc": "count",
         "histnorm": "",
         "marker": {
          "color": "rgba(255, 153, 51, 1.0)",
          "line": {
           "color": "#4D5663",
           "width": 1.3
          }
         },
         "name": "A",
         "nbinsx": 25,
         "opacity": 0.8,
         "orientation": "v",
         "type": "histogram",
         "x": [
          -0.1655705937827465,
          0.6339335459532506,
          0.02552739960708487,
          0.01969683939300677,
          1.1722880458422509,
          0.9747235756758493,
          -0.6050070348936066,
          0.5085564324615662,
          -1.545435955849086,
          0.016081732460917663,
          0.22518728497505483,
          -1.3333108089982026,
          0.988778752425804,
          2.198159687266945,
          1.268817519997271,
          -0.008764501052270413,
          -0.44398572728548547,
          0.5551164490476496,
          0.8586223532174,
          -0.2094038044256258,
          -0.43206622309689674,
          0.6418351317018594,
          -1.5385625940572467,
          -0.17674250764098665,
          0.6744836258489834,
          -1.9243574705353481,
          -0.5163953508976782,
          0.9930864582338338,
          0.32124256694507275,
          -0.6698476139460213,
          0.381068709679253,
          -1.1944409695761267,
          0.6849270399380836,
          -0.3754746280710603,
          0.29975630620422455,
          0.05640202727675874,
          -0.94912681176481,
          -0.4799579983040787,
          -2.051159458016786,
          -0.3451565542145435,
          0.5491402974707585,
          0.36719851737511805,
          0.06903976021383912,
          0.9190117725334557,
          -1.024537808095599,
          -0.279366487748021,
          -1.708888485836476,
          -0.14402401705652035,
          -0.7956987990694804,
          -0.8078595466173956,
          0.6790479801631213,
          0.7620283540488753,
          0.04971040573434907,
          -1.0480450252213853,
          -1.1640007543201105,
          -0.8987684206556861,
          1.0921667216030286,
          -0.51688241157997,
          0.23331358423528553,
          0.72022348620067,
          -0.153330783695401,
          -1.7485084923560625,
          -0.5578921555527383,
          0.2592053361084132,
          0.6505485032752829,
          -0.09822617559722291,
          -0.11396477603957711,
          -0.04711327080097372,
          0.41794875708761625,
          -0.9794280917693772,
          -1.4930800481301383,
          0.20024816164433462,
          -0.0598198356874181,
          0.40228892142346856,
          0.7198143569507868,
          -0.7989673881758005,
          1.136051224771882,
          0.5213471362522815,
          0.382894174276429,
          -0.3781806207522293,
          0.1047978285603859,
          -0.5590826824234247,
          -1.4103183701528856,
          1.1809587208566368,
          -0.7340851584382985,
          2.302660557026478,
          -1.8176943917922668,
          -0.7827026497367355,
          -1.6804854405801986,
          -1.7161193914182236,
          0.13699488338331858,
          -1.0562415021653813,
          0.3440151400307065,
          -2.4135843823581773,
          -1.7169647154712107,
          0.11730382449763617,
          -0.12497531838910092,
          -0.9130583926720433,
          0.14177914589027968,
          -0.7325023740963575
         ]
        }
       ],
       "layout": {
        "barmode": "overlay",
        "legend": {
         "bgcolor": "#F5F6F9",
         "font": {
          "color": "#4D5663"
         }
        },
        "paper_bgcolor": "#F5F6F9",
        "plot_bgcolor": "#F5F6F9",
        "template": {
         "data": {
          "bar": [
           {
            "error_x": {
             "color": "#2a3f5f"
            },
            "error_y": {
             "color": "#2a3f5f"
            },
            "marker": {
             "line": {
              "color": "#E5ECF6",
              "width": 0.5
             },
             "pattern": {
              "fillmode": "overlay",
              "size": 10,
              "solidity": 0.2
             }
            },
            "type": "bar"
           }
          ],
          "barpolar": [
           {
            "marker": {
             "line": {
              "color": "#E5ECF6",
              "width": 0.5
             },
             "pattern": {
              "fillmode": "overlay",
              "size": 10,
              "solidity": 0.2
             }
            },
            "type": "barpolar"
           }
          ],
          "carpet": [
           {
            "aaxis": {
             "endlinecolor": "#2a3f5f",
             "gridcolor": "white",
             "linecolor": "white",
             "minorgridcolor": "white",
             "startlinecolor": "#2a3f5f"
            },
            "baxis": {
             "endlinecolor": "#2a3f5f",
             "gridcolor": "white",
             "linecolor": "white",
             "minorgridcolor": "white",
             "startlinecolor": "#2a3f5f"
            },
            "type": "carpet"
           }
          ],
          "choropleth": [
           {
            "colorbar": {
             "outlinewidth": 0,
             "ticks": ""
            },
            "type": "choropleth"
           }
          ],
          "contour": [
           {
            "colorbar": {
             "outlinewidth": 0,
             "ticks": ""
            },
            "colorscale": [
             [
              0,
              "#0d0887"
             ],
             [
              0.1111111111111111,
              "#46039f"
             ],
             [
              0.2222222222222222,
              "#7201a8"
             ],
             [
              0.3333333333333333,
              "#9c179e"
             ],
             [
              0.4444444444444444,
              "#bd3786"
             ],
             [
              0.5555555555555556,
              "#d8576b"
             ],
             [
              0.6666666666666666,
              "#ed7953"
             ],
             [
              0.7777777777777778,
              "#fb9f3a"
             ],
             [
              0.8888888888888888,
              "#fdca26"
             ],
             [
              1,
              "#f0f921"
             ]
            ],
            "type": "contour"
           }
          ],
          "contourcarpet": [
           {
            "colorbar": {
             "outlinewidth": 0,
             "ticks": ""
            },
            "type": "contourcarpet"
           }
          ],
          "heatmap": [
           {
            "colorbar": {
             "outlinewidth": 0,
             "ticks": ""
            },
            "colorscale": [
             [
              0,
              "#0d0887"
             ],
             [
              0.1111111111111111,
              "#46039f"
             ],
             [
              0.2222222222222222,
              "#7201a8"
             ],
             [
              0.3333333333333333,
              "#9c179e"
             ],
             [
              0.4444444444444444,
              "#bd3786"
             ],
             [
              0.5555555555555556,
              "#d8576b"
             ],
             [
              0.6666666666666666,
              "#ed7953"
             ],
             [
              0.7777777777777778,
              "#fb9f3a"
             ],
             [
              0.8888888888888888,
              "#fdca26"
             ],
             [
              1,
              "#f0f921"
             ]
            ],
            "type": "heatmap"
           }
          ],
          "heatmapgl": [
           {
            "colorbar": {
             "outlinewidth": 0,
             "ticks": ""
            },
            "colorscale": [
             [
              0,
              "#0d0887"
             ],
             [
              0.1111111111111111,
              "#46039f"
             ],
             [
              0.2222222222222222,
              "#7201a8"
             ],
             [
              0.3333333333333333,
              "#9c179e"
             ],
             [
              0.4444444444444444,
              "#bd3786"
             ],
             [
              0.5555555555555556,
              "#d8576b"
             ],
             [
              0.6666666666666666,
              "#ed7953"
             ],
             [
              0.7777777777777778,
              "#fb9f3a"
             ],
             [
              0.8888888888888888,
              "#fdca26"
             ],
             [
              1,
              "#f0f921"
             ]
            ],
            "type": "heatmapgl"
           }
          ],
          "histogram": [
           {
            "marker": {
             "pattern": {
              "fillmode": "overlay",
              "size": 10,
              "solidity": 0.2
             }
            },
            "type": "histogram"
           }
          ],
          "histogram2d": [
           {
            "colorbar": {
             "outlinewidth": 0,
             "ticks": ""
            },
            "colorscale": [
             [
              0,
              "#0d0887"
             ],
             [
              0.1111111111111111,
              "#46039f"
             ],
             [
              0.2222222222222222,
              "#7201a8"
             ],
             [
              0.3333333333333333,
              "#9c179e"
             ],
             [
              0.4444444444444444,
              "#bd3786"
             ],
             [
              0.5555555555555556,
              "#d8576b"
             ],
             [
              0.6666666666666666,
              "#ed7953"
             ],
             [
              0.7777777777777778,
              "#fb9f3a"
             ],
             [
              0.8888888888888888,
              "#fdca26"
             ],
             [
              1,
              "#f0f921"
             ]
            ],
            "type": "histogram2d"
           }
          ],
          "histogram2dcontour": [
           {
            "colorbar": {
             "outlinewidth": 0,
             "ticks": ""
            },
            "colorscale": [
             [
              0,
              "#0d0887"
             ],
             [
              0.1111111111111111,
              "#46039f"
             ],
             [
              0.2222222222222222,
              "#7201a8"
             ],
             [
              0.3333333333333333,
              "#9c179e"
             ],
             [
              0.4444444444444444,
              "#bd3786"
             ],
             [
              0.5555555555555556,
              "#d8576b"
             ],
             [
              0.6666666666666666,
              "#ed7953"
             ],
             [
              0.7777777777777778,
              "#fb9f3a"
             ],
             [
              0.8888888888888888,
              "#fdca26"
             ],
             [
              1,
              "#f0f921"
             ]
            ],
            "type": "histogram2dcontour"
           }
          ],
          "mesh3d": [
           {
            "colorbar": {
             "outlinewidth": 0,
             "ticks": ""
            },
            "type": "mesh3d"
           }
          ],
          "parcoords": [
           {
            "line": {
             "colorbar": {
              "outlinewidth": 0,
              "ticks": ""
             }
            },
            "type": "parcoords"
           }
          ],
          "pie": [
           {
            "automargin": true,
            "type": "pie"
           }
          ],
          "scatter": [
           {
            "fillpattern": {
             "fillmode": "overlay",
             "size": 10,
             "solidity": 0.2
            },
            "type": "scatter"
           }
          ],
          "scatter3d": [
           {
            "line": {
             "colorbar": {
              "outlinewidth": 0,
              "ticks": ""
             }
            },
            "marker": {
             "colorbar": {
              "outlinewidth": 0,
              "ticks": ""
             }
            },
            "type": "scatter3d"
           }
          ],
          "scattercarpet": [
           {
            "marker": {
             "colorbar": {
              "outlinewidth": 0,
              "ticks": ""
             }
            },
            "type": "scattercarpet"
           }
          ],
          "scattergeo": [
           {
            "marker": {
             "colorbar": {
              "outlinewidth": 0,
              "ticks": ""
             }
            },
            "type": "scattergeo"
           }
          ],
          "scattergl": [
           {
            "marker": {
             "colorbar": {
              "outlinewidth": 0,
              "ticks": ""
             }
            },
            "type": "scattergl"
           }
          ],
          "scattermapbox": [
           {
            "marker": {
             "colorbar": {
              "outlinewidth": 0,
              "ticks": ""
             }
            },
            "type": "scattermapbox"
           }
          ],
          "scatterpolar": [
           {
            "marker": {
             "colorbar": {
              "outlinewidth": 0,
              "ticks": ""
             }
            },
            "type": "scatterpolar"
           }
          ],
          "scatterpolargl": [
           {
            "marker": {
             "colorbar": {
              "outlinewidth": 0,
              "ticks": ""
             }
            },
            "type": "scatterpolargl"
           }
          ],
          "scatterternary": [
           {
            "marker": {
             "colorbar": {
              "outlinewidth": 0,
              "ticks": ""
             }
            },
            "type": "scatterternary"
           }
          ],
          "surface": [
           {
            "colorbar": {
             "outlinewidth": 0,
             "ticks": ""
            },
            "colorscale": [
             [
              0,
              "#0d0887"
             ],
             [
              0.1111111111111111,
              "#46039f"
             ],
             [
              0.2222222222222222,
              "#7201a8"
             ],
             [
              0.3333333333333333,
              "#9c179e"
             ],
             [
              0.4444444444444444,
              "#bd3786"
             ],
             [
              0.5555555555555556,
              "#d8576b"
             ],
             [
              0.6666666666666666,
              "#ed7953"
             ],
             [
              0.7777777777777778,
              "#fb9f3a"
             ],
             [
              0.8888888888888888,
              "#fdca26"
             ],
             [
              1,
              "#f0f921"
             ]
            ],
            "type": "surface"
           }
          ],
          "table": [
           {
            "cells": {
             "fill": {
              "color": "#EBF0F8"
             },
             "line": {
              "color": "white"
             }
            },
            "header": {
             "fill": {
              "color": "#C8D4E3"
             },
             "line": {
              "color": "white"
             }
            },
            "type": "table"
           }
          ]
         },
         "layout": {
          "annotationdefaults": {
           "arrowcolor": "#2a3f5f",
           "arrowhead": 0,
           "arrowwidth": 1
          },
          "autotypenumbers": "strict",
          "coloraxis": {
           "colorbar": {
            "outlinewidth": 0,
            "ticks": ""
           }
          },
          "colorscale": {
           "diverging": [
            [
             0,
             "#8e0152"
            ],
            [
             0.1,
             "#c51b7d"
            ],
            [
             0.2,
             "#de77ae"
            ],
            [
             0.3,
             "#f1b6da"
            ],
            [
             0.4,
             "#fde0ef"
            ],
            [
             0.5,
             "#f7f7f7"
            ],
            [
             0.6,
             "#e6f5d0"
            ],
            [
             0.7,
             "#b8e186"
            ],
            [
             0.8,
             "#7fbc41"
            ],
            [
             0.9,
             "#4d9221"
            ],
            [
             1,
             "#276419"
            ]
           ],
           "sequential": [
            [
             0,
             "#0d0887"
            ],
            [
             0.1111111111111111,
             "#46039f"
            ],
            [
             0.2222222222222222,
             "#7201a8"
            ],
            [
             0.3333333333333333,
             "#9c179e"
            ],
            [
             0.4444444444444444,
             "#bd3786"
            ],
            [
             0.5555555555555556,
             "#d8576b"
            ],
            [
             0.6666666666666666,
             "#ed7953"
            ],
            [
             0.7777777777777778,
             "#fb9f3a"
            ],
            [
             0.8888888888888888,
             "#fdca26"
            ],
            [
             1,
             "#f0f921"
            ]
           ],
           "sequentialminus": [
            [
             0,
             "#0d0887"
            ],
            [
             0.1111111111111111,
             "#46039f"
            ],
            [
             0.2222222222222222,
             "#7201a8"
            ],
            [
             0.3333333333333333,
             "#9c179e"
            ],
            [
             0.4444444444444444,
             "#bd3786"
            ],
            [
             0.5555555555555556,
             "#d8576b"
            ],
            [
             0.6666666666666666,
             "#ed7953"
            ],
            [
             0.7777777777777778,
             "#fb9f3a"
            ],
            [
             0.8888888888888888,
             "#fdca26"
            ],
            [
             1,
             "#f0f921"
            ]
           ]
          },
          "colorway": [
           "#636efa",
           "#EF553B",
           "#00cc96",
           "#ab63fa",
           "#FFA15A",
           "#19d3f3",
           "#FF6692",
           "#B6E880",
           "#FF97FF",
           "#FECB52"
          ],
          "font": {
           "color": "#2a3f5f"
          },
          "geo": {
           "bgcolor": "white",
           "lakecolor": "white",
           "landcolor": "#E5ECF6",
           "showlakes": true,
           "showland": true,
           "subunitcolor": "white"
          },
          "hoverlabel": {
           "align": "left"
          },
          "hovermode": "closest",
          "mapbox": {
           "style": "light"
          },
          "paper_bgcolor": "white",
          "plot_bgcolor": "#E5ECF6",
          "polar": {
           "angularaxis": {
            "gridcolor": "white",
            "linecolor": "white",
            "ticks": ""
           },
           "bgcolor": "#E5ECF6",
           "radialaxis": {
            "gridcolor": "white",
            "linecolor": "white",
            "ticks": ""
           }
          },
          "scene": {
           "xaxis": {
            "backgroundcolor": "#E5ECF6",
            "gridcolor": "white",
            "gridwidth": 2,
            "linecolor": "white",
            "showbackground": true,
            "ticks": "",
            "zerolinecolor": "white"
           },
           "yaxis": {
            "backgroundcolor": "#E5ECF6",
            "gridcolor": "white",
            "gridwidth": 2,
            "linecolor": "white",
            "showbackground": true,
            "ticks": "",
            "zerolinecolor": "white"
           },
           "zaxis": {
            "backgroundcolor": "#E5ECF6",
            "gridcolor": "white",
            "gridwidth": 2,
            "linecolor": "white",
            "showbackground": true,
            "ticks": "",
            "zerolinecolor": "white"
           }
          },
          "shapedefaults": {
           "line": {
            "color": "#2a3f5f"
           }
          },
          "ternary": {
           "aaxis": {
            "gridcolor": "white",
            "linecolor": "white",
            "ticks": ""
           },
           "baxis": {
            "gridcolor": "white",
            "linecolor": "white",
            "ticks": ""
           },
           "bgcolor": "#E5ECF6",
           "caxis": {
            "gridcolor": "white",
            "linecolor": "white",
            "ticks": ""
           }
          },
          "title": {
           "x": 0.05
          },
          "xaxis": {
           "automargin": true,
           "gridcolor": "white",
           "linecolor": "white",
           "ticks": "",
           "title": {
            "standoff": 15
           },
           "zerolinecolor": "white",
           "zerolinewidth": 2
          },
          "yaxis": {
           "automargin": true,
           "gridcolor": "white",
           "linecolor": "white",
           "ticks": "",
           "title": {
            "standoff": 15
           },
           "zerolinecolor": "white",
           "zerolinewidth": 2
          }
         }
        },
        "title": {
         "font": {
          "color": "#4D5663"
         }
        },
        "xaxis": {
         "gridcolor": "#E1E5ED",
         "showgrid": true,
         "tickfont": {
          "color": "#4D5663"
         },
         "title": {
          "font": {
           "color": "#4D5663"
          },
          "text": ""
         },
         "zerolinecolor": "#E1E5ED"
        },
        "yaxis": {
         "gridcolor": "#E1E5ED",
         "showgrid": true,
         "tickfont": {
          "color": "#4D5663"
         },
         "title": {
          "font": {
           "color": "#4D5663"
          },
          "text": ""
         },
         "zerolinecolor": "#E1E5ED"
        }
       }
      },
      "text/html": [
       "<div>                            <div id=\"917a0309-ddd7-47bc-9bf8-055ce0dc68b4\" class=\"plotly-graph-div\" style=\"height:525px; width:100%;\"></div>            <script type=\"text/javascript\">                require([\"plotly\"], function(Plotly) {                    window.PLOTLYENV=window.PLOTLYENV || {};\n",
       "                    window.PLOTLYENV.BASE_URL='https://plot.ly';                                    if (document.getElementById(\"917a0309-ddd7-47bc-9bf8-055ce0dc68b4\")) {                    Plotly.newPlot(                        \"917a0309-ddd7-47bc-9bf8-055ce0dc68b4\",                        [{\"histfunc\":\"count\",\"histnorm\":\"\",\"marker\":{\"color\":\"rgba(255, 153, 51, 1.0)\",\"line\":{\"color\":\"#4D5663\",\"width\":1.3}},\"name\":\"A\",\"nbinsx\":25,\"opacity\":0.8,\"orientation\":\"v\",\"x\":[-0.1655705937827465,0.6339335459532506,0.02552739960708487,0.01969683939300677,1.1722880458422509,0.9747235756758493,-0.6050070348936066,0.5085564324615662,-1.545435955849086,0.016081732460917663,0.22518728497505483,-1.3333108089982026,0.988778752425804,2.198159687266945,1.268817519997271,-0.008764501052270413,-0.44398572728548547,0.5551164490476496,0.8586223532174,-0.2094038044256258,-0.43206622309689674,0.6418351317018594,-1.5385625940572467,-0.17674250764098665,0.6744836258489834,-1.9243574705353481,-0.5163953508976782,0.9930864582338338,0.32124256694507275,-0.6698476139460213,0.381068709679253,-1.1944409695761267,0.6849270399380836,-0.3754746280710603,0.29975630620422455,0.05640202727675874,-0.94912681176481,-0.4799579983040787,-2.051159458016786,-0.3451565542145435,0.5491402974707585,0.36719851737511805,0.06903976021383912,0.9190117725334557,-1.024537808095599,-0.279366487748021,-1.708888485836476,-0.14402401705652035,-0.7956987990694804,-0.8078595466173956,0.6790479801631213,0.7620283540488753,0.04971040573434907,-1.0480450252213853,-1.1640007543201105,-0.8987684206556861,1.0921667216030286,-0.51688241157997,0.23331358423528553,0.72022348620067,-0.153330783695401,-1.7485084923560625,-0.5578921555527383,0.2592053361084132,0.6505485032752829,-0.09822617559722291,-0.11396477603957711,-0.04711327080097372,0.41794875708761625,-0.9794280917693772,-1.4930800481301383,0.20024816164433462,-0.0598198356874181,0.40228892142346856,0.7198143569507868,-0.7989673881758005,1.136051224771882,0.5213471362522815,0.382894174276429,-0.3781806207522293,0.1047978285603859,-0.5590826824234247,-1.4103183701528856,1.1809587208566368,-0.7340851584382985,2.302660557026478,-1.8176943917922668,-0.7827026497367355,-1.6804854405801986,-1.7161193914182236,0.13699488338331858,-1.0562415021653813,0.3440151400307065,-2.4135843823581773,-1.7169647154712107,0.11730382449763617,-0.12497531838910092,-0.9130583926720433,0.14177914589027968,-0.7325023740963575],\"type\":\"histogram\"}],                        {\"barmode\":\"overlay\",\"legend\":{\"bgcolor\":\"#F5F6F9\",\"font\":{\"color\":\"#4D5663\"}},\"paper_bgcolor\":\"#F5F6F9\",\"plot_bgcolor\":\"#F5F6F9\",\"template\":{\"data\":{\"barpolar\":[{\"marker\":{\"line\":{\"color\":\"#E5ECF6\",\"width\":0.5},\"pattern\":{\"fillmode\":\"overlay\",\"size\":10,\"solidity\":0.2}},\"type\":\"barpolar\"}],\"bar\":[{\"error_x\":{\"color\":\"#2a3f5f\"},\"error_y\":{\"color\":\"#2a3f5f\"},\"marker\":{\"line\":{\"color\":\"#E5ECF6\",\"width\":0.5},\"pattern\":{\"fillmode\":\"overlay\",\"size\":10,\"solidity\":0.2}},\"type\":\"bar\"}],\"carpet\":[{\"aaxis\":{\"endlinecolor\":\"#2a3f5f\",\"gridcolor\":\"white\",\"linecolor\":\"white\",\"minorgridcolor\":\"white\",\"startlinecolor\":\"#2a3f5f\"},\"baxis\":{\"endlinecolor\":\"#2a3f5f\",\"gridcolor\":\"white\",\"linecolor\":\"white\",\"minorgridcolor\":\"white\",\"startlinecolor\":\"#2a3f5f\"},\"type\":\"carpet\"}],\"choropleth\":[{\"colorbar\":{\"outlinewidth\":0,\"ticks\":\"\"},\"type\":\"choropleth\"}],\"contourcarpet\":[{\"colorbar\":{\"outlinewidth\":0,\"ticks\":\"\"},\"type\":\"contourcarpet\"}],\"contour\":[{\"colorbar\":{\"outlinewidth\":0,\"ticks\":\"\"},\"colorscale\":[[0.0,\"#0d0887\"],[0.1111111111111111,\"#46039f\"],[0.2222222222222222,\"#7201a8\"],[0.3333333333333333,\"#9c179e\"],[0.4444444444444444,\"#bd3786\"],[0.5555555555555556,\"#d8576b\"],[0.6666666666666666,\"#ed7953\"],[0.7777777777777778,\"#fb9f3a\"],[0.8888888888888888,\"#fdca26\"],[1.0,\"#f0f921\"]],\"type\":\"contour\"}],\"heatmapgl\":[{\"colorbar\":{\"outlinewidth\":0,\"ticks\":\"\"},\"colorscale\":[[0.0,\"#0d0887\"],[0.1111111111111111,\"#46039f\"],[0.2222222222222222,\"#7201a8\"],[0.3333333333333333,\"#9c179e\"],[0.4444444444444444,\"#bd3786\"],[0.5555555555555556,\"#d8576b\"],[0.6666666666666666,\"#ed7953\"],[0.7777777777777778,\"#fb9f3a\"],[0.8888888888888888,\"#fdca26\"],[1.0,\"#f0f921\"]],\"type\":\"heatmapgl\"}],\"heatmap\":[{\"colorbar\":{\"outlinewidth\":0,\"ticks\":\"\"},\"colorscale\":[[0.0,\"#0d0887\"],[0.1111111111111111,\"#46039f\"],[0.2222222222222222,\"#7201a8\"],[0.3333333333333333,\"#9c179e\"],[0.4444444444444444,\"#bd3786\"],[0.5555555555555556,\"#d8576b\"],[0.6666666666666666,\"#ed7953\"],[0.7777777777777778,\"#fb9f3a\"],[0.8888888888888888,\"#fdca26\"],[1.0,\"#f0f921\"]],\"type\":\"heatmap\"}],\"histogram2dcontour\":[{\"colorbar\":{\"outlinewidth\":0,\"ticks\":\"\"},\"colorscale\":[[0.0,\"#0d0887\"],[0.1111111111111111,\"#46039f\"],[0.2222222222222222,\"#7201a8\"],[0.3333333333333333,\"#9c179e\"],[0.4444444444444444,\"#bd3786\"],[0.5555555555555556,\"#d8576b\"],[0.6666666666666666,\"#ed7953\"],[0.7777777777777778,\"#fb9f3a\"],[0.8888888888888888,\"#fdca26\"],[1.0,\"#f0f921\"]],\"type\":\"histogram2dcontour\"}],\"histogram2d\":[{\"colorbar\":{\"outlinewidth\":0,\"ticks\":\"\"},\"colorscale\":[[0.0,\"#0d0887\"],[0.1111111111111111,\"#46039f\"],[0.2222222222222222,\"#7201a8\"],[0.3333333333333333,\"#9c179e\"],[0.4444444444444444,\"#bd3786\"],[0.5555555555555556,\"#d8576b\"],[0.6666666666666666,\"#ed7953\"],[0.7777777777777778,\"#fb9f3a\"],[0.8888888888888888,\"#fdca26\"],[1.0,\"#f0f921\"]],\"type\":\"histogram2d\"}],\"histogram\":[{\"marker\":{\"pattern\":{\"fillmode\":\"overlay\",\"size\":10,\"solidity\":0.2}},\"type\":\"histogram\"}],\"mesh3d\":[{\"colorbar\":{\"outlinewidth\":0,\"ticks\":\"\"},\"type\":\"mesh3d\"}],\"parcoords\":[{\"line\":{\"colorbar\":{\"outlinewidth\":0,\"ticks\":\"\"}},\"type\":\"parcoords\"}],\"pie\":[{\"automargin\":true,\"type\":\"pie\"}],\"scatter3d\":[{\"line\":{\"colorbar\":{\"outlinewidth\":0,\"ticks\":\"\"}},\"marker\":{\"colorbar\":{\"outlinewidth\":0,\"ticks\":\"\"}},\"type\":\"scatter3d\"}],\"scattercarpet\":[{\"marker\":{\"colorbar\":{\"outlinewidth\":0,\"ticks\":\"\"}},\"type\":\"scattercarpet\"}],\"scattergeo\":[{\"marker\":{\"colorbar\":{\"outlinewidth\":0,\"ticks\":\"\"}},\"type\":\"scattergeo\"}],\"scattergl\":[{\"marker\":{\"colorbar\":{\"outlinewidth\":0,\"ticks\":\"\"}},\"type\":\"scattergl\"}],\"scattermapbox\":[{\"marker\":{\"colorbar\":{\"outlinewidth\":0,\"ticks\":\"\"}},\"type\":\"scattermapbox\"}],\"scatterpolargl\":[{\"marker\":{\"colorbar\":{\"outlinewidth\":0,\"ticks\":\"\"}},\"type\":\"scatterpolargl\"}],\"scatterpolar\":[{\"marker\":{\"colorbar\":{\"outlinewidth\":0,\"ticks\":\"\"}},\"type\":\"scatterpolar\"}],\"scatter\":[{\"fillpattern\":{\"fillmode\":\"overlay\",\"size\":10,\"solidity\":0.2},\"type\":\"scatter\"}],\"scatterternary\":[{\"marker\":{\"colorbar\":{\"outlinewidth\":0,\"ticks\":\"\"}},\"type\":\"scatterternary\"}],\"surface\":[{\"colorbar\":{\"outlinewidth\":0,\"ticks\":\"\"},\"colorscale\":[[0.0,\"#0d0887\"],[0.1111111111111111,\"#46039f\"],[0.2222222222222222,\"#7201a8\"],[0.3333333333333333,\"#9c179e\"],[0.4444444444444444,\"#bd3786\"],[0.5555555555555556,\"#d8576b\"],[0.6666666666666666,\"#ed7953\"],[0.7777777777777778,\"#fb9f3a\"],[0.8888888888888888,\"#fdca26\"],[1.0,\"#f0f921\"]],\"type\":\"surface\"}],\"table\":[{\"cells\":{\"fill\":{\"color\":\"#EBF0F8\"},\"line\":{\"color\":\"white\"}},\"header\":{\"fill\":{\"color\":\"#C8D4E3\"},\"line\":{\"color\":\"white\"}},\"type\":\"table\"}]},\"layout\":{\"annotationdefaults\":{\"arrowcolor\":\"#2a3f5f\",\"arrowhead\":0,\"arrowwidth\":1},\"autotypenumbers\":\"strict\",\"coloraxis\":{\"colorbar\":{\"outlinewidth\":0,\"ticks\":\"\"}},\"colorscale\":{\"diverging\":[[0,\"#8e0152\"],[0.1,\"#c51b7d\"],[0.2,\"#de77ae\"],[0.3,\"#f1b6da\"],[0.4,\"#fde0ef\"],[0.5,\"#f7f7f7\"],[0.6,\"#e6f5d0\"],[0.7,\"#b8e186\"],[0.8,\"#7fbc41\"],[0.9,\"#4d9221\"],[1,\"#276419\"]],\"sequential\":[[0.0,\"#0d0887\"],[0.1111111111111111,\"#46039f\"],[0.2222222222222222,\"#7201a8\"],[0.3333333333333333,\"#9c179e\"],[0.4444444444444444,\"#bd3786\"],[0.5555555555555556,\"#d8576b\"],[0.6666666666666666,\"#ed7953\"],[0.7777777777777778,\"#fb9f3a\"],[0.8888888888888888,\"#fdca26\"],[1.0,\"#f0f921\"]],\"sequentialminus\":[[0.0,\"#0d0887\"],[0.1111111111111111,\"#46039f\"],[0.2222222222222222,\"#7201a8\"],[0.3333333333333333,\"#9c179e\"],[0.4444444444444444,\"#bd3786\"],[0.5555555555555556,\"#d8576b\"],[0.6666666666666666,\"#ed7953\"],[0.7777777777777778,\"#fb9f3a\"],[0.8888888888888888,\"#fdca26\"],[1.0,\"#f0f921\"]]},\"colorway\":[\"#636efa\",\"#EF553B\",\"#00cc96\",\"#ab63fa\",\"#FFA15A\",\"#19d3f3\",\"#FF6692\",\"#B6E880\",\"#FF97FF\",\"#FECB52\"],\"font\":{\"color\":\"#2a3f5f\"},\"geo\":{\"bgcolor\":\"white\",\"lakecolor\":\"white\",\"landcolor\":\"#E5ECF6\",\"showlakes\":true,\"showland\":true,\"subunitcolor\":\"white\"},\"hoverlabel\":{\"align\":\"left\"},\"hovermode\":\"closest\",\"mapbox\":{\"style\":\"light\"},\"paper_bgcolor\":\"white\",\"plot_bgcolor\":\"#E5ECF6\",\"polar\":{\"angularaxis\":{\"gridcolor\":\"white\",\"linecolor\":\"white\",\"ticks\":\"\"},\"bgcolor\":\"#E5ECF6\",\"radialaxis\":{\"gridcolor\":\"white\",\"linecolor\":\"white\",\"ticks\":\"\"}},\"scene\":{\"xaxis\":{\"backgroundcolor\":\"#E5ECF6\",\"gridcolor\":\"white\",\"gridwidth\":2,\"linecolor\":\"white\",\"showbackground\":true,\"ticks\":\"\",\"zerolinecolor\":\"white\"},\"yaxis\":{\"backgroundcolor\":\"#E5ECF6\",\"gridcolor\":\"white\",\"gridwidth\":2,\"linecolor\":\"white\",\"showbackground\":true,\"ticks\":\"\",\"zerolinecolor\":\"white\"},\"zaxis\":{\"backgroundcolor\":\"#E5ECF6\",\"gridcolor\":\"white\",\"gridwidth\":2,\"linecolor\":\"white\",\"showbackground\":true,\"ticks\":\"\",\"zerolinecolor\":\"white\"}},\"shapedefaults\":{\"line\":{\"color\":\"#2a3f5f\"}},\"ternary\":{\"aaxis\":{\"gridcolor\":\"white\",\"linecolor\":\"white\",\"ticks\":\"\"},\"baxis\":{\"gridcolor\":\"white\",\"linecolor\":\"white\",\"ticks\":\"\"},\"bgcolor\":\"#E5ECF6\",\"caxis\":{\"gridcolor\":\"white\",\"linecolor\":\"white\",\"ticks\":\"\"}},\"title\":{\"x\":0.05},\"xaxis\":{\"automargin\":true,\"gridcolor\":\"white\",\"linecolor\":\"white\",\"ticks\":\"\",\"title\":{\"standoff\":15},\"zerolinecolor\":\"white\",\"zerolinewidth\":2},\"yaxis\":{\"automargin\":true,\"gridcolor\":\"white\",\"linecolor\":\"white\",\"ticks\":\"\",\"title\":{\"standoff\":15},\"zerolinecolor\":\"white\",\"zerolinewidth\":2}}},\"title\":{\"font\":{\"color\":\"#4D5663\"}},\"xaxis\":{\"gridcolor\":\"#E1E5ED\",\"showgrid\":true,\"tickfont\":{\"color\":\"#4D5663\"},\"title\":{\"font\":{\"color\":\"#4D5663\"},\"text\":\"\"},\"zerolinecolor\":\"#E1E5ED\"},\"yaxis\":{\"gridcolor\":\"#E1E5ED\",\"showgrid\":true,\"tickfont\":{\"color\":\"#4D5663\"},\"title\":{\"font\":{\"color\":\"#4D5663\"},\"text\":\"\"},\"zerolinecolor\":\"#E1E5ED\"}},                        {\"showLink\": true, \"linkText\": \"Export to plot.ly\", \"plotlyServerURL\": \"https://plot.ly\", \"responsive\": true}                    ).then(function(){\n",
       "                            \n",
       "var gd = document.getElementById('917a0309-ddd7-47bc-9bf8-055ce0dc68b4');\n",
       "var x = new MutationObserver(function (mutations, observer) {{\n",
       "        var display = window.getComputedStyle(gd).display;\n",
       "        if (!display || display === 'none') {{\n",
       "            console.log([gd, 'removed!']);\n",
       "            Plotly.purge(gd);\n",
       "            observer.disconnect();\n",
       "        }}\n",
       "}});\n",
       "\n",
       "// Listen for the removal of the full notebook cells\n",
       "var notebookContainer = gd.closest('#notebook-container');\n",
       "if (notebookContainer) {{\n",
       "    x.observe(notebookContainer, {childList: true});\n",
       "}}\n",
       "\n",
       "// Listen for the clearing of the current output cell\n",
       "var outputEl = gd.closest('.output');\n",
       "if (outputEl) {{\n",
       "    x.observe(outputEl, {childList: true});\n",
       "}}\n",
       "\n",
       "                        })                };                });            </script>        </div>"
      ]
     },
     "metadata": {},
     "output_type": "display_data"
    }
   ],
   "source": [
    "df['A'].iplot(kind='hist',bins=25)"
   ]
  },
  {
   "cell_type": "code",
   "execution_count": 17,
   "metadata": {},
   "outputs": [
    {
     "data": {
      "application/vnd.plotly.v1+json": {
       "config": {
        "linkText": "Export to plot.ly",
        "plotlyServerURL": "https://plot.ly",
        "showLink": true
       },
       "data": [
        {
         "marker": {
          "color": [
           "rgb(255, 153, 51)",
           "rgb(55, 128, 191)",
           "rgb(50, 171, 96)",
           "rgb(128, 0, 128)",
           "rgb(219, 64, 82)",
           "rgb(0, 128, 128)",
           "rgb(255, 255, 51)",
           "rgb(128, 128, 0)",
           "rgb(251, 128, 114)",
           "rgb(128, 177, 211)"
          ],
          "line": {
           "width": 1.3
          },
          "size": [
           61,
           67,
           25,
           69,
           45,
           35,
           60,
           75,
           51,
           64,
           35,
           42,
           58,
           49,
           62,
           58,
           61,
           56,
           43,
           43,
           66,
           55,
           60,
           41,
           69,
           12,
           72,
           35,
           82,
           33,
           25,
           79,
           61,
           33,
           67,
           65,
           78,
           56,
           70,
           56,
           65,
           88,
           42,
           52,
           56,
           66,
           40,
           63,
           45,
           61,
           60,
           30,
           21,
           70,
           71,
           68,
           83,
           52,
           49,
           66,
           28,
           45,
           18,
           49,
           69,
           101,
           67,
           112,
           43,
           74,
           48,
           56,
           71,
           62,
           46,
           58,
           80,
           39,
           57,
           28,
           41,
           20,
           98,
           82,
           47,
           60,
           69,
           70,
           53,
           49,
           93,
           49,
           63,
           51,
           30,
           73,
           64,
           72,
           51,
           46
          ],
          "symbol": "circle"
         },
         "mode": "markers",
         "text": "",
         "type": "scatter",
         "x": [
          -0.1655705937827465,
          0.6339335459532506,
          0.02552739960708487,
          0.01969683939300677,
          1.1722880458422509,
          0.9747235756758493,
          -0.6050070348936066,
          0.5085564324615662,
          -1.545435955849086,
          0.016081732460917663,
          0.22518728497505483,
          -1.3333108089982026,
          0.988778752425804,
          2.198159687266945,
          1.268817519997271,
          -0.008764501052270413,
          -0.44398572728548547,
          0.5551164490476496,
          0.8586223532174,
          -0.2094038044256258,
          -0.43206622309689674,
          0.6418351317018594,
          -1.5385625940572467,
          -0.17674250764098665,
          0.6744836258489834,
          -1.9243574705353481,
          -0.5163953508976782,
          0.9930864582338338,
          0.32124256694507275,
          -0.6698476139460213,
          0.381068709679253,
          -1.1944409695761267,
          0.6849270399380836,
          -0.3754746280710603,
          0.29975630620422455,
          0.05640202727675874,
          -0.94912681176481,
          -0.4799579983040787,
          -2.051159458016786,
          -0.3451565542145435,
          0.5491402974707585,
          0.36719851737511805,
          0.06903976021383912,
          0.9190117725334557,
          -1.024537808095599,
          -0.279366487748021,
          -1.708888485836476,
          -0.14402401705652035,
          -0.7956987990694804,
          -0.8078595466173956,
          0.6790479801631213,
          0.7620283540488753,
          0.04971040573434907,
          -1.0480450252213853,
          -1.1640007543201105,
          -0.8987684206556861,
          1.0921667216030286,
          -0.51688241157997,
          0.23331358423528553,
          0.72022348620067,
          -0.153330783695401,
          -1.7485084923560625,
          -0.5578921555527383,
          0.2592053361084132,
          0.6505485032752829,
          -0.09822617559722291,
          -0.11396477603957711,
          -0.04711327080097372,
          0.41794875708761625,
          -0.9794280917693772,
          -1.4930800481301383,
          0.20024816164433462,
          -0.0598198356874181,
          0.40228892142346856,
          0.7198143569507868,
          -0.7989673881758005,
          1.136051224771882,
          0.5213471362522815,
          0.382894174276429,
          -0.3781806207522293,
          0.1047978285603859,
          -0.5590826824234247,
          -1.4103183701528856,
          1.1809587208566368,
          -0.7340851584382985,
          2.302660557026478,
          -1.8176943917922668,
          -0.7827026497367355,
          -1.6804854405801986,
          -1.7161193914182236,
          0.13699488338331858,
          -1.0562415021653813,
          0.3440151400307065,
          -2.4135843823581773,
          -1.7169647154712107,
          0.11730382449763617,
          -0.12497531838910092,
          -0.9130583926720433,
          0.14177914589027968,
          -0.7325023740963575
         ],
         "y": [
          -0.2924447826011183,
          0.7407806451006329,
          -0.4238185025341148,
          -0.806529453653887,
          -0.8131387530579735,
          0.00734319142364019,
          1.1409690687084817,
          -1.0399200861700937,
          -0.9757840095052484,
          0.6371836649454985,
          0.4822400989864475,
          -0.10658927474989756,
          1.030457973217204,
          0.298495758255452,
          -0.7007423238711151,
          0.3099974602415881,
          -0.999126943370043,
          -0.0534876423175067,
          -0.13547608459305985,
          1.5972425667119357,
          -2.5062520958522185,
          0.23267837072353362,
          0.025786950862549618,
          0.7223057893102796,
          -0.6716161547784072,
          -0.7347753399574438,
          -0.10092901382515361,
          1.9539851832256292,
          -0.6513024950203117,
          1.4165755824561908,
          -0.999587606254183,
          -0.7707015786264458,
          0.1651321634271878,
          0.27957354172687954,
          -0.07142121924509102,
          -0.592976528976272,
          -0.6196597646542373,
          0.24417621252015778,
          0.07404638331213868,
          1.3227806225059329,
          1.7101366397285278,
          -1.5305925978054404,
          -0.744847538740032,
          2.1580413988178124,
          -0.26752586946806556,
          -1.7789276564220624,
          1.3471114020730155,
          -0.5430113078286412,
          -0.8601260350318142,
          0.7316624912629281,
          2.5130402870286854,
          -1.4384259319922756,
          0.6398977902189656,
          0.3129349832028792,
          -0.07569412487699408,
          -1.6491607182971357,
          -0.7762918151343828,
          -0.13478606841780538,
          -0.013620877199414565,
          -0.2064697103702566,
          -1.280393149670629,
          0.20677309874895722,
          0.5884118424194865,
          0.4229230519321674,
          -0.9459402404714627,
          -0.37290272901489174,
          -1.322503831154513,
          0.38427151353223454,
          0.3440100483105457,
          1.2806969455257453,
          0.4153452313345435,
          0.5806468212039666,
          1.6475556469388035,
          1.104705852204584,
          0.5020651550204874,
          -1.7915206314516867,
          0.25651199464656715,
          -0.5105539232384897,
          0.6480584816840614,
          -1.0146531468192597,
          1.1156432997731665,
          -2.2734448280261437,
          2.000158801474051,
          0.6705878143141647,
          1.0574589784742312,
          1.1555814635540624,
          -0.08170108881032653,
          -1.0400644433309123,
          -0.9605721297657042,
          -0.49164022625070686,
          -0.45380715694038964,
          -0.16729635012015623,
          -0.7955770607437094,
          -2.814936036656384,
          -0.5282245113612478,
          -1.2738671529418648,
          0.8773494814469376,
          0.668093767934002,
          -0.8402771874279442,
          -0.9939287782369531
         ]
        }
       ],
       "layout": {
        "legend": {
         "bgcolor": "#F5F6F9",
         "font": {
          "color": "#4D5663"
         }
        },
        "paper_bgcolor": "#F5F6F9",
        "plot_bgcolor": "#F5F6F9",
        "template": {
         "data": {
          "bar": [
           {
            "error_x": {
             "color": "#2a3f5f"
            },
            "error_y": {
             "color": "#2a3f5f"
            },
            "marker": {
             "line": {
              "color": "#E5ECF6",
              "width": 0.5
             },
             "pattern": {
              "fillmode": "overlay",
              "size": 10,
              "solidity": 0.2
             }
            },
            "type": "bar"
           }
          ],
          "barpolar": [
           {
            "marker": {
             "line": {
              "color": "#E5ECF6",
              "width": 0.5
             },
             "pattern": {
              "fillmode": "overlay",
              "size": 10,
              "solidity": 0.2
             }
            },
            "type": "barpolar"
           }
          ],
          "carpet": [
           {
            "aaxis": {
             "endlinecolor": "#2a3f5f",
             "gridcolor": "white",
             "linecolor": "white",
             "minorgridcolor": "white",
             "startlinecolor": "#2a3f5f"
            },
            "baxis": {
             "endlinecolor": "#2a3f5f",
             "gridcolor": "white",
             "linecolor": "white",
             "minorgridcolor": "white",
             "startlinecolor": "#2a3f5f"
            },
            "type": "carpet"
           }
          ],
          "choropleth": [
           {
            "colorbar": {
             "outlinewidth": 0,
             "ticks": ""
            },
            "type": "choropleth"
           }
          ],
          "contour": [
           {
            "colorbar": {
             "outlinewidth": 0,
             "ticks": ""
            },
            "colorscale": [
             [
              0,
              "#0d0887"
             ],
             [
              0.1111111111111111,
              "#46039f"
             ],
             [
              0.2222222222222222,
              "#7201a8"
             ],
             [
              0.3333333333333333,
              "#9c179e"
             ],
             [
              0.4444444444444444,
              "#bd3786"
             ],
             [
              0.5555555555555556,
              "#d8576b"
             ],
             [
              0.6666666666666666,
              "#ed7953"
             ],
             [
              0.7777777777777778,
              "#fb9f3a"
             ],
             [
              0.8888888888888888,
              "#fdca26"
             ],
             [
              1,
              "#f0f921"
             ]
            ],
            "type": "contour"
           }
          ],
          "contourcarpet": [
           {
            "colorbar": {
             "outlinewidth": 0,
             "ticks": ""
            },
            "type": "contourcarpet"
           }
          ],
          "heatmap": [
           {
            "colorbar": {
             "outlinewidth": 0,
             "ticks": ""
            },
            "colorscale": [
             [
              0,
              "#0d0887"
             ],
             [
              0.1111111111111111,
              "#46039f"
             ],
             [
              0.2222222222222222,
              "#7201a8"
             ],
             [
              0.3333333333333333,
              "#9c179e"
             ],
             [
              0.4444444444444444,
              "#bd3786"
             ],
             [
              0.5555555555555556,
              "#d8576b"
             ],
             [
              0.6666666666666666,
              "#ed7953"
             ],
             [
              0.7777777777777778,
              "#fb9f3a"
             ],
             [
              0.8888888888888888,
              "#fdca26"
             ],
             [
              1,
              "#f0f921"
             ]
            ],
            "type": "heatmap"
           }
          ],
          "heatmapgl": [
           {
            "colorbar": {
             "outlinewidth": 0,
             "ticks": ""
            },
            "colorscale": [
             [
              0,
              "#0d0887"
             ],
             [
              0.1111111111111111,
              "#46039f"
             ],
             [
              0.2222222222222222,
              "#7201a8"
             ],
             [
              0.3333333333333333,
              "#9c179e"
             ],
             [
              0.4444444444444444,
              "#bd3786"
             ],
             [
              0.5555555555555556,
              "#d8576b"
             ],
             [
              0.6666666666666666,
              "#ed7953"
             ],
             [
              0.7777777777777778,
              "#fb9f3a"
             ],
             [
              0.8888888888888888,
              "#fdca26"
             ],
             [
              1,
              "#f0f921"
             ]
            ],
            "type": "heatmapgl"
           }
          ],
          "histogram": [
           {
            "marker": {
             "pattern": {
              "fillmode": "overlay",
              "size": 10,
              "solidity": 0.2
             }
            },
            "type": "histogram"
           }
          ],
          "histogram2d": [
           {
            "colorbar": {
             "outlinewidth": 0,
             "ticks": ""
            },
            "colorscale": [
             [
              0,
              "#0d0887"
             ],
             [
              0.1111111111111111,
              "#46039f"
             ],
             [
              0.2222222222222222,
              "#7201a8"
             ],
             [
              0.3333333333333333,
              "#9c179e"
             ],
             [
              0.4444444444444444,
              "#bd3786"
             ],
             [
              0.5555555555555556,
              "#d8576b"
             ],
             [
              0.6666666666666666,
              "#ed7953"
             ],
             [
              0.7777777777777778,
              "#fb9f3a"
             ],
             [
              0.8888888888888888,
              "#fdca26"
             ],
             [
              1,
              "#f0f921"
             ]
            ],
            "type": "histogram2d"
           }
          ],
          "histogram2dcontour": [
           {
            "colorbar": {
             "outlinewidth": 0,
             "ticks": ""
            },
            "colorscale": [
             [
              0,
              "#0d0887"
             ],
             [
              0.1111111111111111,
              "#46039f"
             ],
             [
              0.2222222222222222,
              "#7201a8"
             ],
             [
              0.3333333333333333,
              "#9c179e"
             ],
             [
              0.4444444444444444,
              "#bd3786"
             ],
             [
              0.5555555555555556,
              "#d8576b"
             ],
             [
              0.6666666666666666,
              "#ed7953"
             ],
             [
              0.7777777777777778,
              "#fb9f3a"
             ],
             [
              0.8888888888888888,
              "#fdca26"
             ],
             [
              1,
              "#f0f921"
             ]
            ],
            "type": "histogram2dcontour"
           }
          ],
          "mesh3d": [
           {
            "colorbar": {
             "outlinewidth": 0,
             "ticks": ""
            },
            "type": "mesh3d"
           }
          ],
          "parcoords": [
           {
            "line": {
             "colorbar": {
              "outlinewidth": 0,
              "ticks": ""
             }
            },
            "type": "parcoords"
           }
          ],
          "pie": [
           {
            "automargin": true,
            "type": "pie"
           }
          ],
          "scatter": [
           {
            "fillpattern": {
             "fillmode": "overlay",
             "size": 10,
             "solidity": 0.2
            },
            "type": "scatter"
           }
          ],
          "scatter3d": [
           {
            "line": {
             "colorbar": {
              "outlinewidth": 0,
              "ticks": ""
             }
            },
            "marker": {
             "colorbar": {
              "outlinewidth": 0,
              "ticks": ""
             }
            },
            "type": "scatter3d"
           }
          ],
          "scattercarpet": [
           {
            "marker": {
             "colorbar": {
              "outlinewidth": 0,
              "ticks": ""
             }
            },
            "type": "scattercarpet"
           }
          ],
          "scattergeo": [
           {
            "marker": {
             "colorbar": {
              "outlinewidth": 0,
              "ticks": ""
             }
            },
            "type": "scattergeo"
           }
          ],
          "scattergl": [
           {
            "marker": {
             "colorbar": {
              "outlinewidth": 0,
              "ticks": ""
             }
            },
            "type": "scattergl"
           }
          ],
          "scattermapbox": [
           {
            "marker": {
             "colorbar": {
              "outlinewidth": 0,
              "ticks": ""
             }
            },
            "type": "scattermapbox"
           }
          ],
          "scatterpolar": [
           {
            "marker": {
             "colorbar": {
              "outlinewidth": 0,
              "ticks": ""
             }
            },
            "type": "scatterpolar"
           }
          ],
          "scatterpolargl": [
           {
            "marker": {
             "colorbar": {
              "outlinewidth": 0,
              "ticks": ""
             }
            },
            "type": "scatterpolargl"
           }
          ],
          "scatterternary": [
           {
            "marker": {
             "colorbar": {
              "outlinewidth": 0,
              "ticks": ""
             }
            },
            "type": "scatterternary"
           }
          ],
          "surface": [
           {
            "colorbar": {
             "outlinewidth": 0,
             "ticks": ""
            },
            "colorscale": [
             [
              0,
              "#0d0887"
             ],
             [
              0.1111111111111111,
              "#46039f"
             ],
             [
              0.2222222222222222,
              "#7201a8"
             ],
             [
              0.3333333333333333,
              "#9c179e"
             ],
             [
              0.4444444444444444,
              "#bd3786"
             ],
             [
              0.5555555555555556,
              "#d8576b"
             ],
             [
              0.6666666666666666,
              "#ed7953"
             ],
             [
              0.7777777777777778,
              "#fb9f3a"
             ],
             [
              0.8888888888888888,
              "#fdca26"
             ],
             [
              1,
              "#f0f921"
             ]
            ],
            "type": "surface"
           }
          ],
          "table": [
           {
            "cells": {
             "fill": {
              "color": "#EBF0F8"
             },
             "line": {
              "color": "white"
             }
            },
            "header": {
             "fill": {
              "color": "#C8D4E3"
             },
             "line": {
              "color": "white"
             }
            },
            "type": "table"
           }
          ]
         },
         "layout": {
          "annotationdefaults": {
           "arrowcolor": "#2a3f5f",
           "arrowhead": 0,
           "arrowwidth": 1
          },
          "autotypenumbers": "strict",
          "coloraxis": {
           "colorbar": {
            "outlinewidth": 0,
            "ticks": ""
           }
          },
          "colorscale": {
           "diverging": [
            [
             0,
             "#8e0152"
            ],
            [
             0.1,
             "#c51b7d"
            ],
            [
             0.2,
             "#de77ae"
            ],
            [
             0.3,
             "#f1b6da"
            ],
            [
             0.4,
             "#fde0ef"
            ],
            [
             0.5,
             "#f7f7f7"
            ],
            [
             0.6,
             "#e6f5d0"
            ],
            [
             0.7,
             "#b8e186"
            ],
            [
             0.8,
             "#7fbc41"
            ],
            [
             0.9,
             "#4d9221"
            ],
            [
             1,
             "#276419"
            ]
           ],
           "sequential": [
            [
             0,
             "#0d0887"
            ],
            [
             0.1111111111111111,
             "#46039f"
            ],
            [
             0.2222222222222222,
             "#7201a8"
            ],
            [
             0.3333333333333333,
             "#9c179e"
            ],
            [
             0.4444444444444444,
             "#bd3786"
            ],
            [
             0.5555555555555556,
             "#d8576b"
            ],
            [
             0.6666666666666666,
             "#ed7953"
            ],
            [
             0.7777777777777778,
             "#fb9f3a"
            ],
            [
             0.8888888888888888,
             "#fdca26"
            ],
            [
             1,
             "#f0f921"
            ]
           ],
           "sequentialminus": [
            [
             0,
             "#0d0887"
            ],
            [
             0.1111111111111111,
             "#46039f"
            ],
            [
             0.2222222222222222,
             "#7201a8"
            ],
            [
             0.3333333333333333,
             "#9c179e"
            ],
            [
             0.4444444444444444,
             "#bd3786"
            ],
            [
             0.5555555555555556,
             "#d8576b"
            ],
            [
             0.6666666666666666,
             "#ed7953"
            ],
            [
             0.7777777777777778,
             "#fb9f3a"
            ],
            [
             0.8888888888888888,
             "#fdca26"
            ],
            [
             1,
             "#f0f921"
            ]
           ]
          },
          "colorway": [
           "#636efa",
           "#EF553B",
           "#00cc96",
           "#ab63fa",
           "#FFA15A",
           "#19d3f3",
           "#FF6692",
           "#B6E880",
           "#FF97FF",
           "#FECB52"
          ],
          "font": {
           "color": "#2a3f5f"
          },
          "geo": {
           "bgcolor": "white",
           "lakecolor": "white",
           "landcolor": "#E5ECF6",
           "showlakes": true,
           "showland": true,
           "subunitcolor": "white"
          },
          "hoverlabel": {
           "align": "left"
          },
          "hovermode": "closest",
          "mapbox": {
           "style": "light"
          },
          "paper_bgcolor": "white",
          "plot_bgcolor": "#E5ECF6",
          "polar": {
           "angularaxis": {
            "gridcolor": "white",
            "linecolor": "white",
            "ticks": ""
           },
           "bgcolor": "#E5ECF6",
           "radialaxis": {
            "gridcolor": "white",
            "linecolor": "white",
            "ticks": ""
           }
          },
          "scene": {
           "xaxis": {
            "backgroundcolor": "#E5ECF6",
            "gridcolor": "white",
            "gridwidth": 2,
            "linecolor": "white",
            "showbackground": true,
            "ticks": "",
            "zerolinecolor": "white"
           },
           "yaxis": {
            "backgroundcolor": "#E5ECF6",
            "gridcolor": "white",
            "gridwidth": 2,
            "linecolor": "white",
            "showbackground": true,
            "ticks": "",
            "zerolinecolor": "white"
           },
           "zaxis": {
            "backgroundcolor": "#E5ECF6",
            "gridcolor": "white",
            "gridwidth": 2,
            "linecolor": "white",
            "showbackground": true,
            "ticks": "",
            "zerolinecolor": "white"
           }
          },
          "shapedefaults": {
           "line": {
            "color": "#2a3f5f"
           }
          },
          "ternary": {
           "aaxis": {
            "gridcolor": "white",
            "linecolor": "white",
            "ticks": ""
           },
           "baxis": {
            "gridcolor": "white",
            "linecolor": "white",
            "ticks": ""
           },
           "bgcolor": "#E5ECF6",
           "caxis": {
            "gridcolor": "white",
            "linecolor": "white",
            "ticks": ""
           }
          },
          "title": {
           "x": 0.05
          },
          "xaxis": {
           "automargin": true,
           "gridcolor": "white",
           "linecolor": "white",
           "ticks": "",
           "title": {
            "standoff": 15
           },
           "zerolinecolor": "white",
           "zerolinewidth": 2
          },
          "yaxis": {
           "automargin": true,
           "gridcolor": "white",
           "linecolor": "white",
           "ticks": "",
           "title": {
            "standoff": 15
           },
           "zerolinecolor": "white",
           "zerolinewidth": 2
          }
         }
        },
        "title": {
         "font": {
          "color": "#4D5663"
         }
        },
        "xaxis": {
         "gridcolor": "#E1E5ED",
         "showgrid": true,
         "tickfont": {
          "color": "#4D5663"
         },
         "title": {
          "font": {
           "color": "#4D5663"
          },
          "text": ""
         },
         "zerolinecolor": "#E1E5ED"
        },
        "yaxis": {
         "gridcolor": "#E1E5ED",
         "showgrid": true,
         "tickfont": {
          "color": "#4D5663"
         },
         "title": {
          "font": {
           "color": "#4D5663"
          },
          "text": ""
         },
         "zerolinecolor": "#E1E5ED"
        }
       }
      },
      "text/html": [
       "<div>                            <div id=\"d300402a-6d32-4031-a064-22e0dcb160a7\" class=\"plotly-graph-div\" style=\"height:525px; width:100%;\"></div>            <script type=\"text/javascript\">                require([\"plotly\"], function(Plotly) {                    window.PLOTLYENV=window.PLOTLYENV || {};\n",
       "                    window.PLOTLYENV.BASE_URL='https://plot.ly';                                    if (document.getElementById(\"d300402a-6d32-4031-a064-22e0dcb160a7\")) {                    Plotly.newPlot(                        \"d300402a-6d32-4031-a064-22e0dcb160a7\",                        [{\"marker\":{\"color\":[\"rgb(255, 153, 51)\",\"rgb(55, 128, 191)\",\"rgb(50, 171, 96)\",\"rgb(128, 0, 128)\",\"rgb(219, 64, 82)\",\"rgb(0, 128, 128)\",\"rgb(255, 255, 51)\",\"rgb(128, 128, 0)\",\"rgb(251, 128, 114)\",\"rgb(128, 177, 211)\"],\"line\":{\"width\":1.3},\"size\":[61,67,25,69,45,35,60,75,51,64,35,42,58,49,62,58,61,56,43,43,66,55,60,41,69,12,72,35,82,33,25,79,61,33,67,65,78,56,70,56,65,88,42,52,56,66,40,63,45,61,60,30,21,70,71,68,83,52,49,66,28,45,18,49,69,101,67,112,43,74,48,56,71,62,46,58,80,39,57,28,41,20,98,82,47,60,69,70,53,49,93,49,63,51,30,73,64,72,51,46],\"symbol\":\"circle\"},\"mode\":\"markers\",\"text\":\"\",\"x\":[-0.1655705937827465,0.6339335459532506,0.02552739960708487,0.01969683939300677,1.1722880458422509,0.9747235756758493,-0.6050070348936066,0.5085564324615662,-1.545435955849086,0.016081732460917663,0.22518728497505483,-1.3333108089982026,0.988778752425804,2.198159687266945,1.268817519997271,-0.008764501052270413,-0.44398572728548547,0.5551164490476496,0.8586223532174,-0.2094038044256258,-0.43206622309689674,0.6418351317018594,-1.5385625940572467,-0.17674250764098665,0.6744836258489834,-1.9243574705353481,-0.5163953508976782,0.9930864582338338,0.32124256694507275,-0.6698476139460213,0.381068709679253,-1.1944409695761267,0.6849270399380836,-0.3754746280710603,0.29975630620422455,0.05640202727675874,-0.94912681176481,-0.4799579983040787,-2.051159458016786,-0.3451565542145435,0.5491402974707585,0.36719851737511805,0.06903976021383912,0.9190117725334557,-1.024537808095599,-0.279366487748021,-1.708888485836476,-0.14402401705652035,-0.7956987990694804,-0.8078595466173956,0.6790479801631213,0.7620283540488753,0.04971040573434907,-1.0480450252213853,-1.1640007543201105,-0.8987684206556861,1.0921667216030286,-0.51688241157997,0.23331358423528553,0.72022348620067,-0.153330783695401,-1.7485084923560625,-0.5578921555527383,0.2592053361084132,0.6505485032752829,-0.09822617559722291,-0.11396477603957711,-0.04711327080097372,0.41794875708761625,-0.9794280917693772,-1.4930800481301383,0.20024816164433462,-0.0598198356874181,0.40228892142346856,0.7198143569507868,-0.7989673881758005,1.136051224771882,0.5213471362522815,0.382894174276429,-0.3781806207522293,0.1047978285603859,-0.5590826824234247,-1.4103183701528856,1.1809587208566368,-0.7340851584382985,2.302660557026478,-1.8176943917922668,-0.7827026497367355,-1.6804854405801986,-1.7161193914182236,0.13699488338331858,-1.0562415021653813,0.3440151400307065,-2.4135843823581773,-1.7169647154712107,0.11730382449763617,-0.12497531838910092,-0.9130583926720433,0.14177914589027968,-0.7325023740963575],\"y\":[-0.2924447826011183,0.7407806451006329,-0.4238185025341148,-0.806529453653887,-0.8131387530579735,0.00734319142364019,1.1409690687084817,-1.0399200861700937,-0.9757840095052484,0.6371836649454985,0.4822400989864475,-0.10658927474989756,1.030457973217204,0.298495758255452,-0.7007423238711151,0.3099974602415881,-0.999126943370043,-0.0534876423175067,-0.13547608459305985,1.5972425667119357,-2.5062520958522185,0.23267837072353362,0.025786950862549618,0.7223057893102796,-0.6716161547784072,-0.7347753399574438,-0.10092901382515361,1.9539851832256292,-0.6513024950203117,1.4165755824561908,-0.999587606254183,-0.7707015786264458,0.1651321634271878,0.27957354172687954,-0.07142121924509102,-0.592976528976272,-0.6196597646542373,0.24417621252015778,0.07404638331213868,1.3227806225059329,1.7101366397285278,-1.5305925978054404,-0.744847538740032,2.1580413988178124,-0.26752586946806556,-1.7789276564220624,1.3471114020730155,-0.5430113078286412,-0.8601260350318142,0.7316624912629281,2.5130402870286854,-1.4384259319922756,0.6398977902189656,0.3129349832028792,-0.07569412487699408,-1.6491607182971357,-0.7762918151343828,-0.13478606841780538,-0.013620877199414565,-0.2064697103702566,-1.280393149670629,0.20677309874895722,0.5884118424194865,0.4229230519321674,-0.9459402404714627,-0.37290272901489174,-1.322503831154513,0.38427151353223454,0.3440100483105457,1.2806969455257453,0.4153452313345435,0.5806468212039666,1.6475556469388035,1.104705852204584,0.5020651550204874,-1.7915206314516867,0.25651199464656715,-0.5105539232384897,0.6480584816840614,-1.0146531468192597,1.1156432997731665,-2.2734448280261437,2.000158801474051,0.6705878143141647,1.0574589784742312,1.1555814635540624,-0.08170108881032653,-1.0400644433309123,-0.9605721297657042,-0.49164022625070686,-0.45380715694038964,-0.16729635012015623,-0.7955770607437094,-2.814936036656384,-0.5282245113612478,-1.2738671529418648,0.8773494814469376,0.668093767934002,-0.8402771874279442,-0.9939287782369531],\"type\":\"scatter\"}],                        {\"legend\":{\"bgcolor\":\"#F5F6F9\",\"font\":{\"color\":\"#4D5663\"}},\"paper_bgcolor\":\"#F5F6F9\",\"plot_bgcolor\":\"#F5F6F9\",\"template\":{\"data\":{\"barpolar\":[{\"marker\":{\"line\":{\"color\":\"#E5ECF6\",\"width\":0.5},\"pattern\":{\"fillmode\":\"overlay\",\"size\":10,\"solidity\":0.2}},\"type\":\"barpolar\"}],\"bar\":[{\"error_x\":{\"color\":\"#2a3f5f\"},\"error_y\":{\"color\":\"#2a3f5f\"},\"marker\":{\"line\":{\"color\":\"#E5ECF6\",\"width\":0.5},\"pattern\":{\"fillmode\":\"overlay\",\"size\":10,\"solidity\":0.2}},\"type\":\"bar\"}],\"carpet\":[{\"aaxis\":{\"endlinecolor\":\"#2a3f5f\",\"gridcolor\":\"white\",\"linecolor\":\"white\",\"minorgridcolor\":\"white\",\"startlinecolor\":\"#2a3f5f\"},\"baxis\":{\"endlinecolor\":\"#2a3f5f\",\"gridcolor\":\"white\",\"linecolor\":\"white\",\"minorgridcolor\":\"white\",\"startlinecolor\":\"#2a3f5f\"},\"type\":\"carpet\"}],\"choropleth\":[{\"colorbar\":{\"outlinewidth\":0,\"ticks\":\"\"},\"type\":\"choropleth\"}],\"contourcarpet\":[{\"colorbar\":{\"outlinewidth\":0,\"ticks\":\"\"},\"type\":\"contourcarpet\"}],\"contour\":[{\"colorbar\":{\"outlinewidth\":0,\"ticks\":\"\"},\"colorscale\":[[0.0,\"#0d0887\"],[0.1111111111111111,\"#46039f\"],[0.2222222222222222,\"#7201a8\"],[0.3333333333333333,\"#9c179e\"],[0.4444444444444444,\"#bd3786\"],[0.5555555555555556,\"#d8576b\"],[0.6666666666666666,\"#ed7953\"],[0.7777777777777778,\"#fb9f3a\"],[0.8888888888888888,\"#fdca26\"],[1.0,\"#f0f921\"]],\"type\":\"contour\"}],\"heatmapgl\":[{\"colorbar\":{\"outlinewidth\":0,\"ticks\":\"\"},\"colorscale\":[[0.0,\"#0d0887\"],[0.1111111111111111,\"#46039f\"],[0.2222222222222222,\"#7201a8\"],[0.3333333333333333,\"#9c179e\"],[0.4444444444444444,\"#bd3786\"],[0.5555555555555556,\"#d8576b\"],[0.6666666666666666,\"#ed7953\"],[0.7777777777777778,\"#fb9f3a\"],[0.8888888888888888,\"#fdca26\"],[1.0,\"#f0f921\"]],\"type\":\"heatmapgl\"}],\"heatmap\":[{\"colorbar\":{\"outlinewidth\":0,\"ticks\":\"\"},\"colorscale\":[[0.0,\"#0d0887\"],[0.1111111111111111,\"#46039f\"],[0.2222222222222222,\"#7201a8\"],[0.3333333333333333,\"#9c179e\"],[0.4444444444444444,\"#bd3786\"],[0.5555555555555556,\"#d8576b\"],[0.6666666666666666,\"#ed7953\"],[0.7777777777777778,\"#fb9f3a\"],[0.8888888888888888,\"#fdca26\"],[1.0,\"#f0f921\"]],\"type\":\"heatmap\"}],\"histogram2dcontour\":[{\"colorbar\":{\"outlinewidth\":0,\"ticks\":\"\"},\"colorscale\":[[0.0,\"#0d0887\"],[0.1111111111111111,\"#46039f\"],[0.2222222222222222,\"#7201a8\"],[0.3333333333333333,\"#9c179e\"],[0.4444444444444444,\"#bd3786\"],[0.5555555555555556,\"#d8576b\"],[0.6666666666666666,\"#ed7953\"],[0.7777777777777778,\"#fb9f3a\"],[0.8888888888888888,\"#fdca26\"],[1.0,\"#f0f921\"]],\"type\":\"histogram2dcontour\"}],\"histogram2d\":[{\"colorbar\":{\"outlinewidth\":0,\"ticks\":\"\"},\"colorscale\":[[0.0,\"#0d0887\"],[0.1111111111111111,\"#46039f\"],[0.2222222222222222,\"#7201a8\"],[0.3333333333333333,\"#9c179e\"],[0.4444444444444444,\"#bd3786\"],[0.5555555555555556,\"#d8576b\"],[0.6666666666666666,\"#ed7953\"],[0.7777777777777778,\"#fb9f3a\"],[0.8888888888888888,\"#fdca26\"],[1.0,\"#f0f921\"]],\"type\":\"histogram2d\"}],\"histogram\":[{\"marker\":{\"pattern\":{\"fillmode\":\"overlay\",\"size\":10,\"solidity\":0.2}},\"type\":\"histogram\"}],\"mesh3d\":[{\"colorbar\":{\"outlinewidth\":0,\"ticks\":\"\"},\"type\":\"mesh3d\"}],\"parcoords\":[{\"line\":{\"colorbar\":{\"outlinewidth\":0,\"ticks\":\"\"}},\"type\":\"parcoords\"}],\"pie\":[{\"automargin\":true,\"type\":\"pie\"}],\"scatter3d\":[{\"line\":{\"colorbar\":{\"outlinewidth\":0,\"ticks\":\"\"}},\"marker\":{\"colorbar\":{\"outlinewidth\":0,\"ticks\":\"\"}},\"type\":\"scatter3d\"}],\"scattercarpet\":[{\"marker\":{\"colorbar\":{\"outlinewidth\":0,\"ticks\":\"\"}},\"type\":\"scattercarpet\"}],\"scattergeo\":[{\"marker\":{\"colorbar\":{\"outlinewidth\":0,\"ticks\":\"\"}},\"type\":\"scattergeo\"}],\"scattergl\":[{\"marker\":{\"colorbar\":{\"outlinewidth\":0,\"ticks\":\"\"}},\"type\":\"scattergl\"}],\"scattermapbox\":[{\"marker\":{\"colorbar\":{\"outlinewidth\":0,\"ticks\":\"\"}},\"type\":\"scattermapbox\"}],\"scatterpolargl\":[{\"marker\":{\"colorbar\":{\"outlinewidth\":0,\"ticks\":\"\"}},\"type\":\"scatterpolargl\"}],\"scatterpolar\":[{\"marker\":{\"colorbar\":{\"outlinewidth\":0,\"ticks\":\"\"}},\"type\":\"scatterpolar\"}],\"scatter\":[{\"fillpattern\":{\"fillmode\":\"overlay\",\"size\":10,\"solidity\":0.2},\"type\":\"scatter\"}],\"scatterternary\":[{\"marker\":{\"colorbar\":{\"outlinewidth\":0,\"ticks\":\"\"}},\"type\":\"scatterternary\"}],\"surface\":[{\"colorbar\":{\"outlinewidth\":0,\"ticks\":\"\"},\"colorscale\":[[0.0,\"#0d0887\"],[0.1111111111111111,\"#46039f\"],[0.2222222222222222,\"#7201a8\"],[0.3333333333333333,\"#9c179e\"],[0.4444444444444444,\"#bd3786\"],[0.5555555555555556,\"#d8576b\"],[0.6666666666666666,\"#ed7953\"],[0.7777777777777778,\"#fb9f3a\"],[0.8888888888888888,\"#fdca26\"],[1.0,\"#f0f921\"]],\"type\":\"surface\"}],\"table\":[{\"cells\":{\"fill\":{\"color\":\"#EBF0F8\"},\"line\":{\"color\":\"white\"}},\"header\":{\"fill\":{\"color\":\"#C8D4E3\"},\"line\":{\"color\":\"white\"}},\"type\":\"table\"}]},\"layout\":{\"annotationdefaults\":{\"arrowcolor\":\"#2a3f5f\",\"arrowhead\":0,\"arrowwidth\":1},\"autotypenumbers\":\"strict\",\"coloraxis\":{\"colorbar\":{\"outlinewidth\":0,\"ticks\":\"\"}},\"colorscale\":{\"diverging\":[[0,\"#8e0152\"],[0.1,\"#c51b7d\"],[0.2,\"#de77ae\"],[0.3,\"#f1b6da\"],[0.4,\"#fde0ef\"],[0.5,\"#f7f7f7\"],[0.6,\"#e6f5d0\"],[0.7,\"#b8e186\"],[0.8,\"#7fbc41\"],[0.9,\"#4d9221\"],[1,\"#276419\"]],\"sequential\":[[0.0,\"#0d0887\"],[0.1111111111111111,\"#46039f\"],[0.2222222222222222,\"#7201a8\"],[0.3333333333333333,\"#9c179e\"],[0.4444444444444444,\"#bd3786\"],[0.5555555555555556,\"#d8576b\"],[0.6666666666666666,\"#ed7953\"],[0.7777777777777778,\"#fb9f3a\"],[0.8888888888888888,\"#fdca26\"],[1.0,\"#f0f921\"]],\"sequentialminus\":[[0.0,\"#0d0887\"],[0.1111111111111111,\"#46039f\"],[0.2222222222222222,\"#7201a8\"],[0.3333333333333333,\"#9c179e\"],[0.4444444444444444,\"#bd3786\"],[0.5555555555555556,\"#d8576b\"],[0.6666666666666666,\"#ed7953\"],[0.7777777777777778,\"#fb9f3a\"],[0.8888888888888888,\"#fdca26\"],[1.0,\"#f0f921\"]]},\"colorway\":[\"#636efa\",\"#EF553B\",\"#00cc96\",\"#ab63fa\",\"#FFA15A\",\"#19d3f3\",\"#FF6692\",\"#B6E880\",\"#FF97FF\",\"#FECB52\"],\"font\":{\"color\":\"#2a3f5f\"},\"geo\":{\"bgcolor\":\"white\",\"lakecolor\":\"white\",\"landcolor\":\"#E5ECF6\",\"showlakes\":true,\"showland\":true,\"subunitcolor\":\"white\"},\"hoverlabel\":{\"align\":\"left\"},\"hovermode\":\"closest\",\"mapbox\":{\"style\":\"light\"},\"paper_bgcolor\":\"white\",\"plot_bgcolor\":\"#E5ECF6\",\"polar\":{\"angularaxis\":{\"gridcolor\":\"white\",\"linecolor\":\"white\",\"ticks\":\"\"},\"bgcolor\":\"#E5ECF6\",\"radialaxis\":{\"gridcolor\":\"white\",\"linecolor\":\"white\",\"ticks\":\"\"}},\"scene\":{\"xaxis\":{\"backgroundcolor\":\"#E5ECF6\",\"gridcolor\":\"white\",\"gridwidth\":2,\"linecolor\":\"white\",\"showbackground\":true,\"ticks\":\"\",\"zerolinecolor\":\"white\"},\"yaxis\":{\"backgroundcolor\":\"#E5ECF6\",\"gridcolor\":\"white\",\"gridwidth\":2,\"linecolor\":\"white\",\"showbackground\":true,\"ticks\":\"\",\"zerolinecolor\":\"white\"},\"zaxis\":{\"backgroundcolor\":\"#E5ECF6\",\"gridcolor\":\"white\",\"gridwidth\":2,\"linecolor\":\"white\",\"showbackground\":true,\"ticks\":\"\",\"zerolinecolor\":\"white\"}},\"shapedefaults\":{\"line\":{\"color\":\"#2a3f5f\"}},\"ternary\":{\"aaxis\":{\"gridcolor\":\"white\",\"linecolor\":\"white\",\"ticks\":\"\"},\"baxis\":{\"gridcolor\":\"white\",\"linecolor\":\"white\",\"ticks\":\"\"},\"bgcolor\":\"#E5ECF6\",\"caxis\":{\"gridcolor\":\"white\",\"linecolor\":\"white\",\"ticks\":\"\"}},\"title\":{\"x\":0.05},\"xaxis\":{\"automargin\":true,\"gridcolor\":\"white\",\"linecolor\":\"white\",\"ticks\":\"\",\"title\":{\"standoff\":15},\"zerolinecolor\":\"white\",\"zerolinewidth\":2},\"yaxis\":{\"automargin\":true,\"gridcolor\":\"white\",\"linecolor\":\"white\",\"ticks\":\"\",\"title\":{\"standoff\":15},\"zerolinecolor\":\"white\",\"zerolinewidth\":2}}},\"title\":{\"font\":{\"color\":\"#4D5663\"}},\"xaxis\":{\"gridcolor\":\"#E1E5ED\",\"showgrid\":true,\"tickfont\":{\"color\":\"#4D5663\"},\"title\":{\"font\":{\"color\":\"#4D5663\"},\"text\":\"\"},\"zerolinecolor\":\"#E1E5ED\"},\"yaxis\":{\"gridcolor\":\"#E1E5ED\",\"showgrid\":true,\"tickfont\":{\"color\":\"#4D5663\"},\"title\":{\"font\":{\"color\":\"#4D5663\"},\"text\":\"\"},\"zerolinecolor\":\"#E1E5ED\"}},                        {\"showLink\": true, \"linkText\": \"Export to plot.ly\", \"plotlyServerURL\": \"https://plot.ly\", \"responsive\": true}                    ).then(function(){\n",
       "                            \n",
       "var gd = document.getElementById('d300402a-6d32-4031-a064-22e0dcb160a7');\n",
       "var x = new MutationObserver(function (mutations, observer) {{\n",
       "        var display = window.getComputedStyle(gd).display;\n",
       "        if (!display || display === 'none') {{\n",
       "            console.log([gd, 'removed!']);\n",
       "            Plotly.purge(gd);\n",
       "            observer.disconnect();\n",
       "        }}\n",
       "}});\n",
       "\n",
       "// Listen for the removal of the full notebook cells\n",
       "var notebookContainer = gd.closest('#notebook-container');\n",
       "if (notebookContainer) {{\n",
       "    x.observe(notebookContainer, {childList: true});\n",
       "}}\n",
       "\n",
       "// Listen for the clearing of the current output cell\n",
       "var outputEl = gd.closest('.output');\n",
       "if (outputEl) {{\n",
       "    x.observe(outputEl, {childList: true});\n",
       "}}\n",
       "\n",
       "                        })                };                });            </script>        </div>"
      ]
     },
     "metadata": {},
     "output_type": "display_data"
    }
   ],
   "source": [
    "df.iplot(kind='bubble',x='A',y='B',size='C')"
   ]
  },
  {
   "cell_type": "markdown",
   "metadata": {},
   "source": [
    "## scatter_matrix()\n",
    "\n",
    "Similar to sns.pairplot()"
   ]
  },
  {
   "cell_type": "code",
   "execution_count": 18,
   "metadata": {},
   "outputs": [
    {
     "data": {
      "application/vnd.plotly.v1+json": {
       "config": {
        "linkText": "Export to plot.ly",
        "plotlyServerURL": "https://plot.ly",
        "showLink": true
       },
       "data": [
        {
         "histfunc": "count",
         "histnorm": "",
         "marker": {
          "color": "rgba(255, 153, 51, 1.0)",
          "line": {
           "color": "#4D5663",
           "width": 1.3
          }
         },
         "name": "A",
         "nbinsx": 10,
         "opacity": 0.8,
         "orientation": "v",
         "type": "histogram",
         "x": [
          -0.1655705937827465,
          0.6339335459532506,
          0.02552739960708487,
          0.01969683939300677,
          1.1722880458422509,
          0.9747235756758493,
          -0.6050070348936066,
          0.5085564324615662,
          -1.545435955849086,
          0.016081732460917663,
          0.22518728497505483,
          -1.3333108089982026,
          0.988778752425804,
          2.198159687266945,
          1.268817519997271,
          -0.008764501052270413,
          -0.44398572728548547,
          0.5551164490476496,
          0.8586223532174,
          -0.2094038044256258,
          -0.43206622309689674,
          0.6418351317018594,
          -1.5385625940572467,
          -0.17674250764098665,
          0.6744836258489834,
          -1.9243574705353481,
          -0.5163953508976782,
          0.9930864582338338,
          0.32124256694507275,
          -0.6698476139460213,
          0.381068709679253,
          -1.1944409695761267,
          0.6849270399380836,
          -0.3754746280710603,
          0.29975630620422455,
          0.05640202727675874,
          -0.94912681176481,
          -0.4799579983040787,
          -2.051159458016786,
          -0.3451565542145435,
          0.5491402974707585,
          0.36719851737511805,
          0.06903976021383912,
          0.9190117725334557,
          -1.024537808095599,
          -0.279366487748021,
          -1.708888485836476,
          -0.14402401705652035,
          -0.7956987990694804,
          -0.8078595466173956,
          0.6790479801631213,
          0.7620283540488753,
          0.04971040573434907,
          -1.0480450252213853,
          -1.1640007543201105,
          -0.8987684206556861,
          1.0921667216030286,
          -0.51688241157997,
          0.23331358423528553,
          0.72022348620067,
          -0.153330783695401,
          -1.7485084923560625,
          -0.5578921555527383,
          0.2592053361084132,
          0.6505485032752829,
          -0.09822617559722291,
          -0.11396477603957711,
          -0.04711327080097372,
          0.41794875708761625,
          -0.9794280917693772,
          -1.4930800481301383,
          0.20024816164433462,
          -0.0598198356874181,
          0.40228892142346856,
          0.7198143569507868,
          -0.7989673881758005,
          1.136051224771882,
          0.5213471362522815,
          0.382894174276429,
          -0.3781806207522293,
          0.1047978285603859,
          -0.5590826824234247,
          -1.4103183701528856,
          1.1809587208566368,
          -0.7340851584382985,
          2.302660557026478,
          -1.8176943917922668,
          -0.7827026497367355,
          -1.6804854405801986,
          -1.7161193914182236,
          0.13699488338331858,
          -1.0562415021653813,
          0.3440151400307065,
          -2.4135843823581773,
          -1.7169647154712107,
          0.11730382449763617,
          -0.12497531838910092,
          -0.9130583926720433,
          0.14177914589027968,
          -0.7325023740963575
         ],
         "xaxis": "x",
         "yaxis": "y"
        },
        {
         "line": {
          "color": "rgba(128, 128, 128, 1.0)",
          "dash": "solid",
          "shape": "linear",
          "width": 1.3
         },
         "marker": {
          "size": 2,
          "symbol": "circle"
         },
         "mode": "markers",
         "name": "A",
         "text": "",
         "type": "scatter",
         "x": [
          -0.2924447826011183,
          0.7407806451006329,
          -0.4238185025341148,
          -0.806529453653887,
          -0.8131387530579735,
          0.00734319142364019,
          1.1409690687084817,
          -1.0399200861700937,
          -0.9757840095052484,
          0.6371836649454985,
          0.4822400989864475,
          -0.10658927474989756,
          1.030457973217204,
          0.298495758255452,
          -0.7007423238711151,
          0.3099974602415881,
          -0.999126943370043,
          -0.0534876423175067,
          -0.13547608459305985,
          1.5972425667119357,
          -2.5062520958522185,
          0.23267837072353362,
          0.025786950862549618,
          0.7223057893102796,
          -0.6716161547784072,
          -0.7347753399574438,
          -0.10092901382515361,
          1.9539851832256292,
          -0.6513024950203117,
          1.4165755824561908,
          -0.999587606254183,
          -0.7707015786264458,
          0.1651321634271878,
          0.27957354172687954,
          -0.07142121924509102,
          -0.592976528976272,
          -0.6196597646542373,
          0.24417621252015778,
          0.07404638331213868,
          1.3227806225059329,
          1.7101366397285278,
          -1.5305925978054404,
          -0.744847538740032,
          2.1580413988178124,
          -0.26752586946806556,
          -1.7789276564220624,
          1.3471114020730155,
          -0.5430113078286412,
          -0.8601260350318142,
          0.7316624912629281,
          2.5130402870286854,
          -1.4384259319922756,
          0.6398977902189656,
          0.3129349832028792,
          -0.07569412487699408,
          -1.6491607182971357,
          -0.7762918151343828,
          -0.13478606841780538,
          -0.013620877199414565,
          -0.2064697103702566,
          -1.280393149670629,
          0.20677309874895722,
          0.5884118424194865,
          0.4229230519321674,
          -0.9459402404714627,
          -0.37290272901489174,
          -1.322503831154513,
          0.38427151353223454,
          0.3440100483105457,
          1.2806969455257453,
          0.4153452313345435,
          0.5806468212039666,
          1.6475556469388035,
          1.104705852204584,
          0.5020651550204874,
          -1.7915206314516867,
          0.25651199464656715,
          -0.5105539232384897,
          0.6480584816840614,
          -1.0146531468192597,
          1.1156432997731665,
          -2.2734448280261437,
          2.000158801474051,
          0.6705878143141647,
          1.0574589784742312,
          1.1555814635540624,
          -0.08170108881032653,
          -1.0400644433309123,
          -0.9605721297657042,
          -0.49164022625070686,
          -0.45380715694038964,
          -0.16729635012015623,
          -0.7955770607437094,
          -2.814936036656384,
          -0.5282245113612478,
          -1.2738671529418648,
          0.8773494814469376,
          0.668093767934002,
          -0.8402771874279442,
          -0.9939287782369531
         ],
         "xaxis": "x2",
         "y": [
          -0.1655705937827465,
          0.6339335459532506,
          0.02552739960708487,
          0.01969683939300677,
          1.1722880458422509,
          0.9747235756758493,
          -0.6050070348936066,
          0.5085564324615662,
          -1.545435955849086,
          0.016081732460917663,
          0.22518728497505483,
          -1.3333108089982026,
          0.988778752425804,
          2.198159687266945,
          1.268817519997271,
          -0.008764501052270413,
          -0.44398572728548547,
          0.5551164490476496,
          0.8586223532174,
          -0.2094038044256258,
          -0.43206622309689674,
          0.6418351317018594,
          -1.5385625940572467,
          -0.17674250764098665,
          0.6744836258489834,
          -1.9243574705353481,
          -0.5163953508976782,
          0.9930864582338338,
          0.32124256694507275,
          -0.6698476139460213,
          0.381068709679253,
          -1.1944409695761267,
          0.6849270399380836,
          -0.3754746280710603,
          0.29975630620422455,
          0.05640202727675874,
          -0.94912681176481,
          -0.4799579983040787,
          -2.051159458016786,
          -0.3451565542145435,
          0.5491402974707585,
          0.36719851737511805,
          0.06903976021383912,
          0.9190117725334557,
          -1.024537808095599,
          -0.279366487748021,
          -1.708888485836476,
          -0.14402401705652035,
          -0.7956987990694804,
          -0.8078595466173956,
          0.6790479801631213,
          0.7620283540488753,
          0.04971040573434907,
          -1.0480450252213853,
          -1.1640007543201105,
          -0.8987684206556861,
          1.0921667216030286,
          -0.51688241157997,
          0.23331358423528553,
          0.72022348620067,
          -0.153330783695401,
          -1.7485084923560625,
          -0.5578921555527383,
          0.2592053361084132,
          0.6505485032752829,
          -0.09822617559722291,
          -0.11396477603957711,
          -0.04711327080097372,
          0.41794875708761625,
          -0.9794280917693772,
          -1.4930800481301383,
          0.20024816164433462,
          -0.0598198356874181,
          0.40228892142346856,
          0.7198143569507868,
          -0.7989673881758005,
          1.136051224771882,
          0.5213471362522815,
          0.382894174276429,
          -0.3781806207522293,
          0.1047978285603859,
          -0.5590826824234247,
          -1.4103183701528856,
          1.1809587208566368,
          -0.7340851584382985,
          2.302660557026478,
          -1.8176943917922668,
          -0.7827026497367355,
          -1.6804854405801986,
          -1.7161193914182236,
          0.13699488338331858,
          -1.0562415021653813,
          0.3440151400307065,
          -2.4135843823581773,
          -1.7169647154712107,
          0.11730382449763617,
          -0.12497531838910092,
          -0.9130583926720433,
          0.14177914589027968,
          -0.7325023740963575
         ],
         "yaxis": "y2"
        },
        {
         "line": {
          "color": "rgba(128, 128, 128, 1.0)",
          "dash": "solid",
          "shape": "linear",
          "width": 1.3
         },
         "marker": {
          "size": 2,
          "symbol": "circle"
         },
         "mode": "markers",
         "name": "A",
         "text": "",
         "type": "scatter",
         "x": [
          0.35076263526198337,
          0.733249650774157,
          -1.7032930220035714,
          0.8202205170894571,
          -0.5507710511015657,
          -1.1240484146993106,
          0.29740568617598245,
          1.1972015362816384,
          -0.22820240226006316,
          0.5355998701914795,
          -1.1295370842041599,
          -0.7491051317232211,
          0.20681092837016593,
          -0.3530340544737697,
          0.4218783417978045,
          0.18087808542826384,
          0.3873549029009786,
          0.10677295388359759,
          -0.6829100527136044,
          -0.6573768834964874,
          0.6499006229297318,
          0.045102328905965765,
          0.3222410032265958,
          -0.8047455945731645,
          0.8186156888335291,
          -2.5206315140725777,
          0.9972223726586227,
          -1.1558752369298482,
          1.6116851692598697,
          -1.266511312491447,
          -1.7273808466675313,
          1.4121644992590647,
          0.3693496958379291,
          -1.2512859754290517,
          0.7088036750026356,
          0.6038574645121113,
          1.3998585403931767,
          0.07222594907407917,
          0.9151272475922841,
          0.07797543856241951,
          0.5942466476602303,
          1.942908793390327,
          -0.749206961204227,
          -0.14404845354792145,
          0.08316410129222325,
          0.6526673416999027,
          -0.8305184338945732,
          0.494168214342465,
          -0.5851646590700206,
          0.38569648810177964,
          0.29454881397359456,
          -1.4336427820706354,
          -1.9572425188301583,
          0.9156965283707941,
          0.9731639881488587,
          0.7959548922375212,
          1.6539560767124746,
          -0.15071707089455394,
          -0.3157097115252297,
          0.6420971166613652,
          -1.5833339341441615,
          -0.5497853707439115,
          -2.155874940570798,
          -0.31627953905033046,
          0.8456771431879876,
          2.7038916449379418,
          0.7565640454851246,
          3.333138715647141,
          -0.691495621223797,
          1.1543707889340264,
          -0.38110714593892153,
          0.07015709719435037,
          0.9730564301853157,
          0.43113191059400285,
          -0.49883277531233877,
          0.21296943694756737,
          1.5130090932884415,
          -0.9155328178978838,
          0.1492931406956385,
          -1.572780364986155,
          -0.8097326528930057,
          -2.0028236151893055,
          2.5147398980462117,
          1.6103027546296318,
          -0.45192727371107133,
          0.299848019757964,
          0.8334830464289262,
          0.8947415038250612,
          -0.11279336388146276,
          -0.346041329228633,
          2.2331580526894084,
          -0.33113739471086795,
          0.49895851577455197,
          -0.2304515686683581,
          -1.4668971259025136,
          1.0726111366421744,
          0.5549556662851106,
          1.0410095475920396,
          -0.23695241941451597,
          -0.5013511150598189
         ],
         "xaxis": "x3",
         "y": [
          -0.1655705937827465,
          0.6339335459532506,
          0.02552739960708487,
          0.01969683939300677,
          1.1722880458422509,
          0.9747235756758493,
          -0.6050070348936066,
          0.5085564324615662,
          -1.545435955849086,
          0.016081732460917663,
          0.22518728497505483,
          -1.3333108089982026,
          0.988778752425804,
          2.198159687266945,
          1.268817519997271,
          -0.008764501052270413,
          -0.44398572728548547,
          0.5551164490476496,
          0.8586223532174,
          -0.2094038044256258,
          -0.43206622309689674,
          0.6418351317018594,
          -1.5385625940572467,
          -0.17674250764098665,
          0.6744836258489834,
          -1.9243574705353481,
          -0.5163953508976782,
          0.9930864582338338,
          0.32124256694507275,
          -0.6698476139460213,
          0.381068709679253,
          -1.1944409695761267,
          0.6849270399380836,
          -0.3754746280710603,
          0.29975630620422455,
          0.05640202727675874,
          -0.94912681176481,
          -0.4799579983040787,
          -2.051159458016786,
          -0.3451565542145435,
          0.5491402974707585,
          0.36719851737511805,
          0.06903976021383912,
          0.9190117725334557,
          -1.024537808095599,
          -0.279366487748021,
          -1.708888485836476,
          -0.14402401705652035,
          -0.7956987990694804,
          -0.8078595466173956,
          0.6790479801631213,
          0.7620283540488753,
          0.04971040573434907,
          -1.0480450252213853,
          -1.1640007543201105,
          -0.8987684206556861,
          1.0921667216030286,
          -0.51688241157997,
          0.23331358423528553,
          0.72022348620067,
          -0.153330783695401,
          -1.7485084923560625,
          -0.5578921555527383,
          0.2592053361084132,
          0.6505485032752829,
          -0.09822617559722291,
          -0.11396477603957711,
          -0.04711327080097372,
          0.41794875708761625,
          -0.9794280917693772,
          -1.4930800481301383,
          0.20024816164433462,
          -0.0598198356874181,
          0.40228892142346856,
          0.7198143569507868,
          -0.7989673881758005,
          1.136051224771882,
          0.5213471362522815,
          0.382894174276429,
          -0.3781806207522293,
          0.1047978285603859,
          -0.5590826824234247,
          -1.4103183701528856,
          1.1809587208566368,
          -0.7340851584382985,
          2.302660557026478,
          -1.8176943917922668,
          -0.7827026497367355,
          -1.6804854405801986,
          -1.7161193914182236,
          0.13699488338331858,
          -1.0562415021653813,
          0.3440151400307065,
          -2.4135843823581773,
          -1.7169647154712107,
          0.11730382449763617,
          -0.12497531838910092,
          -0.9130583926720433,
          0.14177914589027968,
          -0.7325023740963575
         ],
         "yaxis": "y3"
        },
        {
         "line": {
          "color": "rgba(128, 128, 128, 1.0)",
          "dash": "solid",
          "shape": "linear",
          "width": 1.3
         },
         "marker": {
          "size": 2,
          "symbol": "circle"
         },
         "mode": "markers",
         "name": "A",
         "text": "",
         "type": "scatter",
         "x": [
          -1.4047320927353888,
          1.4237200377383676,
          0.8265858627223719,
          -1.1151313254253328,
          -2.686302163682932,
          -2.032681467811205,
          -0.1855816916495254,
          -0.15543861488373062,
          0.7868694998490952,
          0.41041051951329316,
          0.8156060390638558,
          -1.4619644391399798,
          0.32130853170873824,
          -0.8075549614220208,
          0.8441914752334481,
          1.0166593992134825,
          0.046095134277734866,
          1.5110536205445035,
          0.37812992835432196,
          -1.1371971301959563,
          -0.405180520337886,
          -0.22787398528114242,
          -0.06132667206528754,
          -0.2938130692398661,
          1.0177552578194045,
          0.5261811051852987,
          -0.07245347114924584,
          -0.7881535410935027,
          0.5127602237492641,
          0.34495536548287414,
          -0.07211553377164076,
          -1.9796248240992131,
          0.9905056587762447,
          0.6276548929731041,
          2.512839509103458,
          0.393276754863117,
          -1.6738125240432749,
          1.5276633849577352,
          -1.684519672347046,
          -0.3030552198488424,
          -0.7143365770839046,
          1.9815729393615664,
          -0.3250489653887721,
          0.27159611260491806,
          -0.2122044979478187,
          -1.9594916190841276,
          1.9066170044438184,
          -0.5226907355264899,
          0.7974621362363147,
          1.048444687819637,
          -0.85337863465108,
          -1.283656353924518,
          -1.6509182165023395,
          -1.939746014696315,
          0.32968183706646076,
          -0.05427902038794936,
          0.33703648598626335,
          0.5225665373653318,
          0.8773138958871902,
          0.07806610399714041,
          -1.0882284995629077,
          -0.5591230471826347,
          -0.577616413846726,
          1.2757632717511154,
          0.2137195900493786,
          -1.3325488259242642,
          0.8652867649593701,
          -0.3248854914734833,
          -0.26696602253882457,
          1.3916034561849149,
          2.5332226306314958,
          -0.8627985608403493,
          -0.48314936501080663,
          0.022291286582630035,
          0.9581020491255166,
          -1.2063368460462618,
          -2.510095148625423,
          -1.4609281899897406,
          -0.033575684387133424,
          -1.5284792174694775,
          1.3824084982959488,
          -0.053823501189782845,
          -0.5804281072629928,
          -0.671624871204395,
          -1.0667214635958242,
          -0.37317513328559504,
          -1.1471363068064102,
          -0.9113881573642173,
          2.358817473859362,
          0.7258671702826152,
          1.0421233958080982,
          -0.05670006168759067,
          -0.5713642642753461,
          -1.1063788697212507,
          -0.5965455108255635,
          -1.5387314659064195,
          -0.17467480421157586,
          -0.21496606283281525,
          0.3744289266602406,
          1.8123992926268773
         ],
         "xaxis": "x4",
         "y": [
          -0.1655705937827465,
          0.6339335459532506,
          0.02552739960708487,
          0.01969683939300677,
          1.1722880458422509,
          0.9747235756758493,
          -0.6050070348936066,
          0.5085564324615662,
          -1.545435955849086,
          0.016081732460917663,
          0.22518728497505483,
          -1.3333108089982026,
          0.988778752425804,
          2.198159687266945,
          1.268817519997271,
          -0.008764501052270413,
          -0.44398572728548547,
          0.5551164490476496,
          0.8586223532174,
          -0.2094038044256258,
          -0.43206622309689674,
          0.6418351317018594,
          -1.5385625940572467,
          -0.17674250764098665,
          0.6744836258489834,
          -1.9243574705353481,
          -0.5163953508976782,
          0.9930864582338338,
          0.32124256694507275,
          -0.6698476139460213,
          0.381068709679253,
          -1.1944409695761267,
          0.6849270399380836,
          -0.3754746280710603,
          0.29975630620422455,
          0.05640202727675874,
          -0.94912681176481,
          -0.4799579983040787,
          -2.051159458016786,
          -0.3451565542145435,
          0.5491402974707585,
          0.36719851737511805,
          0.06903976021383912,
          0.9190117725334557,
          -1.024537808095599,
          -0.279366487748021,
          -1.708888485836476,
          -0.14402401705652035,
          -0.7956987990694804,
          -0.8078595466173956,
          0.6790479801631213,
          0.7620283540488753,
          0.04971040573434907,
          -1.0480450252213853,
          -1.1640007543201105,
          -0.8987684206556861,
          1.0921667216030286,
          -0.51688241157997,
          0.23331358423528553,
          0.72022348620067,
          -0.153330783695401,
          -1.7485084923560625,
          -0.5578921555527383,
          0.2592053361084132,
          0.6505485032752829,
          -0.09822617559722291,
          -0.11396477603957711,
          -0.04711327080097372,
          0.41794875708761625,
          -0.9794280917693772,
          -1.4930800481301383,
          0.20024816164433462,
          -0.0598198356874181,
          0.40228892142346856,
          0.7198143569507868,
          -0.7989673881758005,
          1.136051224771882,
          0.5213471362522815,
          0.382894174276429,
          -0.3781806207522293,
          0.1047978285603859,
          -0.5590826824234247,
          -1.4103183701528856,
          1.1809587208566368,
          -0.7340851584382985,
          2.302660557026478,
          -1.8176943917922668,
          -0.7827026497367355,
          -1.6804854405801986,
          -1.7161193914182236,
          0.13699488338331858,
          -1.0562415021653813,
          0.3440151400307065,
          -2.4135843823581773,
          -1.7169647154712107,
          0.11730382449763617,
          -0.12497531838910092,
          -0.9130583926720433,
          0.14177914589027968,
          -0.7325023740963575
         ],
         "yaxis": "y4"
        },
        {
         "line": {
          "color": "rgba(128, 128, 128, 1.0)",
          "dash": "solid",
          "shape": "linear",
          "width": 1.3
         },
         "marker": {
          "size": 2,
          "symbol": "circle"
         },
         "mode": "markers",
         "name": "B",
         "text": "",
         "type": "scatter",
         "x": [
          -0.1655705937827465,
          0.6339335459532506,
          0.02552739960708487,
          0.01969683939300677,
          1.1722880458422509,
          0.9747235756758493,
          -0.6050070348936066,
          0.5085564324615662,
          -1.545435955849086,
          0.016081732460917663,
          0.22518728497505483,
          -1.3333108089982026,
          0.988778752425804,
          2.198159687266945,
          1.268817519997271,
          -0.008764501052270413,
          -0.44398572728548547,
          0.5551164490476496,
          0.8586223532174,
          -0.2094038044256258,
          -0.43206622309689674,
          0.6418351317018594,
          -1.5385625940572467,
          -0.17674250764098665,
          0.6744836258489834,
          -1.9243574705353481,
          -0.5163953508976782,
          0.9930864582338338,
          0.32124256694507275,
          -0.6698476139460213,
          0.381068709679253,
          -1.1944409695761267,
          0.6849270399380836,
          -0.3754746280710603,
          0.29975630620422455,
          0.05640202727675874,
          -0.94912681176481,
          -0.4799579983040787,
          -2.051159458016786,
          -0.3451565542145435,
          0.5491402974707585,
          0.36719851737511805,
          0.06903976021383912,
          0.9190117725334557,
          -1.024537808095599,
          -0.279366487748021,
          -1.708888485836476,
          -0.14402401705652035,
          -0.7956987990694804,
          -0.8078595466173956,
          0.6790479801631213,
          0.7620283540488753,
          0.04971040573434907,
          -1.0480450252213853,
          -1.1640007543201105,
          -0.8987684206556861,
          1.0921667216030286,
          -0.51688241157997,
          0.23331358423528553,
          0.72022348620067,
          -0.153330783695401,
          -1.7485084923560625,
          -0.5578921555527383,
          0.2592053361084132,
          0.6505485032752829,
          -0.09822617559722291,
          -0.11396477603957711,
          -0.04711327080097372,
          0.41794875708761625,
          -0.9794280917693772,
          -1.4930800481301383,
          0.20024816164433462,
          -0.0598198356874181,
          0.40228892142346856,
          0.7198143569507868,
          -0.7989673881758005,
          1.136051224771882,
          0.5213471362522815,
          0.382894174276429,
          -0.3781806207522293,
          0.1047978285603859,
          -0.5590826824234247,
          -1.4103183701528856,
          1.1809587208566368,
          -0.7340851584382985,
          2.302660557026478,
          -1.8176943917922668,
          -0.7827026497367355,
          -1.6804854405801986,
          -1.7161193914182236,
          0.13699488338331858,
          -1.0562415021653813,
          0.3440151400307065,
          -2.4135843823581773,
          -1.7169647154712107,
          0.11730382449763617,
          -0.12497531838910092,
          -0.9130583926720433,
          0.14177914589027968,
          -0.7325023740963575
         ],
         "xaxis": "x5",
         "y": [
          -0.2924447826011183,
          0.7407806451006329,
          -0.4238185025341148,
          -0.806529453653887,
          -0.8131387530579735,
          0.00734319142364019,
          1.1409690687084817,
          -1.0399200861700937,
          -0.9757840095052484,
          0.6371836649454985,
          0.4822400989864475,
          -0.10658927474989756,
          1.030457973217204,
          0.298495758255452,
          -0.7007423238711151,
          0.3099974602415881,
          -0.999126943370043,
          -0.0534876423175067,
          -0.13547608459305985,
          1.5972425667119357,
          -2.5062520958522185,
          0.23267837072353362,
          0.025786950862549618,
          0.7223057893102796,
          -0.6716161547784072,
          -0.7347753399574438,
          -0.10092901382515361,
          1.9539851832256292,
          -0.6513024950203117,
          1.4165755824561908,
          -0.999587606254183,
          -0.7707015786264458,
          0.1651321634271878,
          0.27957354172687954,
          -0.07142121924509102,
          -0.592976528976272,
          -0.6196597646542373,
          0.24417621252015778,
          0.07404638331213868,
          1.3227806225059329,
          1.7101366397285278,
          -1.5305925978054404,
          -0.744847538740032,
          2.1580413988178124,
          -0.26752586946806556,
          -1.7789276564220624,
          1.3471114020730155,
          -0.5430113078286412,
          -0.8601260350318142,
          0.7316624912629281,
          2.5130402870286854,
          -1.4384259319922756,
          0.6398977902189656,
          0.3129349832028792,
          -0.07569412487699408,
          -1.6491607182971357,
          -0.7762918151343828,
          -0.13478606841780538,
          -0.013620877199414565,
          -0.2064697103702566,
          -1.280393149670629,
          0.20677309874895722,
          0.5884118424194865,
          0.4229230519321674,
          -0.9459402404714627,
          -0.37290272901489174,
          -1.322503831154513,
          0.38427151353223454,
          0.3440100483105457,
          1.2806969455257453,
          0.4153452313345435,
          0.5806468212039666,
          1.6475556469388035,
          1.104705852204584,
          0.5020651550204874,
          -1.7915206314516867,
          0.25651199464656715,
          -0.5105539232384897,
          0.6480584816840614,
          -1.0146531468192597,
          1.1156432997731665,
          -2.2734448280261437,
          2.000158801474051,
          0.6705878143141647,
          1.0574589784742312,
          1.1555814635540624,
          -0.08170108881032653,
          -1.0400644433309123,
          -0.9605721297657042,
          -0.49164022625070686,
          -0.45380715694038964,
          -0.16729635012015623,
          -0.7955770607437094,
          -2.814936036656384,
          -0.5282245113612478,
          -1.2738671529418648,
          0.8773494814469376,
          0.668093767934002,
          -0.8402771874279442,
          -0.9939287782369531
         ],
         "yaxis": "y5"
        },
        {
         "histfunc": "count",
         "histnorm": "",
         "marker": {
          "color": "rgba(55, 128, 191, 1.0)",
          "line": {
           "color": "#4D5663",
           "width": 1.3
          }
         },
         "name": "B",
         "nbinsx": 10,
         "opacity": 0.8,
         "orientation": "v",
         "type": "histogram",
         "x": [
          -0.2924447826011183,
          0.7407806451006329,
          -0.4238185025341148,
          -0.806529453653887,
          -0.8131387530579735,
          0.00734319142364019,
          1.1409690687084817,
          -1.0399200861700937,
          -0.9757840095052484,
          0.6371836649454985,
          0.4822400989864475,
          -0.10658927474989756,
          1.030457973217204,
          0.298495758255452,
          -0.7007423238711151,
          0.3099974602415881,
          -0.999126943370043,
          -0.0534876423175067,
          -0.13547608459305985,
          1.5972425667119357,
          -2.5062520958522185,
          0.23267837072353362,
          0.025786950862549618,
          0.7223057893102796,
          -0.6716161547784072,
          -0.7347753399574438,
          -0.10092901382515361,
          1.9539851832256292,
          -0.6513024950203117,
          1.4165755824561908,
          -0.999587606254183,
          -0.7707015786264458,
          0.1651321634271878,
          0.27957354172687954,
          -0.07142121924509102,
          -0.592976528976272,
          -0.6196597646542373,
          0.24417621252015778,
          0.07404638331213868,
          1.3227806225059329,
          1.7101366397285278,
          -1.5305925978054404,
          -0.744847538740032,
          2.1580413988178124,
          -0.26752586946806556,
          -1.7789276564220624,
          1.3471114020730155,
          -0.5430113078286412,
          -0.8601260350318142,
          0.7316624912629281,
          2.5130402870286854,
          -1.4384259319922756,
          0.6398977902189656,
          0.3129349832028792,
          -0.07569412487699408,
          -1.6491607182971357,
          -0.7762918151343828,
          -0.13478606841780538,
          -0.013620877199414565,
          -0.2064697103702566,
          -1.280393149670629,
          0.20677309874895722,
          0.5884118424194865,
          0.4229230519321674,
          -0.9459402404714627,
          -0.37290272901489174,
          -1.322503831154513,
          0.38427151353223454,
          0.3440100483105457,
          1.2806969455257453,
          0.4153452313345435,
          0.5806468212039666,
          1.6475556469388035,
          1.104705852204584,
          0.5020651550204874,
          -1.7915206314516867,
          0.25651199464656715,
          -0.5105539232384897,
          0.6480584816840614,
          -1.0146531468192597,
          1.1156432997731665,
          -2.2734448280261437,
          2.000158801474051,
          0.6705878143141647,
          1.0574589784742312,
          1.1555814635540624,
          -0.08170108881032653,
          -1.0400644433309123,
          -0.9605721297657042,
          -0.49164022625070686,
          -0.45380715694038964,
          -0.16729635012015623,
          -0.7955770607437094,
          -2.814936036656384,
          -0.5282245113612478,
          -1.2738671529418648,
          0.8773494814469376,
          0.668093767934002,
          -0.8402771874279442,
          -0.9939287782369531
         ],
         "xaxis": "x6",
         "yaxis": "y6"
        },
        {
         "line": {
          "color": "rgba(128, 128, 128, 1.0)",
          "dash": "solid",
          "shape": "linear",
          "width": 1.3
         },
         "marker": {
          "size": 2,
          "symbol": "circle"
         },
         "mode": "markers",
         "name": "B",
         "text": "",
         "type": "scatter",
         "x": [
          0.35076263526198337,
          0.733249650774157,
          -1.7032930220035714,
          0.8202205170894571,
          -0.5507710511015657,
          -1.1240484146993106,
          0.29740568617598245,
          1.1972015362816384,
          -0.22820240226006316,
          0.5355998701914795,
          -1.1295370842041599,
          -0.7491051317232211,
          0.20681092837016593,
          -0.3530340544737697,
          0.4218783417978045,
          0.18087808542826384,
          0.3873549029009786,
          0.10677295388359759,
          -0.6829100527136044,
          -0.6573768834964874,
          0.6499006229297318,
          0.045102328905965765,
          0.3222410032265958,
          -0.8047455945731645,
          0.8186156888335291,
          -2.5206315140725777,
          0.9972223726586227,
          -1.1558752369298482,
          1.6116851692598697,
          -1.266511312491447,
          -1.7273808466675313,
          1.4121644992590647,
          0.3693496958379291,
          -1.2512859754290517,
          0.7088036750026356,
          0.6038574645121113,
          1.3998585403931767,
          0.07222594907407917,
          0.9151272475922841,
          0.07797543856241951,
          0.5942466476602303,
          1.942908793390327,
          -0.749206961204227,
          -0.14404845354792145,
          0.08316410129222325,
          0.6526673416999027,
          -0.8305184338945732,
          0.494168214342465,
          -0.5851646590700206,
          0.38569648810177964,
          0.29454881397359456,
          -1.4336427820706354,
          -1.9572425188301583,
          0.9156965283707941,
          0.9731639881488587,
          0.7959548922375212,
          1.6539560767124746,
          -0.15071707089455394,
          -0.3157097115252297,
          0.6420971166613652,
          -1.5833339341441615,
          -0.5497853707439115,
          -2.155874940570798,
          -0.31627953905033046,
          0.8456771431879876,
          2.7038916449379418,
          0.7565640454851246,
          3.333138715647141,
          -0.691495621223797,
          1.1543707889340264,
          -0.38110714593892153,
          0.07015709719435037,
          0.9730564301853157,
          0.43113191059400285,
          -0.49883277531233877,
          0.21296943694756737,
          1.5130090932884415,
          -0.9155328178978838,
          0.1492931406956385,
          -1.572780364986155,
          -0.8097326528930057,
          -2.0028236151893055,
          2.5147398980462117,
          1.6103027546296318,
          -0.45192727371107133,
          0.299848019757964,
          0.8334830464289262,
          0.8947415038250612,
          -0.11279336388146276,
          -0.346041329228633,
          2.2331580526894084,
          -0.33113739471086795,
          0.49895851577455197,
          -0.2304515686683581,
          -1.4668971259025136,
          1.0726111366421744,
          0.5549556662851106,
          1.0410095475920396,
          -0.23695241941451597,
          -0.5013511150598189
         ],
         "xaxis": "x7",
         "y": [
          -0.2924447826011183,
          0.7407806451006329,
          -0.4238185025341148,
          -0.806529453653887,
          -0.8131387530579735,
          0.00734319142364019,
          1.1409690687084817,
          -1.0399200861700937,
          -0.9757840095052484,
          0.6371836649454985,
          0.4822400989864475,
          -0.10658927474989756,
          1.030457973217204,
          0.298495758255452,
          -0.7007423238711151,
          0.3099974602415881,
          -0.999126943370043,
          -0.0534876423175067,
          -0.13547608459305985,
          1.5972425667119357,
          -2.5062520958522185,
          0.23267837072353362,
          0.025786950862549618,
          0.7223057893102796,
          -0.6716161547784072,
          -0.7347753399574438,
          -0.10092901382515361,
          1.9539851832256292,
          -0.6513024950203117,
          1.4165755824561908,
          -0.999587606254183,
          -0.7707015786264458,
          0.1651321634271878,
          0.27957354172687954,
          -0.07142121924509102,
          -0.592976528976272,
          -0.6196597646542373,
          0.24417621252015778,
          0.07404638331213868,
          1.3227806225059329,
          1.7101366397285278,
          -1.5305925978054404,
          -0.744847538740032,
          2.1580413988178124,
          -0.26752586946806556,
          -1.7789276564220624,
          1.3471114020730155,
          -0.5430113078286412,
          -0.8601260350318142,
          0.7316624912629281,
          2.5130402870286854,
          -1.4384259319922756,
          0.6398977902189656,
          0.3129349832028792,
          -0.07569412487699408,
          -1.6491607182971357,
          -0.7762918151343828,
          -0.13478606841780538,
          -0.013620877199414565,
          -0.2064697103702566,
          -1.280393149670629,
          0.20677309874895722,
          0.5884118424194865,
          0.4229230519321674,
          -0.9459402404714627,
          -0.37290272901489174,
          -1.322503831154513,
          0.38427151353223454,
          0.3440100483105457,
          1.2806969455257453,
          0.4153452313345435,
          0.5806468212039666,
          1.6475556469388035,
          1.104705852204584,
          0.5020651550204874,
          -1.7915206314516867,
          0.25651199464656715,
          -0.5105539232384897,
          0.6480584816840614,
          -1.0146531468192597,
          1.1156432997731665,
          -2.2734448280261437,
          2.000158801474051,
          0.6705878143141647,
          1.0574589784742312,
          1.1555814635540624,
          -0.08170108881032653,
          -1.0400644433309123,
          -0.9605721297657042,
          -0.49164022625070686,
          -0.45380715694038964,
          -0.16729635012015623,
          -0.7955770607437094,
          -2.814936036656384,
          -0.5282245113612478,
          -1.2738671529418648,
          0.8773494814469376,
          0.668093767934002,
          -0.8402771874279442,
          -0.9939287782369531
         ],
         "yaxis": "y7"
        },
        {
         "line": {
          "color": "rgba(128, 128, 128, 1.0)",
          "dash": "solid",
          "shape": "linear",
          "width": 1.3
         },
         "marker": {
          "size": 2,
          "symbol": "circle"
         },
         "mode": "markers",
         "name": "B",
         "text": "",
         "type": "scatter",
         "x": [
          -1.4047320927353888,
          1.4237200377383676,
          0.8265858627223719,
          -1.1151313254253328,
          -2.686302163682932,
          -2.032681467811205,
          -0.1855816916495254,
          -0.15543861488373062,
          0.7868694998490952,
          0.41041051951329316,
          0.8156060390638558,
          -1.4619644391399798,
          0.32130853170873824,
          -0.8075549614220208,
          0.8441914752334481,
          1.0166593992134825,
          0.046095134277734866,
          1.5110536205445035,
          0.37812992835432196,
          -1.1371971301959563,
          -0.405180520337886,
          -0.22787398528114242,
          -0.06132667206528754,
          -0.2938130692398661,
          1.0177552578194045,
          0.5261811051852987,
          -0.07245347114924584,
          -0.7881535410935027,
          0.5127602237492641,
          0.34495536548287414,
          -0.07211553377164076,
          -1.9796248240992131,
          0.9905056587762447,
          0.6276548929731041,
          2.512839509103458,
          0.393276754863117,
          -1.6738125240432749,
          1.5276633849577352,
          -1.684519672347046,
          -0.3030552198488424,
          -0.7143365770839046,
          1.9815729393615664,
          -0.3250489653887721,
          0.27159611260491806,
          -0.2122044979478187,
          -1.9594916190841276,
          1.9066170044438184,
          -0.5226907355264899,
          0.7974621362363147,
          1.048444687819637,
          -0.85337863465108,
          -1.283656353924518,
          -1.6509182165023395,
          -1.939746014696315,
          0.32968183706646076,
          -0.05427902038794936,
          0.33703648598626335,
          0.5225665373653318,
          0.8773138958871902,
          0.07806610399714041,
          -1.0882284995629077,
          -0.5591230471826347,
          -0.577616413846726,
          1.2757632717511154,
          0.2137195900493786,
          -1.3325488259242642,
          0.8652867649593701,
          -0.3248854914734833,
          -0.26696602253882457,
          1.3916034561849149,
          2.5332226306314958,
          -0.8627985608403493,
          -0.48314936501080663,
          0.022291286582630035,
          0.9581020491255166,
          -1.2063368460462618,
          -2.510095148625423,
          -1.4609281899897406,
          -0.033575684387133424,
          -1.5284792174694775,
          1.3824084982959488,
          -0.053823501189782845,
          -0.5804281072629928,
          -0.671624871204395,
          -1.0667214635958242,
          -0.37317513328559504,
          -1.1471363068064102,
          -0.9113881573642173,
          2.358817473859362,
          0.7258671702826152,
          1.0421233958080982,
          -0.05670006168759067,
          -0.5713642642753461,
          -1.1063788697212507,
          -0.5965455108255635,
          -1.5387314659064195,
          -0.17467480421157586,
          -0.21496606283281525,
          0.3744289266602406,
          1.8123992926268773
         ],
         "xaxis": "x8",
         "y": [
          -0.2924447826011183,
          0.7407806451006329,
          -0.4238185025341148,
          -0.806529453653887,
          -0.8131387530579735,
          0.00734319142364019,
          1.1409690687084817,
          -1.0399200861700937,
          -0.9757840095052484,
          0.6371836649454985,
          0.4822400989864475,
          -0.10658927474989756,
          1.030457973217204,
          0.298495758255452,
          -0.7007423238711151,
          0.3099974602415881,
          -0.999126943370043,
          -0.0534876423175067,
          -0.13547608459305985,
          1.5972425667119357,
          -2.5062520958522185,
          0.23267837072353362,
          0.025786950862549618,
          0.7223057893102796,
          -0.6716161547784072,
          -0.7347753399574438,
          -0.10092901382515361,
          1.9539851832256292,
          -0.6513024950203117,
          1.4165755824561908,
          -0.999587606254183,
          -0.7707015786264458,
          0.1651321634271878,
          0.27957354172687954,
          -0.07142121924509102,
          -0.592976528976272,
          -0.6196597646542373,
          0.24417621252015778,
          0.07404638331213868,
          1.3227806225059329,
          1.7101366397285278,
          -1.5305925978054404,
          -0.744847538740032,
          2.1580413988178124,
          -0.26752586946806556,
          -1.7789276564220624,
          1.3471114020730155,
          -0.5430113078286412,
          -0.8601260350318142,
          0.7316624912629281,
          2.5130402870286854,
          -1.4384259319922756,
          0.6398977902189656,
          0.3129349832028792,
          -0.07569412487699408,
          -1.6491607182971357,
          -0.7762918151343828,
          -0.13478606841780538,
          -0.013620877199414565,
          -0.2064697103702566,
          -1.280393149670629,
          0.20677309874895722,
          0.5884118424194865,
          0.4229230519321674,
          -0.9459402404714627,
          -0.37290272901489174,
          -1.322503831154513,
          0.38427151353223454,
          0.3440100483105457,
          1.2806969455257453,
          0.4153452313345435,
          0.5806468212039666,
          1.6475556469388035,
          1.104705852204584,
          0.5020651550204874,
          -1.7915206314516867,
          0.25651199464656715,
          -0.5105539232384897,
          0.6480584816840614,
          -1.0146531468192597,
          1.1156432997731665,
          -2.2734448280261437,
          2.000158801474051,
          0.6705878143141647,
          1.0574589784742312,
          1.1555814635540624,
          -0.08170108881032653,
          -1.0400644433309123,
          -0.9605721297657042,
          -0.49164022625070686,
          -0.45380715694038964,
          -0.16729635012015623,
          -0.7955770607437094,
          -2.814936036656384,
          -0.5282245113612478,
          -1.2738671529418648,
          0.8773494814469376,
          0.668093767934002,
          -0.8402771874279442,
          -0.9939287782369531
         ],
         "yaxis": "y8"
        },
        {
         "line": {
          "color": "rgba(128, 128, 128, 1.0)",
          "dash": "solid",
          "shape": "linear",
          "width": 1.3
         },
         "marker": {
          "size": 2,
          "symbol": "circle"
         },
         "mode": "markers",
         "name": "C",
         "text": "",
         "type": "scatter",
         "x": [
          -0.1655705937827465,
          0.6339335459532506,
          0.02552739960708487,
          0.01969683939300677,
          1.1722880458422509,
          0.9747235756758493,
          -0.6050070348936066,
          0.5085564324615662,
          -1.545435955849086,
          0.016081732460917663,
          0.22518728497505483,
          -1.3333108089982026,
          0.988778752425804,
          2.198159687266945,
          1.268817519997271,
          -0.008764501052270413,
          -0.44398572728548547,
          0.5551164490476496,
          0.8586223532174,
          -0.2094038044256258,
          -0.43206622309689674,
          0.6418351317018594,
          -1.5385625940572467,
          -0.17674250764098665,
          0.6744836258489834,
          -1.9243574705353481,
          -0.5163953508976782,
          0.9930864582338338,
          0.32124256694507275,
          -0.6698476139460213,
          0.381068709679253,
          -1.1944409695761267,
          0.6849270399380836,
          -0.3754746280710603,
          0.29975630620422455,
          0.05640202727675874,
          -0.94912681176481,
          -0.4799579983040787,
          -2.051159458016786,
          -0.3451565542145435,
          0.5491402974707585,
          0.36719851737511805,
          0.06903976021383912,
          0.9190117725334557,
          -1.024537808095599,
          -0.279366487748021,
          -1.708888485836476,
          -0.14402401705652035,
          -0.7956987990694804,
          -0.8078595466173956,
          0.6790479801631213,
          0.7620283540488753,
          0.04971040573434907,
          -1.0480450252213853,
          -1.1640007543201105,
          -0.8987684206556861,
          1.0921667216030286,
          -0.51688241157997,
          0.23331358423528553,
          0.72022348620067,
          -0.153330783695401,
          -1.7485084923560625,
          -0.5578921555527383,
          0.2592053361084132,
          0.6505485032752829,
          -0.09822617559722291,
          -0.11396477603957711,
          -0.04711327080097372,
          0.41794875708761625,
          -0.9794280917693772,
          -1.4930800481301383,
          0.20024816164433462,
          -0.0598198356874181,
          0.40228892142346856,
          0.7198143569507868,
          -0.7989673881758005,
          1.136051224771882,
          0.5213471362522815,
          0.382894174276429,
          -0.3781806207522293,
          0.1047978285603859,
          -0.5590826824234247,
          -1.4103183701528856,
          1.1809587208566368,
          -0.7340851584382985,
          2.302660557026478,
          -1.8176943917922668,
          -0.7827026497367355,
          -1.6804854405801986,
          -1.7161193914182236,
          0.13699488338331858,
          -1.0562415021653813,
          0.3440151400307065,
          -2.4135843823581773,
          -1.7169647154712107,
          0.11730382449763617,
          -0.12497531838910092,
          -0.9130583926720433,
          0.14177914589027968,
          -0.7325023740963575
         ],
         "xaxis": "x9",
         "y": [
          0.35076263526198337,
          0.733249650774157,
          -1.7032930220035714,
          0.8202205170894571,
          -0.5507710511015657,
          -1.1240484146993106,
          0.29740568617598245,
          1.1972015362816384,
          -0.22820240226006316,
          0.5355998701914795,
          -1.1295370842041599,
          -0.7491051317232211,
          0.20681092837016593,
          -0.3530340544737697,
          0.4218783417978045,
          0.18087808542826384,
          0.3873549029009786,
          0.10677295388359759,
          -0.6829100527136044,
          -0.6573768834964874,
          0.6499006229297318,
          0.045102328905965765,
          0.3222410032265958,
          -0.8047455945731645,
          0.8186156888335291,
          -2.5206315140725777,
          0.9972223726586227,
          -1.1558752369298482,
          1.6116851692598697,
          -1.266511312491447,
          -1.7273808466675313,
          1.4121644992590647,
          0.3693496958379291,
          -1.2512859754290517,
          0.7088036750026356,
          0.6038574645121113,
          1.3998585403931767,
          0.07222594907407917,
          0.9151272475922841,
          0.07797543856241951,
          0.5942466476602303,
          1.942908793390327,
          -0.749206961204227,
          -0.14404845354792145,
          0.08316410129222325,
          0.6526673416999027,
          -0.8305184338945732,
          0.494168214342465,
          -0.5851646590700206,
          0.38569648810177964,
          0.29454881397359456,
          -1.4336427820706354,
          -1.9572425188301583,
          0.9156965283707941,
          0.9731639881488587,
          0.7959548922375212,
          1.6539560767124746,
          -0.15071707089455394,
          -0.3157097115252297,
          0.6420971166613652,
          -1.5833339341441615,
          -0.5497853707439115,
          -2.155874940570798,
          -0.31627953905033046,
          0.8456771431879876,
          2.7038916449379418,
          0.7565640454851246,
          3.333138715647141,
          -0.691495621223797,
          1.1543707889340264,
          -0.38110714593892153,
          0.07015709719435037,
          0.9730564301853157,
          0.43113191059400285,
          -0.49883277531233877,
          0.21296943694756737,
          1.5130090932884415,
          -0.9155328178978838,
          0.1492931406956385,
          -1.572780364986155,
          -0.8097326528930057,
          -2.0028236151893055,
          2.5147398980462117,
          1.6103027546296318,
          -0.45192727371107133,
          0.299848019757964,
          0.8334830464289262,
          0.8947415038250612,
          -0.11279336388146276,
          -0.346041329228633,
          2.2331580526894084,
          -0.33113739471086795,
          0.49895851577455197,
          -0.2304515686683581,
          -1.4668971259025136,
          1.0726111366421744,
          0.5549556662851106,
          1.0410095475920396,
          -0.23695241941451597,
          -0.5013511150598189
         ],
         "yaxis": "y9"
        },
        {
         "line": {
          "color": "rgba(128, 128, 128, 1.0)",
          "dash": "solid",
          "shape": "linear",
          "width": 1.3
         },
         "marker": {
          "size": 2,
          "symbol": "circle"
         },
         "mode": "markers",
         "name": "C",
         "text": "",
         "type": "scatter",
         "x": [
          -0.2924447826011183,
          0.7407806451006329,
          -0.4238185025341148,
          -0.806529453653887,
          -0.8131387530579735,
          0.00734319142364019,
          1.1409690687084817,
          -1.0399200861700937,
          -0.9757840095052484,
          0.6371836649454985,
          0.4822400989864475,
          -0.10658927474989756,
          1.030457973217204,
          0.298495758255452,
          -0.7007423238711151,
          0.3099974602415881,
          -0.999126943370043,
          -0.0534876423175067,
          -0.13547608459305985,
          1.5972425667119357,
          -2.5062520958522185,
          0.23267837072353362,
          0.025786950862549618,
          0.7223057893102796,
          -0.6716161547784072,
          -0.7347753399574438,
          -0.10092901382515361,
          1.9539851832256292,
          -0.6513024950203117,
          1.4165755824561908,
          -0.999587606254183,
          -0.7707015786264458,
          0.1651321634271878,
          0.27957354172687954,
          -0.07142121924509102,
          -0.592976528976272,
          -0.6196597646542373,
          0.24417621252015778,
          0.07404638331213868,
          1.3227806225059329,
          1.7101366397285278,
          -1.5305925978054404,
          -0.744847538740032,
          2.1580413988178124,
          -0.26752586946806556,
          -1.7789276564220624,
          1.3471114020730155,
          -0.5430113078286412,
          -0.8601260350318142,
          0.7316624912629281,
          2.5130402870286854,
          -1.4384259319922756,
          0.6398977902189656,
          0.3129349832028792,
          -0.07569412487699408,
          -1.6491607182971357,
          -0.7762918151343828,
          -0.13478606841780538,
          -0.013620877199414565,
          -0.2064697103702566,
          -1.280393149670629,
          0.20677309874895722,
          0.5884118424194865,
          0.4229230519321674,
          -0.9459402404714627,
          -0.37290272901489174,
          -1.322503831154513,
          0.38427151353223454,
          0.3440100483105457,
          1.2806969455257453,
          0.4153452313345435,
          0.5806468212039666,
          1.6475556469388035,
          1.104705852204584,
          0.5020651550204874,
          -1.7915206314516867,
          0.25651199464656715,
          -0.5105539232384897,
          0.6480584816840614,
          -1.0146531468192597,
          1.1156432997731665,
          -2.2734448280261437,
          2.000158801474051,
          0.6705878143141647,
          1.0574589784742312,
          1.1555814635540624,
          -0.08170108881032653,
          -1.0400644433309123,
          -0.9605721297657042,
          -0.49164022625070686,
          -0.45380715694038964,
          -0.16729635012015623,
          -0.7955770607437094,
          -2.814936036656384,
          -0.5282245113612478,
          -1.2738671529418648,
          0.8773494814469376,
          0.668093767934002,
          -0.8402771874279442,
          -0.9939287782369531
         ],
         "xaxis": "x10",
         "y": [
          0.35076263526198337,
          0.733249650774157,
          -1.7032930220035714,
          0.8202205170894571,
          -0.5507710511015657,
          -1.1240484146993106,
          0.29740568617598245,
          1.1972015362816384,
          -0.22820240226006316,
          0.5355998701914795,
          -1.1295370842041599,
          -0.7491051317232211,
          0.20681092837016593,
          -0.3530340544737697,
          0.4218783417978045,
          0.18087808542826384,
          0.3873549029009786,
          0.10677295388359759,
          -0.6829100527136044,
          -0.6573768834964874,
          0.6499006229297318,
          0.045102328905965765,
          0.3222410032265958,
          -0.8047455945731645,
          0.8186156888335291,
          -2.5206315140725777,
          0.9972223726586227,
          -1.1558752369298482,
          1.6116851692598697,
          -1.266511312491447,
          -1.7273808466675313,
          1.4121644992590647,
          0.3693496958379291,
          -1.2512859754290517,
          0.7088036750026356,
          0.6038574645121113,
          1.3998585403931767,
          0.07222594907407917,
          0.9151272475922841,
          0.07797543856241951,
          0.5942466476602303,
          1.942908793390327,
          -0.749206961204227,
          -0.14404845354792145,
          0.08316410129222325,
          0.6526673416999027,
          -0.8305184338945732,
          0.494168214342465,
          -0.5851646590700206,
          0.38569648810177964,
          0.29454881397359456,
          -1.4336427820706354,
          -1.9572425188301583,
          0.9156965283707941,
          0.9731639881488587,
          0.7959548922375212,
          1.6539560767124746,
          -0.15071707089455394,
          -0.3157097115252297,
          0.6420971166613652,
          -1.5833339341441615,
          -0.5497853707439115,
          -2.155874940570798,
          -0.31627953905033046,
          0.8456771431879876,
          2.7038916449379418,
          0.7565640454851246,
          3.333138715647141,
          -0.691495621223797,
          1.1543707889340264,
          -0.38110714593892153,
          0.07015709719435037,
          0.9730564301853157,
          0.43113191059400285,
          -0.49883277531233877,
          0.21296943694756737,
          1.5130090932884415,
          -0.9155328178978838,
          0.1492931406956385,
          -1.572780364986155,
          -0.8097326528930057,
          -2.0028236151893055,
          2.5147398980462117,
          1.6103027546296318,
          -0.45192727371107133,
          0.299848019757964,
          0.8334830464289262,
          0.8947415038250612,
          -0.11279336388146276,
          -0.346041329228633,
          2.2331580526894084,
          -0.33113739471086795,
          0.49895851577455197,
          -0.2304515686683581,
          -1.4668971259025136,
          1.0726111366421744,
          0.5549556662851106,
          1.0410095475920396,
          -0.23695241941451597,
          -0.5013511150598189
         ],
         "yaxis": "y10"
        },
        {
         "histfunc": "count",
         "histnorm": "",
         "marker": {
          "color": "rgba(50, 171, 96, 1.0)",
          "line": {
           "color": "#4D5663",
           "width": 1.3
          }
         },
         "name": "C",
         "nbinsx": 10,
         "opacity": 0.8,
         "orientation": "v",
         "type": "histogram",
         "x": [
          0.35076263526198337,
          0.733249650774157,
          -1.7032930220035714,
          0.8202205170894571,
          -0.5507710511015657,
          -1.1240484146993106,
          0.29740568617598245,
          1.1972015362816384,
          -0.22820240226006316,
          0.5355998701914795,
          -1.1295370842041599,
          -0.7491051317232211,
          0.20681092837016593,
          -0.3530340544737697,
          0.4218783417978045,
          0.18087808542826384,
          0.3873549029009786,
          0.10677295388359759,
          -0.6829100527136044,
          -0.6573768834964874,
          0.6499006229297318,
          0.045102328905965765,
          0.3222410032265958,
          -0.8047455945731645,
          0.8186156888335291,
          -2.5206315140725777,
          0.9972223726586227,
          -1.1558752369298482,
          1.6116851692598697,
          -1.266511312491447,
          -1.7273808466675313,
          1.4121644992590647,
          0.3693496958379291,
          -1.2512859754290517,
          0.7088036750026356,
          0.6038574645121113,
          1.3998585403931767,
          0.07222594907407917,
          0.9151272475922841,
          0.07797543856241951,
          0.5942466476602303,
          1.942908793390327,
          -0.749206961204227,
          -0.14404845354792145,
          0.08316410129222325,
          0.6526673416999027,
          -0.8305184338945732,
          0.494168214342465,
          -0.5851646590700206,
          0.38569648810177964,
          0.29454881397359456,
          -1.4336427820706354,
          -1.9572425188301583,
          0.9156965283707941,
          0.9731639881488587,
          0.7959548922375212,
          1.6539560767124746,
          -0.15071707089455394,
          -0.3157097115252297,
          0.6420971166613652,
          -1.5833339341441615,
          -0.5497853707439115,
          -2.155874940570798,
          -0.31627953905033046,
          0.8456771431879876,
          2.7038916449379418,
          0.7565640454851246,
          3.333138715647141,
          -0.691495621223797,
          1.1543707889340264,
          -0.38110714593892153,
          0.07015709719435037,
          0.9730564301853157,
          0.43113191059400285,
          -0.49883277531233877,
          0.21296943694756737,
          1.5130090932884415,
          -0.9155328178978838,
          0.1492931406956385,
          -1.572780364986155,
          -0.8097326528930057,
          -2.0028236151893055,
          2.5147398980462117,
          1.6103027546296318,
          -0.45192727371107133,
          0.299848019757964,
          0.8334830464289262,
          0.8947415038250612,
          -0.11279336388146276,
          -0.346041329228633,
          2.2331580526894084,
          -0.33113739471086795,
          0.49895851577455197,
          -0.2304515686683581,
          -1.4668971259025136,
          1.0726111366421744,
          0.5549556662851106,
          1.0410095475920396,
          -0.23695241941451597,
          -0.5013511150598189
         ],
         "xaxis": "x11",
         "yaxis": "y11"
        },
        {
         "line": {
          "color": "rgba(128, 128, 128, 1.0)",
          "dash": "solid",
          "shape": "linear",
          "width": 1.3
         },
         "marker": {
          "size": 2,
          "symbol": "circle"
         },
         "mode": "markers",
         "name": "C",
         "text": "",
         "type": "scatter",
         "x": [
          -1.4047320927353888,
          1.4237200377383676,
          0.8265858627223719,
          -1.1151313254253328,
          -2.686302163682932,
          -2.032681467811205,
          -0.1855816916495254,
          -0.15543861488373062,
          0.7868694998490952,
          0.41041051951329316,
          0.8156060390638558,
          -1.4619644391399798,
          0.32130853170873824,
          -0.8075549614220208,
          0.8441914752334481,
          1.0166593992134825,
          0.046095134277734866,
          1.5110536205445035,
          0.37812992835432196,
          -1.1371971301959563,
          -0.405180520337886,
          -0.22787398528114242,
          -0.06132667206528754,
          -0.2938130692398661,
          1.0177552578194045,
          0.5261811051852987,
          -0.07245347114924584,
          -0.7881535410935027,
          0.5127602237492641,
          0.34495536548287414,
          -0.07211553377164076,
          -1.9796248240992131,
          0.9905056587762447,
          0.6276548929731041,
          2.512839509103458,
          0.393276754863117,
          -1.6738125240432749,
          1.5276633849577352,
          -1.684519672347046,
          -0.3030552198488424,
          -0.7143365770839046,
          1.9815729393615664,
          -0.3250489653887721,
          0.27159611260491806,
          -0.2122044979478187,
          -1.9594916190841276,
          1.9066170044438184,
          -0.5226907355264899,
          0.7974621362363147,
          1.048444687819637,
          -0.85337863465108,
          -1.283656353924518,
          -1.6509182165023395,
          -1.939746014696315,
          0.32968183706646076,
          -0.05427902038794936,
          0.33703648598626335,
          0.5225665373653318,
          0.8773138958871902,
          0.07806610399714041,
          -1.0882284995629077,
          -0.5591230471826347,
          -0.577616413846726,
          1.2757632717511154,
          0.2137195900493786,
          -1.3325488259242642,
          0.8652867649593701,
          -0.3248854914734833,
          -0.26696602253882457,
          1.3916034561849149,
          2.5332226306314958,
          -0.8627985608403493,
          -0.48314936501080663,
          0.022291286582630035,
          0.9581020491255166,
          -1.2063368460462618,
          -2.510095148625423,
          -1.4609281899897406,
          -0.033575684387133424,
          -1.5284792174694775,
          1.3824084982959488,
          -0.053823501189782845,
          -0.5804281072629928,
          -0.671624871204395,
          -1.0667214635958242,
          -0.37317513328559504,
          -1.1471363068064102,
          -0.9113881573642173,
          2.358817473859362,
          0.7258671702826152,
          1.0421233958080982,
          -0.05670006168759067,
          -0.5713642642753461,
          -1.1063788697212507,
          -0.5965455108255635,
          -1.5387314659064195,
          -0.17467480421157586,
          -0.21496606283281525,
          0.3744289266602406,
          1.8123992926268773
         ],
         "xaxis": "x12",
         "y": [
          0.35076263526198337,
          0.733249650774157,
          -1.7032930220035714,
          0.8202205170894571,
          -0.5507710511015657,
          -1.1240484146993106,
          0.29740568617598245,
          1.1972015362816384,
          -0.22820240226006316,
          0.5355998701914795,
          -1.1295370842041599,
          -0.7491051317232211,
          0.20681092837016593,
          -0.3530340544737697,
          0.4218783417978045,
          0.18087808542826384,
          0.3873549029009786,
          0.10677295388359759,
          -0.6829100527136044,
          -0.6573768834964874,
          0.6499006229297318,
          0.045102328905965765,
          0.3222410032265958,
          -0.8047455945731645,
          0.8186156888335291,
          -2.5206315140725777,
          0.9972223726586227,
          -1.1558752369298482,
          1.6116851692598697,
          -1.266511312491447,
          -1.7273808466675313,
          1.4121644992590647,
          0.3693496958379291,
          -1.2512859754290517,
          0.7088036750026356,
          0.6038574645121113,
          1.3998585403931767,
          0.07222594907407917,
          0.9151272475922841,
          0.07797543856241951,
          0.5942466476602303,
          1.942908793390327,
          -0.749206961204227,
          -0.14404845354792145,
          0.08316410129222325,
          0.6526673416999027,
          -0.8305184338945732,
          0.494168214342465,
          -0.5851646590700206,
          0.38569648810177964,
          0.29454881397359456,
          -1.4336427820706354,
          -1.9572425188301583,
          0.9156965283707941,
          0.9731639881488587,
          0.7959548922375212,
          1.6539560767124746,
          -0.15071707089455394,
          -0.3157097115252297,
          0.6420971166613652,
          -1.5833339341441615,
          -0.5497853707439115,
          -2.155874940570798,
          -0.31627953905033046,
          0.8456771431879876,
          2.7038916449379418,
          0.7565640454851246,
          3.333138715647141,
          -0.691495621223797,
          1.1543707889340264,
          -0.38110714593892153,
          0.07015709719435037,
          0.9730564301853157,
          0.43113191059400285,
          -0.49883277531233877,
          0.21296943694756737,
          1.5130090932884415,
          -0.9155328178978838,
          0.1492931406956385,
          -1.572780364986155,
          -0.8097326528930057,
          -2.0028236151893055,
          2.5147398980462117,
          1.6103027546296318,
          -0.45192727371107133,
          0.299848019757964,
          0.8334830464289262,
          0.8947415038250612,
          -0.11279336388146276,
          -0.346041329228633,
          2.2331580526894084,
          -0.33113739471086795,
          0.49895851577455197,
          -0.2304515686683581,
          -1.4668971259025136,
          1.0726111366421744,
          0.5549556662851106,
          1.0410095475920396,
          -0.23695241941451597,
          -0.5013511150598189
         ],
         "yaxis": "y12"
        },
        {
         "line": {
          "color": "rgba(128, 128, 128, 1.0)",
          "dash": "solid",
          "shape": "linear",
          "width": 1.3
         },
         "marker": {
          "size": 2,
          "symbol": "circle"
         },
         "mode": "markers",
         "name": "D",
         "text": "",
         "type": "scatter",
         "x": [
          -0.1655705937827465,
          0.6339335459532506,
          0.02552739960708487,
          0.01969683939300677,
          1.1722880458422509,
          0.9747235756758493,
          -0.6050070348936066,
          0.5085564324615662,
          -1.545435955849086,
          0.016081732460917663,
          0.22518728497505483,
          -1.3333108089982026,
          0.988778752425804,
          2.198159687266945,
          1.268817519997271,
          -0.008764501052270413,
          -0.44398572728548547,
          0.5551164490476496,
          0.8586223532174,
          -0.2094038044256258,
          -0.43206622309689674,
          0.6418351317018594,
          -1.5385625940572467,
          -0.17674250764098665,
          0.6744836258489834,
          -1.9243574705353481,
          -0.5163953508976782,
          0.9930864582338338,
          0.32124256694507275,
          -0.6698476139460213,
          0.381068709679253,
          -1.1944409695761267,
          0.6849270399380836,
          -0.3754746280710603,
          0.29975630620422455,
          0.05640202727675874,
          -0.94912681176481,
          -0.4799579983040787,
          -2.051159458016786,
          -0.3451565542145435,
          0.5491402974707585,
          0.36719851737511805,
          0.06903976021383912,
          0.9190117725334557,
          -1.024537808095599,
          -0.279366487748021,
          -1.708888485836476,
          -0.14402401705652035,
          -0.7956987990694804,
          -0.8078595466173956,
          0.6790479801631213,
          0.7620283540488753,
          0.04971040573434907,
          -1.0480450252213853,
          -1.1640007543201105,
          -0.8987684206556861,
          1.0921667216030286,
          -0.51688241157997,
          0.23331358423528553,
          0.72022348620067,
          -0.153330783695401,
          -1.7485084923560625,
          -0.5578921555527383,
          0.2592053361084132,
          0.6505485032752829,
          -0.09822617559722291,
          -0.11396477603957711,
          -0.04711327080097372,
          0.41794875708761625,
          -0.9794280917693772,
          -1.4930800481301383,
          0.20024816164433462,
          -0.0598198356874181,
          0.40228892142346856,
          0.7198143569507868,
          -0.7989673881758005,
          1.136051224771882,
          0.5213471362522815,
          0.382894174276429,
          -0.3781806207522293,
          0.1047978285603859,
          -0.5590826824234247,
          -1.4103183701528856,
          1.1809587208566368,
          -0.7340851584382985,
          2.302660557026478,
          -1.8176943917922668,
          -0.7827026497367355,
          -1.6804854405801986,
          -1.7161193914182236,
          0.13699488338331858,
          -1.0562415021653813,
          0.3440151400307065,
          -2.4135843823581773,
          -1.7169647154712107,
          0.11730382449763617,
          -0.12497531838910092,
          -0.9130583926720433,
          0.14177914589027968,
          -0.7325023740963575
         ],
         "xaxis": "x13",
         "y": [
          -1.4047320927353888,
          1.4237200377383676,
          0.8265858627223719,
          -1.1151313254253328,
          -2.686302163682932,
          -2.032681467811205,
          -0.1855816916495254,
          -0.15543861488373062,
          0.7868694998490952,
          0.41041051951329316,
          0.8156060390638558,
          -1.4619644391399798,
          0.32130853170873824,
          -0.8075549614220208,
          0.8441914752334481,
          1.0166593992134825,
          0.046095134277734866,
          1.5110536205445035,
          0.37812992835432196,
          -1.1371971301959563,
          -0.405180520337886,
          -0.22787398528114242,
          -0.06132667206528754,
          -0.2938130692398661,
          1.0177552578194045,
          0.5261811051852987,
          -0.07245347114924584,
          -0.7881535410935027,
          0.5127602237492641,
          0.34495536548287414,
          -0.07211553377164076,
          -1.9796248240992131,
          0.9905056587762447,
          0.6276548929731041,
          2.512839509103458,
          0.393276754863117,
          -1.6738125240432749,
          1.5276633849577352,
          -1.684519672347046,
          -0.3030552198488424,
          -0.7143365770839046,
          1.9815729393615664,
          -0.3250489653887721,
          0.27159611260491806,
          -0.2122044979478187,
          -1.9594916190841276,
          1.9066170044438184,
          -0.5226907355264899,
          0.7974621362363147,
          1.048444687819637,
          -0.85337863465108,
          -1.283656353924518,
          -1.6509182165023395,
          -1.939746014696315,
          0.32968183706646076,
          -0.05427902038794936,
          0.33703648598626335,
          0.5225665373653318,
          0.8773138958871902,
          0.07806610399714041,
          -1.0882284995629077,
          -0.5591230471826347,
          -0.577616413846726,
          1.2757632717511154,
          0.2137195900493786,
          -1.3325488259242642,
          0.8652867649593701,
          -0.3248854914734833,
          -0.26696602253882457,
          1.3916034561849149,
          2.5332226306314958,
          -0.8627985608403493,
          -0.48314936501080663,
          0.022291286582630035,
          0.9581020491255166,
          -1.2063368460462618,
          -2.510095148625423,
          -1.4609281899897406,
          -0.033575684387133424,
          -1.5284792174694775,
          1.3824084982959488,
          -0.053823501189782845,
          -0.5804281072629928,
          -0.671624871204395,
          -1.0667214635958242,
          -0.37317513328559504,
          -1.1471363068064102,
          -0.9113881573642173,
          2.358817473859362,
          0.7258671702826152,
          1.0421233958080982,
          -0.05670006168759067,
          -0.5713642642753461,
          -1.1063788697212507,
          -0.5965455108255635,
          -1.5387314659064195,
          -0.17467480421157586,
          -0.21496606283281525,
          0.3744289266602406,
          1.8123992926268773
         ],
         "yaxis": "y13"
        },
        {
         "line": {
          "color": "rgba(128, 128, 128, 1.0)",
          "dash": "solid",
          "shape": "linear",
          "width": 1.3
         },
         "marker": {
          "size": 2,
          "symbol": "circle"
         },
         "mode": "markers",
         "name": "D",
         "text": "",
         "type": "scatter",
         "x": [
          -0.2924447826011183,
          0.7407806451006329,
          -0.4238185025341148,
          -0.806529453653887,
          -0.8131387530579735,
          0.00734319142364019,
          1.1409690687084817,
          -1.0399200861700937,
          -0.9757840095052484,
          0.6371836649454985,
          0.4822400989864475,
          -0.10658927474989756,
          1.030457973217204,
          0.298495758255452,
          -0.7007423238711151,
          0.3099974602415881,
          -0.999126943370043,
          -0.0534876423175067,
          -0.13547608459305985,
          1.5972425667119357,
          -2.5062520958522185,
          0.23267837072353362,
          0.025786950862549618,
          0.7223057893102796,
          -0.6716161547784072,
          -0.7347753399574438,
          -0.10092901382515361,
          1.9539851832256292,
          -0.6513024950203117,
          1.4165755824561908,
          -0.999587606254183,
          -0.7707015786264458,
          0.1651321634271878,
          0.27957354172687954,
          -0.07142121924509102,
          -0.592976528976272,
          -0.6196597646542373,
          0.24417621252015778,
          0.07404638331213868,
          1.3227806225059329,
          1.7101366397285278,
          -1.5305925978054404,
          -0.744847538740032,
          2.1580413988178124,
          -0.26752586946806556,
          -1.7789276564220624,
          1.3471114020730155,
          -0.5430113078286412,
          -0.8601260350318142,
          0.7316624912629281,
          2.5130402870286854,
          -1.4384259319922756,
          0.6398977902189656,
          0.3129349832028792,
          -0.07569412487699408,
          -1.6491607182971357,
          -0.7762918151343828,
          -0.13478606841780538,
          -0.013620877199414565,
          -0.2064697103702566,
          -1.280393149670629,
          0.20677309874895722,
          0.5884118424194865,
          0.4229230519321674,
          -0.9459402404714627,
          -0.37290272901489174,
          -1.322503831154513,
          0.38427151353223454,
          0.3440100483105457,
          1.2806969455257453,
          0.4153452313345435,
          0.5806468212039666,
          1.6475556469388035,
          1.104705852204584,
          0.5020651550204874,
          -1.7915206314516867,
          0.25651199464656715,
          -0.5105539232384897,
          0.6480584816840614,
          -1.0146531468192597,
          1.1156432997731665,
          -2.2734448280261437,
          2.000158801474051,
          0.6705878143141647,
          1.0574589784742312,
          1.1555814635540624,
          -0.08170108881032653,
          -1.0400644433309123,
          -0.9605721297657042,
          -0.49164022625070686,
          -0.45380715694038964,
          -0.16729635012015623,
          -0.7955770607437094,
          -2.814936036656384,
          -0.5282245113612478,
          -1.2738671529418648,
          0.8773494814469376,
          0.668093767934002,
          -0.8402771874279442,
          -0.9939287782369531
         ],
         "xaxis": "x14",
         "y": [
          -1.4047320927353888,
          1.4237200377383676,
          0.8265858627223719,
          -1.1151313254253328,
          -2.686302163682932,
          -2.032681467811205,
          -0.1855816916495254,
          -0.15543861488373062,
          0.7868694998490952,
          0.41041051951329316,
          0.8156060390638558,
          -1.4619644391399798,
          0.32130853170873824,
          -0.8075549614220208,
          0.8441914752334481,
          1.0166593992134825,
          0.046095134277734866,
          1.5110536205445035,
          0.37812992835432196,
          -1.1371971301959563,
          -0.405180520337886,
          -0.22787398528114242,
          -0.06132667206528754,
          -0.2938130692398661,
          1.0177552578194045,
          0.5261811051852987,
          -0.07245347114924584,
          -0.7881535410935027,
          0.5127602237492641,
          0.34495536548287414,
          -0.07211553377164076,
          -1.9796248240992131,
          0.9905056587762447,
          0.6276548929731041,
          2.512839509103458,
          0.393276754863117,
          -1.6738125240432749,
          1.5276633849577352,
          -1.684519672347046,
          -0.3030552198488424,
          -0.7143365770839046,
          1.9815729393615664,
          -0.3250489653887721,
          0.27159611260491806,
          -0.2122044979478187,
          -1.9594916190841276,
          1.9066170044438184,
          -0.5226907355264899,
          0.7974621362363147,
          1.048444687819637,
          -0.85337863465108,
          -1.283656353924518,
          -1.6509182165023395,
          -1.939746014696315,
          0.32968183706646076,
          -0.05427902038794936,
          0.33703648598626335,
          0.5225665373653318,
          0.8773138958871902,
          0.07806610399714041,
          -1.0882284995629077,
          -0.5591230471826347,
          -0.577616413846726,
          1.2757632717511154,
          0.2137195900493786,
          -1.3325488259242642,
          0.8652867649593701,
          -0.3248854914734833,
          -0.26696602253882457,
          1.3916034561849149,
          2.5332226306314958,
          -0.8627985608403493,
          -0.48314936501080663,
          0.022291286582630035,
          0.9581020491255166,
          -1.2063368460462618,
          -2.510095148625423,
          -1.4609281899897406,
          -0.033575684387133424,
          -1.5284792174694775,
          1.3824084982959488,
          -0.053823501189782845,
          -0.5804281072629928,
          -0.671624871204395,
          -1.0667214635958242,
          -0.37317513328559504,
          -1.1471363068064102,
          -0.9113881573642173,
          2.358817473859362,
          0.7258671702826152,
          1.0421233958080982,
          -0.05670006168759067,
          -0.5713642642753461,
          -1.1063788697212507,
          -0.5965455108255635,
          -1.5387314659064195,
          -0.17467480421157586,
          -0.21496606283281525,
          0.3744289266602406,
          1.8123992926268773
         ],
         "yaxis": "y14"
        },
        {
         "line": {
          "color": "rgba(128, 128, 128, 1.0)",
          "dash": "solid",
          "shape": "linear",
          "width": 1.3
         },
         "marker": {
          "size": 2,
          "symbol": "circle"
         },
         "mode": "markers",
         "name": "D",
         "text": "",
         "type": "scatter",
         "x": [
          0.35076263526198337,
          0.733249650774157,
          -1.7032930220035714,
          0.8202205170894571,
          -0.5507710511015657,
          -1.1240484146993106,
          0.29740568617598245,
          1.1972015362816384,
          -0.22820240226006316,
          0.5355998701914795,
          -1.1295370842041599,
          -0.7491051317232211,
          0.20681092837016593,
          -0.3530340544737697,
          0.4218783417978045,
          0.18087808542826384,
          0.3873549029009786,
          0.10677295388359759,
          -0.6829100527136044,
          -0.6573768834964874,
          0.6499006229297318,
          0.045102328905965765,
          0.3222410032265958,
          -0.8047455945731645,
          0.8186156888335291,
          -2.5206315140725777,
          0.9972223726586227,
          -1.1558752369298482,
          1.6116851692598697,
          -1.266511312491447,
          -1.7273808466675313,
          1.4121644992590647,
          0.3693496958379291,
          -1.2512859754290517,
          0.7088036750026356,
          0.6038574645121113,
          1.3998585403931767,
          0.07222594907407917,
          0.9151272475922841,
          0.07797543856241951,
          0.5942466476602303,
          1.942908793390327,
          -0.749206961204227,
          -0.14404845354792145,
          0.08316410129222325,
          0.6526673416999027,
          -0.8305184338945732,
          0.494168214342465,
          -0.5851646590700206,
          0.38569648810177964,
          0.29454881397359456,
          -1.4336427820706354,
          -1.9572425188301583,
          0.9156965283707941,
          0.9731639881488587,
          0.7959548922375212,
          1.6539560767124746,
          -0.15071707089455394,
          -0.3157097115252297,
          0.6420971166613652,
          -1.5833339341441615,
          -0.5497853707439115,
          -2.155874940570798,
          -0.31627953905033046,
          0.8456771431879876,
          2.7038916449379418,
          0.7565640454851246,
          3.333138715647141,
          -0.691495621223797,
          1.1543707889340264,
          -0.38110714593892153,
          0.07015709719435037,
          0.9730564301853157,
          0.43113191059400285,
          -0.49883277531233877,
          0.21296943694756737,
          1.5130090932884415,
          -0.9155328178978838,
          0.1492931406956385,
          -1.572780364986155,
          -0.8097326528930057,
          -2.0028236151893055,
          2.5147398980462117,
          1.6103027546296318,
          -0.45192727371107133,
          0.299848019757964,
          0.8334830464289262,
          0.8947415038250612,
          -0.11279336388146276,
          -0.346041329228633,
          2.2331580526894084,
          -0.33113739471086795,
          0.49895851577455197,
          -0.2304515686683581,
          -1.4668971259025136,
          1.0726111366421744,
          0.5549556662851106,
          1.0410095475920396,
          -0.23695241941451597,
          -0.5013511150598189
         ],
         "xaxis": "x15",
         "y": [
          -1.4047320927353888,
          1.4237200377383676,
          0.8265858627223719,
          -1.1151313254253328,
          -2.686302163682932,
          -2.032681467811205,
          -0.1855816916495254,
          -0.15543861488373062,
          0.7868694998490952,
          0.41041051951329316,
          0.8156060390638558,
          -1.4619644391399798,
          0.32130853170873824,
          -0.8075549614220208,
          0.8441914752334481,
          1.0166593992134825,
          0.046095134277734866,
          1.5110536205445035,
          0.37812992835432196,
          -1.1371971301959563,
          -0.405180520337886,
          -0.22787398528114242,
          -0.06132667206528754,
          -0.2938130692398661,
          1.0177552578194045,
          0.5261811051852987,
          -0.07245347114924584,
          -0.7881535410935027,
          0.5127602237492641,
          0.34495536548287414,
          -0.07211553377164076,
          -1.9796248240992131,
          0.9905056587762447,
          0.6276548929731041,
          2.512839509103458,
          0.393276754863117,
          -1.6738125240432749,
          1.5276633849577352,
          -1.684519672347046,
          -0.3030552198488424,
          -0.7143365770839046,
          1.9815729393615664,
          -0.3250489653887721,
          0.27159611260491806,
          -0.2122044979478187,
          -1.9594916190841276,
          1.9066170044438184,
          -0.5226907355264899,
          0.7974621362363147,
          1.048444687819637,
          -0.85337863465108,
          -1.283656353924518,
          -1.6509182165023395,
          -1.939746014696315,
          0.32968183706646076,
          -0.05427902038794936,
          0.33703648598626335,
          0.5225665373653318,
          0.8773138958871902,
          0.07806610399714041,
          -1.0882284995629077,
          -0.5591230471826347,
          -0.577616413846726,
          1.2757632717511154,
          0.2137195900493786,
          -1.3325488259242642,
          0.8652867649593701,
          -0.3248854914734833,
          -0.26696602253882457,
          1.3916034561849149,
          2.5332226306314958,
          -0.8627985608403493,
          -0.48314936501080663,
          0.022291286582630035,
          0.9581020491255166,
          -1.2063368460462618,
          -2.510095148625423,
          -1.4609281899897406,
          -0.033575684387133424,
          -1.5284792174694775,
          1.3824084982959488,
          -0.053823501189782845,
          -0.5804281072629928,
          -0.671624871204395,
          -1.0667214635958242,
          -0.37317513328559504,
          -1.1471363068064102,
          -0.9113881573642173,
          2.358817473859362,
          0.7258671702826152,
          1.0421233958080982,
          -0.05670006168759067,
          -0.5713642642753461,
          -1.1063788697212507,
          -0.5965455108255635,
          -1.5387314659064195,
          -0.17467480421157586,
          -0.21496606283281525,
          0.3744289266602406,
          1.8123992926268773
         ],
         "yaxis": "y15"
        },
        {
         "histfunc": "count",
         "histnorm": "",
         "marker": {
          "color": "rgba(128, 0, 128, 1.0)",
          "line": {
           "color": "#4D5663",
           "width": 1.3
          }
         },
         "name": "D",
         "nbinsx": 10,
         "opacity": 0.8,
         "orientation": "v",
         "type": "histogram",
         "x": [
          -1.4047320927353888,
          1.4237200377383676,
          0.8265858627223719,
          -1.1151313254253328,
          -2.686302163682932,
          -2.032681467811205,
          -0.1855816916495254,
          -0.15543861488373062,
          0.7868694998490952,
          0.41041051951329316,
          0.8156060390638558,
          -1.4619644391399798,
          0.32130853170873824,
          -0.8075549614220208,
          0.8441914752334481,
          1.0166593992134825,
          0.046095134277734866,
          1.5110536205445035,
          0.37812992835432196,
          -1.1371971301959563,
          -0.405180520337886,
          -0.22787398528114242,
          -0.06132667206528754,
          -0.2938130692398661,
          1.0177552578194045,
          0.5261811051852987,
          -0.07245347114924584,
          -0.7881535410935027,
          0.5127602237492641,
          0.34495536548287414,
          -0.07211553377164076,
          -1.9796248240992131,
          0.9905056587762447,
          0.6276548929731041,
          2.512839509103458,
          0.393276754863117,
          -1.6738125240432749,
          1.5276633849577352,
          -1.684519672347046,
          -0.3030552198488424,
          -0.7143365770839046,
          1.9815729393615664,
          -0.3250489653887721,
          0.27159611260491806,
          -0.2122044979478187,
          -1.9594916190841276,
          1.9066170044438184,
          -0.5226907355264899,
          0.7974621362363147,
          1.048444687819637,
          -0.85337863465108,
          -1.283656353924518,
          -1.6509182165023395,
          -1.939746014696315,
          0.32968183706646076,
          -0.05427902038794936,
          0.33703648598626335,
          0.5225665373653318,
          0.8773138958871902,
          0.07806610399714041,
          -1.0882284995629077,
          -0.5591230471826347,
          -0.577616413846726,
          1.2757632717511154,
          0.2137195900493786,
          -1.3325488259242642,
          0.8652867649593701,
          -0.3248854914734833,
          -0.26696602253882457,
          1.3916034561849149,
          2.5332226306314958,
          -0.8627985608403493,
          -0.48314936501080663,
          0.022291286582630035,
          0.9581020491255166,
          -1.2063368460462618,
          -2.510095148625423,
          -1.4609281899897406,
          -0.033575684387133424,
          -1.5284792174694775,
          1.3824084982959488,
          -0.053823501189782845,
          -0.5804281072629928,
          -0.671624871204395,
          -1.0667214635958242,
          -0.37317513328559504,
          -1.1471363068064102,
          -0.9113881573642173,
          2.358817473859362,
          0.7258671702826152,
          1.0421233958080982,
          -0.05670006168759067,
          -0.5713642642753461,
          -1.1063788697212507,
          -0.5965455108255635,
          -1.5387314659064195,
          -0.17467480421157586,
          -0.21496606283281525,
          0.3744289266602406,
          1.8123992926268773
         ],
         "xaxis": "x16",
         "yaxis": "y16"
        }
       ],
       "layout": {
        "bargap": 0.02,
        "legend": {
         "bgcolor": "#F5F6F9",
         "font": {
          "color": "#4D5663"
         }
        },
        "paper_bgcolor": "#F5F6F9",
        "plot_bgcolor": "#F5F6F9",
        "showlegend": false,
        "template": {
         "data": {
          "bar": [
           {
            "error_x": {
             "color": "#2a3f5f"
            },
            "error_y": {
             "color": "#2a3f5f"
            },
            "marker": {
             "line": {
              "color": "#E5ECF6",
              "width": 0.5
             },
             "pattern": {
              "fillmode": "overlay",
              "size": 10,
              "solidity": 0.2
             }
            },
            "type": "bar"
           }
          ],
          "barpolar": [
           {
            "marker": {
             "line": {
              "color": "#E5ECF6",
              "width": 0.5
             },
             "pattern": {
              "fillmode": "overlay",
              "size": 10,
              "solidity": 0.2
             }
            },
            "type": "barpolar"
           }
          ],
          "carpet": [
           {
            "aaxis": {
             "endlinecolor": "#2a3f5f",
             "gridcolor": "white",
             "linecolor": "white",
             "minorgridcolor": "white",
             "startlinecolor": "#2a3f5f"
            },
            "baxis": {
             "endlinecolor": "#2a3f5f",
             "gridcolor": "white",
             "linecolor": "white",
             "minorgridcolor": "white",
             "startlinecolor": "#2a3f5f"
            },
            "type": "carpet"
           }
          ],
          "choropleth": [
           {
            "colorbar": {
             "outlinewidth": 0,
             "ticks": ""
            },
            "type": "choropleth"
           }
          ],
          "contour": [
           {
            "colorbar": {
             "outlinewidth": 0,
             "ticks": ""
            },
            "colorscale": [
             [
              0,
              "#0d0887"
             ],
             [
              0.1111111111111111,
              "#46039f"
             ],
             [
              0.2222222222222222,
              "#7201a8"
             ],
             [
              0.3333333333333333,
              "#9c179e"
             ],
             [
              0.4444444444444444,
              "#bd3786"
             ],
             [
              0.5555555555555556,
              "#d8576b"
             ],
             [
              0.6666666666666666,
              "#ed7953"
             ],
             [
              0.7777777777777778,
              "#fb9f3a"
             ],
             [
              0.8888888888888888,
              "#fdca26"
             ],
             [
              1,
              "#f0f921"
             ]
            ],
            "type": "contour"
           }
          ],
          "contourcarpet": [
           {
            "colorbar": {
             "outlinewidth": 0,
             "ticks": ""
            },
            "type": "contourcarpet"
           }
          ],
          "heatmap": [
           {
            "colorbar": {
             "outlinewidth": 0,
             "ticks": ""
            },
            "colorscale": [
             [
              0,
              "#0d0887"
             ],
             [
              0.1111111111111111,
              "#46039f"
             ],
             [
              0.2222222222222222,
              "#7201a8"
             ],
             [
              0.3333333333333333,
              "#9c179e"
             ],
             [
              0.4444444444444444,
              "#bd3786"
             ],
             [
              0.5555555555555556,
              "#d8576b"
             ],
             [
              0.6666666666666666,
              "#ed7953"
             ],
             [
              0.7777777777777778,
              "#fb9f3a"
             ],
             [
              0.8888888888888888,
              "#fdca26"
             ],
             [
              1,
              "#f0f921"
             ]
            ],
            "type": "heatmap"
           }
          ],
          "heatmapgl": [
           {
            "colorbar": {
             "outlinewidth": 0,
             "ticks": ""
            },
            "colorscale": [
             [
              0,
              "#0d0887"
             ],
             [
              0.1111111111111111,
              "#46039f"
             ],
             [
              0.2222222222222222,
              "#7201a8"
             ],
             [
              0.3333333333333333,
              "#9c179e"
             ],
             [
              0.4444444444444444,
              "#bd3786"
             ],
             [
              0.5555555555555556,
              "#d8576b"
             ],
             [
              0.6666666666666666,
              "#ed7953"
             ],
             [
              0.7777777777777778,
              "#fb9f3a"
             ],
             [
              0.8888888888888888,
              "#fdca26"
             ],
             [
              1,
              "#f0f921"
             ]
            ],
            "type": "heatmapgl"
           }
          ],
          "histogram": [
           {
            "marker": {
             "pattern": {
              "fillmode": "overlay",
              "size": 10,
              "solidity": 0.2
             }
            },
            "type": "histogram"
           }
          ],
          "histogram2d": [
           {
            "colorbar": {
             "outlinewidth": 0,
             "ticks": ""
            },
            "colorscale": [
             [
              0,
              "#0d0887"
             ],
             [
              0.1111111111111111,
              "#46039f"
             ],
             [
              0.2222222222222222,
              "#7201a8"
             ],
             [
              0.3333333333333333,
              "#9c179e"
             ],
             [
              0.4444444444444444,
              "#bd3786"
             ],
             [
              0.5555555555555556,
              "#d8576b"
             ],
             [
              0.6666666666666666,
              "#ed7953"
             ],
             [
              0.7777777777777778,
              "#fb9f3a"
             ],
             [
              0.8888888888888888,
              "#fdca26"
             ],
             [
              1,
              "#f0f921"
             ]
            ],
            "type": "histogram2d"
           }
          ],
          "histogram2dcontour": [
           {
            "colorbar": {
             "outlinewidth": 0,
             "ticks": ""
            },
            "colorscale": [
             [
              0,
              "#0d0887"
             ],
             [
              0.1111111111111111,
              "#46039f"
             ],
             [
              0.2222222222222222,
              "#7201a8"
             ],
             [
              0.3333333333333333,
              "#9c179e"
             ],
             [
              0.4444444444444444,
              "#bd3786"
             ],
             [
              0.5555555555555556,
              "#d8576b"
             ],
             [
              0.6666666666666666,
              "#ed7953"
             ],
             [
              0.7777777777777778,
              "#fb9f3a"
             ],
             [
              0.8888888888888888,
              "#fdca26"
             ],
             [
              1,
              "#f0f921"
             ]
            ],
            "type": "histogram2dcontour"
           }
          ],
          "mesh3d": [
           {
            "colorbar": {
             "outlinewidth": 0,
             "ticks": ""
            },
            "type": "mesh3d"
           }
          ],
          "parcoords": [
           {
            "line": {
             "colorbar": {
              "outlinewidth": 0,
              "ticks": ""
             }
            },
            "type": "parcoords"
           }
          ],
          "pie": [
           {
            "automargin": true,
            "type": "pie"
           }
          ],
          "scatter": [
           {
            "fillpattern": {
             "fillmode": "overlay",
             "size": 10,
             "solidity": 0.2
            },
            "type": "scatter"
           }
          ],
          "scatter3d": [
           {
            "line": {
             "colorbar": {
              "outlinewidth": 0,
              "ticks": ""
             }
            },
            "marker": {
             "colorbar": {
              "outlinewidth": 0,
              "ticks": ""
             }
            },
            "type": "scatter3d"
           }
          ],
          "scattercarpet": [
           {
            "marker": {
             "colorbar": {
              "outlinewidth": 0,
              "ticks": ""
             }
            },
            "type": "scattercarpet"
           }
          ],
          "scattergeo": [
           {
            "marker": {
             "colorbar": {
              "outlinewidth": 0,
              "ticks": ""
             }
            },
            "type": "scattergeo"
           }
          ],
          "scattergl": [
           {
            "marker": {
             "colorbar": {
              "outlinewidth": 0,
              "ticks": ""
             }
            },
            "type": "scattergl"
           }
          ],
          "scattermapbox": [
           {
            "marker": {
             "colorbar": {
              "outlinewidth": 0,
              "ticks": ""
             }
            },
            "type": "scattermapbox"
           }
          ],
          "scatterpolar": [
           {
            "marker": {
             "colorbar": {
              "outlinewidth": 0,
              "ticks": ""
             }
            },
            "type": "scatterpolar"
           }
          ],
          "scatterpolargl": [
           {
            "marker": {
             "colorbar": {
              "outlinewidth": 0,
              "ticks": ""
             }
            },
            "type": "scatterpolargl"
           }
          ],
          "scatterternary": [
           {
            "marker": {
             "colorbar": {
              "outlinewidth": 0,
              "ticks": ""
             }
            },
            "type": "scatterternary"
           }
          ],
          "surface": [
           {
            "colorbar": {
             "outlinewidth": 0,
             "ticks": ""
            },
            "colorscale": [
             [
              0,
              "#0d0887"
             ],
             [
              0.1111111111111111,
              "#46039f"
             ],
             [
              0.2222222222222222,
              "#7201a8"
             ],
             [
              0.3333333333333333,
              "#9c179e"
             ],
             [
              0.4444444444444444,
              "#bd3786"
             ],
             [
              0.5555555555555556,
              "#d8576b"
             ],
             [
              0.6666666666666666,
              "#ed7953"
             ],
             [
              0.7777777777777778,
              "#fb9f3a"
             ],
             [
              0.8888888888888888,
              "#fdca26"
             ],
             [
              1,
              "#f0f921"
             ]
            ],
            "type": "surface"
           }
          ],
          "table": [
           {
            "cells": {
             "fill": {
              "color": "#EBF0F8"
             },
             "line": {
              "color": "white"
             }
            },
            "header": {
             "fill": {
              "color": "#C8D4E3"
             },
             "line": {
              "color": "white"
             }
            },
            "type": "table"
           }
          ]
         },
         "layout": {
          "annotationdefaults": {
           "arrowcolor": "#2a3f5f",
           "arrowhead": 0,
           "arrowwidth": 1
          },
          "autotypenumbers": "strict",
          "coloraxis": {
           "colorbar": {
            "outlinewidth": 0,
            "ticks": ""
           }
          },
          "colorscale": {
           "diverging": [
            [
             0,
             "#8e0152"
            ],
            [
             0.1,
             "#c51b7d"
            ],
            [
             0.2,
             "#de77ae"
            ],
            [
             0.3,
             "#f1b6da"
            ],
            [
             0.4,
             "#fde0ef"
            ],
            [
             0.5,
             "#f7f7f7"
            ],
            [
             0.6,
             "#e6f5d0"
            ],
            [
             0.7,
             "#b8e186"
            ],
            [
             0.8,
             "#7fbc41"
            ],
            [
             0.9,
             "#4d9221"
            ],
            [
             1,
             "#276419"
            ]
           ],
           "sequential": [
            [
             0,
             "#0d0887"
            ],
            [
             0.1111111111111111,
             "#46039f"
            ],
            [
             0.2222222222222222,
             "#7201a8"
            ],
            [
             0.3333333333333333,
             "#9c179e"
            ],
            [
             0.4444444444444444,
             "#bd3786"
            ],
            [
             0.5555555555555556,
             "#d8576b"
            ],
            [
             0.6666666666666666,
             "#ed7953"
            ],
            [
             0.7777777777777778,
             "#fb9f3a"
            ],
            [
             0.8888888888888888,
             "#fdca26"
            ],
            [
             1,
             "#f0f921"
            ]
           ],
           "sequentialminus": [
            [
             0,
             "#0d0887"
            ],
            [
             0.1111111111111111,
             "#46039f"
            ],
            [
             0.2222222222222222,
             "#7201a8"
            ],
            [
             0.3333333333333333,
             "#9c179e"
            ],
            [
             0.4444444444444444,
             "#bd3786"
            ],
            [
             0.5555555555555556,
             "#d8576b"
            ],
            [
             0.6666666666666666,
             "#ed7953"
            ],
            [
             0.7777777777777778,
             "#fb9f3a"
            ],
            [
             0.8888888888888888,
             "#fdca26"
            ],
            [
             1,
             "#f0f921"
            ]
           ]
          },
          "colorway": [
           "#636efa",
           "#EF553B",
           "#00cc96",
           "#ab63fa",
           "#FFA15A",
           "#19d3f3",
           "#FF6692",
           "#B6E880",
           "#FF97FF",
           "#FECB52"
          ],
          "font": {
           "color": "#2a3f5f"
          },
          "geo": {
           "bgcolor": "white",
           "lakecolor": "white",
           "landcolor": "#E5ECF6",
           "showlakes": true,
           "showland": true,
           "subunitcolor": "white"
          },
          "hoverlabel": {
           "align": "left"
          },
          "hovermode": "closest",
          "mapbox": {
           "style": "light"
          },
          "paper_bgcolor": "white",
          "plot_bgcolor": "#E5ECF6",
          "polar": {
           "angularaxis": {
            "gridcolor": "white",
            "linecolor": "white",
            "ticks": ""
           },
           "bgcolor": "#E5ECF6",
           "radialaxis": {
            "gridcolor": "white",
            "linecolor": "white",
            "ticks": ""
           }
          },
          "scene": {
           "xaxis": {
            "backgroundcolor": "#E5ECF6",
            "gridcolor": "white",
            "gridwidth": 2,
            "linecolor": "white",
            "showbackground": true,
            "ticks": "",
            "zerolinecolor": "white"
           },
           "yaxis": {
            "backgroundcolor": "#E5ECF6",
            "gridcolor": "white",
            "gridwidth": 2,
            "linecolor": "white",
            "showbackground": true,
            "ticks": "",
            "zerolinecolor": "white"
           },
           "zaxis": {
            "backgroundcolor": "#E5ECF6",
            "gridcolor": "white",
            "gridwidth": 2,
            "linecolor": "white",
            "showbackground": true,
            "ticks": "",
            "zerolinecolor": "white"
           }
          },
          "shapedefaults": {
           "line": {
            "color": "#2a3f5f"
           }
          },
          "ternary": {
           "aaxis": {
            "gridcolor": "white",
            "linecolor": "white",
            "ticks": ""
           },
           "baxis": {
            "gridcolor": "white",
            "linecolor": "white",
            "ticks": ""
           },
           "bgcolor": "#E5ECF6",
           "caxis": {
            "gridcolor": "white",
            "linecolor": "white",
            "ticks": ""
           }
          },
          "title": {
           "x": 0.05
          },
          "xaxis": {
           "automargin": true,
           "gridcolor": "white",
           "linecolor": "white",
           "ticks": "",
           "title": {
            "standoff": 15
           },
           "zerolinecolor": "white",
           "zerolinewidth": 2
          },
          "yaxis": {
           "automargin": true,
           "gridcolor": "white",
           "linecolor": "white",
           "ticks": "",
           "title": {
            "standoff": 15
           },
           "zerolinecolor": "white",
           "zerolinewidth": 2
          }
         }
        },
        "title": {
         "font": {
          "color": "#4D5663"
         }
        },
        "xaxis": {
         "anchor": "y",
         "domain": [
          0,
          0.2125
         ],
         "gridcolor": "#E1E5ED",
         "showgrid": false,
         "tickfont": {
          "color": "#4D5663"
         },
         "title": {
          "font": {
           "color": "#4D5663"
          },
          "text": ""
         },
         "zerolinecolor": "#E1E5ED"
        },
        "xaxis10": {
         "anchor": "y10",
         "domain": [
          0.2625,
          0.475
         ],
         "gridcolor": "#E1E5ED",
         "showgrid": false,
         "tickfont": {
          "color": "#4D5663"
         },
         "title": {
          "font": {
           "color": "#4D5663"
          },
          "text": ""
         },
         "zerolinecolor": "#E1E5ED"
        },
        "xaxis11": {
         "anchor": "y11",
         "domain": [
          0.525,
          0.7375
         ],
         "gridcolor": "#E1E5ED",
         "showgrid": false,
         "tickfont": {
          "color": "#4D5663"
         },
         "title": {
          "font": {
           "color": "#4D5663"
          },
          "text": ""
         },
         "zerolinecolor": "#E1E5ED"
        },
        "xaxis12": {
         "anchor": "y12",
         "domain": [
          0.7875,
          1
         ],
         "gridcolor": "#E1E5ED",
         "showgrid": false,
         "tickfont": {
          "color": "#4D5663"
         },
         "title": {
          "font": {
           "color": "#4D5663"
          },
          "text": ""
         },
         "zerolinecolor": "#E1E5ED"
        },
        "xaxis13": {
         "anchor": "y13",
         "domain": [
          0,
          0.2125
         ],
         "gridcolor": "#E1E5ED",
         "showgrid": false,
         "tickfont": {
          "color": "#4D5663"
         },
         "title": {
          "font": {
           "color": "#4D5663"
          },
          "text": ""
         },
         "zerolinecolor": "#E1E5ED"
        },
        "xaxis14": {
         "anchor": "y14",
         "domain": [
          0.2625,
          0.475
         ],
         "gridcolor": "#E1E5ED",
         "showgrid": false,
         "tickfont": {
          "color": "#4D5663"
         },
         "title": {
          "font": {
           "color": "#4D5663"
          },
          "text": ""
         },
         "zerolinecolor": "#E1E5ED"
        },
        "xaxis15": {
         "anchor": "y15",
         "domain": [
          0.525,
          0.7375
         ],
         "gridcolor": "#E1E5ED",
         "showgrid": false,
         "tickfont": {
          "color": "#4D5663"
         },
         "title": {
          "font": {
           "color": "#4D5663"
          },
          "text": ""
         },
         "zerolinecolor": "#E1E5ED"
        },
        "xaxis16": {
         "anchor": "y16",
         "domain": [
          0.7875,
          1
         ],
         "gridcolor": "#E1E5ED",
         "showgrid": false,
         "tickfont": {
          "color": "#4D5663"
         },
         "title": {
          "font": {
           "color": "#4D5663"
          },
          "text": ""
         },
         "zerolinecolor": "#E1E5ED"
        },
        "xaxis2": {
         "anchor": "y2",
         "domain": [
          0.2625,
          0.475
         ],
         "gridcolor": "#E1E5ED",
         "showgrid": false,
         "tickfont": {
          "color": "#4D5663"
         },
         "title": {
          "font": {
           "color": "#4D5663"
          },
          "text": ""
         },
         "zerolinecolor": "#E1E5ED"
        },
        "xaxis3": {
         "anchor": "y3",
         "domain": [
          0.525,
          0.7375
         ],
         "gridcolor": "#E1E5ED",
         "showgrid": false,
         "tickfont": {
          "color": "#4D5663"
         },
         "title": {
          "font": {
           "color": "#4D5663"
          },
          "text": ""
         },
         "zerolinecolor": "#E1E5ED"
        },
        "xaxis4": {
         "anchor": "y4",
         "domain": [
          0.7875,
          1
         ],
         "gridcolor": "#E1E5ED",
         "showgrid": false,
         "tickfont": {
          "color": "#4D5663"
         },
         "title": {
          "font": {
           "color": "#4D5663"
          },
          "text": ""
         },
         "zerolinecolor": "#E1E5ED"
        },
        "xaxis5": {
         "anchor": "y5",
         "domain": [
          0,
          0.2125
         ],
         "gridcolor": "#E1E5ED",
         "showgrid": false,
         "tickfont": {
          "color": "#4D5663"
         },
         "title": {
          "font": {
           "color": "#4D5663"
          },
          "text": ""
         },
         "zerolinecolor": "#E1E5ED"
        },
        "xaxis6": {
         "anchor": "y6",
         "domain": [
          0.2625,
          0.475
         ],
         "gridcolor": "#E1E5ED",
         "showgrid": false,
         "tickfont": {
          "color": "#4D5663"
         },
         "title": {
          "font": {
           "color": "#4D5663"
          },
          "text": ""
         },
         "zerolinecolor": "#E1E5ED"
        },
        "xaxis7": {
         "anchor": "y7",
         "domain": [
          0.525,
          0.7375
         ],
         "gridcolor": "#E1E5ED",
         "showgrid": false,
         "tickfont": {
          "color": "#4D5663"
         },
         "title": {
          "font": {
           "color": "#4D5663"
          },
          "text": ""
         },
         "zerolinecolor": "#E1E5ED"
        },
        "xaxis8": {
         "anchor": "y8",
         "domain": [
          0.7875,
          1
         ],
         "gridcolor": "#E1E5ED",
         "showgrid": false,
         "tickfont": {
          "color": "#4D5663"
         },
         "title": {
          "font": {
           "color": "#4D5663"
          },
          "text": ""
         },
         "zerolinecolor": "#E1E5ED"
        },
        "xaxis9": {
         "anchor": "y9",
         "domain": [
          0,
          0.2125
         ],
         "gridcolor": "#E1E5ED",
         "showgrid": false,
         "tickfont": {
          "color": "#4D5663"
         },
         "title": {
          "font": {
           "color": "#4D5663"
          },
          "text": ""
         },
         "zerolinecolor": "#E1E5ED"
        },
        "yaxis": {
         "anchor": "x",
         "domain": [
          0.8025,
          1
         ],
         "gridcolor": "#E1E5ED",
         "showgrid": false,
         "tickfont": {
          "color": "#4D5663"
         },
         "title": {
          "font": {
           "color": "#4D5663"
          },
          "text": ""
         },
         "zerolinecolor": "#E1E5ED"
        },
        "yaxis10": {
         "anchor": "x10",
         "domain": [
          0.2675,
          0.465
         ],
         "gridcolor": "#E1E5ED",
         "showgrid": false,
         "tickfont": {
          "color": "#4D5663"
         },
         "title": {
          "font": {
           "color": "#4D5663"
          },
          "text": ""
         },
         "zerolinecolor": "#E1E5ED"
        },
        "yaxis11": {
         "anchor": "x11",
         "domain": [
          0.2675,
          0.465
         ],
         "gridcolor": "#E1E5ED",
         "showgrid": false,
         "tickfont": {
          "color": "#4D5663"
         },
         "title": {
          "font": {
           "color": "#4D5663"
          },
          "text": ""
         },
         "zerolinecolor": "#E1E5ED"
        },
        "yaxis12": {
         "anchor": "x12",
         "domain": [
          0.2675,
          0.465
         ],
         "gridcolor": "#E1E5ED",
         "showgrid": false,
         "tickfont": {
          "color": "#4D5663"
         },
         "title": {
          "font": {
           "color": "#4D5663"
          },
          "text": ""
         },
         "zerolinecolor": "#E1E5ED"
        },
        "yaxis13": {
         "anchor": "x13",
         "domain": [
          0,
          0.1975
         ],
         "gridcolor": "#E1E5ED",
         "showgrid": false,
         "tickfont": {
          "color": "#4D5663"
         },
         "title": {
          "font": {
           "color": "#4D5663"
          },
          "text": ""
         },
         "zerolinecolor": "#E1E5ED"
        },
        "yaxis14": {
         "anchor": "x14",
         "domain": [
          0,
          0.1975
         ],
         "gridcolor": "#E1E5ED",
         "showgrid": false,
         "tickfont": {
          "color": "#4D5663"
         },
         "title": {
          "font": {
           "color": "#4D5663"
          },
          "text": ""
         },
         "zerolinecolor": "#E1E5ED"
        },
        "yaxis15": {
         "anchor": "x15",
         "domain": [
          0,
          0.1975
         ],
         "gridcolor": "#E1E5ED",
         "showgrid": false,
         "tickfont": {
          "color": "#4D5663"
         },
         "title": {
          "font": {
           "color": "#4D5663"
          },
          "text": ""
         },
         "zerolinecolor": "#E1E5ED"
        },
        "yaxis16": {
         "anchor": "x16",
         "domain": [
          0,
          0.1975
         ],
         "gridcolor": "#E1E5ED",
         "showgrid": false,
         "tickfont": {
          "color": "#4D5663"
         },
         "title": {
          "font": {
           "color": "#4D5663"
          },
          "text": ""
         },
         "zerolinecolor": "#E1E5ED"
        },
        "yaxis2": {
         "anchor": "x2",
         "domain": [
          0.8025,
          1
         ],
         "gridcolor": "#E1E5ED",
         "showgrid": false,
         "tickfont": {
          "color": "#4D5663"
         },
         "title": {
          "font": {
           "color": "#4D5663"
          },
          "text": ""
         },
         "zerolinecolor": "#E1E5ED"
        },
        "yaxis3": {
         "anchor": "x3",
         "domain": [
          0.8025,
          1
         ],
         "gridcolor": "#E1E5ED",
         "showgrid": false,
         "tickfont": {
          "color": "#4D5663"
         },
         "title": {
          "font": {
           "color": "#4D5663"
          },
          "text": ""
         },
         "zerolinecolor": "#E1E5ED"
        },
        "yaxis4": {
         "anchor": "x4",
         "domain": [
          0.8025,
          1
         ],
         "gridcolor": "#E1E5ED",
         "showgrid": false,
         "tickfont": {
          "color": "#4D5663"
         },
         "title": {
          "font": {
           "color": "#4D5663"
          },
          "text": ""
         },
         "zerolinecolor": "#E1E5ED"
        },
        "yaxis5": {
         "anchor": "x5",
         "domain": [
          0.535,
          0.7325
         ],
         "gridcolor": "#E1E5ED",
         "showgrid": false,
         "tickfont": {
          "color": "#4D5663"
         },
         "title": {
          "font": {
           "color": "#4D5663"
          },
          "text": ""
         },
         "zerolinecolor": "#E1E5ED"
        },
        "yaxis6": {
         "anchor": "x6",
         "domain": [
          0.535,
          0.7325
         ],
         "gridcolor": "#E1E5ED",
         "showgrid": false,
         "tickfont": {
          "color": "#4D5663"
         },
         "title": {
          "font": {
           "color": "#4D5663"
          },
          "text": ""
         },
         "zerolinecolor": "#E1E5ED"
        },
        "yaxis7": {
         "anchor": "x7",
         "domain": [
          0.535,
          0.7325
         ],
         "gridcolor": "#E1E5ED",
         "showgrid": false,
         "tickfont": {
          "color": "#4D5663"
         },
         "title": {
          "font": {
           "color": "#4D5663"
          },
          "text": ""
         },
         "zerolinecolor": "#E1E5ED"
        },
        "yaxis8": {
         "anchor": "x8",
         "domain": [
          0.535,
          0.7325
         ],
         "gridcolor": "#E1E5ED",
         "showgrid": false,
         "tickfont": {
          "color": "#4D5663"
         },
         "title": {
          "font": {
           "color": "#4D5663"
          },
          "text": ""
         },
         "zerolinecolor": "#E1E5ED"
        },
        "yaxis9": {
         "anchor": "x9",
         "domain": [
          0.2675,
          0.465
         ],
         "gridcolor": "#E1E5ED",
         "showgrid": false,
         "tickfont": {
          "color": "#4D5663"
         },
         "title": {
          "font": {
           "color": "#4D5663"
          },
          "text": ""
         },
         "zerolinecolor": "#E1E5ED"
        }
       }
      },
      "text/html": [
       "<div>                            <div id=\"f294c1bf-1fa1-4c1e-98d1-e85d1e350d3c\" class=\"plotly-graph-div\" style=\"height:525px; width:100%;\"></div>            <script type=\"text/javascript\">                require([\"plotly\"], function(Plotly) {                    window.PLOTLYENV=window.PLOTLYENV || {};\n",
       "                    window.PLOTLYENV.BASE_URL='https://plot.ly';                                    if (document.getElementById(\"f294c1bf-1fa1-4c1e-98d1-e85d1e350d3c\")) {                    Plotly.newPlot(                        \"f294c1bf-1fa1-4c1e-98d1-e85d1e350d3c\",                        [{\"histfunc\":\"count\",\"histnorm\":\"\",\"marker\":{\"color\":\"rgba(255, 153, 51, 1.0)\",\"line\":{\"color\":\"#4D5663\",\"width\":1.3}},\"name\":\"A\",\"nbinsx\":10,\"opacity\":0.8,\"orientation\":\"v\",\"x\":[-0.1655705937827465,0.6339335459532506,0.02552739960708487,0.01969683939300677,1.1722880458422509,0.9747235756758493,-0.6050070348936066,0.5085564324615662,-1.545435955849086,0.016081732460917663,0.22518728497505483,-1.3333108089982026,0.988778752425804,2.198159687266945,1.268817519997271,-0.008764501052270413,-0.44398572728548547,0.5551164490476496,0.8586223532174,-0.2094038044256258,-0.43206622309689674,0.6418351317018594,-1.5385625940572467,-0.17674250764098665,0.6744836258489834,-1.9243574705353481,-0.5163953508976782,0.9930864582338338,0.32124256694507275,-0.6698476139460213,0.381068709679253,-1.1944409695761267,0.6849270399380836,-0.3754746280710603,0.29975630620422455,0.05640202727675874,-0.94912681176481,-0.4799579983040787,-2.051159458016786,-0.3451565542145435,0.5491402974707585,0.36719851737511805,0.06903976021383912,0.9190117725334557,-1.024537808095599,-0.279366487748021,-1.708888485836476,-0.14402401705652035,-0.7956987990694804,-0.8078595466173956,0.6790479801631213,0.7620283540488753,0.04971040573434907,-1.0480450252213853,-1.1640007543201105,-0.8987684206556861,1.0921667216030286,-0.51688241157997,0.23331358423528553,0.72022348620067,-0.153330783695401,-1.7485084923560625,-0.5578921555527383,0.2592053361084132,0.6505485032752829,-0.09822617559722291,-0.11396477603957711,-0.04711327080097372,0.41794875708761625,-0.9794280917693772,-1.4930800481301383,0.20024816164433462,-0.0598198356874181,0.40228892142346856,0.7198143569507868,-0.7989673881758005,1.136051224771882,0.5213471362522815,0.382894174276429,-0.3781806207522293,0.1047978285603859,-0.5590826824234247,-1.4103183701528856,1.1809587208566368,-0.7340851584382985,2.302660557026478,-1.8176943917922668,-0.7827026497367355,-1.6804854405801986,-1.7161193914182236,0.13699488338331858,-1.0562415021653813,0.3440151400307065,-2.4135843823581773,-1.7169647154712107,0.11730382449763617,-0.12497531838910092,-0.9130583926720433,0.14177914589027968,-0.7325023740963575],\"xaxis\":\"x\",\"yaxis\":\"y\",\"type\":\"histogram\"},{\"line\":{\"color\":\"rgba(128, 128, 128, 1.0)\",\"dash\":\"solid\",\"shape\":\"linear\",\"width\":1.3},\"marker\":{\"size\":2,\"symbol\":\"circle\"},\"mode\":\"markers\",\"name\":\"A\",\"text\":\"\",\"x\":[-0.2924447826011183,0.7407806451006329,-0.4238185025341148,-0.806529453653887,-0.8131387530579735,0.00734319142364019,1.1409690687084817,-1.0399200861700937,-0.9757840095052484,0.6371836649454985,0.4822400989864475,-0.10658927474989756,1.030457973217204,0.298495758255452,-0.7007423238711151,0.3099974602415881,-0.999126943370043,-0.0534876423175067,-0.13547608459305985,1.5972425667119357,-2.5062520958522185,0.23267837072353362,0.025786950862549618,0.7223057893102796,-0.6716161547784072,-0.7347753399574438,-0.10092901382515361,1.9539851832256292,-0.6513024950203117,1.4165755824561908,-0.999587606254183,-0.7707015786264458,0.1651321634271878,0.27957354172687954,-0.07142121924509102,-0.592976528976272,-0.6196597646542373,0.24417621252015778,0.07404638331213868,1.3227806225059329,1.7101366397285278,-1.5305925978054404,-0.744847538740032,2.1580413988178124,-0.26752586946806556,-1.7789276564220624,1.3471114020730155,-0.5430113078286412,-0.8601260350318142,0.7316624912629281,2.5130402870286854,-1.4384259319922756,0.6398977902189656,0.3129349832028792,-0.07569412487699408,-1.6491607182971357,-0.7762918151343828,-0.13478606841780538,-0.013620877199414565,-0.2064697103702566,-1.280393149670629,0.20677309874895722,0.5884118424194865,0.4229230519321674,-0.9459402404714627,-0.37290272901489174,-1.322503831154513,0.38427151353223454,0.3440100483105457,1.2806969455257453,0.4153452313345435,0.5806468212039666,1.6475556469388035,1.104705852204584,0.5020651550204874,-1.7915206314516867,0.25651199464656715,-0.5105539232384897,0.6480584816840614,-1.0146531468192597,1.1156432997731665,-2.2734448280261437,2.000158801474051,0.6705878143141647,1.0574589784742312,1.1555814635540624,-0.08170108881032653,-1.0400644433309123,-0.9605721297657042,-0.49164022625070686,-0.45380715694038964,-0.16729635012015623,-0.7955770607437094,-2.814936036656384,-0.5282245113612478,-1.2738671529418648,0.8773494814469376,0.668093767934002,-0.8402771874279442,-0.9939287782369531],\"xaxis\":\"x2\",\"y\":[-0.1655705937827465,0.6339335459532506,0.02552739960708487,0.01969683939300677,1.1722880458422509,0.9747235756758493,-0.6050070348936066,0.5085564324615662,-1.545435955849086,0.016081732460917663,0.22518728497505483,-1.3333108089982026,0.988778752425804,2.198159687266945,1.268817519997271,-0.008764501052270413,-0.44398572728548547,0.5551164490476496,0.8586223532174,-0.2094038044256258,-0.43206622309689674,0.6418351317018594,-1.5385625940572467,-0.17674250764098665,0.6744836258489834,-1.9243574705353481,-0.5163953508976782,0.9930864582338338,0.32124256694507275,-0.6698476139460213,0.381068709679253,-1.1944409695761267,0.6849270399380836,-0.3754746280710603,0.29975630620422455,0.05640202727675874,-0.94912681176481,-0.4799579983040787,-2.051159458016786,-0.3451565542145435,0.5491402974707585,0.36719851737511805,0.06903976021383912,0.9190117725334557,-1.024537808095599,-0.279366487748021,-1.708888485836476,-0.14402401705652035,-0.7956987990694804,-0.8078595466173956,0.6790479801631213,0.7620283540488753,0.04971040573434907,-1.0480450252213853,-1.1640007543201105,-0.8987684206556861,1.0921667216030286,-0.51688241157997,0.23331358423528553,0.72022348620067,-0.153330783695401,-1.7485084923560625,-0.5578921555527383,0.2592053361084132,0.6505485032752829,-0.09822617559722291,-0.11396477603957711,-0.04711327080097372,0.41794875708761625,-0.9794280917693772,-1.4930800481301383,0.20024816164433462,-0.0598198356874181,0.40228892142346856,0.7198143569507868,-0.7989673881758005,1.136051224771882,0.5213471362522815,0.382894174276429,-0.3781806207522293,0.1047978285603859,-0.5590826824234247,-1.4103183701528856,1.1809587208566368,-0.7340851584382985,2.302660557026478,-1.8176943917922668,-0.7827026497367355,-1.6804854405801986,-1.7161193914182236,0.13699488338331858,-1.0562415021653813,0.3440151400307065,-2.4135843823581773,-1.7169647154712107,0.11730382449763617,-0.12497531838910092,-0.9130583926720433,0.14177914589027968,-0.7325023740963575],\"yaxis\":\"y2\",\"type\":\"scatter\"},{\"line\":{\"color\":\"rgba(128, 128, 128, 1.0)\",\"dash\":\"solid\",\"shape\":\"linear\",\"width\":1.3},\"marker\":{\"size\":2,\"symbol\":\"circle\"},\"mode\":\"markers\",\"name\":\"A\",\"text\":\"\",\"x\":[0.35076263526198337,0.733249650774157,-1.7032930220035714,0.8202205170894571,-0.5507710511015657,-1.1240484146993106,0.29740568617598245,1.1972015362816384,-0.22820240226006316,0.5355998701914795,-1.1295370842041599,-0.7491051317232211,0.20681092837016593,-0.3530340544737697,0.4218783417978045,0.18087808542826384,0.3873549029009786,0.10677295388359759,-0.6829100527136044,-0.6573768834964874,0.6499006229297318,0.045102328905965765,0.3222410032265958,-0.8047455945731645,0.8186156888335291,-2.5206315140725777,0.9972223726586227,-1.1558752369298482,1.6116851692598697,-1.266511312491447,-1.7273808466675313,1.4121644992590647,0.3693496958379291,-1.2512859754290517,0.7088036750026356,0.6038574645121113,1.3998585403931767,0.07222594907407917,0.9151272475922841,0.07797543856241951,0.5942466476602303,1.942908793390327,-0.749206961204227,-0.14404845354792145,0.08316410129222325,0.6526673416999027,-0.8305184338945732,0.494168214342465,-0.5851646590700206,0.38569648810177964,0.29454881397359456,-1.4336427820706354,-1.9572425188301583,0.9156965283707941,0.9731639881488587,0.7959548922375212,1.6539560767124746,-0.15071707089455394,-0.3157097115252297,0.6420971166613652,-1.5833339341441615,-0.5497853707439115,-2.155874940570798,-0.31627953905033046,0.8456771431879876,2.7038916449379418,0.7565640454851246,3.333138715647141,-0.691495621223797,1.1543707889340264,-0.38110714593892153,0.07015709719435037,0.9730564301853157,0.43113191059400285,-0.49883277531233877,0.21296943694756737,1.5130090932884415,-0.9155328178978838,0.1492931406956385,-1.572780364986155,-0.8097326528930057,-2.0028236151893055,2.5147398980462117,1.6103027546296318,-0.45192727371107133,0.299848019757964,0.8334830464289262,0.8947415038250612,-0.11279336388146276,-0.346041329228633,2.2331580526894084,-0.33113739471086795,0.49895851577455197,-0.2304515686683581,-1.4668971259025136,1.0726111366421744,0.5549556662851106,1.0410095475920396,-0.23695241941451597,-0.5013511150598189],\"xaxis\":\"x3\",\"y\":[-0.1655705937827465,0.6339335459532506,0.02552739960708487,0.01969683939300677,1.1722880458422509,0.9747235756758493,-0.6050070348936066,0.5085564324615662,-1.545435955849086,0.016081732460917663,0.22518728497505483,-1.3333108089982026,0.988778752425804,2.198159687266945,1.268817519997271,-0.008764501052270413,-0.44398572728548547,0.5551164490476496,0.8586223532174,-0.2094038044256258,-0.43206622309689674,0.6418351317018594,-1.5385625940572467,-0.17674250764098665,0.6744836258489834,-1.9243574705353481,-0.5163953508976782,0.9930864582338338,0.32124256694507275,-0.6698476139460213,0.381068709679253,-1.1944409695761267,0.6849270399380836,-0.3754746280710603,0.29975630620422455,0.05640202727675874,-0.94912681176481,-0.4799579983040787,-2.051159458016786,-0.3451565542145435,0.5491402974707585,0.36719851737511805,0.06903976021383912,0.9190117725334557,-1.024537808095599,-0.279366487748021,-1.708888485836476,-0.14402401705652035,-0.7956987990694804,-0.8078595466173956,0.6790479801631213,0.7620283540488753,0.04971040573434907,-1.0480450252213853,-1.1640007543201105,-0.8987684206556861,1.0921667216030286,-0.51688241157997,0.23331358423528553,0.72022348620067,-0.153330783695401,-1.7485084923560625,-0.5578921555527383,0.2592053361084132,0.6505485032752829,-0.09822617559722291,-0.11396477603957711,-0.04711327080097372,0.41794875708761625,-0.9794280917693772,-1.4930800481301383,0.20024816164433462,-0.0598198356874181,0.40228892142346856,0.7198143569507868,-0.7989673881758005,1.136051224771882,0.5213471362522815,0.382894174276429,-0.3781806207522293,0.1047978285603859,-0.5590826824234247,-1.4103183701528856,1.1809587208566368,-0.7340851584382985,2.302660557026478,-1.8176943917922668,-0.7827026497367355,-1.6804854405801986,-1.7161193914182236,0.13699488338331858,-1.0562415021653813,0.3440151400307065,-2.4135843823581773,-1.7169647154712107,0.11730382449763617,-0.12497531838910092,-0.9130583926720433,0.14177914589027968,-0.7325023740963575],\"yaxis\":\"y3\",\"type\":\"scatter\"},{\"line\":{\"color\":\"rgba(128, 128, 128, 1.0)\",\"dash\":\"solid\",\"shape\":\"linear\",\"width\":1.3},\"marker\":{\"size\":2,\"symbol\":\"circle\"},\"mode\":\"markers\",\"name\":\"A\",\"text\":\"\",\"x\":[-1.4047320927353888,1.4237200377383676,0.8265858627223719,-1.1151313254253328,-2.686302163682932,-2.032681467811205,-0.1855816916495254,-0.15543861488373062,0.7868694998490952,0.41041051951329316,0.8156060390638558,-1.4619644391399798,0.32130853170873824,-0.8075549614220208,0.8441914752334481,1.0166593992134825,0.046095134277734866,1.5110536205445035,0.37812992835432196,-1.1371971301959563,-0.405180520337886,-0.22787398528114242,-0.06132667206528754,-0.2938130692398661,1.0177552578194045,0.5261811051852987,-0.07245347114924584,-0.7881535410935027,0.5127602237492641,0.34495536548287414,-0.07211553377164076,-1.9796248240992131,0.9905056587762447,0.6276548929731041,2.512839509103458,0.393276754863117,-1.6738125240432749,1.5276633849577352,-1.684519672347046,-0.3030552198488424,-0.7143365770839046,1.9815729393615664,-0.3250489653887721,0.27159611260491806,-0.2122044979478187,-1.9594916190841276,1.9066170044438184,-0.5226907355264899,0.7974621362363147,1.048444687819637,-0.85337863465108,-1.283656353924518,-1.6509182165023395,-1.939746014696315,0.32968183706646076,-0.05427902038794936,0.33703648598626335,0.5225665373653318,0.8773138958871902,0.07806610399714041,-1.0882284995629077,-0.5591230471826347,-0.577616413846726,1.2757632717511154,0.2137195900493786,-1.3325488259242642,0.8652867649593701,-0.3248854914734833,-0.26696602253882457,1.3916034561849149,2.5332226306314958,-0.8627985608403493,-0.48314936501080663,0.022291286582630035,0.9581020491255166,-1.2063368460462618,-2.510095148625423,-1.4609281899897406,-0.033575684387133424,-1.5284792174694775,1.3824084982959488,-0.053823501189782845,-0.5804281072629928,-0.671624871204395,-1.0667214635958242,-0.37317513328559504,-1.1471363068064102,-0.9113881573642173,2.358817473859362,0.7258671702826152,1.0421233958080982,-0.05670006168759067,-0.5713642642753461,-1.1063788697212507,-0.5965455108255635,-1.5387314659064195,-0.17467480421157586,-0.21496606283281525,0.3744289266602406,1.8123992926268773],\"xaxis\":\"x4\",\"y\":[-0.1655705937827465,0.6339335459532506,0.02552739960708487,0.01969683939300677,1.1722880458422509,0.9747235756758493,-0.6050070348936066,0.5085564324615662,-1.545435955849086,0.016081732460917663,0.22518728497505483,-1.3333108089982026,0.988778752425804,2.198159687266945,1.268817519997271,-0.008764501052270413,-0.44398572728548547,0.5551164490476496,0.8586223532174,-0.2094038044256258,-0.43206622309689674,0.6418351317018594,-1.5385625940572467,-0.17674250764098665,0.6744836258489834,-1.9243574705353481,-0.5163953508976782,0.9930864582338338,0.32124256694507275,-0.6698476139460213,0.381068709679253,-1.1944409695761267,0.6849270399380836,-0.3754746280710603,0.29975630620422455,0.05640202727675874,-0.94912681176481,-0.4799579983040787,-2.051159458016786,-0.3451565542145435,0.5491402974707585,0.36719851737511805,0.06903976021383912,0.9190117725334557,-1.024537808095599,-0.279366487748021,-1.708888485836476,-0.14402401705652035,-0.7956987990694804,-0.8078595466173956,0.6790479801631213,0.7620283540488753,0.04971040573434907,-1.0480450252213853,-1.1640007543201105,-0.8987684206556861,1.0921667216030286,-0.51688241157997,0.23331358423528553,0.72022348620067,-0.153330783695401,-1.7485084923560625,-0.5578921555527383,0.2592053361084132,0.6505485032752829,-0.09822617559722291,-0.11396477603957711,-0.04711327080097372,0.41794875708761625,-0.9794280917693772,-1.4930800481301383,0.20024816164433462,-0.0598198356874181,0.40228892142346856,0.7198143569507868,-0.7989673881758005,1.136051224771882,0.5213471362522815,0.382894174276429,-0.3781806207522293,0.1047978285603859,-0.5590826824234247,-1.4103183701528856,1.1809587208566368,-0.7340851584382985,2.302660557026478,-1.8176943917922668,-0.7827026497367355,-1.6804854405801986,-1.7161193914182236,0.13699488338331858,-1.0562415021653813,0.3440151400307065,-2.4135843823581773,-1.7169647154712107,0.11730382449763617,-0.12497531838910092,-0.9130583926720433,0.14177914589027968,-0.7325023740963575],\"yaxis\":\"y4\",\"type\":\"scatter\"},{\"line\":{\"color\":\"rgba(128, 128, 128, 1.0)\",\"dash\":\"solid\",\"shape\":\"linear\",\"width\":1.3},\"marker\":{\"size\":2,\"symbol\":\"circle\"},\"mode\":\"markers\",\"name\":\"B\",\"text\":\"\",\"x\":[-0.1655705937827465,0.6339335459532506,0.02552739960708487,0.01969683939300677,1.1722880458422509,0.9747235756758493,-0.6050070348936066,0.5085564324615662,-1.545435955849086,0.016081732460917663,0.22518728497505483,-1.3333108089982026,0.988778752425804,2.198159687266945,1.268817519997271,-0.008764501052270413,-0.44398572728548547,0.5551164490476496,0.8586223532174,-0.2094038044256258,-0.43206622309689674,0.6418351317018594,-1.5385625940572467,-0.17674250764098665,0.6744836258489834,-1.9243574705353481,-0.5163953508976782,0.9930864582338338,0.32124256694507275,-0.6698476139460213,0.381068709679253,-1.1944409695761267,0.6849270399380836,-0.3754746280710603,0.29975630620422455,0.05640202727675874,-0.94912681176481,-0.4799579983040787,-2.051159458016786,-0.3451565542145435,0.5491402974707585,0.36719851737511805,0.06903976021383912,0.9190117725334557,-1.024537808095599,-0.279366487748021,-1.708888485836476,-0.14402401705652035,-0.7956987990694804,-0.8078595466173956,0.6790479801631213,0.7620283540488753,0.04971040573434907,-1.0480450252213853,-1.1640007543201105,-0.8987684206556861,1.0921667216030286,-0.51688241157997,0.23331358423528553,0.72022348620067,-0.153330783695401,-1.7485084923560625,-0.5578921555527383,0.2592053361084132,0.6505485032752829,-0.09822617559722291,-0.11396477603957711,-0.04711327080097372,0.41794875708761625,-0.9794280917693772,-1.4930800481301383,0.20024816164433462,-0.0598198356874181,0.40228892142346856,0.7198143569507868,-0.7989673881758005,1.136051224771882,0.5213471362522815,0.382894174276429,-0.3781806207522293,0.1047978285603859,-0.5590826824234247,-1.4103183701528856,1.1809587208566368,-0.7340851584382985,2.302660557026478,-1.8176943917922668,-0.7827026497367355,-1.6804854405801986,-1.7161193914182236,0.13699488338331858,-1.0562415021653813,0.3440151400307065,-2.4135843823581773,-1.7169647154712107,0.11730382449763617,-0.12497531838910092,-0.9130583926720433,0.14177914589027968,-0.7325023740963575],\"xaxis\":\"x5\",\"y\":[-0.2924447826011183,0.7407806451006329,-0.4238185025341148,-0.806529453653887,-0.8131387530579735,0.00734319142364019,1.1409690687084817,-1.0399200861700937,-0.9757840095052484,0.6371836649454985,0.4822400989864475,-0.10658927474989756,1.030457973217204,0.298495758255452,-0.7007423238711151,0.3099974602415881,-0.999126943370043,-0.0534876423175067,-0.13547608459305985,1.5972425667119357,-2.5062520958522185,0.23267837072353362,0.025786950862549618,0.7223057893102796,-0.6716161547784072,-0.7347753399574438,-0.10092901382515361,1.9539851832256292,-0.6513024950203117,1.4165755824561908,-0.999587606254183,-0.7707015786264458,0.1651321634271878,0.27957354172687954,-0.07142121924509102,-0.592976528976272,-0.6196597646542373,0.24417621252015778,0.07404638331213868,1.3227806225059329,1.7101366397285278,-1.5305925978054404,-0.744847538740032,2.1580413988178124,-0.26752586946806556,-1.7789276564220624,1.3471114020730155,-0.5430113078286412,-0.8601260350318142,0.7316624912629281,2.5130402870286854,-1.4384259319922756,0.6398977902189656,0.3129349832028792,-0.07569412487699408,-1.6491607182971357,-0.7762918151343828,-0.13478606841780538,-0.013620877199414565,-0.2064697103702566,-1.280393149670629,0.20677309874895722,0.5884118424194865,0.4229230519321674,-0.9459402404714627,-0.37290272901489174,-1.322503831154513,0.38427151353223454,0.3440100483105457,1.2806969455257453,0.4153452313345435,0.5806468212039666,1.6475556469388035,1.104705852204584,0.5020651550204874,-1.7915206314516867,0.25651199464656715,-0.5105539232384897,0.6480584816840614,-1.0146531468192597,1.1156432997731665,-2.2734448280261437,2.000158801474051,0.6705878143141647,1.0574589784742312,1.1555814635540624,-0.08170108881032653,-1.0400644433309123,-0.9605721297657042,-0.49164022625070686,-0.45380715694038964,-0.16729635012015623,-0.7955770607437094,-2.814936036656384,-0.5282245113612478,-1.2738671529418648,0.8773494814469376,0.668093767934002,-0.8402771874279442,-0.9939287782369531],\"yaxis\":\"y5\",\"type\":\"scatter\"},{\"histfunc\":\"count\",\"histnorm\":\"\",\"marker\":{\"color\":\"rgba(55, 128, 191, 1.0)\",\"line\":{\"color\":\"#4D5663\",\"width\":1.3}},\"name\":\"B\",\"nbinsx\":10,\"opacity\":0.8,\"orientation\":\"v\",\"x\":[-0.2924447826011183,0.7407806451006329,-0.4238185025341148,-0.806529453653887,-0.8131387530579735,0.00734319142364019,1.1409690687084817,-1.0399200861700937,-0.9757840095052484,0.6371836649454985,0.4822400989864475,-0.10658927474989756,1.030457973217204,0.298495758255452,-0.7007423238711151,0.3099974602415881,-0.999126943370043,-0.0534876423175067,-0.13547608459305985,1.5972425667119357,-2.5062520958522185,0.23267837072353362,0.025786950862549618,0.7223057893102796,-0.6716161547784072,-0.7347753399574438,-0.10092901382515361,1.9539851832256292,-0.6513024950203117,1.4165755824561908,-0.999587606254183,-0.7707015786264458,0.1651321634271878,0.27957354172687954,-0.07142121924509102,-0.592976528976272,-0.6196597646542373,0.24417621252015778,0.07404638331213868,1.3227806225059329,1.7101366397285278,-1.5305925978054404,-0.744847538740032,2.1580413988178124,-0.26752586946806556,-1.7789276564220624,1.3471114020730155,-0.5430113078286412,-0.8601260350318142,0.7316624912629281,2.5130402870286854,-1.4384259319922756,0.6398977902189656,0.3129349832028792,-0.07569412487699408,-1.6491607182971357,-0.7762918151343828,-0.13478606841780538,-0.013620877199414565,-0.2064697103702566,-1.280393149670629,0.20677309874895722,0.5884118424194865,0.4229230519321674,-0.9459402404714627,-0.37290272901489174,-1.322503831154513,0.38427151353223454,0.3440100483105457,1.2806969455257453,0.4153452313345435,0.5806468212039666,1.6475556469388035,1.104705852204584,0.5020651550204874,-1.7915206314516867,0.25651199464656715,-0.5105539232384897,0.6480584816840614,-1.0146531468192597,1.1156432997731665,-2.2734448280261437,2.000158801474051,0.6705878143141647,1.0574589784742312,1.1555814635540624,-0.08170108881032653,-1.0400644433309123,-0.9605721297657042,-0.49164022625070686,-0.45380715694038964,-0.16729635012015623,-0.7955770607437094,-2.814936036656384,-0.5282245113612478,-1.2738671529418648,0.8773494814469376,0.668093767934002,-0.8402771874279442,-0.9939287782369531],\"xaxis\":\"x6\",\"yaxis\":\"y6\",\"type\":\"histogram\"},{\"line\":{\"color\":\"rgba(128, 128, 128, 1.0)\",\"dash\":\"solid\",\"shape\":\"linear\",\"width\":1.3},\"marker\":{\"size\":2,\"symbol\":\"circle\"},\"mode\":\"markers\",\"name\":\"B\",\"text\":\"\",\"x\":[0.35076263526198337,0.733249650774157,-1.7032930220035714,0.8202205170894571,-0.5507710511015657,-1.1240484146993106,0.29740568617598245,1.1972015362816384,-0.22820240226006316,0.5355998701914795,-1.1295370842041599,-0.7491051317232211,0.20681092837016593,-0.3530340544737697,0.4218783417978045,0.18087808542826384,0.3873549029009786,0.10677295388359759,-0.6829100527136044,-0.6573768834964874,0.6499006229297318,0.045102328905965765,0.3222410032265958,-0.8047455945731645,0.8186156888335291,-2.5206315140725777,0.9972223726586227,-1.1558752369298482,1.6116851692598697,-1.266511312491447,-1.7273808466675313,1.4121644992590647,0.3693496958379291,-1.2512859754290517,0.7088036750026356,0.6038574645121113,1.3998585403931767,0.07222594907407917,0.9151272475922841,0.07797543856241951,0.5942466476602303,1.942908793390327,-0.749206961204227,-0.14404845354792145,0.08316410129222325,0.6526673416999027,-0.8305184338945732,0.494168214342465,-0.5851646590700206,0.38569648810177964,0.29454881397359456,-1.4336427820706354,-1.9572425188301583,0.9156965283707941,0.9731639881488587,0.7959548922375212,1.6539560767124746,-0.15071707089455394,-0.3157097115252297,0.6420971166613652,-1.5833339341441615,-0.5497853707439115,-2.155874940570798,-0.31627953905033046,0.8456771431879876,2.7038916449379418,0.7565640454851246,3.333138715647141,-0.691495621223797,1.1543707889340264,-0.38110714593892153,0.07015709719435037,0.9730564301853157,0.43113191059400285,-0.49883277531233877,0.21296943694756737,1.5130090932884415,-0.9155328178978838,0.1492931406956385,-1.572780364986155,-0.8097326528930057,-2.0028236151893055,2.5147398980462117,1.6103027546296318,-0.45192727371107133,0.299848019757964,0.8334830464289262,0.8947415038250612,-0.11279336388146276,-0.346041329228633,2.2331580526894084,-0.33113739471086795,0.49895851577455197,-0.2304515686683581,-1.4668971259025136,1.0726111366421744,0.5549556662851106,1.0410095475920396,-0.23695241941451597,-0.5013511150598189],\"xaxis\":\"x7\",\"y\":[-0.2924447826011183,0.7407806451006329,-0.4238185025341148,-0.806529453653887,-0.8131387530579735,0.00734319142364019,1.1409690687084817,-1.0399200861700937,-0.9757840095052484,0.6371836649454985,0.4822400989864475,-0.10658927474989756,1.030457973217204,0.298495758255452,-0.7007423238711151,0.3099974602415881,-0.999126943370043,-0.0534876423175067,-0.13547608459305985,1.5972425667119357,-2.5062520958522185,0.23267837072353362,0.025786950862549618,0.7223057893102796,-0.6716161547784072,-0.7347753399574438,-0.10092901382515361,1.9539851832256292,-0.6513024950203117,1.4165755824561908,-0.999587606254183,-0.7707015786264458,0.1651321634271878,0.27957354172687954,-0.07142121924509102,-0.592976528976272,-0.6196597646542373,0.24417621252015778,0.07404638331213868,1.3227806225059329,1.7101366397285278,-1.5305925978054404,-0.744847538740032,2.1580413988178124,-0.26752586946806556,-1.7789276564220624,1.3471114020730155,-0.5430113078286412,-0.8601260350318142,0.7316624912629281,2.5130402870286854,-1.4384259319922756,0.6398977902189656,0.3129349832028792,-0.07569412487699408,-1.6491607182971357,-0.7762918151343828,-0.13478606841780538,-0.013620877199414565,-0.2064697103702566,-1.280393149670629,0.20677309874895722,0.5884118424194865,0.4229230519321674,-0.9459402404714627,-0.37290272901489174,-1.322503831154513,0.38427151353223454,0.3440100483105457,1.2806969455257453,0.4153452313345435,0.5806468212039666,1.6475556469388035,1.104705852204584,0.5020651550204874,-1.7915206314516867,0.25651199464656715,-0.5105539232384897,0.6480584816840614,-1.0146531468192597,1.1156432997731665,-2.2734448280261437,2.000158801474051,0.6705878143141647,1.0574589784742312,1.1555814635540624,-0.08170108881032653,-1.0400644433309123,-0.9605721297657042,-0.49164022625070686,-0.45380715694038964,-0.16729635012015623,-0.7955770607437094,-2.814936036656384,-0.5282245113612478,-1.2738671529418648,0.8773494814469376,0.668093767934002,-0.8402771874279442,-0.9939287782369531],\"yaxis\":\"y7\",\"type\":\"scatter\"},{\"line\":{\"color\":\"rgba(128, 128, 128, 1.0)\",\"dash\":\"solid\",\"shape\":\"linear\",\"width\":1.3},\"marker\":{\"size\":2,\"symbol\":\"circle\"},\"mode\":\"markers\",\"name\":\"B\",\"text\":\"\",\"x\":[-1.4047320927353888,1.4237200377383676,0.8265858627223719,-1.1151313254253328,-2.686302163682932,-2.032681467811205,-0.1855816916495254,-0.15543861488373062,0.7868694998490952,0.41041051951329316,0.8156060390638558,-1.4619644391399798,0.32130853170873824,-0.8075549614220208,0.8441914752334481,1.0166593992134825,0.046095134277734866,1.5110536205445035,0.37812992835432196,-1.1371971301959563,-0.405180520337886,-0.22787398528114242,-0.06132667206528754,-0.2938130692398661,1.0177552578194045,0.5261811051852987,-0.07245347114924584,-0.7881535410935027,0.5127602237492641,0.34495536548287414,-0.07211553377164076,-1.9796248240992131,0.9905056587762447,0.6276548929731041,2.512839509103458,0.393276754863117,-1.6738125240432749,1.5276633849577352,-1.684519672347046,-0.3030552198488424,-0.7143365770839046,1.9815729393615664,-0.3250489653887721,0.27159611260491806,-0.2122044979478187,-1.9594916190841276,1.9066170044438184,-0.5226907355264899,0.7974621362363147,1.048444687819637,-0.85337863465108,-1.283656353924518,-1.6509182165023395,-1.939746014696315,0.32968183706646076,-0.05427902038794936,0.33703648598626335,0.5225665373653318,0.8773138958871902,0.07806610399714041,-1.0882284995629077,-0.5591230471826347,-0.577616413846726,1.2757632717511154,0.2137195900493786,-1.3325488259242642,0.8652867649593701,-0.3248854914734833,-0.26696602253882457,1.3916034561849149,2.5332226306314958,-0.8627985608403493,-0.48314936501080663,0.022291286582630035,0.9581020491255166,-1.2063368460462618,-2.510095148625423,-1.4609281899897406,-0.033575684387133424,-1.5284792174694775,1.3824084982959488,-0.053823501189782845,-0.5804281072629928,-0.671624871204395,-1.0667214635958242,-0.37317513328559504,-1.1471363068064102,-0.9113881573642173,2.358817473859362,0.7258671702826152,1.0421233958080982,-0.05670006168759067,-0.5713642642753461,-1.1063788697212507,-0.5965455108255635,-1.5387314659064195,-0.17467480421157586,-0.21496606283281525,0.3744289266602406,1.8123992926268773],\"xaxis\":\"x8\",\"y\":[-0.2924447826011183,0.7407806451006329,-0.4238185025341148,-0.806529453653887,-0.8131387530579735,0.00734319142364019,1.1409690687084817,-1.0399200861700937,-0.9757840095052484,0.6371836649454985,0.4822400989864475,-0.10658927474989756,1.030457973217204,0.298495758255452,-0.7007423238711151,0.3099974602415881,-0.999126943370043,-0.0534876423175067,-0.13547608459305985,1.5972425667119357,-2.5062520958522185,0.23267837072353362,0.025786950862549618,0.7223057893102796,-0.6716161547784072,-0.7347753399574438,-0.10092901382515361,1.9539851832256292,-0.6513024950203117,1.4165755824561908,-0.999587606254183,-0.7707015786264458,0.1651321634271878,0.27957354172687954,-0.07142121924509102,-0.592976528976272,-0.6196597646542373,0.24417621252015778,0.07404638331213868,1.3227806225059329,1.7101366397285278,-1.5305925978054404,-0.744847538740032,2.1580413988178124,-0.26752586946806556,-1.7789276564220624,1.3471114020730155,-0.5430113078286412,-0.8601260350318142,0.7316624912629281,2.5130402870286854,-1.4384259319922756,0.6398977902189656,0.3129349832028792,-0.07569412487699408,-1.6491607182971357,-0.7762918151343828,-0.13478606841780538,-0.013620877199414565,-0.2064697103702566,-1.280393149670629,0.20677309874895722,0.5884118424194865,0.4229230519321674,-0.9459402404714627,-0.37290272901489174,-1.322503831154513,0.38427151353223454,0.3440100483105457,1.2806969455257453,0.4153452313345435,0.5806468212039666,1.6475556469388035,1.104705852204584,0.5020651550204874,-1.7915206314516867,0.25651199464656715,-0.5105539232384897,0.6480584816840614,-1.0146531468192597,1.1156432997731665,-2.2734448280261437,2.000158801474051,0.6705878143141647,1.0574589784742312,1.1555814635540624,-0.08170108881032653,-1.0400644433309123,-0.9605721297657042,-0.49164022625070686,-0.45380715694038964,-0.16729635012015623,-0.7955770607437094,-2.814936036656384,-0.5282245113612478,-1.2738671529418648,0.8773494814469376,0.668093767934002,-0.8402771874279442,-0.9939287782369531],\"yaxis\":\"y8\",\"type\":\"scatter\"},{\"line\":{\"color\":\"rgba(128, 128, 128, 1.0)\",\"dash\":\"solid\",\"shape\":\"linear\",\"width\":1.3},\"marker\":{\"size\":2,\"symbol\":\"circle\"},\"mode\":\"markers\",\"name\":\"C\",\"text\":\"\",\"x\":[-0.1655705937827465,0.6339335459532506,0.02552739960708487,0.01969683939300677,1.1722880458422509,0.9747235756758493,-0.6050070348936066,0.5085564324615662,-1.545435955849086,0.016081732460917663,0.22518728497505483,-1.3333108089982026,0.988778752425804,2.198159687266945,1.268817519997271,-0.008764501052270413,-0.44398572728548547,0.5551164490476496,0.8586223532174,-0.2094038044256258,-0.43206622309689674,0.6418351317018594,-1.5385625940572467,-0.17674250764098665,0.6744836258489834,-1.9243574705353481,-0.5163953508976782,0.9930864582338338,0.32124256694507275,-0.6698476139460213,0.381068709679253,-1.1944409695761267,0.6849270399380836,-0.3754746280710603,0.29975630620422455,0.05640202727675874,-0.94912681176481,-0.4799579983040787,-2.051159458016786,-0.3451565542145435,0.5491402974707585,0.36719851737511805,0.06903976021383912,0.9190117725334557,-1.024537808095599,-0.279366487748021,-1.708888485836476,-0.14402401705652035,-0.7956987990694804,-0.8078595466173956,0.6790479801631213,0.7620283540488753,0.04971040573434907,-1.0480450252213853,-1.1640007543201105,-0.8987684206556861,1.0921667216030286,-0.51688241157997,0.23331358423528553,0.72022348620067,-0.153330783695401,-1.7485084923560625,-0.5578921555527383,0.2592053361084132,0.6505485032752829,-0.09822617559722291,-0.11396477603957711,-0.04711327080097372,0.41794875708761625,-0.9794280917693772,-1.4930800481301383,0.20024816164433462,-0.0598198356874181,0.40228892142346856,0.7198143569507868,-0.7989673881758005,1.136051224771882,0.5213471362522815,0.382894174276429,-0.3781806207522293,0.1047978285603859,-0.5590826824234247,-1.4103183701528856,1.1809587208566368,-0.7340851584382985,2.302660557026478,-1.8176943917922668,-0.7827026497367355,-1.6804854405801986,-1.7161193914182236,0.13699488338331858,-1.0562415021653813,0.3440151400307065,-2.4135843823581773,-1.7169647154712107,0.11730382449763617,-0.12497531838910092,-0.9130583926720433,0.14177914589027968,-0.7325023740963575],\"xaxis\":\"x9\",\"y\":[0.35076263526198337,0.733249650774157,-1.7032930220035714,0.8202205170894571,-0.5507710511015657,-1.1240484146993106,0.29740568617598245,1.1972015362816384,-0.22820240226006316,0.5355998701914795,-1.1295370842041599,-0.7491051317232211,0.20681092837016593,-0.3530340544737697,0.4218783417978045,0.18087808542826384,0.3873549029009786,0.10677295388359759,-0.6829100527136044,-0.6573768834964874,0.6499006229297318,0.045102328905965765,0.3222410032265958,-0.8047455945731645,0.8186156888335291,-2.5206315140725777,0.9972223726586227,-1.1558752369298482,1.6116851692598697,-1.266511312491447,-1.7273808466675313,1.4121644992590647,0.3693496958379291,-1.2512859754290517,0.7088036750026356,0.6038574645121113,1.3998585403931767,0.07222594907407917,0.9151272475922841,0.07797543856241951,0.5942466476602303,1.942908793390327,-0.749206961204227,-0.14404845354792145,0.08316410129222325,0.6526673416999027,-0.8305184338945732,0.494168214342465,-0.5851646590700206,0.38569648810177964,0.29454881397359456,-1.4336427820706354,-1.9572425188301583,0.9156965283707941,0.9731639881488587,0.7959548922375212,1.6539560767124746,-0.15071707089455394,-0.3157097115252297,0.6420971166613652,-1.5833339341441615,-0.5497853707439115,-2.155874940570798,-0.31627953905033046,0.8456771431879876,2.7038916449379418,0.7565640454851246,3.333138715647141,-0.691495621223797,1.1543707889340264,-0.38110714593892153,0.07015709719435037,0.9730564301853157,0.43113191059400285,-0.49883277531233877,0.21296943694756737,1.5130090932884415,-0.9155328178978838,0.1492931406956385,-1.572780364986155,-0.8097326528930057,-2.0028236151893055,2.5147398980462117,1.6103027546296318,-0.45192727371107133,0.299848019757964,0.8334830464289262,0.8947415038250612,-0.11279336388146276,-0.346041329228633,2.2331580526894084,-0.33113739471086795,0.49895851577455197,-0.2304515686683581,-1.4668971259025136,1.0726111366421744,0.5549556662851106,1.0410095475920396,-0.23695241941451597,-0.5013511150598189],\"yaxis\":\"y9\",\"type\":\"scatter\"},{\"line\":{\"color\":\"rgba(128, 128, 128, 1.0)\",\"dash\":\"solid\",\"shape\":\"linear\",\"width\":1.3},\"marker\":{\"size\":2,\"symbol\":\"circle\"},\"mode\":\"markers\",\"name\":\"C\",\"text\":\"\",\"x\":[-0.2924447826011183,0.7407806451006329,-0.4238185025341148,-0.806529453653887,-0.8131387530579735,0.00734319142364019,1.1409690687084817,-1.0399200861700937,-0.9757840095052484,0.6371836649454985,0.4822400989864475,-0.10658927474989756,1.030457973217204,0.298495758255452,-0.7007423238711151,0.3099974602415881,-0.999126943370043,-0.0534876423175067,-0.13547608459305985,1.5972425667119357,-2.5062520958522185,0.23267837072353362,0.025786950862549618,0.7223057893102796,-0.6716161547784072,-0.7347753399574438,-0.10092901382515361,1.9539851832256292,-0.6513024950203117,1.4165755824561908,-0.999587606254183,-0.7707015786264458,0.1651321634271878,0.27957354172687954,-0.07142121924509102,-0.592976528976272,-0.6196597646542373,0.24417621252015778,0.07404638331213868,1.3227806225059329,1.7101366397285278,-1.5305925978054404,-0.744847538740032,2.1580413988178124,-0.26752586946806556,-1.7789276564220624,1.3471114020730155,-0.5430113078286412,-0.8601260350318142,0.7316624912629281,2.5130402870286854,-1.4384259319922756,0.6398977902189656,0.3129349832028792,-0.07569412487699408,-1.6491607182971357,-0.7762918151343828,-0.13478606841780538,-0.013620877199414565,-0.2064697103702566,-1.280393149670629,0.20677309874895722,0.5884118424194865,0.4229230519321674,-0.9459402404714627,-0.37290272901489174,-1.322503831154513,0.38427151353223454,0.3440100483105457,1.2806969455257453,0.4153452313345435,0.5806468212039666,1.6475556469388035,1.104705852204584,0.5020651550204874,-1.7915206314516867,0.25651199464656715,-0.5105539232384897,0.6480584816840614,-1.0146531468192597,1.1156432997731665,-2.2734448280261437,2.000158801474051,0.6705878143141647,1.0574589784742312,1.1555814635540624,-0.08170108881032653,-1.0400644433309123,-0.9605721297657042,-0.49164022625070686,-0.45380715694038964,-0.16729635012015623,-0.7955770607437094,-2.814936036656384,-0.5282245113612478,-1.2738671529418648,0.8773494814469376,0.668093767934002,-0.8402771874279442,-0.9939287782369531],\"xaxis\":\"x10\",\"y\":[0.35076263526198337,0.733249650774157,-1.7032930220035714,0.8202205170894571,-0.5507710511015657,-1.1240484146993106,0.29740568617598245,1.1972015362816384,-0.22820240226006316,0.5355998701914795,-1.1295370842041599,-0.7491051317232211,0.20681092837016593,-0.3530340544737697,0.4218783417978045,0.18087808542826384,0.3873549029009786,0.10677295388359759,-0.6829100527136044,-0.6573768834964874,0.6499006229297318,0.045102328905965765,0.3222410032265958,-0.8047455945731645,0.8186156888335291,-2.5206315140725777,0.9972223726586227,-1.1558752369298482,1.6116851692598697,-1.266511312491447,-1.7273808466675313,1.4121644992590647,0.3693496958379291,-1.2512859754290517,0.7088036750026356,0.6038574645121113,1.3998585403931767,0.07222594907407917,0.9151272475922841,0.07797543856241951,0.5942466476602303,1.942908793390327,-0.749206961204227,-0.14404845354792145,0.08316410129222325,0.6526673416999027,-0.8305184338945732,0.494168214342465,-0.5851646590700206,0.38569648810177964,0.29454881397359456,-1.4336427820706354,-1.9572425188301583,0.9156965283707941,0.9731639881488587,0.7959548922375212,1.6539560767124746,-0.15071707089455394,-0.3157097115252297,0.6420971166613652,-1.5833339341441615,-0.5497853707439115,-2.155874940570798,-0.31627953905033046,0.8456771431879876,2.7038916449379418,0.7565640454851246,3.333138715647141,-0.691495621223797,1.1543707889340264,-0.38110714593892153,0.07015709719435037,0.9730564301853157,0.43113191059400285,-0.49883277531233877,0.21296943694756737,1.5130090932884415,-0.9155328178978838,0.1492931406956385,-1.572780364986155,-0.8097326528930057,-2.0028236151893055,2.5147398980462117,1.6103027546296318,-0.45192727371107133,0.299848019757964,0.8334830464289262,0.8947415038250612,-0.11279336388146276,-0.346041329228633,2.2331580526894084,-0.33113739471086795,0.49895851577455197,-0.2304515686683581,-1.4668971259025136,1.0726111366421744,0.5549556662851106,1.0410095475920396,-0.23695241941451597,-0.5013511150598189],\"yaxis\":\"y10\",\"type\":\"scatter\"},{\"histfunc\":\"count\",\"histnorm\":\"\",\"marker\":{\"color\":\"rgba(50, 171, 96, 1.0)\",\"line\":{\"color\":\"#4D5663\",\"width\":1.3}},\"name\":\"C\",\"nbinsx\":10,\"opacity\":0.8,\"orientation\":\"v\",\"x\":[0.35076263526198337,0.733249650774157,-1.7032930220035714,0.8202205170894571,-0.5507710511015657,-1.1240484146993106,0.29740568617598245,1.1972015362816384,-0.22820240226006316,0.5355998701914795,-1.1295370842041599,-0.7491051317232211,0.20681092837016593,-0.3530340544737697,0.4218783417978045,0.18087808542826384,0.3873549029009786,0.10677295388359759,-0.6829100527136044,-0.6573768834964874,0.6499006229297318,0.045102328905965765,0.3222410032265958,-0.8047455945731645,0.8186156888335291,-2.5206315140725777,0.9972223726586227,-1.1558752369298482,1.6116851692598697,-1.266511312491447,-1.7273808466675313,1.4121644992590647,0.3693496958379291,-1.2512859754290517,0.7088036750026356,0.6038574645121113,1.3998585403931767,0.07222594907407917,0.9151272475922841,0.07797543856241951,0.5942466476602303,1.942908793390327,-0.749206961204227,-0.14404845354792145,0.08316410129222325,0.6526673416999027,-0.8305184338945732,0.494168214342465,-0.5851646590700206,0.38569648810177964,0.29454881397359456,-1.4336427820706354,-1.9572425188301583,0.9156965283707941,0.9731639881488587,0.7959548922375212,1.6539560767124746,-0.15071707089455394,-0.3157097115252297,0.6420971166613652,-1.5833339341441615,-0.5497853707439115,-2.155874940570798,-0.31627953905033046,0.8456771431879876,2.7038916449379418,0.7565640454851246,3.333138715647141,-0.691495621223797,1.1543707889340264,-0.38110714593892153,0.07015709719435037,0.9730564301853157,0.43113191059400285,-0.49883277531233877,0.21296943694756737,1.5130090932884415,-0.9155328178978838,0.1492931406956385,-1.572780364986155,-0.8097326528930057,-2.0028236151893055,2.5147398980462117,1.6103027546296318,-0.45192727371107133,0.299848019757964,0.8334830464289262,0.8947415038250612,-0.11279336388146276,-0.346041329228633,2.2331580526894084,-0.33113739471086795,0.49895851577455197,-0.2304515686683581,-1.4668971259025136,1.0726111366421744,0.5549556662851106,1.0410095475920396,-0.23695241941451597,-0.5013511150598189],\"xaxis\":\"x11\",\"yaxis\":\"y11\",\"type\":\"histogram\"},{\"line\":{\"color\":\"rgba(128, 128, 128, 1.0)\",\"dash\":\"solid\",\"shape\":\"linear\",\"width\":1.3},\"marker\":{\"size\":2,\"symbol\":\"circle\"},\"mode\":\"markers\",\"name\":\"C\",\"text\":\"\",\"x\":[-1.4047320927353888,1.4237200377383676,0.8265858627223719,-1.1151313254253328,-2.686302163682932,-2.032681467811205,-0.1855816916495254,-0.15543861488373062,0.7868694998490952,0.41041051951329316,0.8156060390638558,-1.4619644391399798,0.32130853170873824,-0.8075549614220208,0.8441914752334481,1.0166593992134825,0.046095134277734866,1.5110536205445035,0.37812992835432196,-1.1371971301959563,-0.405180520337886,-0.22787398528114242,-0.06132667206528754,-0.2938130692398661,1.0177552578194045,0.5261811051852987,-0.07245347114924584,-0.7881535410935027,0.5127602237492641,0.34495536548287414,-0.07211553377164076,-1.9796248240992131,0.9905056587762447,0.6276548929731041,2.512839509103458,0.393276754863117,-1.6738125240432749,1.5276633849577352,-1.684519672347046,-0.3030552198488424,-0.7143365770839046,1.9815729393615664,-0.3250489653887721,0.27159611260491806,-0.2122044979478187,-1.9594916190841276,1.9066170044438184,-0.5226907355264899,0.7974621362363147,1.048444687819637,-0.85337863465108,-1.283656353924518,-1.6509182165023395,-1.939746014696315,0.32968183706646076,-0.05427902038794936,0.33703648598626335,0.5225665373653318,0.8773138958871902,0.07806610399714041,-1.0882284995629077,-0.5591230471826347,-0.577616413846726,1.2757632717511154,0.2137195900493786,-1.3325488259242642,0.8652867649593701,-0.3248854914734833,-0.26696602253882457,1.3916034561849149,2.5332226306314958,-0.8627985608403493,-0.48314936501080663,0.022291286582630035,0.9581020491255166,-1.2063368460462618,-2.510095148625423,-1.4609281899897406,-0.033575684387133424,-1.5284792174694775,1.3824084982959488,-0.053823501189782845,-0.5804281072629928,-0.671624871204395,-1.0667214635958242,-0.37317513328559504,-1.1471363068064102,-0.9113881573642173,2.358817473859362,0.7258671702826152,1.0421233958080982,-0.05670006168759067,-0.5713642642753461,-1.1063788697212507,-0.5965455108255635,-1.5387314659064195,-0.17467480421157586,-0.21496606283281525,0.3744289266602406,1.8123992926268773],\"xaxis\":\"x12\",\"y\":[0.35076263526198337,0.733249650774157,-1.7032930220035714,0.8202205170894571,-0.5507710511015657,-1.1240484146993106,0.29740568617598245,1.1972015362816384,-0.22820240226006316,0.5355998701914795,-1.1295370842041599,-0.7491051317232211,0.20681092837016593,-0.3530340544737697,0.4218783417978045,0.18087808542826384,0.3873549029009786,0.10677295388359759,-0.6829100527136044,-0.6573768834964874,0.6499006229297318,0.045102328905965765,0.3222410032265958,-0.8047455945731645,0.8186156888335291,-2.5206315140725777,0.9972223726586227,-1.1558752369298482,1.6116851692598697,-1.266511312491447,-1.7273808466675313,1.4121644992590647,0.3693496958379291,-1.2512859754290517,0.7088036750026356,0.6038574645121113,1.3998585403931767,0.07222594907407917,0.9151272475922841,0.07797543856241951,0.5942466476602303,1.942908793390327,-0.749206961204227,-0.14404845354792145,0.08316410129222325,0.6526673416999027,-0.8305184338945732,0.494168214342465,-0.5851646590700206,0.38569648810177964,0.29454881397359456,-1.4336427820706354,-1.9572425188301583,0.9156965283707941,0.9731639881488587,0.7959548922375212,1.6539560767124746,-0.15071707089455394,-0.3157097115252297,0.6420971166613652,-1.5833339341441615,-0.5497853707439115,-2.155874940570798,-0.31627953905033046,0.8456771431879876,2.7038916449379418,0.7565640454851246,3.333138715647141,-0.691495621223797,1.1543707889340264,-0.38110714593892153,0.07015709719435037,0.9730564301853157,0.43113191059400285,-0.49883277531233877,0.21296943694756737,1.5130090932884415,-0.9155328178978838,0.1492931406956385,-1.572780364986155,-0.8097326528930057,-2.0028236151893055,2.5147398980462117,1.6103027546296318,-0.45192727371107133,0.299848019757964,0.8334830464289262,0.8947415038250612,-0.11279336388146276,-0.346041329228633,2.2331580526894084,-0.33113739471086795,0.49895851577455197,-0.2304515686683581,-1.4668971259025136,1.0726111366421744,0.5549556662851106,1.0410095475920396,-0.23695241941451597,-0.5013511150598189],\"yaxis\":\"y12\",\"type\":\"scatter\"},{\"line\":{\"color\":\"rgba(128, 128, 128, 1.0)\",\"dash\":\"solid\",\"shape\":\"linear\",\"width\":1.3},\"marker\":{\"size\":2,\"symbol\":\"circle\"},\"mode\":\"markers\",\"name\":\"D\",\"text\":\"\",\"x\":[-0.1655705937827465,0.6339335459532506,0.02552739960708487,0.01969683939300677,1.1722880458422509,0.9747235756758493,-0.6050070348936066,0.5085564324615662,-1.545435955849086,0.016081732460917663,0.22518728497505483,-1.3333108089982026,0.988778752425804,2.198159687266945,1.268817519997271,-0.008764501052270413,-0.44398572728548547,0.5551164490476496,0.8586223532174,-0.2094038044256258,-0.43206622309689674,0.6418351317018594,-1.5385625940572467,-0.17674250764098665,0.6744836258489834,-1.9243574705353481,-0.5163953508976782,0.9930864582338338,0.32124256694507275,-0.6698476139460213,0.381068709679253,-1.1944409695761267,0.6849270399380836,-0.3754746280710603,0.29975630620422455,0.05640202727675874,-0.94912681176481,-0.4799579983040787,-2.051159458016786,-0.3451565542145435,0.5491402974707585,0.36719851737511805,0.06903976021383912,0.9190117725334557,-1.024537808095599,-0.279366487748021,-1.708888485836476,-0.14402401705652035,-0.7956987990694804,-0.8078595466173956,0.6790479801631213,0.7620283540488753,0.04971040573434907,-1.0480450252213853,-1.1640007543201105,-0.8987684206556861,1.0921667216030286,-0.51688241157997,0.23331358423528553,0.72022348620067,-0.153330783695401,-1.7485084923560625,-0.5578921555527383,0.2592053361084132,0.6505485032752829,-0.09822617559722291,-0.11396477603957711,-0.04711327080097372,0.41794875708761625,-0.9794280917693772,-1.4930800481301383,0.20024816164433462,-0.0598198356874181,0.40228892142346856,0.7198143569507868,-0.7989673881758005,1.136051224771882,0.5213471362522815,0.382894174276429,-0.3781806207522293,0.1047978285603859,-0.5590826824234247,-1.4103183701528856,1.1809587208566368,-0.7340851584382985,2.302660557026478,-1.8176943917922668,-0.7827026497367355,-1.6804854405801986,-1.7161193914182236,0.13699488338331858,-1.0562415021653813,0.3440151400307065,-2.4135843823581773,-1.7169647154712107,0.11730382449763617,-0.12497531838910092,-0.9130583926720433,0.14177914589027968,-0.7325023740963575],\"xaxis\":\"x13\",\"y\":[-1.4047320927353888,1.4237200377383676,0.8265858627223719,-1.1151313254253328,-2.686302163682932,-2.032681467811205,-0.1855816916495254,-0.15543861488373062,0.7868694998490952,0.41041051951329316,0.8156060390638558,-1.4619644391399798,0.32130853170873824,-0.8075549614220208,0.8441914752334481,1.0166593992134825,0.046095134277734866,1.5110536205445035,0.37812992835432196,-1.1371971301959563,-0.405180520337886,-0.22787398528114242,-0.06132667206528754,-0.2938130692398661,1.0177552578194045,0.5261811051852987,-0.07245347114924584,-0.7881535410935027,0.5127602237492641,0.34495536548287414,-0.07211553377164076,-1.9796248240992131,0.9905056587762447,0.6276548929731041,2.512839509103458,0.393276754863117,-1.6738125240432749,1.5276633849577352,-1.684519672347046,-0.3030552198488424,-0.7143365770839046,1.9815729393615664,-0.3250489653887721,0.27159611260491806,-0.2122044979478187,-1.9594916190841276,1.9066170044438184,-0.5226907355264899,0.7974621362363147,1.048444687819637,-0.85337863465108,-1.283656353924518,-1.6509182165023395,-1.939746014696315,0.32968183706646076,-0.05427902038794936,0.33703648598626335,0.5225665373653318,0.8773138958871902,0.07806610399714041,-1.0882284995629077,-0.5591230471826347,-0.577616413846726,1.2757632717511154,0.2137195900493786,-1.3325488259242642,0.8652867649593701,-0.3248854914734833,-0.26696602253882457,1.3916034561849149,2.5332226306314958,-0.8627985608403493,-0.48314936501080663,0.022291286582630035,0.9581020491255166,-1.2063368460462618,-2.510095148625423,-1.4609281899897406,-0.033575684387133424,-1.5284792174694775,1.3824084982959488,-0.053823501189782845,-0.5804281072629928,-0.671624871204395,-1.0667214635958242,-0.37317513328559504,-1.1471363068064102,-0.9113881573642173,2.358817473859362,0.7258671702826152,1.0421233958080982,-0.05670006168759067,-0.5713642642753461,-1.1063788697212507,-0.5965455108255635,-1.5387314659064195,-0.17467480421157586,-0.21496606283281525,0.3744289266602406,1.8123992926268773],\"yaxis\":\"y13\",\"type\":\"scatter\"},{\"line\":{\"color\":\"rgba(128, 128, 128, 1.0)\",\"dash\":\"solid\",\"shape\":\"linear\",\"width\":1.3},\"marker\":{\"size\":2,\"symbol\":\"circle\"},\"mode\":\"markers\",\"name\":\"D\",\"text\":\"\",\"x\":[-0.2924447826011183,0.7407806451006329,-0.4238185025341148,-0.806529453653887,-0.8131387530579735,0.00734319142364019,1.1409690687084817,-1.0399200861700937,-0.9757840095052484,0.6371836649454985,0.4822400989864475,-0.10658927474989756,1.030457973217204,0.298495758255452,-0.7007423238711151,0.3099974602415881,-0.999126943370043,-0.0534876423175067,-0.13547608459305985,1.5972425667119357,-2.5062520958522185,0.23267837072353362,0.025786950862549618,0.7223057893102796,-0.6716161547784072,-0.7347753399574438,-0.10092901382515361,1.9539851832256292,-0.6513024950203117,1.4165755824561908,-0.999587606254183,-0.7707015786264458,0.1651321634271878,0.27957354172687954,-0.07142121924509102,-0.592976528976272,-0.6196597646542373,0.24417621252015778,0.07404638331213868,1.3227806225059329,1.7101366397285278,-1.5305925978054404,-0.744847538740032,2.1580413988178124,-0.26752586946806556,-1.7789276564220624,1.3471114020730155,-0.5430113078286412,-0.8601260350318142,0.7316624912629281,2.5130402870286854,-1.4384259319922756,0.6398977902189656,0.3129349832028792,-0.07569412487699408,-1.6491607182971357,-0.7762918151343828,-0.13478606841780538,-0.013620877199414565,-0.2064697103702566,-1.280393149670629,0.20677309874895722,0.5884118424194865,0.4229230519321674,-0.9459402404714627,-0.37290272901489174,-1.322503831154513,0.38427151353223454,0.3440100483105457,1.2806969455257453,0.4153452313345435,0.5806468212039666,1.6475556469388035,1.104705852204584,0.5020651550204874,-1.7915206314516867,0.25651199464656715,-0.5105539232384897,0.6480584816840614,-1.0146531468192597,1.1156432997731665,-2.2734448280261437,2.000158801474051,0.6705878143141647,1.0574589784742312,1.1555814635540624,-0.08170108881032653,-1.0400644433309123,-0.9605721297657042,-0.49164022625070686,-0.45380715694038964,-0.16729635012015623,-0.7955770607437094,-2.814936036656384,-0.5282245113612478,-1.2738671529418648,0.8773494814469376,0.668093767934002,-0.8402771874279442,-0.9939287782369531],\"xaxis\":\"x14\",\"y\":[-1.4047320927353888,1.4237200377383676,0.8265858627223719,-1.1151313254253328,-2.686302163682932,-2.032681467811205,-0.1855816916495254,-0.15543861488373062,0.7868694998490952,0.41041051951329316,0.8156060390638558,-1.4619644391399798,0.32130853170873824,-0.8075549614220208,0.8441914752334481,1.0166593992134825,0.046095134277734866,1.5110536205445035,0.37812992835432196,-1.1371971301959563,-0.405180520337886,-0.22787398528114242,-0.06132667206528754,-0.2938130692398661,1.0177552578194045,0.5261811051852987,-0.07245347114924584,-0.7881535410935027,0.5127602237492641,0.34495536548287414,-0.07211553377164076,-1.9796248240992131,0.9905056587762447,0.6276548929731041,2.512839509103458,0.393276754863117,-1.6738125240432749,1.5276633849577352,-1.684519672347046,-0.3030552198488424,-0.7143365770839046,1.9815729393615664,-0.3250489653887721,0.27159611260491806,-0.2122044979478187,-1.9594916190841276,1.9066170044438184,-0.5226907355264899,0.7974621362363147,1.048444687819637,-0.85337863465108,-1.283656353924518,-1.6509182165023395,-1.939746014696315,0.32968183706646076,-0.05427902038794936,0.33703648598626335,0.5225665373653318,0.8773138958871902,0.07806610399714041,-1.0882284995629077,-0.5591230471826347,-0.577616413846726,1.2757632717511154,0.2137195900493786,-1.3325488259242642,0.8652867649593701,-0.3248854914734833,-0.26696602253882457,1.3916034561849149,2.5332226306314958,-0.8627985608403493,-0.48314936501080663,0.022291286582630035,0.9581020491255166,-1.2063368460462618,-2.510095148625423,-1.4609281899897406,-0.033575684387133424,-1.5284792174694775,1.3824084982959488,-0.053823501189782845,-0.5804281072629928,-0.671624871204395,-1.0667214635958242,-0.37317513328559504,-1.1471363068064102,-0.9113881573642173,2.358817473859362,0.7258671702826152,1.0421233958080982,-0.05670006168759067,-0.5713642642753461,-1.1063788697212507,-0.5965455108255635,-1.5387314659064195,-0.17467480421157586,-0.21496606283281525,0.3744289266602406,1.8123992926268773],\"yaxis\":\"y14\",\"type\":\"scatter\"},{\"line\":{\"color\":\"rgba(128, 128, 128, 1.0)\",\"dash\":\"solid\",\"shape\":\"linear\",\"width\":1.3},\"marker\":{\"size\":2,\"symbol\":\"circle\"},\"mode\":\"markers\",\"name\":\"D\",\"text\":\"\",\"x\":[0.35076263526198337,0.733249650774157,-1.7032930220035714,0.8202205170894571,-0.5507710511015657,-1.1240484146993106,0.29740568617598245,1.1972015362816384,-0.22820240226006316,0.5355998701914795,-1.1295370842041599,-0.7491051317232211,0.20681092837016593,-0.3530340544737697,0.4218783417978045,0.18087808542826384,0.3873549029009786,0.10677295388359759,-0.6829100527136044,-0.6573768834964874,0.6499006229297318,0.045102328905965765,0.3222410032265958,-0.8047455945731645,0.8186156888335291,-2.5206315140725777,0.9972223726586227,-1.1558752369298482,1.6116851692598697,-1.266511312491447,-1.7273808466675313,1.4121644992590647,0.3693496958379291,-1.2512859754290517,0.7088036750026356,0.6038574645121113,1.3998585403931767,0.07222594907407917,0.9151272475922841,0.07797543856241951,0.5942466476602303,1.942908793390327,-0.749206961204227,-0.14404845354792145,0.08316410129222325,0.6526673416999027,-0.8305184338945732,0.494168214342465,-0.5851646590700206,0.38569648810177964,0.29454881397359456,-1.4336427820706354,-1.9572425188301583,0.9156965283707941,0.9731639881488587,0.7959548922375212,1.6539560767124746,-0.15071707089455394,-0.3157097115252297,0.6420971166613652,-1.5833339341441615,-0.5497853707439115,-2.155874940570798,-0.31627953905033046,0.8456771431879876,2.7038916449379418,0.7565640454851246,3.333138715647141,-0.691495621223797,1.1543707889340264,-0.38110714593892153,0.07015709719435037,0.9730564301853157,0.43113191059400285,-0.49883277531233877,0.21296943694756737,1.5130090932884415,-0.9155328178978838,0.1492931406956385,-1.572780364986155,-0.8097326528930057,-2.0028236151893055,2.5147398980462117,1.6103027546296318,-0.45192727371107133,0.299848019757964,0.8334830464289262,0.8947415038250612,-0.11279336388146276,-0.346041329228633,2.2331580526894084,-0.33113739471086795,0.49895851577455197,-0.2304515686683581,-1.4668971259025136,1.0726111366421744,0.5549556662851106,1.0410095475920396,-0.23695241941451597,-0.5013511150598189],\"xaxis\":\"x15\",\"y\":[-1.4047320927353888,1.4237200377383676,0.8265858627223719,-1.1151313254253328,-2.686302163682932,-2.032681467811205,-0.1855816916495254,-0.15543861488373062,0.7868694998490952,0.41041051951329316,0.8156060390638558,-1.4619644391399798,0.32130853170873824,-0.8075549614220208,0.8441914752334481,1.0166593992134825,0.046095134277734866,1.5110536205445035,0.37812992835432196,-1.1371971301959563,-0.405180520337886,-0.22787398528114242,-0.06132667206528754,-0.2938130692398661,1.0177552578194045,0.5261811051852987,-0.07245347114924584,-0.7881535410935027,0.5127602237492641,0.34495536548287414,-0.07211553377164076,-1.9796248240992131,0.9905056587762447,0.6276548929731041,2.512839509103458,0.393276754863117,-1.6738125240432749,1.5276633849577352,-1.684519672347046,-0.3030552198488424,-0.7143365770839046,1.9815729393615664,-0.3250489653887721,0.27159611260491806,-0.2122044979478187,-1.9594916190841276,1.9066170044438184,-0.5226907355264899,0.7974621362363147,1.048444687819637,-0.85337863465108,-1.283656353924518,-1.6509182165023395,-1.939746014696315,0.32968183706646076,-0.05427902038794936,0.33703648598626335,0.5225665373653318,0.8773138958871902,0.07806610399714041,-1.0882284995629077,-0.5591230471826347,-0.577616413846726,1.2757632717511154,0.2137195900493786,-1.3325488259242642,0.8652867649593701,-0.3248854914734833,-0.26696602253882457,1.3916034561849149,2.5332226306314958,-0.8627985608403493,-0.48314936501080663,0.022291286582630035,0.9581020491255166,-1.2063368460462618,-2.510095148625423,-1.4609281899897406,-0.033575684387133424,-1.5284792174694775,1.3824084982959488,-0.053823501189782845,-0.5804281072629928,-0.671624871204395,-1.0667214635958242,-0.37317513328559504,-1.1471363068064102,-0.9113881573642173,2.358817473859362,0.7258671702826152,1.0421233958080982,-0.05670006168759067,-0.5713642642753461,-1.1063788697212507,-0.5965455108255635,-1.5387314659064195,-0.17467480421157586,-0.21496606283281525,0.3744289266602406,1.8123992926268773],\"yaxis\":\"y15\",\"type\":\"scatter\"},{\"histfunc\":\"count\",\"histnorm\":\"\",\"marker\":{\"color\":\"rgba(128, 0, 128, 1.0)\",\"line\":{\"color\":\"#4D5663\",\"width\":1.3}},\"name\":\"D\",\"nbinsx\":10,\"opacity\":0.8,\"orientation\":\"v\",\"x\":[-1.4047320927353888,1.4237200377383676,0.8265858627223719,-1.1151313254253328,-2.686302163682932,-2.032681467811205,-0.1855816916495254,-0.15543861488373062,0.7868694998490952,0.41041051951329316,0.8156060390638558,-1.4619644391399798,0.32130853170873824,-0.8075549614220208,0.8441914752334481,1.0166593992134825,0.046095134277734866,1.5110536205445035,0.37812992835432196,-1.1371971301959563,-0.405180520337886,-0.22787398528114242,-0.06132667206528754,-0.2938130692398661,1.0177552578194045,0.5261811051852987,-0.07245347114924584,-0.7881535410935027,0.5127602237492641,0.34495536548287414,-0.07211553377164076,-1.9796248240992131,0.9905056587762447,0.6276548929731041,2.512839509103458,0.393276754863117,-1.6738125240432749,1.5276633849577352,-1.684519672347046,-0.3030552198488424,-0.7143365770839046,1.9815729393615664,-0.3250489653887721,0.27159611260491806,-0.2122044979478187,-1.9594916190841276,1.9066170044438184,-0.5226907355264899,0.7974621362363147,1.048444687819637,-0.85337863465108,-1.283656353924518,-1.6509182165023395,-1.939746014696315,0.32968183706646076,-0.05427902038794936,0.33703648598626335,0.5225665373653318,0.8773138958871902,0.07806610399714041,-1.0882284995629077,-0.5591230471826347,-0.577616413846726,1.2757632717511154,0.2137195900493786,-1.3325488259242642,0.8652867649593701,-0.3248854914734833,-0.26696602253882457,1.3916034561849149,2.5332226306314958,-0.8627985608403493,-0.48314936501080663,0.022291286582630035,0.9581020491255166,-1.2063368460462618,-2.510095148625423,-1.4609281899897406,-0.033575684387133424,-1.5284792174694775,1.3824084982959488,-0.053823501189782845,-0.5804281072629928,-0.671624871204395,-1.0667214635958242,-0.37317513328559504,-1.1471363068064102,-0.9113881573642173,2.358817473859362,0.7258671702826152,1.0421233958080982,-0.05670006168759067,-0.5713642642753461,-1.1063788697212507,-0.5965455108255635,-1.5387314659064195,-0.17467480421157586,-0.21496606283281525,0.3744289266602406,1.8123992926268773],\"xaxis\":\"x16\",\"yaxis\":\"y16\",\"type\":\"histogram\"}],                        {\"bargap\":0.02,\"legend\":{\"bgcolor\":\"#F5F6F9\",\"font\":{\"color\":\"#4D5663\"}},\"paper_bgcolor\":\"#F5F6F9\",\"plot_bgcolor\":\"#F5F6F9\",\"showlegend\":false,\"template\":{\"data\":{\"barpolar\":[{\"marker\":{\"line\":{\"color\":\"#E5ECF6\",\"width\":0.5},\"pattern\":{\"fillmode\":\"overlay\",\"size\":10,\"solidity\":0.2}},\"type\":\"barpolar\"}],\"bar\":[{\"error_x\":{\"color\":\"#2a3f5f\"},\"error_y\":{\"color\":\"#2a3f5f\"},\"marker\":{\"line\":{\"color\":\"#E5ECF6\",\"width\":0.5},\"pattern\":{\"fillmode\":\"overlay\",\"size\":10,\"solidity\":0.2}},\"type\":\"bar\"}],\"carpet\":[{\"aaxis\":{\"endlinecolor\":\"#2a3f5f\",\"gridcolor\":\"white\",\"linecolor\":\"white\",\"minorgridcolor\":\"white\",\"startlinecolor\":\"#2a3f5f\"},\"baxis\":{\"endlinecolor\":\"#2a3f5f\",\"gridcolor\":\"white\",\"linecolor\":\"white\",\"minorgridcolor\":\"white\",\"startlinecolor\":\"#2a3f5f\"},\"type\":\"carpet\"}],\"choropleth\":[{\"colorbar\":{\"outlinewidth\":0,\"ticks\":\"\"},\"type\":\"choropleth\"}],\"contourcarpet\":[{\"colorbar\":{\"outlinewidth\":0,\"ticks\":\"\"},\"type\":\"contourcarpet\"}],\"contour\":[{\"colorbar\":{\"outlinewidth\":0,\"ticks\":\"\"},\"colorscale\":[[0.0,\"#0d0887\"],[0.1111111111111111,\"#46039f\"],[0.2222222222222222,\"#7201a8\"],[0.3333333333333333,\"#9c179e\"],[0.4444444444444444,\"#bd3786\"],[0.5555555555555556,\"#d8576b\"],[0.6666666666666666,\"#ed7953\"],[0.7777777777777778,\"#fb9f3a\"],[0.8888888888888888,\"#fdca26\"],[1.0,\"#f0f921\"]],\"type\":\"contour\"}],\"heatmapgl\":[{\"colorbar\":{\"outlinewidth\":0,\"ticks\":\"\"},\"colorscale\":[[0.0,\"#0d0887\"],[0.1111111111111111,\"#46039f\"],[0.2222222222222222,\"#7201a8\"],[0.3333333333333333,\"#9c179e\"],[0.4444444444444444,\"#bd3786\"],[0.5555555555555556,\"#d8576b\"],[0.6666666666666666,\"#ed7953\"],[0.7777777777777778,\"#fb9f3a\"],[0.8888888888888888,\"#fdca26\"],[1.0,\"#f0f921\"]],\"type\":\"heatmapgl\"}],\"heatmap\":[{\"colorbar\":{\"outlinewidth\":0,\"ticks\":\"\"},\"colorscale\":[[0.0,\"#0d0887\"],[0.1111111111111111,\"#46039f\"],[0.2222222222222222,\"#7201a8\"],[0.3333333333333333,\"#9c179e\"],[0.4444444444444444,\"#bd3786\"],[0.5555555555555556,\"#d8576b\"],[0.6666666666666666,\"#ed7953\"],[0.7777777777777778,\"#fb9f3a\"],[0.8888888888888888,\"#fdca26\"],[1.0,\"#f0f921\"]],\"type\":\"heatmap\"}],\"histogram2dcontour\":[{\"colorbar\":{\"outlinewidth\":0,\"ticks\":\"\"},\"colorscale\":[[0.0,\"#0d0887\"],[0.1111111111111111,\"#46039f\"],[0.2222222222222222,\"#7201a8\"],[0.3333333333333333,\"#9c179e\"],[0.4444444444444444,\"#bd3786\"],[0.5555555555555556,\"#d8576b\"],[0.6666666666666666,\"#ed7953\"],[0.7777777777777778,\"#fb9f3a\"],[0.8888888888888888,\"#fdca26\"],[1.0,\"#f0f921\"]],\"type\":\"histogram2dcontour\"}],\"histogram2d\":[{\"colorbar\":{\"outlinewidth\":0,\"ticks\":\"\"},\"colorscale\":[[0.0,\"#0d0887\"],[0.1111111111111111,\"#46039f\"],[0.2222222222222222,\"#7201a8\"],[0.3333333333333333,\"#9c179e\"],[0.4444444444444444,\"#bd3786\"],[0.5555555555555556,\"#d8576b\"],[0.6666666666666666,\"#ed7953\"],[0.7777777777777778,\"#fb9f3a\"],[0.8888888888888888,\"#fdca26\"],[1.0,\"#f0f921\"]],\"type\":\"histogram2d\"}],\"histogram\":[{\"marker\":{\"pattern\":{\"fillmode\":\"overlay\",\"size\":10,\"solidity\":0.2}},\"type\":\"histogram\"}],\"mesh3d\":[{\"colorbar\":{\"outlinewidth\":0,\"ticks\":\"\"},\"type\":\"mesh3d\"}],\"parcoords\":[{\"line\":{\"colorbar\":{\"outlinewidth\":0,\"ticks\":\"\"}},\"type\":\"parcoords\"}],\"pie\":[{\"automargin\":true,\"type\":\"pie\"}],\"scatter3d\":[{\"line\":{\"colorbar\":{\"outlinewidth\":0,\"ticks\":\"\"}},\"marker\":{\"colorbar\":{\"outlinewidth\":0,\"ticks\":\"\"}},\"type\":\"scatter3d\"}],\"scattercarpet\":[{\"marker\":{\"colorbar\":{\"outlinewidth\":0,\"ticks\":\"\"}},\"type\":\"scattercarpet\"}],\"scattergeo\":[{\"marker\":{\"colorbar\":{\"outlinewidth\":0,\"ticks\":\"\"}},\"type\":\"scattergeo\"}],\"scattergl\":[{\"marker\":{\"colorbar\":{\"outlinewidth\":0,\"ticks\":\"\"}},\"type\":\"scattergl\"}],\"scattermapbox\":[{\"marker\":{\"colorbar\":{\"outlinewidth\":0,\"ticks\":\"\"}},\"type\":\"scattermapbox\"}],\"scatterpolargl\":[{\"marker\":{\"colorbar\":{\"outlinewidth\":0,\"ticks\":\"\"}},\"type\":\"scatterpolargl\"}],\"scatterpolar\":[{\"marker\":{\"colorbar\":{\"outlinewidth\":0,\"ticks\":\"\"}},\"type\":\"scatterpolar\"}],\"scatter\":[{\"fillpattern\":{\"fillmode\":\"overlay\",\"size\":10,\"solidity\":0.2},\"type\":\"scatter\"}],\"scatterternary\":[{\"marker\":{\"colorbar\":{\"outlinewidth\":0,\"ticks\":\"\"}},\"type\":\"scatterternary\"}],\"surface\":[{\"colorbar\":{\"outlinewidth\":0,\"ticks\":\"\"},\"colorscale\":[[0.0,\"#0d0887\"],[0.1111111111111111,\"#46039f\"],[0.2222222222222222,\"#7201a8\"],[0.3333333333333333,\"#9c179e\"],[0.4444444444444444,\"#bd3786\"],[0.5555555555555556,\"#d8576b\"],[0.6666666666666666,\"#ed7953\"],[0.7777777777777778,\"#fb9f3a\"],[0.8888888888888888,\"#fdca26\"],[1.0,\"#f0f921\"]],\"type\":\"surface\"}],\"table\":[{\"cells\":{\"fill\":{\"color\":\"#EBF0F8\"},\"line\":{\"color\":\"white\"}},\"header\":{\"fill\":{\"color\":\"#C8D4E3\"},\"line\":{\"color\":\"white\"}},\"type\":\"table\"}]},\"layout\":{\"annotationdefaults\":{\"arrowcolor\":\"#2a3f5f\",\"arrowhead\":0,\"arrowwidth\":1},\"autotypenumbers\":\"strict\",\"coloraxis\":{\"colorbar\":{\"outlinewidth\":0,\"ticks\":\"\"}},\"colorscale\":{\"diverging\":[[0,\"#8e0152\"],[0.1,\"#c51b7d\"],[0.2,\"#de77ae\"],[0.3,\"#f1b6da\"],[0.4,\"#fde0ef\"],[0.5,\"#f7f7f7\"],[0.6,\"#e6f5d0\"],[0.7,\"#b8e186\"],[0.8,\"#7fbc41\"],[0.9,\"#4d9221\"],[1,\"#276419\"]],\"sequential\":[[0.0,\"#0d0887\"],[0.1111111111111111,\"#46039f\"],[0.2222222222222222,\"#7201a8\"],[0.3333333333333333,\"#9c179e\"],[0.4444444444444444,\"#bd3786\"],[0.5555555555555556,\"#d8576b\"],[0.6666666666666666,\"#ed7953\"],[0.7777777777777778,\"#fb9f3a\"],[0.8888888888888888,\"#fdca26\"],[1.0,\"#f0f921\"]],\"sequentialminus\":[[0.0,\"#0d0887\"],[0.1111111111111111,\"#46039f\"],[0.2222222222222222,\"#7201a8\"],[0.3333333333333333,\"#9c179e\"],[0.4444444444444444,\"#bd3786\"],[0.5555555555555556,\"#d8576b\"],[0.6666666666666666,\"#ed7953\"],[0.7777777777777778,\"#fb9f3a\"],[0.8888888888888888,\"#fdca26\"],[1.0,\"#f0f921\"]]},\"colorway\":[\"#636efa\",\"#EF553B\",\"#00cc96\",\"#ab63fa\",\"#FFA15A\",\"#19d3f3\",\"#FF6692\",\"#B6E880\",\"#FF97FF\",\"#FECB52\"],\"font\":{\"color\":\"#2a3f5f\"},\"geo\":{\"bgcolor\":\"white\",\"lakecolor\":\"white\",\"landcolor\":\"#E5ECF6\",\"showlakes\":true,\"showland\":true,\"subunitcolor\":\"white\"},\"hoverlabel\":{\"align\":\"left\"},\"hovermode\":\"closest\",\"mapbox\":{\"style\":\"light\"},\"paper_bgcolor\":\"white\",\"plot_bgcolor\":\"#E5ECF6\",\"polar\":{\"angularaxis\":{\"gridcolor\":\"white\",\"linecolor\":\"white\",\"ticks\":\"\"},\"bgcolor\":\"#E5ECF6\",\"radialaxis\":{\"gridcolor\":\"white\",\"linecolor\":\"white\",\"ticks\":\"\"}},\"scene\":{\"xaxis\":{\"backgroundcolor\":\"#E5ECF6\",\"gridcolor\":\"white\",\"gridwidth\":2,\"linecolor\":\"white\",\"showbackground\":true,\"ticks\":\"\",\"zerolinecolor\":\"white\"},\"yaxis\":{\"backgroundcolor\":\"#E5ECF6\",\"gridcolor\":\"white\",\"gridwidth\":2,\"linecolor\":\"white\",\"showbackground\":true,\"ticks\":\"\",\"zerolinecolor\":\"white\"},\"zaxis\":{\"backgroundcolor\":\"#E5ECF6\",\"gridcolor\":\"white\",\"gridwidth\":2,\"linecolor\":\"white\",\"showbackground\":true,\"ticks\":\"\",\"zerolinecolor\":\"white\"}},\"shapedefaults\":{\"line\":{\"color\":\"#2a3f5f\"}},\"ternary\":{\"aaxis\":{\"gridcolor\":\"white\",\"linecolor\":\"white\",\"ticks\":\"\"},\"baxis\":{\"gridcolor\":\"white\",\"linecolor\":\"white\",\"ticks\":\"\"},\"bgcolor\":\"#E5ECF6\",\"caxis\":{\"gridcolor\":\"white\",\"linecolor\":\"white\",\"ticks\":\"\"}},\"title\":{\"x\":0.05},\"xaxis\":{\"automargin\":true,\"gridcolor\":\"white\",\"linecolor\":\"white\",\"ticks\":\"\",\"title\":{\"standoff\":15},\"zerolinecolor\":\"white\",\"zerolinewidth\":2},\"yaxis\":{\"automargin\":true,\"gridcolor\":\"white\",\"linecolor\":\"white\",\"ticks\":\"\",\"title\":{\"standoff\":15},\"zerolinecolor\":\"white\",\"zerolinewidth\":2}}},\"title\":{\"font\":{\"color\":\"#4D5663\"}},\"xaxis\":{\"anchor\":\"y\",\"domain\":[0.0,0.2125],\"gridcolor\":\"#E1E5ED\",\"showgrid\":false,\"tickfont\":{\"color\":\"#4D5663\"},\"title\":{\"font\":{\"color\":\"#4D5663\"},\"text\":\"\"},\"zerolinecolor\":\"#E1E5ED\"},\"yaxis\":{\"anchor\":\"x\",\"domain\":[0.8025,1.0],\"gridcolor\":\"#E1E5ED\",\"showgrid\":false,\"tickfont\":{\"color\":\"#4D5663\"},\"title\":{\"font\":{\"color\":\"#4D5663\"},\"text\":\"\"},\"zerolinecolor\":\"#E1E5ED\"},\"xaxis2\":{\"anchor\":\"y2\",\"domain\":[0.2625,0.475],\"gridcolor\":\"#E1E5ED\",\"showgrid\":false,\"tickfont\":{\"color\":\"#4D5663\"},\"title\":{\"font\":{\"color\":\"#4D5663\"},\"text\":\"\"},\"zerolinecolor\":\"#E1E5ED\"},\"yaxis2\":{\"anchor\":\"x2\",\"domain\":[0.8025,1.0],\"gridcolor\":\"#E1E5ED\",\"showgrid\":false,\"tickfont\":{\"color\":\"#4D5663\"},\"title\":{\"font\":{\"color\":\"#4D5663\"},\"text\":\"\"},\"zerolinecolor\":\"#E1E5ED\"},\"xaxis3\":{\"anchor\":\"y3\",\"domain\":[0.525,0.7375],\"gridcolor\":\"#E1E5ED\",\"showgrid\":false,\"tickfont\":{\"color\":\"#4D5663\"},\"title\":{\"font\":{\"color\":\"#4D5663\"},\"text\":\"\"},\"zerolinecolor\":\"#E1E5ED\"},\"yaxis3\":{\"anchor\":\"x3\",\"domain\":[0.8025,1.0],\"gridcolor\":\"#E1E5ED\",\"showgrid\":false,\"tickfont\":{\"color\":\"#4D5663\"},\"title\":{\"font\":{\"color\":\"#4D5663\"},\"text\":\"\"},\"zerolinecolor\":\"#E1E5ED\"},\"xaxis4\":{\"anchor\":\"y4\",\"domain\":[0.7875,1.0],\"gridcolor\":\"#E1E5ED\",\"showgrid\":false,\"tickfont\":{\"color\":\"#4D5663\"},\"title\":{\"font\":{\"color\":\"#4D5663\"},\"text\":\"\"},\"zerolinecolor\":\"#E1E5ED\"},\"yaxis4\":{\"anchor\":\"x4\",\"domain\":[0.8025,1.0],\"gridcolor\":\"#E1E5ED\",\"showgrid\":false,\"tickfont\":{\"color\":\"#4D5663\"},\"title\":{\"font\":{\"color\":\"#4D5663\"},\"text\":\"\"},\"zerolinecolor\":\"#E1E5ED\"},\"xaxis5\":{\"anchor\":\"y5\",\"domain\":[0.0,0.2125],\"gridcolor\":\"#E1E5ED\",\"showgrid\":false,\"tickfont\":{\"color\":\"#4D5663\"},\"title\":{\"font\":{\"color\":\"#4D5663\"},\"text\":\"\"},\"zerolinecolor\":\"#E1E5ED\"},\"yaxis5\":{\"anchor\":\"x5\",\"domain\":[0.535,0.7325],\"gridcolor\":\"#E1E5ED\",\"showgrid\":false,\"tickfont\":{\"color\":\"#4D5663\"},\"title\":{\"font\":{\"color\":\"#4D5663\"},\"text\":\"\"},\"zerolinecolor\":\"#E1E5ED\"},\"xaxis6\":{\"anchor\":\"y6\",\"domain\":[0.2625,0.475],\"gridcolor\":\"#E1E5ED\",\"showgrid\":false,\"tickfont\":{\"color\":\"#4D5663\"},\"title\":{\"font\":{\"color\":\"#4D5663\"},\"text\":\"\"},\"zerolinecolor\":\"#E1E5ED\"},\"yaxis6\":{\"anchor\":\"x6\",\"domain\":[0.535,0.7325],\"gridcolor\":\"#E1E5ED\",\"showgrid\":false,\"tickfont\":{\"color\":\"#4D5663\"},\"title\":{\"font\":{\"color\":\"#4D5663\"},\"text\":\"\"},\"zerolinecolor\":\"#E1E5ED\"},\"xaxis7\":{\"anchor\":\"y7\",\"domain\":[0.525,0.7375],\"gridcolor\":\"#E1E5ED\",\"showgrid\":false,\"tickfont\":{\"color\":\"#4D5663\"},\"title\":{\"font\":{\"color\":\"#4D5663\"},\"text\":\"\"},\"zerolinecolor\":\"#E1E5ED\"},\"yaxis7\":{\"anchor\":\"x7\",\"domain\":[0.535,0.7325],\"gridcolor\":\"#E1E5ED\",\"showgrid\":false,\"tickfont\":{\"color\":\"#4D5663\"},\"title\":{\"font\":{\"color\":\"#4D5663\"},\"text\":\"\"},\"zerolinecolor\":\"#E1E5ED\"},\"xaxis8\":{\"anchor\":\"y8\",\"domain\":[0.7875,1.0],\"gridcolor\":\"#E1E5ED\",\"showgrid\":false,\"tickfont\":{\"color\":\"#4D5663\"},\"title\":{\"font\":{\"color\":\"#4D5663\"},\"text\":\"\"},\"zerolinecolor\":\"#E1E5ED\"},\"yaxis8\":{\"anchor\":\"x8\",\"domain\":[0.535,0.7325],\"gridcolor\":\"#E1E5ED\",\"showgrid\":false,\"tickfont\":{\"color\":\"#4D5663\"},\"title\":{\"font\":{\"color\":\"#4D5663\"},\"text\":\"\"},\"zerolinecolor\":\"#E1E5ED\"},\"xaxis9\":{\"anchor\":\"y9\",\"domain\":[0.0,0.2125],\"gridcolor\":\"#E1E5ED\",\"showgrid\":false,\"tickfont\":{\"color\":\"#4D5663\"},\"title\":{\"font\":{\"color\":\"#4D5663\"},\"text\":\"\"},\"zerolinecolor\":\"#E1E5ED\"},\"yaxis9\":{\"anchor\":\"x9\",\"domain\":[0.2675,0.465],\"gridcolor\":\"#E1E5ED\",\"showgrid\":false,\"tickfont\":{\"color\":\"#4D5663\"},\"title\":{\"font\":{\"color\":\"#4D5663\"},\"text\":\"\"},\"zerolinecolor\":\"#E1E5ED\"},\"xaxis10\":{\"anchor\":\"y10\",\"domain\":[0.2625,0.475],\"gridcolor\":\"#E1E5ED\",\"showgrid\":false,\"tickfont\":{\"color\":\"#4D5663\"},\"title\":{\"font\":{\"color\":\"#4D5663\"},\"text\":\"\"},\"zerolinecolor\":\"#E1E5ED\"},\"yaxis10\":{\"anchor\":\"x10\",\"domain\":[0.2675,0.465],\"gridcolor\":\"#E1E5ED\",\"showgrid\":false,\"tickfont\":{\"color\":\"#4D5663\"},\"title\":{\"font\":{\"color\":\"#4D5663\"},\"text\":\"\"},\"zerolinecolor\":\"#E1E5ED\"},\"xaxis11\":{\"anchor\":\"y11\",\"domain\":[0.525,0.7375],\"gridcolor\":\"#E1E5ED\",\"showgrid\":false,\"tickfont\":{\"color\":\"#4D5663\"},\"title\":{\"font\":{\"color\":\"#4D5663\"},\"text\":\"\"},\"zerolinecolor\":\"#E1E5ED\"},\"yaxis11\":{\"anchor\":\"x11\",\"domain\":[0.2675,0.465],\"gridcolor\":\"#E1E5ED\",\"showgrid\":false,\"tickfont\":{\"color\":\"#4D5663\"},\"title\":{\"font\":{\"color\":\"#4D5663\"},\"text\":\"\"},\"zerolinecolor\":\"#E1E5ED\"},\"xaxis12\":{\"anchor\":\"y12\",\"domain\":[0.7875,1.0],\"gridcolor\":\"#E1E5ED\",\"showgrid\":false,\"tickfont\":{\"color\":\"#4D5663\"},\"title\":{\"font\":{\"color\":\"#4D5663\"},\"text\":\"\"},\"zerolinecolor\":\"#E1E5ED\"},\"yaxis12\":{\"anchor\":\"x12\",\"domain\":[0.2675,0.465],\"gridcolor\":\"#E1E5ED\",\"showgrid\":false,\"tickfont\":{\"color\":\"#4D5663\"},\"title\":{\"font\":{\"color\":\"#4D5663\"},\"text\":\"\"},\"zerolinecolor\":\"#E1E5ED\"},\"xaxis13\":{\"anchor\":\"y13\",\"domain\":[0.0,0.2125],\"gridcolor\":\"#E1E5ED\",\"showgrid\":false,\"tickfont\":{\"color\":\"#4D5663\"},\"title\":{\"font\":{\"color\":\"#4D5663\"},\"text\":\"\"},\"zerolinecolor\":\"#E1E5ED\"},\"yaxis13\":{\"anchor\":\"x13\",\"domain\":[0.0,0.1975],\"gridcolor\":\"#E1E5ED\",\"showgrid\":false,\"tickfont\":{\"color\":\"#4D5663\"},\"title\":{\"font\":{\"color\":\"#4D5663\"},\"text\":\"\"},\"zerolinecolor\":\"#E1E5ED\"},\"xaxis14\":{\"anchor\":\"y14\",\"domain\":[0.2625,0.475],\"gridcolor\":\"#E1E5ED\",\"showgrid\":false,\"tickfont\":{\"color\":\"#4D5663\"},\"title\":{\"font\":{\"color\":\"#4D5663\"},\"text\":\"\"},\"zerolinecolor\":\"#E1E5ED\"},\"yaxis14\":{\"anchor\":\"x14\",\"domain\":[0.0,0.1975],\"gridcolor\":\"#E1E5ED\",\"showgrid\":false,\"tickfont\":{\"color\":\"#4D5663\"},\"title\":{\"font\":{\"color\":\"#4D5663\"},\"text\":\"\"},\"zerolinecolor\":\"#E1E5ED\"},\"xaxis15\":{\"anchor\":\"y15\",\"domain\":[0.525,0.7375],\"gridcolor\":\"#E1E5ED\",\"showgrid\":false,\"tickfont\":{\"color\":\"#4D5663\"},\"title\":{\"font\":{\"color\":\"#4D5663\"},\"text\":\"\"},\"zerolinecolor\":\"#E1E5ED\"},\"yaxis15\":{\"anchor\":\"x15\",\"domain\":[0.0,0.1975],\"gridcolor\":\"#E1E5ED\",\"showgrid\":false,\"tickfont\":{\"color\":\"#4D5663\"},\"title\":{\"font\":{\"color\":\"#4D5663\"},\"text\":\"\"},\"zerolinecolor\":\"#E1E5ED\"},\"xaxis16\":{\"anchor\":\"y16\",\"domain\":[0.7875,1.0],\"gridcolor\":\"#E1E5ED\",\"showgrid\":false,\"tickfont\":{\"color\":\"#4D5663\"},\"title\":{\"font\":{\"color\":\"#4D5663\"},\"text\":\"\"},\"zerolinecolor\":\"#E1E5ED\"},\"yaxis16\":{\"anchor\":\"x16\",\"domain\":[0.0,0.1975],\"gridcolor\":\"#E1E5ED\",\"showgrid\":false,\"tickfont\":{\"color\":\"#4D5663\"},\"title\":{\"font\":{\"color\":\"#4D5663\"},\"text\":\"\"},\"zerolinecolor\":\"#E1E5ED\"}},                        {\"showLink\": true, \"linkText\": \"Export to plot.ly\", \"plotlyServerURL\": \"https://plot.ly\", \"responsive\": true}                    ).then(function(){\n",
       "                            \n",
       "var gd = document.getElementById('f294c1bf-1fa1-4c1e-98d1-e85d1e350d3c');\n",
       "var x = new MutationObserver(function (mutations, observer) {{\n",
       "        var display = window.getComputedStyle(gd).display;\n",
       "        if (!display || display === 'none') {{\n",
       "            console.log([gd, 'removed!']);\n",
       "            Plotly.purge(gd);\n",
       "            observer.disconnect();\n",
       "        }}\n",
       "}});\n",
       "\n",
       "// Listen for the removal of the full notebook cells\n",
       "var notebookContainer = gd.closest('#notebook-container');\n",
       "if (notebookContainer) {{\n",
       "    x.observe(notebookContainer, {childList: true});\n",
       "}}\n",
       "\n",
       "// Listen for the clearing of the current output cell\n",
       "var outputEl = gd.closest('.output');\n",
       "if (outputEl) {{\n",
       "    x.observe(outputEl, {childList: true});\n",
       "}}\n",
       "\n",
       "                        })                };                });            </script>        </div>"
      ]
     },
     "metadata": {},
     "output_type": "display_data"
    }
   ],
   "source": [
    "df.scatter_matrix()"
   ]
  },
  {
   "cell_type": "markdown",
   "metadata": {
    "collapsed": true
   },
   "source": [
    "# Great Job!"
   ]
  }
 ],
 "metadata": {
  "kernelspec": {
   "display_name": "Python 3 (ipykernel)",
   "language": "python",
   "name": "python3"
  },
  "language_info": {
   "codemirror_mode": {
    "name": "ipython",
    "version": 3
   },
   "file_extension": ".py",
   "mimetype": "text/x-python",
   "name": "python",
   "nbconvert_exporter": "python",
   "pygments_lexer": "ipython3",
   "version": "3.9.15"
  }
 },
 "nbformat": 4,
 "nbformat_minor": 1
}
