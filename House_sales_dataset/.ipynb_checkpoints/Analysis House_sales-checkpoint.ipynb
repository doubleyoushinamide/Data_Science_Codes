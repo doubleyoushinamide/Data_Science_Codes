{
 "cells": [
  {
   "cell_type": "code",
   "execution_count": 1,
   "id": "fbba6faf",
   "metadata": {},
   "outputs": [],
   "source": [
    "import pandas as pd"
   ]
  },
  {
   "cell_type": "code",
   "execution_count": 2,
   "id": "e261a780",
   "metadata": {},
   "outputs": [],
   "source": [
    "import numpy as np"
   ]
  },
  {
   "cell_type": "code",
   "execution_count": 3,
   "id": "81fcef0f",
   "metadata": {},
   "outputs": [
    {
     "name": "stderr",
     "output_type": "stream",
     "text": [
      "Matplotlib is building the font cache; this may take a moment.\n"
     ]
    }
   ],
   "source": [
    "import seaborn as sns"
   ]
  },
  {
   "cell_type": "code",
   "execution_count": 4,
   "id": "ec48ed22",
   "metadata": {},
   "outputs": [],
   "source": [
    "import matplotlib"
   ]
  },
  {
   "cell_type": "code",
   "execution_count": 2,
   "id": "9e9d7380",
   "metadata": {},
   "outputs": [],
   "source": [
    "hsal = pd.read_csv('sale_Dataset.csv')"
   ]
  },
  {
   "cell_type": "code",
   "execution_count": 6,
   "id": "33a58cb8",
   "metadata": {},
   "outputs": [
    {
     "data": {
      "text/html": [
       "<div>\n",
       "<style scoped>\n",
       "    .dataframe tbody tr th:only-of-type {\n",
       "        vertical-align: middle;\n",
       "    }\n",
       "\n",
       "    .dataframe tbody tr th {\n",
       "        vertical-align: top;\n",
       "    }\n",
       "\n",
       "    .dataframe thead th {\n",
       "        text-align: right;\n",
       "    }\n",
       "</style>\n",
       "<table border=\"1\" class=\"dataframe\">\n",
       "  <thead>\n",
       "    <tr style=\"text-align: right;\">\n",
       "      <th></th>\n",
       "      <th>Unnamed: 0</th>\n",
       "      <th>Price</th>\n",
       "      <th>Pid</th>\n",
       "      <th>Property_name</th>\n",
       "      <th>Address</th>\n",
       "      <th>Neighboorhood</th>\n",
       "    </tr>\n",
       "  </thead>\n",
       "  <tbody>\n",
       "    <tr>\n",
       "      <th>0</th>\n",
       "      <td>0</td>\n",
       "      <td>2500000</td>\n",
       "      <td>E9857</td>\n",
       "      <td>Land for sale Eleranigbe Eleranigbe Ibeju-Lekk...</td>\n",
       "      <td>Eleranigbe Eleranigbe Eleranigbe Ibeju-Lekki L...</td>\n",
       "      <td>Ibeju-Lekki</td>\n",
       "    </tr>\n",
       "    <tr>\n",
       "      <th>1</th>\n",
       "      <td>1</td>\n",
       "      <td>30000000</td>\n",
       "      <td>17,H2630</td>\n",
       "      <td>667.0 square meter Land for sale opebi street ...</td>\n",
       "      <td>Opebi street opebi street Opebi Ikeja Lagos</td>\n",
       "      <td>Ikeja</td>\n",
       "    </tr>\n",
       "    <tr>\n",
       "      <th>2</th>\n",
       "      <td>2</td>\n",
       "      <td>3500000000</td>\n",
       "      <td>10,18,H4485</td>\n",
       "      <td>3 bedroom House for sale Victoria Island Exten...</td>\n",
       "      <td>VI Lagos VI Extension VI Lagos</td>\n",
       "      <td>VI</td>\n",
       "    </tr>\n",
       "    <tr>\n",
       "      <th>3</th>\n",
       "      <td>3</td>\n",
       "      <td>340000000</td>\n",
       "      <td>H4413</td>\n",
       "      <td>5 bedroom Duplex for sale Lekki Phase 1 Lekki ...</td>\n",
       "      <td>off afrika lane Lekki Phase 1 Lekki Lagos</td>\n",
       "      <td>Lekki</td>\n",
       "    </tr>\n",
       "    <tr>\n",
       "      <th>4</th>\n",
       "      <td>4</td>\n",
       "      <td>28000000</td>\n",
       "      <td>G8554</td>\n",
       "      <td>3 bedroom Flat / Apartment for sale Igando Iko...</td>\n",
       "      <td>NEAR IGANDO B/STOP Igando Ikotun Igando Lagos</td>\n",
       "      <td>Igando</td>\n",
       "    </tr>\n",
       "  </tbody>\n",
       "</table>\n",
       "</div>"
      ],
      "text/plain": [
       "   Unnamed: 0       Price          Pid  \\\n",
       "0           0     2500000        E9857   \n",
       "1           1    30000000     17,H2630   \n",
       "2           2  3500000000  10,18,H4485   \n",
       "3           3   340000000        H4413   \n",
       "4           4    28000000        G8554   \n",
       "\n",
       "                                       Property_name  \\\n",
       "0  Land for sale Eleranigbe Eleranigbe Ibeju-Lekk...   \n",
       "1  667.0 square meter Land for sale opebi street ...   \n",
       "2  3 bedroom House for sale Victoria Island Exten...   \n",
       "3  5 bedroom Duplex for sale Lekki Phase 1 Lekki ...   \n",
       "4  3 bedroom Flat / Apartment for sale Igando Iko...   \n",
       "\n",
       "                                             Address Neighboorhood  \n",
       "0  Eleranigbe Eleranigbe Eleranigbe Ibeju-Lekki L...   Ibeju-Lekki  \n",
       "1        Opebi street opebi street Opebi Ikeja Lagos         Ikeja  \n",
       "2                     VI Lagos VI Extension VI Lagos            VI  \n",
       "3          off afrika lane Lekki Phase 1 Lekki Lagos         Lekki  \n",
       "4      NEAR IGANDO B/STOP Igando Ikotun Igando Lagos        Igando  "
      ]
     },
     "execution_count": 6,
     "metadata": {},
     "output_type": "execute_result"
    }
   ],
   "source": [
    "hsal.head(5)"
   ]
  },
  {
   "cell_type": "code",
   "execution_count": 7,
   "id": "417b8f7e",
   "metadata": {},
   "outputs": [
    {
     "name": "stdout",
     "output_type": "stream",
     "text": [
      "<class 'pandas.core.frame.DataFrame'>\n",
      "RangeIndex: 9784 entries, 0 to 9783\n",
      "Data columns (total 6 columns):\n",
      " #   Column         Non-Null Count  Dtype \n",
      "---  ------         --------------  ----- \n",
      " 0   Unnamed: 0     9784 non-null   int64 \n",
      " 1   Price          9784 non-null   int64 \n",
      " 2   Pid            9784 non-null   object\n",
      " 3   Property_name  9784 non-null   object\n",
      " 4   Address        9784 non-null   object\n",
      " 5   Neighboorhood  9784 non-null   object\n",
      "dtypes: int64(2), object(4)\n",
      "memory usage: 458.8+ KB\n"
     ]
    }
   ],
   "source": [
    "hsal.info()"
   ]
  },
  {
   "cell_type": "code",
   "execution_count": 11,
   "id": "66bae3cc",
   "metadata": {},
   "outputs": [
    {
     "data": {
      "text/plain": [
       "646066931.2893499"
      ]
     },
     "execution_count": 11,
     "metadata": {},
     "output_type": "execute_result"
    }
   ],
   "source": [
    "#Average Price\n",
    "hsal['Price'].mean()"
   ]
  },
  {
   "cell_type": "code",
   "execution_count": 12,
   "id": "1102030f",
   "metadata": {},
   "outputs": [
    {
     "data": {
      "text/plain": [
       "1600000000000"
      ]
     },
     "execution_count": 12,
     "metadata": {},
     "output_type": "execute_result"
    }
   ],
   "source": [
    "#Maximum price of house sale\n",
    "hsal['Price'].max()"
   ]
  },
  {
   "cell_type": "code",
   "execution_count": 22,
   "id": "f632881b",
   "metadata": {},
   "outputs": [
    {
     "data": {
      "text/html": [
       "<div>\n",
       "<style scoped>\n",
       "    .dataframe tbody tr th:only-of-type {\n",
       "        vertical-align: middle;\n",
       "    }\n",
       "\n",
       "    .dataframe tbody tr th {\n",
       "        vertical-align: top;\n",
       "    }\n",
       "\n",
       "    .dataframe thead th {\n",
       "        text-align: right;\n",
       "    }\n",
       "</style>\n",
       "<table border=\"1\" class=\"dataframe\">\n",
       "  <thead>\n",
       "    <tr style=\"text-align: right;\">\n",
       "      <th></th>\n",
       "      <th>Unnamed: 0</th>\n",
       "      <th>Price</th>\n",
       "      <th>Pid</th>\n",
       "      <th>Property_name</th>\n",
       "      <th>Address</th>\n",
       "      <th>Neighboorhood</th>\n",
       "    </tr>\n",
       "  </thead>\n",
       "  <tbody>\n",
       "    <tr>\n",
       "      <th>3</th>\n",
       "      <td>3</td>\n",
       "      <td>340000000</td>\n",
       "      <td>H4413</td>\n",
       "      <td>5 bedroom Duplex for sale Lekki Phase 1 Lekki ...</td>\n",
       "      <td>off afrika lane Lekki Phase 1 Lekki Lagos</td>\n",
       "      <td>Lekki</td>\n",
       "    </tr>\n",
       "    <tr>\n",
       "      <th>9</th>\n",
       "      <td>9</td>\n",
       "      <td>30000000</td>\n",
       "      <td>H0634</td>\n",
       "      <td>3 bedroom Flat / Apartment for sale Oral Estat...</td>\n",
       "      <td>Oral Estate Oral Estate Ikota Lekki Lagos</td>\n",
       "      <td>Lekki</td>\n",
       "    </tr>\n",
       "    <tr>\n",
       "      <th>11</th>\n",
       "      <td>11</td>\n",
       "      <td>180000000</td>\n",
       "      <td>H3290</td>\n",
       "      <td>5 bedroom House for sale Lekki Phase 1 Lekki L...</td>\n",
       "      <td>Lekki Phase 1 Lekki Phase 1 Lekki Lagos</td>\n",
       "      <td>Lekki</td>\n",
       "    </tr>\n",
       "    <tr>\n",
       "      <th>12</th>\n",
       "      <td>12</td>\n",
       "      <td>160000000</td>\n",
       "      <td>H4181</td>\n",
       "      <td>6 bedroom House for sale Pinnock Beach estate ...</td>\n",
       "      <td>Jakande Pinnock Beach estate Jakande Lekki Lagos</td>\n",
       "      <td>Lekki</td>\n",
       "    </tr>\n",
       "    <tr>\n",
       "      <th>15</th>\n",
       "      <td>15</td>\n",
       "      <td>60000000</td>\n",
       "      <td>G4612</td>\n",
       "      <td>4 bedroom Duplex for sale chevron Lekki Lagos</td>\n",
       "      <td>chevron Chevron Lekki Lagos</td>\n",
       "      <td>Lekki</td>\n",
       "    </tr>\n",
       "    <tr>\n",
       "      <th>...</th>\n",
       "      <td>...</td>\n",
       "      <td>...</td>\n",
       "      <td>...</td>\n",
       "      <td>...</td>\n",
       "      <td>...</td>\n",
       "      <td>...</td>\n",
       "    </tr>\n",
       "    <tr>\n",
       "      <th>9773</th>\n",
       "      <td>9773</td>\n",
       "      <td>450000000</td>\n",
       "      <td>E0745</td>\n",
       "      <td>1500.0 square meter Land for sale Lekki Phase ...</td>\n",
       "      <td>Admiralty way Lekki Phase 1 Lekki Lagos</td>\n",
       "      <td>Lekki</td>\n",
       "    </tr>\n",
       "    <tr>\n",
       "      <th>9774</th>\n",
       "      <td>9774</td>\n",
       "      <td>260000000</td>\n",
       "      <td>E0743</td>\n",
       "      <td>900.0 square meter Land for sale Lekki Phase 1...</td>\n",
       "      <td>Wole olateju Lekki Phase 1 Lekki Lagos</td>\n",
       "      <td>Lekki</td>\n",
       "    </tr>\n",
       "    <tr>\n",
       "      <th>9776</th>\n",
       "      <td>9776</td>\n",
       "      <td>2800000000</td>\n",
       "      <td>E0736</td>\n",
       "      <td>Land for sale Lekki Phase 1 Lekki Lagos</td>\n",
       "      <td>maiyegun tourism scheme (Theme park) Lekki Pha...</td>\n",
       "      <td>Lekki</td>\n",
       "    </tr>\n",
       "    <tr>\n",
       "      <th>9777</th>\n",
       "      <td>9777</td>\n",
       "      <td>4500000000</td>\n",
       "      <td>E0735</td>\n",
       "      <td>Land for sale LBS Ibeju-Lekki Lagos</td>\n",
       "      <td>Maiyegun tourism (near alpha beach), Lekki Lbs...</td>\n",
       "      <td>Lekki</td>\n",
       "    </tr>\n",
       "    <tr>\n",
       "      <th>9780</th>\n",
       "      <td>9780</td>\n",
       "      <td>45000000</td>\n",
       "      <td>E0701</td>\n",
       "      <td>4 bedroom Duplex for sale Bakare Estate Agungi...</td>\n",
       "      <td>Sassi street Bakare Estate Agungi Lekki Lagos</td>\n",
       "      <td>Lekki</td>\n",
       "    </tr>\n",
       "  </tbody>\n",
       "</table>\n",
       "<p>2543 rows × 6 columns</p>\n",
       "</div>"
      ],
      "text/plain": [
       "      Unnamed: 0       Price    Pid  \\\n",
       "3              3   340000000  H4413   \n",
       "9              9    30000000  H0634   \n",
       "11            11   180000000  H3290   \n",
       "12            12   160000000  H4181   \n",
       "15            15    60000000  G4612   \n",
       "...          ...         ...    ...   \n",
       "9773        9773   450000000  E0745   \n",
       "9774        9774   260000000  E0743   \n",
       "9776        9776  2800000000  E0736   \n",
       "9777        9777  4500000000  E0735   \n",
       "9780        9780    45000000  E0701   \n",
       "\n",
       "                                          Property_name  \\\n",
       "3     5 bedroom Duplex for sale Lekki Phase 1 Lekki ...   \n",
       "9     3 bedroom Flat / Apartment for sale Oral Estat...   \n",
       "11    5 bedroom House for sale Lekki Phase 1 Lekki L...   \n",
       "12    6 bedroom House for sale Pinnock Beach estate ...   \n",
       "15        4 bedroom Duplex for sale chevron Lekki Lagos   \n",
       "...                                                 ...   \n",
       "9773  1500.0 square meter Land for sale Lekki Phase ...   \n",
       "9774  900.0 square meter Land for sale Lekki Phase 1...   \n",
       "9776            Land for sale Lekki Phase 1 Lekki Lagos   \n",
       "9777                Land for sale LBS Ibeju-Lekki Lagos   \n",
       "9780  4 bedroom Duplex for sale Bakare Estate Agungi...   \n",
       "\n",
       "                                                Address Neighboorhood  \n",
       "3             off afrika lane Lekki Phase 1 Lekki Lagos         Lekki  \n",
       "9             Oral Estate Oral Estate Ikota Lekki Lagos         Lekki  \n",
       "11              Lekki Phase 1 Lekki Phase 1 Lekki Lagos         Lekki  \n",
       "12     Jakande Pinnock Beach estate Jakande Lekki Lagos         Lekki  \n",
       "15                          chevron Chevron Lekki Lagos         Lekki  \n",
       "...                                                 ...           ...  \n",
       "9773            Admiralty way Lekki Phase 1 Lekki Lagos         Lekki  \n",
       "9774             Wole olateju Lekki Phase 1 Lekki Lagos         Lekki  \n",
       "9776  maiyegun tourism scheme (Theme park) Lekki Pha...         Lekki  \n",
       "9777  Maiyegun tourism (near alpha beach), Lekki Lbs...         Lekki  \n",
       "9780      Sassi street Bakare Estate Agungi Lekki Lagos         Lekki  \n",
       "\n",
       "[2543 rows x 6 columns]"
      ]
     },
     "execution_count": 22,
     "metadata": {},
     "output_type": "execute_result"
    }
   ],
   "source": [
    "#Neighbourhoods with Lekki\n",
    "hsal.loc[hsal['Neighboorhood'] == 'Lekki']"
   ]
  },
  {
   "cell_type": "code",
   "execution_count": null,
   "id": "2a00cd96",
   "metadata": {},
   "outputs": [],
   "source": []
  }
 ],
 "metadata": {
  "kernelspec": {
   "display_name": "Python 3 (ipykernel)",
   "language": "python",
   "name": "python3"
  },
  "language_info": {
   "codemirror_mode": {
    "name": "ipython",
    "version": 3
   },
   "file_extension": ".py",
   "mimetype": "text/x-python",
   "name": "python",
   "nbconvert_exporter": "python",
   "pygments_lexer": "ipython3",
   "version": "3.9.15"
  }
 },
 "nbformat": 4,
 "nbformat_minor": 5
}
