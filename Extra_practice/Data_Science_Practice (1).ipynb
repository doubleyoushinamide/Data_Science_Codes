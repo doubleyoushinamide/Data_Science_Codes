{
 "cells": [
  {
   "cell_type": "markdown",
   "id": "bdfd3c4f",
   "metadata": {},
   "source": [
    "NYSC posting project\n",
    "Pseudo-code\n",
    "\n",
    "1. I want to first ask corp members if they have registered for NYSC\n",
    "2. <code> if </code> corp member registered, already, proceed to **\"registration\"**.\n",
    "3. in registration portal, ask user to choose **3 states** they had attended before\n",
    "4. Classify each *states* by **regions**\n",
    "5. condition:\n",
    "    use <code> random.choice </code> to select a region that is not included in the 3 **\"states\"** listed\n",
    "    <code> print (f\"You've been posted to {state} state\") </code>"
   ]
  },
  {
   "cell_type": "code",
   "execution_count": 32,
   "id": "5b18f52b",
   "metadata": {},
   "outputs": [
    {
     "name": "stdout",
     "output_type": "stream",
     "text": [
      "Enter your full name: \n",
      "shina\n",
      "Had you registered for the NYSC program? YES or NO \n",
      "no\n",
      "You are not eligible to register\n"
     ]
    }
   ],
   "source": [
    "import random\n",
    "\n",
    "def main():\n",
    "    name = input(\"Enter your full name: \\n\").title()\n",
    "    register = ask_registeration() #returns 0/1\n",
    "\n",
    "    if register:\n",
    "        print(f\" Hello, {name}, Proceed to registration\")\n",
    "        pass\n",
    "    else:\n",
    "        print(\"You are not eligible to register\")\n",
    "        return\n",
    "    \n",
    "    choose_state = select_state() #returns a str\n",
    "    states = [\"Kwara\", \"Abuja\", \"Lagos\", \"Oyo\", \"Imo\", \"Enugu\", \"Nassarawa\", \"Kano\", \"Kebbi\", \"Ebonyi\"]\n",
    "    choice = [x for x in states if x not in choose_state]\n",
    "    choice_real = random.choices(choice)\n",
    "    main_choice = \" \".join(choice_real)\n",
    "    \n",
    "    print(f\"Congratulations, {name}, You have been posted to {main_choice}\")\n",
    "\n",
    "def ask_registeration():\n",
    "    ask = input(\"Had you registered for the NYSC program? YES or NO \\n\").lower()\n",
    "    if ask == \"yes\":\n",
    "        return True\n",
    "    else:\n",
    "        return False\n",
    "def select_state():\n",
    "    ask = []\n",
    "    ask_1 = input(\"What is your state of Origin?: \\n\").title()\n",
    "    ask.append(ask_1)\n",
    "    return ask\n",
    "\n",
    "main()"
   ]
  },
  {
   "cell_type": "markdown",
   "id": "6a9c3a17",
   "metadata": {},
   "source": [
    "# Python crash course assessment"
   ]
  },
  {
   "cell_type": "code",
   "execution_count": 4,
   "id": "9f499fe1",
   "metadata": {},
   "outputs": [
    {
     "name": "stdout",
     "output_type": "stream",
     "text": [
      "2401\n"
     ]
    }
   ],
   "source": [
    "#Q1\n",
    "answer = 7**4\n",
    "print(answer)"
   ]
  },
  {
   "cell_type": "code",
   "execution_count": 6,
   "id": "6cc3bc30",
   "metadata": {},
   "outputs": [
    {
     "data": {
      "text/plain": [
       "['Hi', 'there', 'Sam']"
      ]
     },
     "execution_count": 6,
     "metadata": {},
     "output_type": "execute_result"
    }
   ],
   "source": [
    "# Q2\n",
    "s = \"Hi there Sam\"\n",
    "s.split()"
   ]
  },
  {
   "cell_type": "code",
   "execution_count": 7,
   "id": "7510d56a",
   "metadata": {},
   "outputs": [
    {
     "name": "stdout",
     "output_type": "stream",
     "text": [
      "The diameter of Earth is 12742 kilometers\n",
      "The diameter of Earth is 12742 kilometers\n"
     ]
    }
   ],
   "source": [
    "#Q3\n",
    "planet = \"Earth\"\n",
    "diameter = 12742\n",
    "print(f\"The diameter of {planet} is {diameter} kilometers\")\n",
    "#OR\n",
    "print(\"The diameter of {} is {} kilometers\".format(planet, diameter))"
   ]
  },
  {
   "cell_type": "code",
   "execution_count": 13,
   "id": "69b78537",
   "metadata": {},
   "outputs": [
    {
     "data": {
      "text/plain": [
       "'hello'"
      ]
     },
     "execution_count": 13,
     "metadata": {},
     "output_type": "execute_result"
    }
   ],
   "source": [
    "lst = [1,2,[3,4],[5,[100,200,['hello']],23,11],1,7]\n",
    "\n",
    "lst[3][1][2][0]"
   ]
  },
  {
   "cell_type": "code",
   "execution_count": 32,
   "id": "22d74f36",
   "metadata": {},
   "outputs": [],
   "source": [
    "def countDog(num):\n",
    "    count = 0\n",
    "    for n in num.lower().split():\n",
    "        if n == 'dog':\n",
    "            count += 1\n",
    "    return count"
   ]
  },
  {
   "cell_type": "code",
   "execution_count": 33,
   "id": "8ae90b69",
   "metadata": {},
   "outputs": [
    {
     "data": {
      "text/plain": [
       "2"
      ]
     },
     "execution_count": 33,
     "metadata": {},
     "output_type": "execute_result"
    }
   ],
   "source": [
    "countDog(\"My dog is a very stubborn goat for spoiling another dog\")"
   ]
  },
  {
   "cell_type": "code",
   "execution_count": 49,
   "id": "d9c56304",
   "metadata": {},
   "outputs": [
    {
     "name": "stdout",
     "output_type": "stream",
     "text": [
      "What is the drivers speed? \n",
      "69\n",
      "Is today the driver' birthday. True or False? \n",
      "true\n",
      "Small ticket\n"
     ]
    }
   ],
   "source": [
    "def violations(speed, birthday=False):\n",
    "    if birthday:\n",
    "        if speed <= 65:\n",
    "            print(\"No ticket\")\n",
    "        elif speed > 66 and speed <= 85:\n",
    "            print(\"Small ticket\")\n",
    "        else:\n",
    "            print(\"Big ticket\")\n",
    "    else:\n",
    "        if speed <= 60:\n",
    "            print(\"No ticket\")\n",
    "        elif speed > 61 and speed <= 80:\n",
    "            print(\"Small ticket\")\n",
    "        else:\n",
    "            print(\"Big ticket\")\n",
    "def main():\n",
    "    a = int(input(\"What is the drivers speed? \\n\"))\n",
    "    b = input(\"Is today the driver' birthday. True or False? \\n\").title\n",
    "    violations(a,b)\n",
    "\n",
    "main()"
   ]
  },
  {
   "cell_type": "markdown",
   "id": "db365aac",
   "metadata": {},
   "source": [
    "# Exercise 4\n",
    "After student finished registering for the program, Proceed to registration portal.\n",
    "after payment had been made proceed to pick between college of science, arts or commercial.\n",
    "college of science pays a tuition of 450k, arts, 330k while commerce pays 350k. non-indigenes pays 100k plus.\n",
    "After tuition done, Welcome to the 'University of Amide'"
   ]
  },
  {
   "cell_type": "code",
   "execution_count": 20,
   "id": "968dc433",
   "metadata": {},
   "outputs": [
    {
     "name": "stdout",
     "output_type": "stream",
     "text": [
      "What is your name? \n",
      "salau\n",
      "have you registered for UTME? Yes or No\n",
      "yes\n",
      "Welcome to STAGE ONE. \n",
      " Kindly Proceed to registration!\n",
      "Press 'y' to proceed an 'n' to terminate the terminal\n",
      "y\n",
      "\n",
      "-------------------------------\n",
      "Select Your College of interest\n",
      "-------------------------------\n",
      "A. Science\n",
      "B. Arts\n",
      "C. Commerce\n",
      "    \n",
      " a\n",
      "\n",
      "_________________________________\n",
      "Welcome to the College of Science\n",
      "_________________________________\n",
      "Kindly press 'y' to proceed to payment of 450k\n",
      "\n",
      "\n",
      "        y\n",
      "Thank you! Payment Successful\n",
      "\n",
      "            _____________________________________\n",
      "            Congratulations Salau!, \n",
      "            Welcome To SHINAMIDE UNIVERSITY\n",
      "            ______________________________________\n",
      "            \n",
      "\n"
     ]
    }
   ],
   "source": [
    "#-----------------------------------------\n",
    "#----------MAIN SECTION-------------------\n",
    "#-----------------------------------------\n",
    "\n",
    "def main():\n",
    "    name = input(\"What is your name? \\n\").title()\n",
    "    response = check_1()\n",
    "    pick = college_pick()\n",
    "    success = True\n",
    "    \n",
    "    if pick == 'Science':\n",
    "        prompt_pay = input(\"\"\"\n",
    "_________________________________\n",
    "Welcome to the College of Science\n",
    "_________________________________\n",
    "Kindly press 'y' to proceed to payment of 450k\n",
    "\\n\n",
    "        \"\"\")\n",
    "        if prompt_pay == 'y':\n",
    "            print(\"Thank you! Payment Successful\")\n",
    "        else:\n",
    "            print(\"Try again! Payment Unsuccessful\")\n",
    "    elif pick == 'Arts':\n",
    "        prompt_pay = input(\"\"\"\n",
    "_________________________________\n",
    "Welcome to the College of Arts\n",
    "_________________________________\n",
    "Kindly press 'y' to proceed to payment of 330k\n",
    "\\n\n",
    "        \"\"\")\n",
    "        if prompt_pay == 'y':\n",
    "            print(\"Thank you! Payment Successful\")\n",
    "        else:\n",
    "            print(\"Try again! Payment Unsuccessful\")\n",
    "    else:\n",
    "        prompt_pay = input(\"\"\"\n",
    "___________________________________\n",
    "Welcome to the College of Commerce\n",
    "___________________________________\n",
    "Kindly press 'y' to proceed to payment of 350k\n",
    "\\n\n",
    "        \"\"\")\n",
    "        \n",
    "        if prompt_pay == 'y':\n",
    "            print(\"Thank you! Payment Successful\")\n",
    "            success = True\n",
    "        else:\n",
    "            print(\"Try again! Payment Unsuccessful\")\n",
    "            success = False\n",
    "            \n",
    "    while True:\n",
    "        if success == True:\n",
    "            print(\"\"\"\n",
    "            _____________________________________\n",
    "            Congratulations {a}!, \n",
    "            Welcome To SHINAMIDE UNIVERSITY\n",
    "            ______________________________________\n",
    "            \\n\"\"\".format(a=name))\n",
    "            break\n",
    "        else:\n",
    "            print(\"Please pay your tuition\")\n",
    "        break\n",
    "        \n",
    "#----------------------------------------------------  \n",
    "#------------END OF MAIN-----------------------------\n",
    "#----------------------------------------------------\n",
    "        \n",
    "def registration(reg = True):\n",
    "    reg = input(\"have you registered for UTME? Yes or No\\n\").lower()\n",
    "    if reg == \"yes\":\n",
    "        return True\n",
    "    else:\n",
    "        return False\n",
    "\n",
    "def welcome():\n",
    "    reg_status = registration()\n",
    "    if reg_status:\n",
    "        print(\"\"\"Welcome to STAGE ONE. \\n Kindly Proceed to registration!\"\"\")\n",
    "    else:\n",
    "        print(\"You are not yet qualified to proceed\")\n",
    "def check_1():\n",
    "    while True:\n",
    "        welcome()\n",
    "        response = input(\"Press 'y' to proceed an 'n' to terminate the terminal\\n\").lower\n",
    "        if response == 'y':\n",
    "            pass\n",
    "        else:\n",
    "            break\n",
    "    return response\n",
    "def college_pick():\n",
    "    #college = ['Science', 'Arts', 'Commerce']\n",
    "    resp = input(\"\"\"\n",
    "-------------------------------\n",
    "Select Your College of interest\n",
    "-------------------------------\n",
    "A. Science\n",
    "B. Arts\n",
    "C. Commerce\n",
    "    \\n \"\"\").title()\n",
    "    college = []\n",
    "    if resp == 'A':\n",
    "        college.append(\"Science\")\n",
    "    elif resp == 'B':\n",
    "        college.append('Arts')\n",
    "    else:\n",
    "        college.append('Commerce')\n",
    "    \n",
    "    return college[0]\n",
    "\n",
    "\n",
    "main()"
   ]
  },
  {
   "cell_type": "code",
   "execution_count": null,
   "id": "df953cad",
   "metadata": {},
   "outputs": [],
   "source": []
  },
  {
   "cell_type": "code",
   "execution_count": null,
   "id": "533b5ee8",
   "metadata": {},
   "outputs": [],
   "source": []
  }
 ],
 "metadata": {
  "kernelspec": {
   "display_name": "Python 3 (ipykernel)",
   "language": "python",
   "name": "python3"
  },
  "language_info": {
   "codemirror_mode": {
    "name": "ipython",
    "version": 3
   },
   "file_extension": ".py",
   "mimetype": "text/x-python",
   "name": "python",
   "nbconvert_exporter": "python",
   "pygments_lexer": "ipython3",
   "version": "3.9.15"
  }
 },
 "nbformat": 4,
 "nbformat_minor": 5
}
