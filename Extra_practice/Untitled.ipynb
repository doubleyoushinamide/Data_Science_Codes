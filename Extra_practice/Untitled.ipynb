{
 "cells": [
  {
   "cell_type": "markdown",
   "id": "aaffe415",
   "metadata": {},
   "source": [
    "Assingment 1"
   ]
  },
  {
   "cell_type": "code",
   "execution_count": 3,
   "id": "f59c6ed3",
   "metadata": {},
   "outputs": [
    {
     "name": "stdout",
     "output_type": "stream",
     "text": [
      "What is your weight in lbs: \n",
      "34\n",
      "Your weight in kg is 15.3 kg\n"
     ]
    }
   ],
   "source": [
    "user_weight = int(input('What is your weight in lbs: \\n'))\n",
    "weight_kg = user_weight*0.45\n",
    "print(\"Your weight in kg is {} kg\".format(weight_kg))"
   ]
  },
  {
   "cell_type": "code",
   "execution_count": 4,
   "id": "9d38c7e8",
   "metadata": {},
   "outputs": [
    {
     "name": "stdout",
     "output_type": "stream",
     "text": [
      "Python' course for beginners\n"
     ]
    }
   ],
   "source": [
    "course = \"Python' course for beginners\"\n",
    "print(course)"
   ]
  },
  {
   "cell_type": "code",
   "execution_count": 5,
   "id": "01662755",
   "metadata": {},
   "outputs": [
    {
     "name": "stdout",
     "output_type": "stream",
     "text": [
      "Python course for \"Beginners\"\n"
     ]
    }
   ],
   "source": [
    "course = 'Python course for \"Beginners\"'\n",
    "print(course)"
   ]
  },
  {
   "cell_type": "code",
   "execution_count": 7,
   "id": "8b800299",
   "metadata": {},
   "outputs": [
    {
     "name": "stdout",
     "output_type": "stream",
     "text": [
      "\n",
      "Hi John, Thank you for your \n",
      "support so far\n",
      "\n",
      "Cheers and have a blessed day!\n",
      "\n"
     ]
    }
   ],
   "source": [
    "course = '''\n",
    "Hi John, Thank you for your \n",
    "support so far\n",
    "\n",
    "Cheers and have a blessed day!\n",
    "'''\n",
    "print(course)"
   ]
  },
  {
   "cell_type": "code",
   "execution_count": 17,
   "id": "3f6a18ad",
   "metadata": {},
   "outputs": [
    {
     "name": "stdout",
     "output_type": "stream",
     "text": [
      "Python\n"
     ]
    }
   ],
   "source": [
    "# This is called slicing\n",
    "course = 'Python course for \"Beginners\"'\n",
    "print(course[0:6])"
   ]
  },
  {
   "cell_type": "code",
   "execution_count": 21,
   "id": "38cbd0c2",
   "metadata": {},
   "outputs": [
    {
     "name": "stdout",
     "output_type": "stream",
     "text": [
      " course for \"Beginners\"\n"
     ]
    }
   ],
   "source": [
    "# This is called slicing\n",
    "course = 'Python course for \"Beginners\"'\n",
    "print(course[6:])"
   ]
  },
  {
   "cell_type": "code",
   "execution_count": 23,
   "id": "c588c78f",
   "metadata": {},
   "outputs": [
    {
     "name": "stdout",
     "output_type": "stream",
     "text": [
      "Python course for \"Beginners\"\n"
     ]
    }
   ],
   "source": [
    "# This is called slicing\n",
    "course = 'Python course for \"Beginners\"'\n",
    "another = course[:] # prints a clone\n",
    "print(another)"
   ]
  },
  {
   "cell_type": "code",
   "execution_count": 25,
   "id": "bd486ab2",
   "metadata": {},
   "outputs": [
    {
     "name": "stdout",
     "output_type": "stream",
     "text": [
      "John [Smith] is a coder\n"
     ]
    }
   ],
   "source": [
    "# string formatting\n",
    "first = 'John'\n",
    "last = 'Smith'\n",
    "\n",
    "message = '{} [{}] is a coder'.format(first, last)\n",
    "print(message)"
   ]
  },
  {
   "cell_type": "code",
   "execution_count": 27,
   "id": "5ee91d98",
   "metadata": {},
   "outputs": [
    {
     "name": "stdout",
     "output_type": "stream",
     "text": [
      "27\n",
      "PYTHON COURSE FOR BEGINNERS\n"
     ]
    }
   ],
   "source": [
    "# String methods\n",
    "course = 'Python course for Beginners'\n",
    "print(len(course)) #general purpuse for counting\n",
    "print(course.upper()) #.upper() is a method"
   ]
  },
  {
   "cell_type": "code",
   "execution_count": 29,
   "id": "dcf26d5e",
   "metadata": {},
   "outputs": [
    {
     "name": "stdout",
     "output_type": "stream",
     "text": [
      "27\n",
      "python course for beginners\n"
     ]
    }
   ],
   "source": [
    "# String methods\n",
    "course = 'Python course for Beginners'\n",
    "print(len(course)) #general purpuse for counting\n",
    "print(course.lower()) #.lower() is a method"
   ]
  },
  {
   "cell_type": "code",
   "execution_count": 44,
   "id": "83f57785",
   "metadata": {},
   "outputs": [
    {
     "name": "stdout",
     "output_type": "stream",
     "text": [
      "27\n",
      "Python course for beginners\n"
     ]
    }
   ],
   "source": [
    "# String methods\n",
    "course = 'Python course for Beginners'\n",
    "print(len(course)) #general purpuse for counting\n",
    "print(course.capitalize()) #.capitalize() is a method"
   ]
  },
  {
   "cell_type": "code",
   "execution_count": 45,
   "id": "779b3f98",
   "metadata": {},
   "outputs": [
    {
     "name": "stdout",
     "output_type": "stream",
     "text": [
      "27\n",
      "Python Course For Beginners\n"
     ]
    }
   ],
   "source": [
    "# String methods\n",
    "course = 'Python course for Beginners'\n",
    "print(len(course)) #general purpuse for counting\n",
    "print(course.title()) #.title() is a method"
   ]
  },
  {
   "cell_type": "code",
   "execution_count": 36,
   "id": "a5d96111",
   "metadata": {},
   "outputs": [
    {
     "name": "stdout",
     "output_type": "stream",
     "text": [
      "12\n"
     ]
    }
   ],
   "source": [
    "course = 'Python course for Beginners'\n",
    "print(course.find('e')) # .find() is a method"
   ]
  },
  {
   "cell_type": "code",
   "execution_count": 38,
   "id": "bc46b05d",
   "metadata": {},
   "outputs": [
    {
     "name": "stdout",
     "output_type": "stream",
     "text": [
      "Python course for Absolute Beginners\n"
     ]
    }
   ],
   "source": [
    "course = 'Python course for Beginners'\n",
    "print(course.replace('Beginners', 'Absolute Beginners')) #.replace() is a method"
   ]
  },
  {
   "cell_type": "code",
   "execution_count": 42,
   "id": "beef914b",
   "metadata": {},
   "outputs": [
    {
     "name": "stdout",
     "output_type": "stream",
     "text": [
      "Python course for Absolute Beginners\n",
      "True\n"
     ]
    }
   ],
   "source": [
    "course = 'Python course for Beginners'\n",
    "print(course.replace('Beginners', 'Absolute Beginners')) #.replace() is a method\n",
    "print('Python' in course) #in operator or method returns a boolean value"
   ]
  },
  {
   "cell_type": "code",
   "execution_count": 2,
   "id": "901eefe4",
   "metadata": {},
   "outputs": [
    {
     "name": "stdout",
     "output_type": "stream",
     "text": [
      "52\n"
     ]
    }
   ],
   "source": [
    "# Arithmetic operators\n",
    "x = (10 + 3) * (2**2)\n",
    "print(x)\n"
   ]
  },
  {
   "cell_type": "code",
   "execution_count": 4,
   "id": "38a6fa77",
   "metadata": {},
   "outputs": [
    {
     "name": "stdout",
     "output_type": "stream",
     "text": [
      "3\n"
     ]
    }
   ],
   "source": [
    "# Maths functions\n",
    "x = 2.9\n",
    "print(round(x))"
   ]
  },
  {
   "cell_type": "code",
   "execution_count": 6,
   "id": "37c99fef",
   "metadata": {},
   "outputs": [
    {
     "name": "stdout",
     "output_type": "stream",
     "text": [
      "2.9\n"
     ]
    }
   ],
   "source": [
    "# Maths functions\n",
    "x = 2.9\n",
    "print(abs(-x)) #Absolute always return a positive number"
   ]
  },
  {
   "cell_type": "code",
   "execution_count": 8,
   "id": "1f1f579a",
   "metadata": {},
   "outputs": [
    {
     "name": "stdout",
     "output_type": "stream",
     "text": [
      "3\n"
     ]
    }
   ],
   "source": [
    "# A maths module\n",
    "import math\n",
    "print(math.ceil(2.9)) #round up"
   ]
  },
  {
   "cell_type": "code",
   "execution_count": 10,
   "id": "cd92f4ff",
   "metadata": {},
   "outputs": [
    {
     "name": "stdout",
     "output_type": "stream",
     "text": [
      "2\n"
     ]
    }
   ],
   "source": [
    "import math\n",
    "print(math.floor(2.9)) #rounds down"
   ]
  },
  {
   "cell_type": "code",
   "execution_count": 13,
   "id": "65b5b34f",
   "metadata": {},
   "outputs": [
    {
     "name": "stdout",
     "output_type": "stream",
     "text": [
      "It's a hot day\n",
      "Enjoy your day\n"
     ]
    }
   ],
   "source": [
    "# If statements in python\n",
    "# Making decisions based on certain condition\n",
    "\n",
    "is_hot = True\n",
    "\n",
    "if is_hot:\n",
    "    print(\"It's a hot day\")\n",
    "print(\"Enjoy your day\")"
   ]
  },
  {
   "cell_type": "code",
   "execution_count": 14,
   "id": "e652ce84",
   "metadata": {},
   "outputs": [
    {
     "name": "stdout",
     "output_type": "stream",
     "text": [
      "It's a hot day\n",
      "Drink plenty of water\n",
      "Enjoy your day\n"
     ]
    }
   ],
   "source": [
    "is_hot = True\n",
    "\n",
    "if is_hot:\n",
    "    print(\"It's a hot day\")\n",
    "    print(\"Drink plenty of water\")\n",
    "print(\"Enjoy your day\")"
   ]
  },
  {
   "cell_type": "code",
   "execution_count": 17,
   "id": "c5073918",
   "metadata": {},
   "outputs": [
    {
     "name": "stdout",
     "output_type": "stream",
     "text": [
      "Its a cold day\n",
      "Wear cardigans\n",
      "Enjoy your day!\n"
     ]
    }
   ],
   "source": [
    "is_hot = False\n",
    "\n",
    "if is_hot:\n",
    "    print(\"It's a hot day\")\n",
    "    print(\"Drink plenty of water\")\n",
    "else:\n",
    "    print(\"Its a cold day\")\n",
    "    print(\"Wear cardigans\")\n",
    "print(\"Enjoy your day!\")"
   ]
  },
  {
   "cell_type": "code",
   "execution_count": 19,
   "id": "59d8cd90",
   "metadata": {},
   "outputs": [
    {
     "name": "stdout",
     "output_type": "stream",
     "text": [
      "It's a lovely day, Thank you!\n",
      "Enjoy your day!\n"
     ]
    }
   ],
   "source": [
    "is_hot = False\n",
    "is_cold = True\n",
    "\n",
    "if is_hot:\n",
    "    print(\"It's a hot day\")\n",
    "    print(\"Drink plenty of water\")\n",
    "elif is_cold:\n",
    "    print(\"Its a cold day\")\n",
    "    print(\"Wear cardigans\")\n",
    "else:\n",
    "    print(\"It's a lovely day, Thank you!\")\n",
    "print(\"Enjoy your day!\")"
   ]
  },
  {
   "cell_type": "code",
   "execution_count": 20,
   "id": "43fa3964",
   "metadata": {},
   "outputs": [
    {
     "name": "stdout",
     "output_type": "stream",
     "text": [
      "It's a lovely day, Thank you!\n",
      "Enjoy your day!\n"
     ]
    }
   ],
   "source": [
    "is_hot = False\n",
    "is_cold = False\n",
    "\n",
    "if is_hot:\n",
    "    print(\"It's a hot day\")\n",
    "    print(\"Drink plenty of water\")\n",
    "elif is_cold:\n",
    "    print(\"Its a cold day\")\n",
    "    print(\"Wear cardigans\")\n",
    "else:\n",
    "    print(\"It's a lovely day, Thank you!\")\n",
    "print(\"Enjoy your day!\")"
   ]
  },
  {
   "cell_type": "code",
   "execution_count": 33,
   "id": "f3a3e630",
   "metadata": {},
   "outputs": [
    {
     "name": "stdout",
     "output_type": "stream",
     "text": [
      "Your down-payment is: $ 100000 only\n"
     ]
    }
   ],
   "source": [
    "# Exercise 2\n",
    "house_price = 1000000 #Dollars\n",
    "credit_score = True\n",
    "\n",
    "if credit_score:\n",
    "    down_payment = 0.1 * house_price\n",
    "else:\n",
    "    down_payment = 0.2 * house_price\n",
    "print(\"Your down-payment is: $ {} only\".format(round(down_payment)))"
   ]
  },
  {
   "cell_type": "code",
   "execution_count": 41,
   "id": "ef68c265",
   "metadata": {},
   "outputs": [
    {
     "name": "stdout",
     "output_type": "stream",
     "text": [
      "Eligible for loan\n"
     ]
    }
   ],
   "source": [
    "# Logical operators\n",
    "high_income = True\n",
    "good_credit = True\n",
    "\n",
    "if high_income and good_credit:\n",
    "    print(\"Eligible for loan\")\n",
    "else:\n",
    "    print(\"Not eligible for loan. Try again later!\")"
   ]
  },
  {
   "cell_type": "code",
   "execution_count": 44,
   "id": "c4d6861e",
   "metadata": {},
   "outputs": [
    {
     "name": "stdout",
     "output_type": "stream",
     "text": [
      "Eligible for loan\n"
     ]
    }
   ],
   "source": [
    "high_income = True\n",
    "good_credit = False\n",
    "\n",
    "if high_income and not good_credit:\n",
    "    print(\"Eligible for loan\")\n",
    "else:\n",
    "    print(\"Not eligible for loan. Try again later!\")"
   ]
  },
  {
   "cell_type": "code",
   "execution_count": 1,
   "id": "53ac7bfe",
   "metadata": {},
   "outputs": [
    {
     "name": "stdout",
     "output_type": "stream",
     "text": [
      "It's not a hot day\n"
     ]
    }
   ],
   "source": [
    "# Comparison operator\n",
    "# To compare a variable with a value\n",
    "\n",
    "temp = 30 # An assingment operator is \"=\"  operator is \"==\"\n",
    "\n",
    "if temp > 30: #Boolean expression\n",
    "    print(\"It's a hot dat\")\n",
    "else:\n",
    "    print(\"It's not a hot day\")"
   ]
  },
  {
   "cell_type": "code",
   "execution_count": 11,
   "id": "4503e1c8",
   "metadata": {},
   "outputs": [
    {
     "name": "stdout",
     "output_type": "stream",
     "text": [
      "What is your name: \n",
      "ss\n",
      "Error! \"ss\" must be at least 3 characters long\n"
     ]
    }
   ],
   "source": [
    "# Exercise\n",
    "name = str(input(\"What is your name: \\n\"))\n",
    "\n",
    "if len(name) < 3:\n",
    "    print(\"Error! \\\"{}\\\" must be at least 3 characters long\".format(name))\n",
    "elif len(name) > 50:\n",
    "    print(\"Error! \\\"{}\\\" cannot be more than 50 characters\".format(name))\n",
    "else:\n",
    "    print(\"Your name: \\\"{}\\\" looks good.\".format(name))"
   ]
  },
  {
   "cell_type": "code",
   "execution_count": 26,
   "id": "92190f99",
   "metadata": {},
   "outputs": [
    {
     "name": "stdout",
     "output_type": "stream",
     "text": [
      "Weight: \t6555\n",
      "(L)bs or (K)g: \tK\n",
      "You are 655500 kilograms\n"
     ]
    }
   ],
   "source": [
    "# Exercise 3\n",
    "ask_weight = int(input(\"Weight: \\t\"))\n",
    "ask_conversion = str(input(\"(L)bs or (K)g: \\t\").upper())\n",
    "\n",
    "if ask_conversion == \"L\":\n",
    "    conv = ask_weight * 0.5\n",
    "    print(\"You are {} pounds\".format(conv))\n",
    "elif ask_conversion == \"K\":\n",
    "    conv2 = ask_weight * 100\n",
    "    print(\"You are {} kilograms\".format(conv2))\n",
    "else:\n",
    "    print(\"Wrong input\")"
   ]
  },
  {
   "cell_type": "code",
   "execution_count": 28,
   "id": "177158d1",
   "metadata": {},
   "outputs": [],
   "source": [
    "# While loops\n",
    "###\n",
    "#while condition:\n",
    "    #print(i)\n",
    "   # i += 1 #incrementing is important in while loops\n",
    "###"
   ]
  },
  {
   "cell_type": "code",
   "execution_count": 30,
   "id": "679528c3",
   "metadata": {},
   "outputs": [
    {
     "name": "stdout",
     "output_type": "stream",
     "text": [
      "*\n",
      "**\n",
      "***\n",
      "****\n",
      "*****\n",
      "Done\n"
     ]
    }
   ],
   "source": [
    "i = 1\n",
    "while i<=5:\n",
    "    print('*' * i)\n",
    "    i+= 1\n",
    "print(\"Done\")"
   ]
  },
  {
   "cell_type": "code",
   "execution_count": null,
   "id": "a65bbee9",
   "metadata": {},
   "outputs": [],
   "source": [
    "import random\n",
    "# Guessing game\n",
    "guess = 9\n",
    "count=0\n",
    "limit=3\n",
    "\n",
    "while count < limit:\n",
    "    guess2 = int(input(\"Guess a number: \\t,\"))\n",
    "    count += 1\n",
    "    if guess2 == guess:\n",
    "        print(\"Yes! You guessed right!\")\n",
    "        break\n",
    "    else:\n",
    "        print(\"Try again!\")\n",
    "else:\n",
    "    print(\"Game Over!\")"
   ]
  },
  {
   "cell_type": "markdown",
   "id": "af07a793",
   "metadata": {},
   "source": [
    "## Car Game\n"
   ]
  },
  {
   "cell_type": "code",
   "execution_count": 10,
   "id": "eb5bb3d1",
   "metadata": {},
   "outputs": [
    {
     "name": "stdout",
     "output_type": "stream",
     "text": [
      "What is your name?: \tsas\n",
      "Welcome back Sas. \n",
      " Enter 'Help' for Menuhelp\n",
      "\n",
      "        start - to start the car\n",
      "        stop - to stop the car\n",
      "        quit - to exit\n",
      "        \n",
      "->> \tstart\n",
      "Car started.... Sas is ready to go\n"
     ]
    }
   ],
   "source": [
    "# Car Game\n",
    "name = str(input(\"What is your name?: \\t\").title())\n",
    "count = 1\n",
    "while count:\n",
    "    count += 1\n",
    "    help = input(\"Welcome back {}. \\n Enter 'Help' for Menu\".format(name)).lower()\n",
    "    if help == \"help\":\n",
    "        print(\"\"\"\n",
    "        start - to start the car\n",
    "        stop - to stop the car\n",
    "        quit - to exit\n",
    "        \"\"\")\n",
    "        response = input(\"->> \\t\").lower()\n",
    "        if response == \"start\":\n",
    "            print(\"Car started.... {} is ready to go\".format(name))\n",
    "            break\n",
    "        elif response == \"stop\":\n",
    "            print(\"Car stopped.... {} is ready to stop\".format(name))\n",
    "            break\n",
    "        elif response == \"quit\":\n",
    "            print(\"Thank you {} for playing my game\".format(name))\n",
    "            break\n",
    "        else:\n",
    "            print(\"I don't understand your input\")\n",
    "    else:\n",
    "        print(\"Wrong input\")\n",
    "        continue\n",
    "else:\n",
    "    print(\"You'd done your best.\")"
   ]
  },
  {
   "cell_type": "code",
   "execution_count": null,
   "id": "65597a2b",
   "metadata": {},
   "outputs": [],
   "source": []
  },
  {
   "cell_type": "code",
   "execution_count": null,
   "id": "dbc52154",
   "metadata": {},
   "outputs": [],
   "source": []
  },
  {
   "cell_type": "code",
   "execution_count": null,
   "id": "57689019",
   "metadata": {},
   "outputs": [],
   "source": []
  }
 ],
 "metadata": {
  "kernelspec": {
   "display_name": "Python 3 (ipykernel)",
   "language": "python",
   "name": "python3"
  },
  "language_info": {
   "codemirror_mode": {
    "name": "ipython",
    "version": 3
   },
   "file_extension": ".py",
   "mimetype": "text/x-python",
   "name": "python",
   "nbconvert_exporter": "python",
   "pygments_lexer": "ipython3",
   "version": "3.9.15"
  }
 },
 "nbformat": 4,
 "nbformat_minor": 5
}
